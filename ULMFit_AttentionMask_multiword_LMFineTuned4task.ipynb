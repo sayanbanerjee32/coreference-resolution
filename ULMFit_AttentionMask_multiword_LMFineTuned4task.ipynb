{
  "nbformat": 4,
  "nbformat_minor": 0,
  "metadata": {
    "colab": {
      "name": "data_explore.ipynb",
      "provenance": [],
      "authorship_tag": "ABX9TyMt3xCmHVd+VVmErDkoF9dk",
      "include_colab_link": true
    },
    "kernelspec": {
      "name": "python3",
      "display_name": "Python 3"
    },
    "language_info": {
      "name": "python"
    },
    "accelerator": "GPU",
    "widgets": {
      "application/vnd.jupyter.widget-state+json": {
        "5052897e98f1493587cd63fab1cbb5e7": {
          "model_module": "@jupyter-widgets/controls",
          "model_name": "HBoxModel",
          "model_module_version": "1.5.0",
          "state": {
            "_view_name": "HBoxView",
            "_dom_classes": [],
            "_model_name": "HBoxModel",
            "_view_module": "@jupyter-widgets/controls",
            "_model_module_version": "1.5.0",
            "_view_count": null,
            "_view_module_version": "1.5.0",
            "box_style": "",
            "layout": "IPY_MODEL_782510a1aa3440bcb015e3cadf933314",
            "_model_module": "@jupyter-widgets/controls",
            "children": [
              "IPY_MODEL_69441dfcbeb54441a1b1e7f8bae3553e",
              "IPY_MODEL_6ee8a49a9e394491a72108f14b1c347f",
              "IPY_MODEL_a68e5a63446b4cdcb7c166abf801fda4"
            ]
          }
        },
        "782510a1aa3440bcb015e3cadf933314": {
          "model_module": "@jupyter-widgets/base",
          "model_name": "LayoutModel",
          "model_module_version": "1.2.0",
          "state": {
            "_view_name": "LayoutView",
            "grid_template_rows": null,
            "right": null,
            "justify_content": null,
            "_view_module": "@jupyter-widgets/base",
            "overflow": null,
            "_model_module_version": "1.2.0",
            "_view_count": null,
            "flex_flow": null,
            "width": null,
            "min_width": null,
            "border": null,
            "align_items": null,
            "bottom": null,
            "_model_module": "@jupyter-widgets/base",
            "top": null,
            "grid_column": null,
            "overflow_y": null,
            "overflow_x": null,
            "grid_auto_flow": null,
            "grid_area": null,
            "grid_template_columns": null,
            "flex": null,
            "_model_name": "LayoutModel",
            "justify_items": null,
            "grid_row": null,
            "max_height": null,
            "align_content": null,
            "visibility": null,
            "align_self": null,
            "height": null,
            "min_height": null,
            "padding": null,
            "grid_auto_rows": null,
            "grid_gap": null,
            "max_width": null,
            "order": null,
            "_view_module_version": "1.2.0",
            "grid_template_areas": null,
            "object_position": null,
            "object_fit": null,
            "grid_auto_columns": null,
            "margin": null,
            "display": null,
            "left": null
          }
        },
        "69441dfcbeb54441a1b1e7f8bae3553e": {
          "model_module": "@jupyter-widgets/controls",
          "model_name": "HTMLModel",
          "model_module_version": "1.5.0",
          "state": {
            "_view_name": "HTMLView",
            "style": "IPY_MODEL_1bfcc7ef415f45cbab4c075e9e22213c",
            "_dom_classes": [],
            "description": "",
            "_model_name": "HTMLModel",
            "placeholder": "​",
            "_view_module": "@jupyter-widgets/controls",
            "_model_module_version": "1.5.0",
            "value": "",
            "_view_count": null,
            "_view_module_version": "1.5.0",
            "description_tooltip": null,
            "_model_module": "@jupyter-widgets/controls",
            "layout": "IPY_MODEL_6960695599cd49c7922695b7d6151bde"
          }
        },
        "6ee8a49a9e394491a72108f14b1c347f": {
          "model_module": "@jupyter-widgets/controls",
          "model_name": "FloatProgressModel",
          "model_module_version": "1.5.0",
          "state": {
            "_view_name": "ProgressView",
            "style": "IPY_MODEL_718cadc2ccd74fa18dfae205358a8a99",
            "_dom_classes": [],
            "description": "",
            "_model_name": "FloatProgressModel",
            "bar_style": "success",
            "max": 1,
            "_view_module": "@jupyter-widgets/controls",
            "_model_module_version": "1.5.0",
            "value": 1,
            "_view_count": null,
            "_view_module_version": "1.5.0",
            "orientation": "horizontal",
            "min": 0,
            "description_tooltip": null,
            "_model_module": "@jupyter-widgets/controls",
            "layout": "IPY_MODEL_47d1a29cb08b4c3b934b89659f3366d0"
          }
        },
        "a68e5a63446b4cdcb7c166abf801fda4": {
          "model_module": "@jupyter-widgets/controls",
          "model_name": "HTMLModel",
          "model_module_version": "1.5.0",
          "state": {
            "_view_name": "HTMLView",
            "style": "IPY_MODEL_23d72cd7db3646e88f47f836a31692b4",
            "_dom_classes": [],
            "description": "",
            "_model_name": "HTMLModel",
            "placeholder": "​",
            "_view_module": "@jupyter-widgets/controls",
            "_model_module_version": "1.5.0",
            "value": " 2000/? [00:09&lt;00:00, 182.08it/s]",
            "_view_count": null,
            "_view_module_version": "1.5.0",
            "description_tooltip": null,
            "_model_module": "@jupyter-widgets/controls",
            "layout": "IPY_MODEL_2cfcffe6dc3845dcb64064cf758ee901"
          }
        },
        "1bfcc7ef415f45cbab4c075e9e22213c": {
          "model_module": "@jupyter-widgets/controls",
          "model_name": "DescriptionStyleModel",
          "model_module_version": "1.5.0",
          "state": {
            "_view_name": "StyleView",
            "_model_name": "DescriptionStyleModel",
            "description_width": "",
            "_view_module": "@jupyter-widgets/base",
            "_model_module_version": "1.5.0",
            "_view_count": null,
            "_view_module_version": "1.2.0",
            "_model_module": "@jupyter-widgets/controls"
          }
        },
        "6960695599cd49c7922695b7d6151bde": {
          "model_module": "@jupyter-widgets/base",
          "model_name": "LayoutModel",
          "model_module_version": "1.2.0",
          "state": {
            "_view_name": "LayoutView",
            "grid_template_rows": null,
            "right": null,
            "justify_content": null,
            "_view_module": "@jupyter-widgets/base",
            "overflow": null,
            "_model_module_version": "1.2.0",
            "_view_count": null,
            "flex_flow": null,
            "width": null,
            "min_width": null,
            "border": null,
            "align_items": null,
            "bottom": null,
            "_model_module": "@jupyter-widgets/base",
            "top": null,
            "grid_column": null,
            "overflow_y": null,
            "overflow_x": null,
            "grid_auto_flow": null,
            "grid_area": null,
            "grid_template_columns": null,
            "flex": null,
            "_model_name": "LayoutModel",
            "justify_items": null,
            "grid_row": null,
            "max_height": null,
            "align_content": null,
            "visibility": null,
            "align_self": null,
            "height": null,
            "min_height": null,
            "padding": null,
            "grid_auto_rows": null,
            "grid_gap": null,
            "max_width": null,
            "order": null,
            "_view_module_version": "1.2.0",
            "grid_template_areas": null,
            "object_position": null,
            "object_fit": null,
            "grid_auto_columns": null,
            "margin": null,
            "display": null,
            "left": null
          }
        },
        "718cadc2ccd74fa18dfae205358a8a99": {
          "model_module": "@jupyter-widgets/controls",
          "model_name": "ProgressStyleModel",
          "model_module_version": "1.5.0",
          "state": {
            "_view_name": "StyleView",
            "_model_name": "ProgressStyleModel",
            "description_width": "",
            "_view_module": "@jupyter-widgets/base",
            "_model_module_version": "1.5.0",
            "_view_count": null,
            "_view_module_version": "1.2.0",
            "bar_color": null,
            "_model_module": "@jupyter-widgets/controls"
          }
        },
        "47d1a29cb08b4c3b934b89659f3366d0": {
          "model_module": "@jupyter-widgets/base",
          "model_name": "LayoutModel",
          "model_module_version": "1.2.0",
          "state": {
            "_view_name": "LayoutView",
            "grid_template_rows": null,
            "right": null,
            "justify_content": null,
            "_view_module": "@jupyter-widgets/base",
            "overflow": null,
            "_model_module_version": "1.2.0",
            "_view_count": null,
            "flex_flow": null,
            "width": "20px",
            "min_width": null,
            "border": null,
            "align_items": null,
            "bottom": null,
            "_model_module": "@jupyter-widgets/base",
            "top": null,
            "grid_column": null,
            "overflow_y": null,
            "overflow_x": null,
            "grid_auto_flow": null,
            "grid_area": null,
            "grid_template_columns": null,
            "flex": null,
            "_model_name": "LayoutModel",
            "justify_items": null,
            "grid_row": null,
            "max_height": null,
            "align_content": null,
            "visibility": null,
            "align_self": null,
            "height": null,
            "min_height": null,
            "padding": null,
            "grid_auto_rows": null,
            "grid_gap": null,
            "max_width": null,
            "order": null,
            "_view_module_version": "1.2.0",
            "grid_template_areas": null,
            "object_position": null,
            "object_fit": null,
            "grid_auto_columns": null,
            "margin": null,
            "display": null,
            "left": null
          }
        },
        "23d72cd7db3646e88f47f836a31692b4": {
          "model_module": "@jupyter-widgets/controls",
          "model_name": "DescriptionStyleModel",
          "model_module_version": "1.5.0",
          "state": {
            "_view_name": "StyleView",
            "_model_name": "DescriptionStyleModel",
            "description_width": "",
            "_view_module": "@jupyter-widgets/base",
            "_model_module_version": "1.5.0",
            "_view_count": null,
            "_view_module_version": "1.2.0",
            "_model_module": "@jupyter-widgets/controls"
          }
        },
        "2cfcffe6dc3845dcb64064cf758ee901": {
          "model_module": "@jupyter-widgets/base",
          "model_name": "LayoutModel",
          "model_module_version": "1.2.0",
          "state": {
            "_view_name": "LayoutView",
            "grid_template_rows": null,
            "right": null,
            "justify_content": null,
            "_view_module": "@jupyter-widgets/base",
            "overflow": null,
            "_model_module_version": "1.2.0",
            "_view_count": null,
            "flex_flow": null,
            "width": null,
            "min_width": null,
            "border": null,
            "align_items": null,
            "bottom": null,
            "_model_module": "@jupyter-widgets/base",
            "top": null,
            "grid_column": null,
            "overflow_y": null,
            "overflow_x": null,
            "grid_auto_flow": null,
            "grid_area": null,
            "grid_template_columns": null,
            "flex": null,
            "_model_name": "LayoutModel",
            "justify_items": null,
            "grid_row": null,
            "max_height": null,
            "align_content": null,
            "visibility": null,
            "align_self": null,
            "height": null,
            "min_height": null,
            "padding": null,
            "grid_auto_rows": null,
            "grid_gap": null,
            "max_width": null,
            "order": null,
            "_view_module_version": "1.2.0",
            "grid_template_areas": null,
            "object_position": null,
            "object_fit": null,
            "grid_auto_columns": null,
            "margin": null,
            "display": null,
            "left": null
          }
        },
        "05f0405e79264f81ab10656f8cb2cf7c": {
          "model_module": "@jupyter-widgets/controls",
          "model_name": "HBoxModel",
          "model_module_version": "1.5.0",
          "state": {
            "_view_name": "HBoxView",
            "_dom_classes": [],
            "_model_name": "HBoxModel",
            "_view_module": "@jupyter-widgets/controls",
            "_model_module_version": "1.5.0",
            "_view_count": null,
            "_view_module_version": "1.5.0",
            "box_style": "",
            "layout": "IPY_MODEL_b5b5f13154ff42c1a098f76017e834ac",
            "_model_module": "@jupyter-widgets/controls",
            "children": [
              "IPY_MODEL_e3ad805a15c94bef87159cd67925c896",
              "IPY_MODEL_13a72d92e65f483d8aca418c4ba895f2",
              "IPY_MODEL_9e19c8ef69564061bcf81c860133d7c5"
            ]
          }
        },
        "b5b5f13154ff42c1a098f76017e834ac": {
          "model_module": "@jupyter-widgets/base",
          "model_name": "LayoutModel",
          "model_module_version": "1.2.0",
          "state": {
            "_view_name": "LayoutView",
            "grid_template_rows": null,
            "right": null,
            "justify_content": null,
            "_view_module": "@jupyter-widgets/base",
            "overflow": null,
            "_model_module_version": "1.2.0",
            "_view_count": null,
            "flex_flow": null,
            "width": null,
            "min_width": null,
            "border": null,
            "align_items": null,
            "bottom": null,
            "_model_module": "@jupyter-widgets/base",
            "top": null,
            "grid_column": null,
            "overflow_y": null,
            "overflow_x": null,
            "grid_auto_flow": null,
            "grid_area": null,
            "grid_template_columns": null,
            "flex": null,
            "_model_name": "LayoutModel",
            "justify_items": null,
            "grid_row": null,
            "max_height": null,
            "align_content": null,
            "visibility": null,
            "align_self": null,
            "height": null,
            "min_height": null,
            "padding": null,
            "grid_auto_rows": null,
            "grid_gap": null,
            "max_width": null,
            "order": null,
            "_view_module_version": "1.2.0",
            "grid_template_areas": null,
            "object_position": null,
            "object_fit": null,
            "grid_auto_columns": null,
            "margin": null,
            "display": null,
            "left": null
          }
        },
        "e3ad805a15c94bef87159cd67925c896": {
          "model_module": "@jupyter-widgets/controls",
          "model_name": "HTMLModel",
          "model_module_version": "1.5.0",
          "state": {
            "_view_name": "HTMLView",
            "style": "IPY_MODEL_a1e0e316497f41dfb1d5292fcd503dfb",
            "_dom_classes": [],
            "description": "",
            "_model_name": "HTMLModel",
            "placeholder": "​",
            "_view_module": "@jupyter-widgets/controls",
            "_model_module_version": "1.5.0",
            "value": "",
            "_view_count": null,
            "_view_module_version": "1.5.0",
            "description_tooltip": null,
            "_model_module": "@jupyter-widgets/controls",
            "layout": "IPY_MODEL_94bd884cfb484580a74febea2ec3920b"
          }
        },
        "13a72d92e65f483d8aca418c4ba895f2": {
          "model_module": "@jupyter-widgets/controls",
          "model_name": "FloatProgressModel",
          "model_module_version": "1.5.0",
          "state": {
            "_view_name": "ProgressView",
            "style": "IPY_MODEL_c229084c0ef948f5bff8d7d0cd263744",
            "_dom_classes": [],
            "description": "",
            "_model_name": "FloatProgressModel",
            "bar_style": "success",
            "max": 1,
            "_view_module": "@jupyter-widgets/controls",
            "_model_module_version": "1.5.0",
            "value": 1,
            "_view_count": null,
            "_view_module_version": "1.5.0",
            "orientation": "horizontal",
            "min": 0,
            "description_tooltip": null,
            "_model_module": "@jupyter-widgets/controls",
            "layout": "IPY_MODEL_d4ee00f767b241a5a940d54c8f3b3167"
          }
        },
        "9e19c8ef69564061bcf81c860133d7c5": {
          "model_module": "@jupyter-widgets/controls",
          "model_name": "HTMLModel",
          "model_module_version": "1.5.0",
          "state": {
            "_view_name": "HTMLView",
            "style": "IPY_MODEL_d5f1d9d894e54f5d9d15c996edb74cb4",
            "_dom_classes": [],
            "description": "",
            "_model_name": "HTMLModel",
            "placeholder": "​",
            "_view_module": "@jupyter-widgets/controls",
            "_model_module_version": "1.5.0",
            "value": " 454/? [00:02&lt;00:00, 171.08it/s]",
            "_view_count": null,
            "_view_module_version": "1.5.0",
            "description_tooltip": null,
            "_model_module": "@jupyter-widgets/controls",
            "layout": "IPY_MODEL_43708d78687942218664fa57106454b9"
          }
        },
        "a1e0e316497f41dfb1d5292fcd503dfb": {
          "model_module": "@jupyter-widgets/controls",
          "model_name": "DescriptionStyleModel",
          "model_module_version": "1.5.0",
          "state": {
            "_view_name": "StyleView",
            "_model_name": "DescriptionStyleModel",
            "description_width": "",
            "_view_module": "@jupyter-widgets/base",
            "_model_module_version": "1.5.0",
            "_view_count": null,
            "_view_module_version": "1.2.0",
            "_model_module": "@jupyter-widgets/controls"
          }
        },
        "94bd884cfb484580a74febea2ec3920b": {
          "model_module": "@jupyter-widgets/base",
          "model_name": "LayoutModel",
          "model_module_version": "1.2.0",
          "state": {
            "_view_name": "LayoutView",
            "grid_template_rows": null,
            "right": null,
            "justify_content": null,
            "_view_module": "@jupyter-widgets/base",
            "overflow": null,
            "_model_module_version": "1.2.0",
            "_view_count": null,
            "flex_flow": null,
            "width": null,
            "min_width": null,
            "border": null,
            "align_items": null,
            "bottom": null,
            "_model_module": "@jupyter-widgets/base",
            "top": null,
            "grid_column": null,
            "overflow_y": null,
            "overflow_x": null,
            "grid_auto_flow": null,
            "grid_area": null,
            "grid_template_columns": null,
            "flex": null,
            "_model_name": "LayoutModel",
            "justify_items": null,
            "grid_row": null,
            "max_height": null,
            "align_content": null,
            "visibility": null,
            "align_self": null,
            "height": null,
            "min_height": null,
            "padding": null,
            "grid_auto_rows": null,
            "grid_gap": null,
            "max_width": null,
            "order": null,
            "_view_module_version": "1.2.0",
            "grid_template_areas": null,
            "object_position": null,
            "object_fit": null,
            "grid_auto_columns": null,
            "margin": null,
            "display": null,
            "left": null
          }
        },
        "c229084c0ef948f5bff8d7d0cd263744": {
          "model_module": "@jupyter-widgets/controls",
          "model_name": "ProgressStyleModel",
          "model_module_version": "1.5.0",
          "state": {
            "_view_name": "StyleView",
            "_model_name": "ProgressStyleModel",
            "description_width": "",
            "_view_module": "@jupyter-widgets/base",
            "_model_module_version": "1.5.0",
            "_view_count": null,
            "_view_module_version": "1.2.0",
            "bar_color": null,
            "_model_module": "@jupyter-widgets/controls"
          }
        },
        "d4ee00f767b241a5a940d54c8f3b3167": {
          "model_module": "@jupyter-widgets/base",
          "model_name": "LayoutModel",
          "model_module_version": "1.2.0",
          "state": {
            "_view_name": "LayoutView",
            "grid_template_rows": null,
            "right": null,
            "justify_content": null,
            "_view_module": "@jupyter-widgets/base",
            "overflow": null,
            "_model_module_version": "1.2.0",
            "_view_count": null,
            "flex_flow": null,
            "width": "20px",
            "min_width": null,
            "border": null,
            "align_items": null,
            "bottom": null,
            "_model_module": "@jupyter-widgets/base",
            "top": null,
            "grid_column": null,
            "overflow_y": null,
            "overflow_x": null,
            "grid_auto_flow": null,
            "grid_area": null,
            "grid_template_columns": null,
            "flex": null,
            "_model_name": "LayoutModel",
            "justify_items": null,
            "grid_row": null,
            "max_height": null,
            "align_content": null,
            "visibility": null,
            "align_self": null,
            "height": null,
            "min_height": null,
            "padding": null,
            "grid_auto_rows": null,
            "grid_gap": null,
            "max_width": null,
            "order": null,
            "_view_module_version": "1.2.0",
            "grid_template_areas": null,
            "object_position": null,
            "object_fit": null,
            "grid_auto_columns": null,
            "margin": null,
            "display": null,
            "left": null
          }
        },
        "d5f1d9d894e54f5d9d15c996edb74cb4": {
          "model_module": "@jupyter-widgets/controls",
          "model_name": "DescriptionStyleModel",
          "model_module_version": "1.5.0",
          "state": {
            "_view_name": "StyleView",
            "_model_name": "DescriptionStyleModel",
            "description_width": "",
            "_view_module": "@jupyter-widgets/base",
            "_model_module_version": "1.5.0",
            "_view_count": null,
            "_view_module_version": "1.2.0",
            "_model_module": "@jupyter-widgets/controls"
          }
        },
        "43708d78687942218664fa57106454b9": {
          "model_module": "@jupyter-widgets/base",
          "model_name": "LayoutModel",
          "model_module_version": "1.2.0",
          "state": {
            "_view_name": "LayoutView",
            "grid_template_rows": null,
            "right": null,
            "justify_content": null,
            "_view_module": "@jupyter-widgets/base",
            "overflow": null,
            "_model_module_version": "1.2.0",
            "_view_count": null,
            "flex_flow": null,
            "width": null,
            "min_width": null,
            "border": null,
            "align_items": null,
            "bottom": null,
            "_model_module": "@jupyter-widgets/base",
            "top": null,
            "grid_column": null,
            "overflow_y": null,
            "overflow_x": null,
            "grid_auto_flow": null,
            "grid_area": null,
            "grid_template_columns": null,
            "flex": null,
            "_model_name": "LayoutModel",
            "justify_items": null,
            "grid_row": null,
            "max_height": null,
            "align_content": null,
            "visibility": null,
            "align_self": null,
            "height": null,
            "min_height": null,
            "padding": null,
            "grid_auto_rows": null,
            "grid_gap": null,
            "max_width": null,
            "order": null,
            "_view_module_version": "1.2.0",
            "grid_template_areas": null,
            "object_position": null,
            "object_fit": null,
            "grid_auto_columns": null,
            "margin": null,
            "display": null,
            "left": null
          }
        },
        "f347fb9316a6456ea910e648dab1cd50": {
          "model_module": "@jupyter-widgets/controls",
          "model_name": "HBoxModel",
          "model_module_version": "1.5.0",
          "state": {
            "_view_name": "HBoxView",
            "_dom_classes": [],
            "_model_name": "HBoxModel",
            "_view_module": "@jupyter-widgets/controls",
            "_model_module_version": "1.5.0",
            "_view_count": null,
            "_view_module_version": "1.5.0",
            "box_style": "",
            "layout": "IPY_MODEL_cad3db2d2147439f93bbf4ab9d4934e6",
            "_model_module": "@jupyter-widgets/controls",
            "children": [
              "IPY_MODEL_5d64e39bad2b4b8f8e8377a5d11597b1",
              "IPY_MODEL_b694c84c65f640f091e408e2bc6b5623",
              "IPY_MODEL_3d6891b512a743cb91aaf10711e33023"
            ]
          }
        },
        "cad3db2d2147439f93bbf4ab9d4934e6": {
          "model_module": "@jupyter-widgets/base",
          "model_name": "LayoutModel",
          "model_module_version": "1.2.0",
          "state": {
            "_view_name": "LayoutView",
            "grid_template_rows": null,
            "right": null,
            "justify_content": null,
            "_view_module": "@jupyter-widgets/base",
            "overflow": null,
            "_model_module_version": "1.2.0",
            "_view_count": null,
            "flex_flow": null,
            "width": null,
            "min_width": null,
            "border": null,
            "align_items": null,
            "bottom": null,
            "_model_module": "@jupyter-widgets/base",
            "top": null,
            "grid_column": null,
            "overflow_y": null,
            "overflow_x": null,
            "grid_auto_flow": null,
            "grid_area": null,
            "grid_template_columns": null,
            "flex": null,
            "_model_name": "LayoutModel",
            "justify_items": null,
            "grid_row": null,
            "max_height": null,
            "align_content": null,
            "visibility": null,
            "align_self": null,
            "height": null,
            "min_height": null,
            "padding": null,
            "grid_auto_rows": null,
            "grid_gap": null,
            "max_width": null,
            "order": null,
            "_view_module_version": "1.2.0",
            "grid_template_areas": null,
            "object_position": null,
            "object_fit": null,
            "grid_auto_columns": null,
            "margin": null,
            "display": null,
            "left": null
          }
        },
        "5d64e39bad2b4b8f8e8377a5d11597b1": {
          "model_module": "@jupyter-widgets/controls",
          "model_name": "HTMLModel",
          "model_module_version": "1.5.0",
          "state": {
            "_view_name": "HTMLView",
            "style": "IPY_MODEL_3ad2a5dc8f4f4572a3f282ce9274c187",
            "_dom_classes": [],
            "description": "",
            "_model_name": "HTMLModel",
            "placeholder": "​",
            "_view_module": "@jupyter-widgets/controls",
            "_model_module_version": "1.5.0",
            "value": "",
            "_view_count": null,
            "_view_module_version": "1.5.0",
            "description_tooltip": null,
            "_model_module": "@jupyter-widgets/controls",
            "layout": "IPY_MODEL_478492135aa1466ab2aeef72c0667fe7"
          }
        },
        "b694c84c65f640f091e408e2bc6b5623": {
          "model_module": "@jupyter-widgets/controls",
          "model_name": "FloatProgressModel",
          "model_module_version": "1.5.0",
          "state": {
            "_view_name": "ProgressView",
            "style": "IPY_MODEL_8fa687d62f604ea9bc66b30410a052c9",
            "_dom_classes": [],
            "description": "",
            "_model_name": "FloatProgressModel",
            "bar_style": "success",
            "max": 1,
            "_view_module": "@jupyter-widgets/controls",
            "_model_module_version": "1.5.0",
            "value": 1,
            "_view_count": null,
            "_view_module_version": "1.5.0",
            "orientation": "horizontal",
            "min": 0,
            "description_tooltip": null,
            "_model_module": "@jupyter-widgets/controls",
            "layout": "IPY_MODEL_4d880d0cdeac45d6937b48679083afe6"
          }
        },
        "3d6891b512a743cb91aaf10711e33023": {
          "model_module": "@jupyter-widgets/controls",
          "model_name": "HTMLModel",
          "model_module_version": "1.5.0",
          "state": {
            "_view_name": "HTMLView",
            "style": "IPY_MODEL_c92f62147a164b099d254d4d8e6ea26d",
            "_dom_classes": [],
            "description": "",
            "_model_name": "HTMLModel",
            "placeholder": "​",
            "_view_module": "@jupyter-widgets/controls",
            "_model_module_version": "1.5.0",
            "value": " 2000/? [00:09&lt;00:00, 223.50it/s]",
            "_view_count": null,
            "_view_module_version": "1.5.0",
            "description_tooltip": null,
            "_model_module": "@jupyter-widgets/controls",
            "layout": "IPY_MODEL_b80354c6f8c84651b60b096d2368f8d8"
          }
        },
        "3ad2a5dc8f4f4572a3f282ce9274c187": {
          "model_module": "@jupyter-widgets/controls",
          "model_name": "DescriptionStyleModel",
          "model_module_version": "1.5.0",
          "state": {
            "_view_name": "StyleView",
            "_model_name": "DescriptionStyleModel",
            "description_width": "",
            "_view_module": "@jupyter-widgets/base",
            "_model_module_version": "1.5.0",
            "_view_count": null,
            "_view_module_version": "1.2.0",
            "_model_module": "@jupyter-widgets/controls"
          }
        },
        "478492135aa1466ab2aeef72c0667fe7": {
          "model_module": "@jupyter-widgets/base",
          "model_name": "LayoutModel",
          "model_module_version": "1.2.0",
          "state": {
            "_view_name": "LayoutView",
            "grid_template_rows": null,
            "right": null,
            "justify_content": null,
            "_view_module": "@jupyter-widgets/base",
            "overflow": null,
            "_model_module_version": "1.2.0",
            "_view_count": null,
            "flex_flow": null,
            "width": null,
            "min_width": null,
            "border": null,
            "align_items": null,
            "bottom": null,
            "_model_module": "@jupyter-widgets/base",
            "top": null,
            "grid_column": null,
            "overflow_y": null,
            "overflow_x": null,
            "grid_auto_flow": null,
            "grid_area": null,
            "grid_template_columns": null,
            "flex": null,
            "_model_name": "LayoutModel",
            "justify_items": null,
            "grid_row": null,
            "max_height": null,
            "align_content": null,
            "visibility": null,
            "align_self": null,
            "height": null,
            "min_height": null,
            "padding": null,
            "grid_auto_rows": null,
            "grid_gap": null,
            "max_width": null,
            "order": null,
            "_view_module_version": "1.2.0",
            "grid_template_areas": null,
            "object_position": null,
            "object_fit": null,
            "grid_auto_columns": null,
            "margin": null,
            "display": null,
            "left": null
          }
        },
        "8fa687d62f604ea9bc66b30410a052c9": {
          "model_module": "@jupyter-widgets/controls",
          "model_name": "ProgressStyleModel",
          "model_module_version": "1.5.0",
          "state": {
            "_view_name": "StyleView",
            "_model_name": "ProgressStyleModel",
            "description_width": "",
            "_view_module": "@jupyter-widgets/base",
            "_model_module_version": "1.5.0",
            "_view_count": null,
            "_view_module_version": "1.2.0",
            "bar_color": null,
            "_model_module": "@jupyter-widgets/controls"
          }
        },
        "4d880d0cdeac45d6937b48679083afe6": {
          "model_module": "@jupyter-widgets/base",
          "model_name": "LayoutModel",
          "model_module_version": "1.2.0",
          "state": {
            "_view_name": "LayoutView",
            "grid_template_rows": null,
            "right": null,
            "justify_content": null,
            "_view_module": "@jupyter-widgets/base",
            "overflow": null,
            "_model_module_version": "1.2.0",
            "_view_count": null,
            "flex_flow": null,
            "width": "20px",
            "min_width": null,
            "border": null,
            "align_items": null,
            "bottom": null,
            "_model_module": "@jupyter-widgets/base",
            "top": null,
            "grid_column": null,
            "overflow_y": null,
            "overflow_x": null,
            "grid_auto_flow": null,
            "grid_area": null,
            "grid_template_columns": null,
            "flex": null,
            "_model_name": "LayoutModel",
            "justify_items": null,
            "grid_row": null,
            "max_height": null,
            "align_content": null,
            "visibility": null,
            "align_self": null,
            "height": null,
            "min_height": null,
            "padding": null,
            "grid_auto_rows": null,
            "grid_gap": null,
            "max_width": null,
            "order": null,
            "_view_module_version": "1.2.0",
            "grid_template_areas": null,
            "object_position": null,
            "object_fit": null,
            "grid_auto_columns": null,
            "margin": null,
            "display": null,
            "left": null
          }
        },
        "c92f62147a164b099d254d4d8e6ea26d": {
          "model_module": "@jupyter-widgets/controls",
          "model_name": "DescriptionStyleModel",
          "model_module_version": "1.5.0",
          "state": {
            "_view_name": "StyleView",
            "_model_name": "DescriptionStyleModel",
            "description_width": "",
            "_view_module": "@jupyter-widgets/base",
            "_model_module_version": "1.5.0",
            "_view_count": null,
            "_view_module_version": "1.2.0",
            "_model_module": "@jupyter-widgets/controls"
          }
        },
        "b80354c6f8c84651b60b096d2368f8d8": {
          "model_module": "@jupyter-widgets/base",
          "model_name": "LayoutModel",
          "model_module_version": "1.2.0",
          "state": {
            "_view_name": "LayoutView",
            "grid_template_rows": null,
            "right": null,
            "justify_content": null,
            "_view_module": "@jupyter-widgets/base",
            "overflow": null,
            "_model_module_version": "1.2.0",
            "_view_count": null,
            "flex_flow": null,
            "width": null,
            "min_width": null,
            "border": null,
            "align_items": null,
            "bottom": null,
            "_model_module": "@jupyter-widgets/base",
            "top": null,
            "grid_column": null,
            "overflow_y": null,
            "overflow_x": null,
            "grid_auto_flow": null,
            "grid_area": null,
            "grid_template_columns": null,
            "flex": null,
            "_model_name": "LayoutModel",
            "justify_items": null,
            "grid_row": null,
            "max_height": null,
            "align_content": null,
            "visibility": null,
            "align_self": null,
            "height": null,
            "min_height": null,
            "padding": null,
            "grid_auto_rows": null,
            "grid_gap": null,
            "max_width": null,
            "order": null,
            "_view_module_version": "1.2.0",
            "grid_template_areas": null,
            "object_position": null,
            "object_fit": null,
            "grid_auto_columns": null,
            "margin": null,
            "display": null,
            "left": null
          }
        }
      }
    }
  },
  "cells": [
    {
      "cell_type": "markdown",
      "metadata": {
        "id": "view-in-github",
        "colab_type": "text"
      },
      "source": [
        "<a href=\"https://colab.research.google.com/github/sayanbanerjee32/coreference-resolution/blob/main/ULMFit_AttentionMask_multiword_LMFineTuned4task.ipynb\" target=\"_parent\"><img src=\"https://colab.research.google.com/assets/colab-badge.svg\" alt=\"Open In Colab\"/></a>"
      ]
    },
    {
      "cell_type": "markdown",
      "source": [
        "# Dataset\n",
        "https://www.kaggle.com/owen1226/gap-coreference"
      ],
      "metadata": {
        "id": "3Es_s5HYzm-l"
      }
    },
    {
      "cell_type": "markdown",
      "source": [
        "# Papers and blogs"
      ],
      "metadata": {
        "id": "Ns9R4rP3DlrA"
      }
    },
    {
      "cell_type": "markdown",
      "source": [
        "End2End Coref Resolution By Attention RNN - https://www.kaggle.com/keyit92/end2end-coref-resolution-by-attention-rnn  \n",
        "coreference-resolution - https://www.kaggle.com/abhishekbhole/coreference-resolution  \n",
        "SpanBERT - https://arxiv.org/pdf/1907.10529.pdf   \n",
        "BERT for Coreference Resolution - https://arxiv.org/pdf/1908.09091.pdf  \n",
        "GITHub for BERT and SpanBERT - https://github.com/mandarjoshi90/coref  \n",
        "Fast AI solution - https://www.kaggle.com/mamamot/fastai-awd-lstm-solution-0-71-lb/notebook  \n",
        "With Attention - https://www.kaggle.com/keyit92/end2end-coref-resolution-by-attention-rnn  \n",
        "Attetion implementation - https://www.kaggle.com/mlwhiz/attention-pytorch-and-keras/notebook"
      ],
      "metadata": {
        "id": "21Wppr0W58LH"
      }
    },
    {
      "cell_type": "code",
      "source": [
        "%%capture\n",
        "!pip install fastai -Uq"
      ],
      "metadata": {
        "id": "OFLs_sezDqaP"
      },
      "execution_count": 40,
      "outputs": []
    },
    {
      "cell_type": "code",
      "execution_count": 41,
      "metadata": {
        "colab": {
          "base_uri": "https://localhost:8080/"
        },
        "id": "Fy9GY84xBFlH",
        "outputId": "cf92637b-e73f-4cd9-ca22-50cdbadd3ce8"
      },
      "outputs": [
        {
          "output_type": "stream",
          "name": "stdout",
          "text": [
            "Drive already mounted at /content/drive; to attempt to forcibly remount, call drive.mount(\"/content/drive\", force_remount=True).\n"
          ]
        }
      ],
      "source": [
        "# mount gdrive for data\n",
        "from google.colab import drive\n",
        "drive.mount('/content/drive')"
      ]
    },
    {
      "cell_type": "code",
      "source": [
        "# file locations\n",
        "train_file_path = '/content/drive/MyDrive/coref_resolution/data/gap-development.tsv'\n",
        "val_file_path = '/content/drive/MyDrive/coref_resolution/data/gap-validate.tsv'\n",
        "test_file_path = '/content/drive/MyDrive/coref_resolution/data/gap-test.tsv'\n",
        "model_save_path = '/content/drive/MyDrive/coref_resolution/models/'"
      ],
      "metadata": {
        "id": "VkMY4CW9c6PH"
      },
      "execution_count": 42,
      "outputs": []
    },
    {
      "cell_type": "code",
      "source": [
        "import pandas as pd\n",
        "from fastai.text.all import *\n",
        "from pathlib import Path\n",
        "from tqdm.notebook import tqdm"
      ],
      "metadata": {
        "id": "vKOmey0Id33k"
      },
      "execution_count": 43,
      "outputs": []
    },
    {
      "cell_type": "code",
      "source": [
        "train_df = pd.read_csv(train_file_path,sep=\"\\t\")\n",
        "test_df = pd.read_csv(test_file_path,sep=\"\\t\")\n",
        "val_df = pd.read_csv(val_file_path,sep=\"\\t\")"
      ],
      "metadata": {
        "id": "pQcOrti9d5r-"
      },
      "execution_count": 44,
      "outputs": []
    },
    {
      "cell_type": "code",
      "source": [
        "train_df[\"Text\"][0], train_df[\"Text\"][1]"
      ],
      "metadata": {
        "id": "XGlVRck-eC8N",
        "colab": {
          "base_uri": "https://localhost:8080/"
        },
        "outputId": "f3181ad3-4ffa-46e4-844f-0ce2bc3eb2c8"
      },
      "execution_count": 45,
      "outputs": [
        {
          "output_type": "execute_result",
          "data": {
            "text/plain": [
              "(\"Zoe Telford -- played the police officer girlfriend of Simon, Maggie. Dumped by Simon in the final episode of series 1, after he slept with Jenny, and is not seen again. Phoebe Thomas played Cheryl Cassidy, Pauline's friend and also a year 11 pupil in Simon's class. Dumped her boyfriend following Simon's advice after he wouldn't have sex with her but later realised this was due to him catching crabs off her friend Pauline.\",\n",
              " 'He grew up in Evanston, Illinois the second oldest of five children including his brothers, Fred and Gordon and sisters, Marge (Peppy) and Marilyn. His high school days were spent at New Trier High School in Winnetka, Illinois. MacKenzie studied with Bernard Leach from 1949 to 1952. His simple, wheel-thrown functional pottery is heavily influenced by the oriental aesthetic of Shoji Hamada and Kanjiro Kawai.')"
            ]
          },
          "metadata": {},
          "execution_count": 45
        }
      ]
    },
    {
      "cell_type": "code",
      "source": [
        "print(len(train_df), len(val_df), len(test_df))"
      ],
      "metadata": {
        "colab": {
          "base_uri": "https://localhost:8080/"
        },
        "id": "mMhw6SgQQAi6",
        "outputId": "15b22943-5f2f-49ce-d665-a87984da4b68"
      },
      "execution_count": 46,
      "outputs": [
        {
          "output_type": "stream",
          "name": "stdout",
          "text": [
            "2000 454 2000\n"
          ]
        }
      ]
    },
    {
      "cell_type": "markdown",
      "source": [
        "## Fine tune language model"
      ],
      "metadata": {
        "id": "VK2fRdRSHV2R"
      }
    },
    {
      "cell_type": "code",
      "source": [
        "# lets keep val for final testing\n",
        "df_pretrain = pd.concat([train_df, test_df])\n",
        "df_pretrain.info()"
      ],
      "metadata": {
        "colab": {
          "base_uri": "https://localhost:8080/"
        },
        "id": "QnXzYo6MExee",
        "outputId": "67a1d9d7-61c7-462f-b3d3-449c7a06e706"
      },
      "execution_count": 47,
      "outputs": [
        {
          "output_type": "stream",
          "name": "stdout",
          "text": [
            "<class 'pandas.core.frame.DataFrame'>\n",
            "Int64Index: 4000 entries, 0 to 1999\n",
            "Data columns (total 11 columns):\n",
            " #   Column          Non-Null Count  Dtype \n",
            "---  ------          --------------  ----- \n",
            " 0   ID              4000 non-null   object\n",
            " 1   Text            4000 non-null   object\n",
            " 2   Pronoun         4000 non-null   object\n",
            " 3   Pronoun-offset  4000 non-null   int64 \n",
            " 4   A               4000 non-null   object\n",
            " 5   A-offset        4000 non-null   int64 \n",
            " 6   A-coref         4000 non-null   bool  \n",
            " 7   B               4000 non-null   object\n",
            " 8   B-offset        4000 non-null   int64 \n",
            " 9   B-coref         4000 non-null   bool  \n",
            " 10  URL             4000 non-null   object\n",
            "dtypes: bool(2), int64(3), object(6)\n",
            "memory usage: 320.3+ KB\n"
          ]
        }
      ]
    },
    {
      "cell_type": "code",
      "source": [
        "# fine tune language model\n",
        "data_lm = DataBlock(\n",
        "            blocks=TextBlock.from_df('Text', is_lm=True),\n",
        "            get_x=ColReader('text'),\n",
        "            splitter=RandomSplitter(0.1))\n",
        "\n",
        "dls_lm = data_lm.dataloaders(df_pretrain) \n",
        "dls_lm.show_batch(max_n=2)"
      ],
      "metadata": {
        "colab": {
          "base_uri": "https://localhost:8080/",
          "height": 182
        },
        "id": "Sl3NgIRKFMDm",
        "outputId": "57804d50-ddaa-4258-dab7-cc1390c4bc4d"
      },
      "execution_count": 48,
      "outputs": [
        {
          "output_type": "display_data",
          "data": {
            "text/html": [
              "\n",
              "<style>\n",
              "    /* Turns off some styling */\n",
              "    progress {\n",
              "        /* gets rid of default border in Firefox and Opera. */\n",
              "        border: none;\n",
              "        /* Needs to be in here for Safari polyfill so background images work as expected. */\n",
              "        background-size: auto;\n",
              "    }\n",
              "    .progress-bar-interrupted, .progress-bar-interrupted::-webkit-progress-bar {\n",
              "        background: #F44336;\n",
              "    }\n",
              "</style>\n"
            ],
            "text/plain": [
              "<IPython.core.display.HTML object>"
            ]
          },
          "metadata": {}
        },
        {
          "output_type": "display_data",
          "data": {
            "text/html": [
              ""
            ],
            "text/plain": [
              "<IPython.core.display.HTML object>"
            ]
          },
          "metadata": {}
        },
        {
          "output_type": "display_data",
          "data": {
            "text/html": [
              "<table border=\"1\" class=\"dataframe\">\n",
              "  <thead>\n",
              "    <tr style=\"text-align: right;\">\n",
              "      <th></th>\n",
              "      <th>text</th>\n",
              "      <th>text_</th>\n",
              "    </tr>\n",
              "  </thead>\n",
              "  <tbody>\n",
              "    <tr>\n",
              "      <th>0</th>\n",
              "      <td>xxbos xxmaj xxunk went on to hit four home runs in his rookie season while xxunk xxunk . xxmaj however he spent the majority of the season with the triple - a xxmaj rochester xxmaj red xxmaj wings . xxmaj in 2004 , after xxunk impressive minor league numbers , the xxmaj twins dealt veteran first baseman xxmaj doug xxmaj xxunk to the xxmaj boston xxmaj red xxmaj sox and xxmaj xxunk</td>\n",
              "      <td>xxmaj xxunk went on to hit four home runs in his rookie season while xxunk xxunk . xxmaj however he spent the majority of the season with the triple - a xxmaj rochester xxmaj red xxmaj wings . xxmaj in 2004 , after xxunk impressive minor league numbers , the xxmaj twins dealt veteran first baseman xxmaj doug xxmaj xxunk to the xxmaj boston xxmaj red xxmaj sox and xxmaj xxunk became</td>\n",
              "    </tr>\n",
              "    <tr>\n",
              "      <th>1</th>\n",
              "      <td>was engaged immediately . xxbos xxmaj the next day xxup xxunk xxmaj xxunk , under the command of xxmaj captain xxmaj thomas xxmaj xxunk , encountered xxmaj rachel and captured her , together with the xxunk prize crew of xxmaj americans . xxmaj the xxmaj british took the xxmaj americans on board xxmaj xxunk and put a six - man prize crew on board xxmaj rachel , which they sent her into</td>\n",
              "      <td>engaged immediately . xxbos xxmaj the next day xxup xxunk xxmaj xxunk , under the command of xxmaj captain xxmaj thomas xxmaj xxunk , encountered xxmaj rachel and captured her , together with the xxunk prize crew of xxmaj americans . xxmaj the xxmaj british took the xxmaj americans on board xxmaj xxunk and put a six - man prize crew on board xxmaj rachel , which they sent her into xxmaj</td>\n",
              "    </tr>\n",
              "  </tbody>\n",
              "</table>"
            ],
            "text/plain": [
              "<IPython.core.display.HTML object>"
            ]
          },
          "metadata": {}
        }
      ]
    },
    {
      "cell_type": "code",
      "source": [
        "# create language model learner\n",
        "learn_lm = language_model_learner(\n",
        "    dls_lm, AWD_LSTM, drop_mult=0.5, pretrained=True, \n",
        "    metrics=[accuracy, Perplexity()])#.to_fp16()"
      ],
      "metadata": {
        "id": "NAnJ4DhgFvEZ"
      },
      "execution_count": 49,
      "outputs": []
    },
    {
      "cell_type": "code",
      "source": [
        "# find optimum learning rate for language model\n",
        "learn_lm.lr_find()"
      ],
      "metadata": {
        "colab": {
          "base_uri": "https://localhost:8080/",
          "height": 300
        },
        "id": "9i3qcVBpHnU7",
        "outputId": "d1809cca-6cc6-46ac-eecf-8b3dfe3bbf58"
      },
      "execution_count": 50,
      "outputs": [
        {
          "output_type": "display_data",
          "data": {
            "text/html": [
              "\n",
              "<style>\n",
              "    /* Turns off some styling */\n",
              "    progress {\n",
              "        /* gets rid of default border in Firefox and Opera. */\n",
              "        border: none;\n",
              "        /* Needs to be in here for Safari polyfill so background images work as expected. */\n",
              "        background-size: auto;\n",
              "    }\n",
              "    .progress-bar-interrupted, .progress-bar-interrupted::-webkit-progress-bar {\n",
              "        background: #F44336;\n",
              "    }\n",
              "</style>\n"
            ],
            "text/plain": [
              "<IPython.core.display.HTML object>"
            ]
          },
          "metadata": {}
        },
        {
          "output_type": "display_data",
          "data": {
            "text/html": [
              ""
            ],
            "text/plain": [
              "<IPython.core.display.HTML object>"
            ]
          },
          "metadata": {}
        },
        {
          "output_type": "execute_result",
          "data": {
            "text/plain": [
              "SuggestedLRs(valley=0.009120108559727669)"
            ]
          },
          "metadata": {},
          "execution_count": 50
        },
        {
          "output_type": "display_data",
          "data": {
            "image/png": "[encoded data removed]",
            "text/plain": [
              "<Figure size 432x288 with 1 Axes>"
            ]
          },
          "metadata": {
            "needs_background": "light"
          }
        }
      ]
    },
    {
      "cell_type": "code",
      "source": [
        "# one cycle training\n",
        "learn_lm.fit_one_cycle(1, 0.003)"
      ],
      "metadata": {
        "colab": {
          "base_uri": "https://localhost:8080/",
          "height": 81
        },
        "id": "sUnSiaHuHtp8",
        "outputId": "39cf91df-31a9-4c4c-deae-0324b1df5b57"
      },
      "execution_count": 51,
      "outputs": [
        {
          "output_type": "display_data",
          "data": {
            "text/html": [
              "\n",
              "<style>\n",
              "    /* Turns off some styling */\n",
              "    progress {\n",
              "        /* gets rid of default border in Firefox and Opera. */\n",
              "        border: none;\n",
              "        /* Needs to be in here for Safari polyfill so background images work as expected. */\n",
              "        background-size: auto;\n",
              "    }\n",
              "    .progress-bar-interrupted, .progress-bar-interrupted::-webkit-progress-bar {\n",
              "        background: #F44336;\n",
              "    }\n",
              "</style>\n"
            ],
            "text/plain": [
              "<IPython.core.display.HTML object>"
            ]
          },
          "metadata": {}
        },
        {
          "output_type": "display_data",
          "data": {
            "text/html": [
              "<table border=\"1\" class=\"dataframe\">\n",
              "  <thead>\n",
              "    <tr style=\"text-align: left;\">\n",
              "      <th>epoch</th>\n",
              "      <th>train_loss</th>\n",
              "      <th>valid_loss</th>\n",
              "      <th>accuracy</th>\n",
              "      <th>perplexity</th>\n",
              "      <th>time</th>\n",
              "    </tr>\n",
              "  </thead>\n",
              "  <tbody>\n",
              "    <tr>\n",
              "      <td>0</td>\n",
              "      <td>3.728303</td>\n",
              "      <td>3.506631</td>\n",
              "      <td>0.362956</td>\n",
              "      <td>33.335773</td>\n",
              "      <td>00:18</td>\n",
              "    </tr>\n",
              "  </tbody>\n",
              "</table>"
            ],
            "text/plain": [
              "<IPython.core.display.HTML object>"
            ]
          },
          "metadata": {}
        }
      ]
    },
    {
      "cell_type": "code",
      "source": [
        "# unfreeze all the layers and one cycle training\n",
        "learn_lm.unfreeze()\n",
        "learn_lm.fit_one_cycle(5, 0.003)"
      ],
      "metadata": {
        "colab": {
          "base_uri": "https://localhost:8080/",
          "height": 206
        },
        "id": "QeLjJUlkH9ZM",
        "outputId": "d88d992c-edc8-455a-fa96-1ffb09a589e5"
      },
      "execution_count": 52,
      "outputs": [
        {
          "output_type": "display_data",
          "data": {
            "text/html": [
              "\n",
              "<style>\n",
              "    /* Turns off some styling */\n",
              "    progress {\n",
              "        /* gets rid of default border in Firefox and Opera. */\n",
              "        border: none;\n",
              "        /* Needs to be in here for Safari polyfill so background images work as expected. */\n",
              "        background-size: auto;\n",
              "    }\n",
              "    .progress-bar-interrupted, .progress-bar-interrupted::-webkit-progress-bar {\n",
              "        background: #F44336;\n",
              "    }\n",
              "</style>\n"
            ],
            "text/plain": [
              "<IPython.core.display.HTML object>"
            ]
          },
          "metadata": {}
        },
        {
          "output_type": "display_data",
          "data": {
            "text/html": [
              "<table border=\"1\" class=\"dataframe\">\n",
              "  <thead>\n",
              "    <tr style=\"text-align: left;\">\n",
              "      <th>epoch</th>\n",
              "      <th>train_loss</th>\n",
              "      <th>valid_loss</th>\n",
              "      <th>accuracy</th>\n",
              "      <th>perplexity</th>\n",
              "      <th>time</th>\n",
              "    </tr>\n",
              "  </thead>\n",
              "  <tbody>\n",
              "    <tr>\n",
              "      <td>0</td>\n",
              "      <td>3.416386</td>\n",
              "      <td>3.310141</td>\n",
              "      <td>0.378602</td>\n",
              "      <td>27.388996</td>\n",
              "      <td>00:20</td>\n",
              "    </tr>\n",
              "    <tr>\n",
              "      <td>1</td>\n",
              "      <td>3.245112</td>\n",
              "      <td>3.308045</td>\n",
              "      <td>0.378559</td>\n",
              "      <td>27.331644</td>\n",
              "      <td>00:20</td>\n",
              "    </tr>\n",
              "    <tr>\n",
              "      <td>2</td>\n",
              "      <td>2.870928</td>\n",
              "      <td>3.334326</td>\n",
              "      <td>0.381510</td>\n",
              "      <td>28.059473</td>\n",
              "      <td>00:20</td>\n",
              "    </tr>\n",
              "    <tr>\n",
              "      <td>3</td>\n",
              "      <td>2.456332</td>\n",
              "      <td>3.417676</td>\n",
              "      <td>0.371853</td>\n",
              "      <td>30.498446</td>\n",
              "      <td>00:20</td>\n",
              "    </tr>\n",
              "    <tr>\n",
              "      <td>4</td>\n",
              "      <td>2.177739</td>\n",
              "      <td>3.484099</td>\n",
              "      <td>0.369097</td>\n",
              "      <td>32.593044</td>\n",
              "      <td>00:20</td>\n",
              "    </tr>\n",
              "  </tbody>\n",
              "</table>"
            ],
            "text/plain": [
              "<IPython.core.display.HTML object>"
            ]
          },
          "metadata": {}
        }
      ]
    },
    {
      "cell_type": "code",
      "source": [
        "# save language model\n",
        "learn_lm.save(Path(model_save_path) /'lm_fine_tuned')\n",
        "learn_lm.save_encoder(Path(model_save_path) /'lm_fine_tuned_encoder')"
      ],
      "metadata": {
        "id": "coY2Nv-9IArq"
      },
      "execution_count": 53,
      "outputs": []
    },
    {
      "cell_type": "code",
      "source": [
        "# load pre-trained language model\n",
        "# learn_lm_pretrained = load_learner(Path(model_save_path)/'lm_fine_tuned.pth', cpu = False)\n",
        "# learn_lm.load(Path(model_save_path) /'lm_fine_tuned')"
      ],
      "metadata": {
        "id": "pwpLzpp2tqNr"
      },
      "execution_count": 54,
      "outputs": []
    },
    {
      "cell_type": "code",
      "source": [
        "vocab = learn_lm.dls\n",
        "# vocab.numericalize(tokenizer(train_df[\"Text\"][0]))"
      ],
      "metadata": {
        "id": "U27FWqZy0xv3"
      },
      "execution_count": 55,
      "outputs": []
    },
    {
      "cell_type": "markdown",
      "source": [
        "## Pre-process data"
      ],
      "metadata": {
        "id": "mHeaLGNoOOGm"
      }
    },
    {
      "cell_type": "code",
      "source": [
        "import torch\n",
        "from torch.utils.data import Dataset, TensorDataset"
      ],
      "metadata": {
        "id": "ihRFSBmHPfPA"
      },
      "execution_count": 56,
      "outputs": []
    },
    {
      "cell_type": "code",
      "source": [
        "spacy_tok = SpacyTokenizer(\"en\")\n",
        "tokenizer = Tokenizer(spacy_tok)"
      ],
      "metadata": {
        "id": "MJjD1mVpI65B"
      },
      "execution_count": 57,
      "outputs": []
    },
    {
      "cell_type": "code",
      "source": [
        "# train_df[\"Text\"][0], tokenizer(train_df[\"Text\"][0])"
      ],
      "metadata": {
        "id": "ltfiNf0JSn2D"
      },
      "execution_count": 58,
      "outputs": []
    },
    {
      "cell_type": "code",
      "source": [
        "import spacy\n",
        "nlp = spacy.blank(\"en\")\n",
        "\n",
        "# note that 'xxunk' is not special in this sense\n",
        "# special_tokens = ['xxbos','xxfld','xxpad', 'xxmaj','xxup','xxrep','xxwrep']\n",
        "\n",
        "special_tokens = ['xxpad']\n",
        "\n",
        "def get_token_num_by_offset(s, offset):\n",
        "  s_pre = s[:offset]\n",
        "  return len(tokenizer(s_pre))\n",
        "  # return len([t for t in tokenizer(s_pre) if t not in special_tokens])\n",
        "\n",
        "\n",
        "def adjust_token_num(processed, token_num):\n",
        "  \"\"\"\n",
        "  As fastai tokenizer introduces additional tokens, we need to adjust for them.\n",
        "  \"\"\"\n",
        "  counter = -1\n",
        "  do_unrep = None\n",
        "  for i, token in enumerate(processed):\n",
        "    if token not in special_tokens:\n",
        "      counter += 1\n",
        "    # if do_unrep:\n",
        "    #   do_unrep = False\n",
        "    #   if processed[i+1] != \".\":\n",
        "    #     token_num -= (int(token) - 2) # one to account for the num itself\n",
        "    #   else:  # spacy doesn't split full stops\n",
        "    #     token_num += 1\n",
        "    # if token == \"xxrep\":\n",
        "    #   do_unrep = True\n",
        "    if counter == token_num:\n",
        "      return i\n",
        "  else: # else for 'for'\n",
        "    counter2 = -1\n",
        "    for j, t in enumerate(processed):\n",
        "      if t not in special_tokens:\n",
        "        counter2 += 1\n",
        "      # print(j, counter, t)\n",
        "    raise Exception(f\"{token_num} is out of bounds ({processed})\")"
      ],
      "metadata": {
        "id": "68TZfc7ZOWiN"
      },
      "execution_count": 59,
      "outputs": []
    },
    {
      "cell_type": "code",
      "source": [
        "import traceback\n",
        "def dataframe_to_tensors(df, max_len=512):\n",
        "  # offsets are: pron_tok_offset, a_tok_offset, a_tok_right_offset, b_tok_offset, b_tok_right_offset\n",
        "  offsets = list()\n",
        "  labels = np.zeros((len(df),), dtype=np.int64)\n",
        "  processed = list()\n",
        "  for i, row in tqdm(df.iterrows()):\n",
        "    try:\n",
        "      text = row[\"Text\"]\n",
        "      a_offset = row[\"A-offset\"]\n",
        "      a_len = len(nlp(row[\"A\"]))\n",
        "      \n",
        "      b_offset = row[\"B-offset\"]\n",
        "      b_len = len(nlp(row[\"B\"]))\n",
        "\n",
        "      pron_offset = row[\"Pronoun-offset\"]\n",
        "      is_a = row[\"A-coref\"]\n",
        "      is_b = row[\"B-coref\"]\n",
        "      a_tok_offset = get_token_num_by_offset(text, a_offset)\n",
        "      b_tok_offset = get_token_num_by_offset(text, b_offset)\n",
        "      a_right_offset = a_tok_offset + a_len - 1\n",
        "      b_right_offset = b_tok_offset + b_len - 1\n",
        "      pron_tok_offset = get_token_num_by_offset(text, pron_offset)\n",
        "      tokenized = tokenizer(text)[:max_len]\n",
        "      tokenized = [\"xxpad\"] * (max_len - len(tokenized))  + tokenized # add padding\n",
        "      a_tok_offset = adjust_token_num(tokenized, a_tok_offset)\n",
        "      a_tok_right_offset = adjust_token_num(tokenized, a_right_offset)\n",
        "      b_tok_offset = adjust_token_num(tokenized, b_tok_offset)\n",
        "      b_tok_right_offset = adjust_token_num(tokenized, b_right_offset)\n",
        "      pron_tok_offset = adjust_token_num(tokenized, pron_tok_offset)\n",
        "      numericalized = vocab.numericalize(tokenized)\n",
        "      processed.append(torch.tensor(numericalized, dtype=torch.long))\n",
        "      offsets.append([pron_tok_offset, a_tok_offset, a_tok_right_offset, b_tok_offset, b_tok_right_offset])\n",
        "      if is_a:\n",
        "        labels[i] = 0\n",
        "      elif is_b:\n",
        "        labels[i] = 1\n",
        "      else:\n",
        "        labels[i] = 2\n",
        "    except Exception as e:\n",
        "      print(i)\n",
        "      traceback.print_exc()\n",
        "      raise\n",
        "  processed = torch.stack(processed)\n",
        "  offsets = torch.tensor(offsets, dtype=torch.long)\n",
        "  labels = torch.from_numpy(labels)\n",
        "  return processed, offsets, labels"
      ],
      "metadata": {
        "id": "LQ5LNykpOVqV"
      },
      "execution_count": 60,
      "outputs": []
    },
    {
      "cell_type": "code",
      "source": [
        "train_ds = TensorDataset(*dataframe_to_tensors(train_df))\n",
        "valid_ds = TensorDataset(*dataframe_to_tensors(val_df))\n",
        "test_ds = TensorDataset(*dataframe_to_tensors(test_df))"
      ],
      "metadata": {
        "id": "8u2q2sqgOtsU",
        "outputId": "1bdfecfb-5a48-469b-845b-0a866a9f7a8c",
        "colab": {
          "base_uri": "https://localhost:8080/",
          "height": 150,
          "referenced_widgets": [
            "5052897e98f1493587cd63fab1cbb5e7",
            "782510a1aa3440bcb015e3cadf933314",
            "69441dfcbeb54441a1b1e7f8bae3553e",
            "6ee8a49a9e394491a72108f14b1c347f",
            "a68e5a63446b4cdcb7c166abf801fda4",
            "1bfcc7ef415f45cbab4c075e9e22213c",
            "6960695599cd49c7922695b7d6151bde",
            "718cadc2ccd74fa18dfae205358a8a99",
            "47d1a29cb08b4c3b934b89659f3366d0",
            "23d72cd7db3646e88f47f836a31692b4",
            "2cfcffe6dc3845dcb64064cf758ee901",
            "05f0405e79264f81ab10656f8cb2cf7c",
            "b5b5f13154ff42c1a098f76017e834ac",
            "e3ad805a15c94bef87159cd67925c896",
            "13a72d92e65f483d8aca418c4ba895f2",
            "9e19c8ef69564061bcf81c860133d7c5",
            "a1e0e316497f41dfb1d5292fcd503dfb",
            "94bd884cfb484580a74febea2ec3920b",
            "c229084c0ef948f5bff8d7d0cd263744",
            "d4ee00f767b241a5a940d54c8f3b3167",
            "d5f1d9d894e54f5d9d15c996edb74cb4",
            "43708d78687942218664fa57106454b9",
            "f347fb9316a6456ea910e648dab1cd50",
            "cad3db2d2147439f93bbf4ab9d4934e6",
            "5d64e39bad2b4b8f8e8377a5d11597b1",
            "b694c84c65f640f091e408e2bc6b5623",
            "3d6891b512a743cb91aaf10711e33023",
            "3ad2a5dc8f4f4572a3f282ce9274c187",
            "478492135aa1466ab2aeef72c0667fe7",
            "8fa687d62f604ea9bc66b30410a052c9",
            "4d880d0cdeac45d6937b48679083afe6",
            "c92f62147a164b099d254d4d8e6ea26d",
            "b80354c6f8c84651b60b096d2368f8d8"
          ]
        }
      },
      "execution_count": 61,
      "outputs": [
        {
          "output_type": "display_data",
          "data": {
            "application/vnd.jupyter.widget-view+json": {
              "model_id": "5052897e98f1493587cd63fab1cbb5e7",
              "version_minor": 0,
              "version_major": 2
            },
            "text/plain": [
              "0it [00:00, ?it/s]"
            ]
          },
          "metadata": {}
        },
        {
          "output_type": "stream",
          "name": "stderr",
          "text": [
            "/usr/local/lib/python3.7/dist-packages/ipykernel_launcher.py:32: UserWarning: To copy construct from a tensor, it is recommended to use sourceTensor.clone().detach() or sourceTensor.clone().detach().requires_grad_(True), rather than torch.tensor(sourceTensor).\n"
          ]
        },
        {
          "output_type": "display_data",
          "data": {
            "application/vnd.jupyter.widget-view+json": {
              "model_id": "05f0405e79264f81ab10656f8cb2cf7c",
              "version_minor": 0,
              "version_major": 2
            },
            "text/plain": [
              "0it [00:00, ?it/s]"
            ]
          },
          "metadata": {}
        },
        {
          "output_type": "display_data",
          "data": {
            "application/vnd.jupyter.widget-view+json": {
              "model_id": "f347fb9316a6456ea910e648dab1cd50",
              "version_minor": 0,
              "version_major": 2
            },
            "text/plain": [
              "0it [00:00, ?it/s]"
            ]
          },
          "metadata": {}
        }
      ]
    },
    {
      "cell_type": "code",
      "source": [
        "train_dl = DataLoader(train_ds, batch_size=64, shuffle=True)\n",
        "valid_dl = DataLoader(valid_ds, batch_size=32, shuffle=False)\n",
        "test_dl = DataLoader(test_ds, batch_size=32, shuffle=False)"
      ],
      "metadata": {
        "id": "va-7f1tYOvYK"
      },
      "execution_count": 62,
      "outputs": []
    },
    {
      "cell_type": "markdown",
      "source": [
        "### Classifier"
      ],
      "metadata": {
        "id": "OKNhIlJjegLi"
      }
    },
    {
      "cell_type": "code",
      "source": [
        "# learn_lm.freeze()"
      ],
      "metadata": {
        "id": "jsP7wGudUVVd"
      },
      "execution_count": 63,
      "outputs": []
    },
    {
      "cell_type": "code",
      "source": [
        "encoder_hidden_sz = 400\n",
        "device = torch.device(\"cuda\")"
      ],
      "metadata": {
        "id": "Pg_dxrt6MbBK"
      },
      "execution_count": 64,
      "outputs": []
    },
    {
      "cell_type": "code",
      "source": [
        "class Attention(nn.Module):\n",
        "    def __init__(self, feature_dim, step_dim, bias=True, **kwargs):\n",
        "        super(Attention, self).__init__(**kwargs)\n",
        "        \n",
        "        self.supports_masking = True\n",
        "\n",
        "        self.bias = bias\n",
        "        self.feature_dim = feature_dim\n",
        "        self.step_dim = step_dim\n",
        "        self.features_dim = 0\n",
        "        \n",
        "        weight = torch.zeros(feature_dim, 1)\n",
        "        nn.init.kaiming_uniform_(weight)\n",
        "        self.weight = nn.Parameter(weight)\n",
        "        \n",
        "        if bias:\n",
        "            self.b = nn.Parameter(torch.zeros(step_dim))\n",
        "        \n",
        "    def forward(self, x, mask=None):\n",
        "        feature_dim = self.feature_dim \n",
        "        step_dim = self.step_dim\n",
        "\n",
        "        eij = torch.mm(\n",
        "            x.contiguous().view(-1, feature_dim), \n",
        "            self.weight\n",
        "        ).view(-1, step_dim)\n",
        "        \n",
        "        if self.bias:\n",
        "            eij = eij + self.b\n",
        "            \n",
        "        eij = torch.tanh(eij)\n",
        "        a = torch.exp(eij)\n",
        "        \n",
        "        if mask is not None:\n",
        "            # mask = index mask\n",
        "            mask_bool = torch.ones(a.size()).to(device)\n",
        "            mask_bool = mask_bool.scatter_(1, mask, 0.)\n",
        "            a = a * mask_bool\n",
        "\n",
        "        a = a / (torch.sum(a, 1, keepdim=True) + 1e-10)\n",
        "\n",
        "        weighted_input = x * torch.unsqueeze(a, -1)\n",
        "        return torch.sum(weighted_input, 1)"
      ],
      "metadata": {
        "id": "71jAkwMLIktN"
      },
      "execution_count": 65,
      "outputs": []
    },
    {
      "cell_type": "code",
      "source": [
        "def expand_offsets(offset_tensor):\n",
        "  # Have a list of tensors (which can be of different lengths) \n",
        "  data = [torch.tensor(range(x[0],x[1]+1)) for x in offset_tensor]\n",
        "\n",
        "  # Determine maximum length\n",
        "  max_offset_len = max([x.squeeze().numel() for x in data])\n",
        "\n",
        "  # pad all tensors to have same length\n",
        "  data = [torch.nn.functional.pad(x, pad=(0, max_offset_len - x.numel()),\n",
        "                                  mode='constant', value=max(x)) for x in data]\n",
        "\n",
        "  # stack them\n",
        "  data = torch.stack(data)\n",
        "  return data"
      ],
      "metadata": {
        "id": "T0yaZKZeUHaR"
      },
      "execution_count": 66,
      "outputs": []
    },
    {
      "cell_type": "code",
      "source": [
        "class CorefResolver(nn.Module):\n",
        "  def __init__(self, encoder, dropout_p=0.3, max_len=512):\n",
        "    super(CorefResolver, self).__init__()\n",
        "    self.encoder = encoder\n",
        "    self.attention_layer = Attention(encoder_hidden_sz, max_len)\n",
        "    self.dropout = nn.Dropout(dropout_p)\n",
        "    self.hidden2hidden = nn.Linear(encoder_hidden_sz * 2 + encoder_hidden_sz + 1, 25)\n",
        "    self.hidden2logits = nn.Linear(50, 3)\n",
        "    self.relu = nn.ReLU()\n",
        "    self.activation = nn.LogSoftmax(dim=1)\n",
        "    self.loss = nn.NLLLoss()\n",
        "    \n",
        "  def forward(self, seqs, offsets, labels=None):\n",
        "    encoded = self.dropout(self.encoder(seqs)) #[0][2])\n",
        "    # attention mask\n",
        "    # mask b\n",
        "    a_offset = expand_offsets(torch.index_select(offsets,1,\n",
        "                                                 torch.tensor([3, 4]).to(device))).to(device)\n",
        "    # mask a\n",
        "    b_offset = expand_offsets(torch.index_select(offsets,1,\n",
        "                                                 torch.tensor([1, 2]).to(device))).to(device)\n",
        "    # encoder attention with corresponding mask\n",
        "    encoded_atten_a = self.attention_layer(encoded,a_offset)\n",
        "    encoded_atten_b = self.attention_layer(encoded,b_offset)\n",
        "    a_q = list()\n",
        "    b_q = list()\n",
        "    for enc_att_a, enc_att_b, enc, offs in zip(encoded_atten_a, encoded_atten_b , encoded, offsets):\n",
        "      # extract the hidden states that correspond to A, B and the pronoun, and make pairs of those \n",
        "      a_repr = enc[offs[1]:(offs[2]+1)].mean(dim=0).squeeze(0)\n",
        "      b_repr = enc[offs[3]:(offs[4]+1)].mean(dim=0).squeeze(0)\n",
        "      a_q.append(torch.cat([enc[offs[0]], a_repr, enc_att_a, torch.dot(enc[offs[0]], a_repr).unsqueeze(0)]))\n",
        "      b_q.append(torch.cat([enc[offs[0]], b_repr, enc_att_b, torch.dot(enc[offs[0]], b_repr).unsqueeze(0)]))\n",
        "    a_q = torch.stack(a_q)\n",
        "    b_q = torch.stack(b_q)\n",
        "    # apply the same \"detector\" layer to both batches of pairs\n",
        "    is_a = self.relu(self.dropout(self.hidden2hidden(a_q)))\n",
        "    is_b = self.relu(self.dropout(self.hidden2hidden(b_q)))\n",
        "    # concatenate outputs of the \"detector\" layer to get the final probability distribution\n",
        "    is_a_b = torch.cat([is_a, is_b], dim=1)\n",
        "    is_logits = self.hidden2logits(self.dropout(self.relu(is_a_b)))\n",
        "\n",
        "    activation = self.activation(is_logits)\n",
        "    if labels is not None:\n",
        "      return activation, self.loss(activation, labels)\n",
        "    else:\n",
        "      return activation"
      ],
      "metadata": {
        "id": "rdPY0QQjaI1a"
      },
      "execution_count": 67,
      "outputs": []
    },
    {
      "cell_type": "code",
      "source": [
        "enc = learn_lm.model[0]"
      ],
      "metadata": {
        "id": "S-eqTeE7aSs-"
      },
      "execution_count": 68,
      "outputs": []
    },
    {
      "cell_type": "code",
      "source": [
        "resolver = CorefResolver(enc)"
      ],
      "metadata": {
        "id": "-nej-9MDasYB"
      },
      "execution_count": 69,
      "outputs": []
    },
    {
      "cell_type": "code",
      "source": [
        "resolver.to(device)"
      ],
      "metadata": {
        "colab": {
          "base_uri": "https://localhost:8080/"
        },
        "id": "t4p4nee1fBnl",
        "outputId": "d5949f22-cba9-40fc-ac84-43495b04817a"
      },
      "execution_count": 70,
      "outputs": [
        {
          "output_type": "execute_result",
          "data": {
            "text/plain": [
              "CorefResolver(\n",
              "  (encoder): AWD_LSTM(\n",
              "    (encoder): Embedding(10592, 400, padding_idx=1)\n",
              "    (encoder_dp): EmbeddingDropout(\n",
              "      (emb): Embedding(10592, 400, padding_idx=1)\n",
              "    )\n",
              "    (rnns): ModuleList(\n",
              "      (0): WeightDropout(\n",
              "        (module): LSTM(400, 1152, batch_first=True)\n",
              "      )\n",
              "      (1): WeightDropout(\n",
              "        (module): LSTM(1152, 1152, batch_first=True)\n",
              "      )\n",
              "      (2): WeightDropout(\n",
              "        (module): LSTM(1152, 400, batch_first=True)\n",
              "      )\n",
              "    )\n",
              "    (input_dp): RNNDropout()\n",
              "    (hidden_dps): ModuleList(\n",
              "      (0): RNNDropout()\n",
              "      (1): RNNDropout()\n",
              "      (2): RNNDropout()\n",
              "    )\n",
              "  )\n",
              "  (attention_layer): Attention()\n",
              "  (dropout): Dropout(p=0.3, inplace=False)\n",
              "  (hidden2hidden): Linear(in_features=1201, out_features=25, bias=True)\n",
              "  (hidden2logits): Linear(in_features=50, out_features=3, bias=True)\n",
              "  (relu): ReLU()\n",
              "  (activation): LogSoftmax(dim=1)\n",
              "  (loss): NLLLoss()\n",
              ")"
            ]
          },
          "metadata": {},
          "execution_count": 70
        }
      ]
    },
    {
      "cell_type": "code",
      "source": [
        "for param in resolver.encoder.parameters():\n",
        "  param.requires_grad = False"
      ],
      "metadata": {
        "id": "qRs2narTfD5e"
      },
      "execution_count": 71,
      "outputs": []
    },
    {
      "cell_type": "code",
      "source": [
        "lr = 0.001\n",
        "\n",
        "loss_fn = nn.NLLLoss()\n",
        "optimizer = torch.optim.Adam(resolver.parameters(), lr=lr)"
      ],
      "metadata": {
        "id": "pNM1cB4AgOnv"
      },
      "execution_count": 72,
      "outputs": []
    },
    {
      "cell_type": "code",
      "source": [
        "from sklearn.metrics import classification_report"
      ],
      "metadata": {
        "id": "LlVxKZx8gRxs"
      },
      "execution_count": 73,
      "outputs": []
    },
    {
      "cell_type": "code",
      "source": [
        "def train_epoch(model, optimizer, train_dl, report_every=10):\n",
        "  model.train()\n",
        "  step = 0\n",
        "  total_loss = 0\n",
        "  \n",
        "  for texts, offsets, labels in train_dl:\n",
        "    texts, offsets, labels = texts.to(device), offsets.to(device), labels.to(device)\n",
        "    step += 1\n",
        "    optimizer.zero_grad()\n",
        "    _, loss = model(texts, offsets, labels)\n",
        "    total_loss += loss.item()\n",
        "    \n",
        "    loss.backward()\n",
        "    optimizer.step()\n",
        "    \n",
        "    if step % report_every == 0:\n",
        "      print(f\"Step {step}, loss: {total_loss/report_every}\")\n",
        "      total_loss = 0\n",
        "      \n",
        "def evaluate(model, optimizer, valid_dl, probas=False):\n",
        "  probas = list()\n",
        "  model.eval()\n",
        "  predictions = list()\n",
        "  total_loss = 0\n",
        "  all_labels = list()\n",
        "  with torch.no_grad():\n",
        "    for texts, offsets, labels in valid_dl:\n",
        "      texts, offsets, labels = texts.cuda(), offsets.cuda(), labels.cuda()\n",
        "      preds, loss = model(texts, offsets, labels)\n",
        "      total_loss += loss.item()\n",
        "      probas.append(preds.cpu().detach().numpy())\n",
        "      predictions.extend([i.item() for i in preds.max(1)[1]])\n",
        "    \n",
        "    \n",
        "  print(f\"Validation loss: {total_loss/len(valid_dl)}\")\n",
        "  print()\n",
        "  print(classification_report(valid_dl.dataset.tensors[2].numpy(), predictions))\n",
        "  if probas:\n",
        "    return total_loss, np.vstack(probas)\n",
        "  return total_loss, predictions"
      ],
      "metadata": {
        "id": "NH8JbjBwgUdk"
      },
      "execution_count": 74,
      "outputs": []
    },
    {
      "cell_type": "code",
      "source": [
        "total_epoch = 0\n",
        "best_loss = 1e6\n",
        "\n",
        "for i in range(10):\n",
        "  print(\"Epoch\", i + 1)\n",
        "  total_epoch += 1\n",
        "  train_epoch(resolver, optimizer, train_dl) \n",
        "  loss, labels = evaluate(resolver, optimizer, test_dl)\n",
        "  if loss < best_loss:\n",
        "    best_loss = loss\n",
        "    print(f\"Loss improved, saving {total_epoch}\")\n",
        "    torch.save(resolver.state_dict(), Path(model_save_path)/\"model_best.pt\")"
      ],
      "metadata": {
        "colab": {
          "base_uri": "https://localhost:8080/"
        },
        "id": "RW3chKpwgYyO",
        "outputId": "2be6b492-98d1-461e-ae50-275085dd0c33"
      },
      "execution_count": 75,
      "outputs": [
        {
          "output_type": "stream",
          "name": "stdout",
          "text": [
            "Epoch 1\n",
            "Step 10, loss: 0.9815385222434998\n",
            "Step 20, loss: 0.966545832157135\n",
            "Step 30, loss: 0.9133882164955139\n",
            "Validation loss: 0.8910105266268291\n",
            "\n",
            "              precision    recall  f1-score   support\n",
            "\n",
            "           0       0.70      0.55      0.61       918\n",
            "           1       0.55      0.82      0.66       855\n",
            "           2       0.00      0.00      0.00       227\n",
            "\n",
            "    accuracy                           0.60      2000\n",
            "   macro avg       0.42      0.46      0.42      2000\n",
            "weighted avg       0.55      0.60      0.56      2000\n",
            "\n",
            "Loss improved, saving 1\n"
          ]
        },
        {
          "output_type": "stream",
          "name": "stderr",
          "text": [
            "/usr/local/lib/python3.7/dist-packages/sklearn/metrics/_classification.py:1318: UndefinedMetricWarning: Precision and F-score are ill-defined and being set to 0.0 in labels with no predicted samples. Use `zero_division` parameter to control this behavior.\n",
            "  _warn_prf(average, modifier, msg_start, len(result))\n",
            "/usr/local/lib/python3.7/dist-packages/sklearn/metrics/_classification.py:1318: UndefinedMetricWarning: Precision and F-score are ill-defined and being set to 0.0 in labels with no predicted samples. Use `zero_division` parameter to control this behavior.\n",
            "  _warn_prf(average, modifier, msg_start, len(result))\n",
            "/usr/local/lib/python3.7/dist-packages/sklearn/metrics/_classification.py:1318: UndefinedMetricWarning: Precision and F-score are ill-defined and being set to 0.0 in labels with no predicted samples. Use `zero_division` parameter to control this behavior.\n",
            "  _warn_prf(average, modifier, msg_start, len(result))\n"
          ]
        },
        {
          "output_type": "stream",
          "name": "stdout",
          "text": [
            "Epoch 2\n",
            "Step 10, loss: 0.9029198408126831\n",
            "Step 20, loss: 0.8852515399456025\n",
            "Step 30, loss: 0.8555509507656097\n",
            "Validation loss: 0.8333801702847556\n",
            "\n",
            "              precision    recall  f1-score   support\n",
            "\n",
            "           0       0.64      0.73      0.68       918\n",
            "           1       0.63      0.70      0.66       855\n",
            "           2       0.00      0.00      0.00       227\n",
            "\n",
            "    accuracy                           0.63      2000\n",
            "   macro avg       0.42      0.48      0.45      2000\n",
            "weighted avg       0.56      0.63      0.60      2000\n",
            "\n",
            "Loss improved, saving 2\n"
          ]
        },
        {
          "output_type": "stream",
          "name": "stderr",
          "text": [
            "/usr/local/lib/python3.7/dist-packages/sklearn/metrics/_classification.py:1318: UndefinedMetricWarning: Precision and F-score are ill-defined and being set to 0.0 in labels with no predicted samples. Use `zero_division` parameter to control this behavior.\n",
            "  _warn_prf(average, modifier, msg_start, len(result))\n",
            "/usr/local/lib/python3.7/dist-packages/sklearn/metrics/_classification.py:1318: UndefinedMetricWarning: Precision and F-score are ill-defined and being set to 0.0 in labels with no predicted samples. Use `zero_division` parameter to control this behavior.\n",
            "  _warn_prf(average, modifier, msg_start, len(result))\n",
            "/usr/local/lib/python3.7/dist-packages/sklearn/metrics/_classification.py:1318: UndefinedMetricWarning: Precision and F-score are ill-defined and being set to 0.0 in labels with no predicted samples. Use `zero_division` parameter to control this behavior.\n",
            "  _warn_prf(average, modifier, msg_start, len(result))\n"
          ]
        },
        {
          "output_type": "stream",
          "name": "stdout",
          "text": [
            "Epoch 3\n",
            "Step 10, loss: 0.8242246925830841\n",
            "Step 20, loss: 0.8176587700843811\n",
            "Step 30, loss: 0.8431166291236878\n",
            "Validation loss: 0.7863915657240247\n",
            "\n",
            "              precision    recall  f1-score   support\n",
            "\n",
            "           0       0.69      0.68      0.69       918\n",
            "           1       0.62      0.79      0.69       855\n",
            "           2       0.00      0.00      0.00       227\n",
            "\n",
            "    accuracy                           0.65      2000\n",
            "   macro avg       0.44      0.49      0.46      2000\n",
            "weighted avg       0.58      0.65      0.61      2000\n",
            "\n",
            "Loss improved, saving 3\n"
          ]
        },
        {
          "output_type": "stream",
          "name": "stderr",
          "text": [
            "/usr/local/lib/python3.7/dist-packages/sklearn/metrics/_classification.py:1318: UndefinedMetricWarning: Precision and F-score are ill-defined and being set to 0.0 in labels with no predicted samples. Use `zero_division` parameter to control this behavior.\n",
            "  _warn_prf(average, modifier, msg_start, len(result))\n",
            "/usr/local/lib/python3.7/dist-packages/sklearn/metrics/_classification.py:1318: UndefinedMetricWarning: Precision and F-score are ill-defined and being set to 0.0 in labels with no predicted samples. Use `zero_division` parameter to control this behavior.\n",
            "  _warn_prf(average, modifier, msg_start, len(result))\n",
            "/usr/local/lib/python3.7/dist-packages/sklearn/metrics/_classification.py:1318: UndefinedMetricWarning: Precision and F-score are ill-defined and being set to 0.0 in labels with no predicted samples. Use `zero_division` parameter to control this behavior.\n",
            "  _warn_prf(average, modifier, msg_start, len(result))\n"
          ]
        },
        {
          "output_type": "stream",
          "name": "stdout",
          "text": [
            "Epoch 4\n",
            "Step 10, loss: 0.796319967508316\n",
            "Step 20, loss: 0.8187029242515564\n",
            "Step 30, loss: 0.7863480687141419\n",
            "Validation loss: 0.7672623045860775\n",
            "\n",
            "              precision    recall  f1-score   support\n",
            "\n",
            "           0       0.71      0.70      0.70       918\n",
            "           1       0.63      0.80      0.71       855\n",
            "           2       0.00      0.00      0.00       227\n",
            "\n",
            "    accuracy                           0.66      2000\n",
            "   macro avg       0.45      0.50      0.47      2000\n",
            "weighted avg       0.59      0.66      0.62      2000\n",
            "\n",
            "Loss improved, saving 4\n"
          ]
        },
        {
          "output_type": "stream",
          "name": "stderr",
          "text": [
            "/usr/local/lib/python3.7/dist-packages/sklearn/metrics/_classification.py:1318: UndefinedMetricWarning: Precision and F-score are ill-defined and being set to 0.0 in labels with no predicted samples. Use `zero_division` parameter to control this behavior.\n",
            "  _warn_prf(average, modifier, msg_start, len(result))\n",
            "/usr/local/lib/python3.7/dist-packages/sklearn/metrics/_classification.py:1318: UndefinedMetricWarning: Precision and F-score are ill-defined and being set to 0.0 in labels with no predicted samples. Use `zero_division` parameter to control this behavior.\n",
            "  _warn_prf(average, modifier, msg_start, len(result))\n",
            "/usr/local/lib/python3.7/dist-packages/sklearn/metrics/_classification.py:1318: UndefinedMetricWarning: Precision and F-score are ill-defined and being set to 0.0 in labels with no predicted samples. Use `zero_division` parameter to control this behavior.\n",
            "  _warn_prf(average, modifier, msg_start, len(result))\n"
          ]
        },
        {
          "output_type": "stream",
          "name": "stdout",
          "text": [
            "Epoch 5\n",
            "Step 10, loss: 0.774991226196289\n",
            "Step 20, loss: 0.7698043584823608\n",
            "Step 30, loss: 0.780712115764618\n",
            "Validation loss: 0.7550155350140163\n",
            "\n",
            "              precision    recall  f1-score   support\n",
            "\n",
            "           0       0.65      0.78      0.71       918\n",
            "           1       0.68      0.71      0.69       855\n",
            "           2       0.00      0.00      0.00       227\n",
            "\n",
            "    accuracy                           0.66      2000\n",
            "   macro avg       0.44      0.50      0.47      2000\n",
            "weighted avg       0.59      0.66      0.62      2000\n",
            "\n",
            "Loss improved, saving 5\n"
          ]
        },
        {
          "output_type": "stream",
          "name": "stderr",
          "text": [
            "/usr/local/lib/python3.7/dist-packages/sklearn/metrics/_classification.py:1318: UndefinedMetricWarning: Precision and F-score are ill-defined and being set to 0.0 in labels with no predicted samples. Use `zero_division` parameter to control this behavior.\n",
            "  _warn_prf(average, modifier, msg_start, len(result))\n",
            "/usr/local/lib/python3.7/dist-packages/sklearn/metrics/_classification.py:1318: UndefinedMetricWarning: Precision and F-score are ill-defined and being set to 0.0 in labels with no predicted samples. Use `zero_division` parameter to control this behavior.\n",
            "  _warn_prf(average, modifier, msg_start, len(result))\n",
            "/usr/local/lib/python3.7/dist-packages/sklearn/metrics/_classification.py:1318: UndefinedMetricWarning: Precision and F-score are ill-defined and being set to 0.0 in labels with no predicted samples. Use `zero_division` parameter to control this behavior.\n",
            "  _warn_prf(average, modifier, msg_start, len(result))\n"
          ]
        },
        {
          "output_type": "stream",
          "name": "stdout",
          "text": [
            "Epoch 6\n",
            "Step 10, loss: 0.7512492775917053\n",
            "Step 20, loss: 0.7860443115234375\n",
            "Step 30, loss: 0.7733311235904694\n",
            "Validation loss: 0.7369803038854448\n",
            "\n",
            "              precision    recall  f1-score   support\n",
            "\n",
            "           0       0.68      0.76      0.72       918\n",
            "           1       0.65      0.75      0.70       855\n",
            "           2       0.00      0.00      0.00       227\n",
            "\n",
            "    accuracy                           0.67      2000\n",
            "   macro avg       0.44      0.50      0.47      2000\n",
            "weighted avg       0.59      0.67      0.63      2000\n",
            "\n",
            "Loss improved, saving 6\n"
          ]
        },
        {
          "output_type": "stream",
          "name": "stderr",
          "text": [
            "/usr/local/lib/python3.7/dist-packages/sklearn/metrics/_classification.py:1318: UndefinedMetricWarning: Precision and F-score are ill-defined and being set to 0.0 in labels with no predicted samples. Use `zero_division` parameter to control this behavior.\n",
            "  _warn_prf(average, modifier, msg_start, len(result))\n",
            "/usr/local/lib/python3.7/dist-packages/sklearn/metrics/_classification.py:1318: UndefinedMetricWarning: Precision and F-score are ill-defined and being set to 0.0 in labels with no predicted samples. Use `zero_division` parameter to control this behavior.\n",
            "  _warn_prf(average, modifier, msg_start, len(result))\n",
            "/usr/local/lib/python3.7/dist-packages/sklearn/metrics/_classification.py:1318: UndefinedMetricWarning: Precision and F-score are ill-defined and being set to 0.0 in labels with no predicted samples. Use `zero_division` parameter to control this behavior.\n",
            "  _warn_prf(average, modifier, msg_start, len(result))\n"
          ]
        },
        {
          "output_type": "stream",
          "name": "stdout",
          "text": [
            "Epoch 7\n",
            "Step 10, loss: 0.7697042047977447\n",
            "Step 20, loss: 0.7318897128105164\n",
            "Step 30, loss: 0.7416886866092682\n",
            "Validation loss: 0.7394653454659477\n",
            "\n",
            "              precision    recall  f1-score   support\n",
            "\n",
            "           0       0.74      0.69      0.71       918\n",
            "           1       0.62      0.83      0.71       855\n",
            "           2       0.00      0.00      0.00       227\n",
            "\n",
            "    accuracy                           0.67      2000\n",
            "   macro avg       0.45      0.51      0.47      2000\n",
            "weighted avg       0.60      0.67      0.63      2000\n",
            "\n",
            "Epoch 8\n"
          ]
        },
        {
          "output_type": "stream",
          "name": "stderr",
          "text": [
            "/usr/local/lib/python3.7/dist-packages/sklearn/metrics/_classification.py:1318: UndefinedMetricWarning: Precision and F-score are ill-defined and being set to 0.0 in labels with no predicted samples. Use `zero_division` parameter to control this behavior.\n",
            "  _warn_prf(average, modifier, msg_start, len(result))\n",
            "/usr/local/lib/python3.7/dist-packages/sklearn/metrics/_classification.py:1318: UndefinedMetricWarning: Precision and F-score are ill-defined and being set to 0.0 in labels with no predicted samples. Use `zero_division` parameter to control this behavior.\n",
            "  _warn_prf(average, modifier, msg_start, len(result))\n",
            "/usr/local/lib/python3.7/dist-packages/sklearn/metrics/_classification.py:1318: UndefinedMetricWarning: Precision and F-score are ill-defined and being set to 0.0 in labels with no predicted samples. Use `zero_division` parameter to control this behavior.\n",
            "  _warn_prf(average, modifier, msg_start, len(result))\n"
          ]
        },
        {
          "output_type": "stream",
          "name": "stdout",
          "text": [
            "Step 10, loss: 0.7688052356243134\n",
            "Step 20, loss: 0.6950946569442749\n",
            "Step 30, loss: 0.762873113155365\n",
            "Validation loss: 0.7383951242007907\n",
            "\n",
            "              precision    recall  f1-score   support\n",
            "\n",
            "           0       0.72      0.70      0.71       918\n",
            "           1       0.63      0.82      0.71       855\n",
            "           2       0.00      0.00      0.00       227\n",
            "\n",
            "    accuracy                           0.67      2000\n",
            "   macro avg       0.45      0.51      0.47      2000\n",
            "weighted avg       0.60      0.67      0.63      2000\n",
            "\n",
            "Epoch 9\n"
          ]
        },
        {
          "output_type": "stream",
          "name": "stderr",
          "text": [
            "/usr/local/lib/python3.7/dist-packages/sklearn/metrics/_classification.py:1318: UndefinedMetricWarning: Precision and F-score are ill-defined and being set to 0.0 in labels with no predicted samples. Use `zero_division` parameter to control this behavior.\n",
            "  _warn_prf(average, modifier, msg_start, len(result))\n",
            "/usr/local/lib/python3.7/dist-packages/sklearn/metrics/_classification.py:1318: UndefinedMetricWarning: Precision and F-score are ill-defined and being set to 0.0 in labels with no predicted samples. Use `zero_division` parameter to control this behavior.\n",
            "  _warn_prf(average, modifier, msg_start, len(result))\n",
            "/usr/local/lib/python3.7/dist-packages/sklearn/metrics/_classification.py:1318: UndefinedMetricWarning: Precision and F-score are ill-defined and being set to 0.0 in labels with no predicted samples. Use `zero_division` parameter to control this behavior.\n",
            "  _warn_prf(average, modifier, msg_start, len(result))\n"
          ]
        },
        {
          "output_type": "stream",
          "name": "stdout",
          "text": [
            "Step 10, loss: 0.7166568756103515\n",
            "Step 20, loss: 0.7207327067852021\n",
            "Step 30, loss: 0.7034133732318878\n",
            "Validation loss: 0.7308664998364827\n",
            "\n",
            "              precision    recall  f1-score   support\n",
            "\n",
            "           0       0.74      0.66      0.70       918\n",
            "           1       0.61      0.84      0.71       855\n",
            "           2       0.33      0.00      0.01       227\n",
            "\n",
            "    accuracy                           0.66      2000\n",
            "   macro avg       0.56      0.50      0.47      2000\n",
            "weighted avg       0.64      0.66      0.62      2000\n",
            "\n",
            "Loss improved, saving 9\n",
            "Epoch 10\n",
            "Step 10, loss: 0.703052020072937\n",
            "Step 20, loss: 0.711202883720398\n",
            "Step 30, loss: 0.7188992977142334\n",
            "Validation loss: 0.7344149095671517\n",
            "\n",
            "              precision    recall  f1-score   support\n",
            "\n",
            "           0       0.75      0.68      0.71       918\n",
            "           1       0.62      0.85      0.72       855\n",
            "           2       0.33      0.00      0.01       227\n",
            "\n",
            "    accuracy                           0.68      2000\n",
            "   macro avg       0.57      0.51      0.48      2000\n",
            "weighted avg       0.65      0.68      0.64      2000\n",
            "\n"
          ]
        }
      ]
    },
    {
      "cell_type": "markdown",
      "source": [
        "## Test"
      ],
      "metadata": {
        "id": "vF2M0TOBEAft"
      }
    },
    {
      "cell_type": "code",
      "source": [
        "loss, res = evaluate(resolver, optimizer, valid_dl, True)\n",
        "res_s = np.exp(res)  # don't forget that we have log-softmax outputs:\n",
        "test_res = pd.DataFrame(res_s, index=val_df[\"ID\"], columns=[\"A-prob\", \"B-prob\", \"NEITHER-prob\"])"
      ],
      "metadata": {
        "colab": {
          "base_uri": "https://localhost:8080/"
        },
        "id": "mRogdQwMvy6p",
        "outputId": "829d75d8-8515-4e72-9fea-8fc4af61b9c4"
      },
      "execution_count": 76,
      "outputs": [
        {
          "output_type": "stream",
          "name": "stdout",
          "text": [
            "Validation loss: 0.8058300137519836\n",
            "\n",
            "              precision    recall  f1-score   support\n",
            "\n",
            "           0       0.70      0.60      0.65       187\n",
            "           1       0.57      0.82      0.68       205\n",
            "           2       0.00      0.00      0.00        62\n",
            "\n",
            "    accuracy                           0.62       454\n",
            "   macro avg       0.42      0.47      0.44       454\n",
            "weighted avg       0.55      0.62      0.57       454\n",
            "\n"
          ]
        },
        {
          "output_type": "stream",
          "name": "stderr",
          "text": [
            "/usr/local/lib/python3.7/dist-packages/sklearn/metrics/_classification.py:1318: UndefinedMetricWarning: Precision and F-score are ill-defined and being set to 0.0 in labels with no predicted samples. Use `zero_division` parameter to control this behavior.\n",
            "  _warn_prf(average, modifier, msg_start, len(result))\n",
            "/usr/local/lib/python3.7/dist-packages/sklearn/metrics/_classification.py:1318: UndefinedMetricWarning: Precision and F-score are ill-defined and being set to 0.0 in labels with no predicted samples. Use `zero_division` parameter to control this behavior.\n",
            "  _warn_prf(average, modifier, msg_start, len(result))\n",
            "/usr/local/lib/python3.7/dist-packages/sklearn/metrics/_classification.py:1318: UndefinedMetricWarning: Precision and F-score are ill-defined and being set to 0.0 in labels with no predicted samples. Use `zero_division` parameter to control this behavior.\n",
            "  _warn_prf(average, modifier, msg_start, len(result))\n"
          ]
        }
      ]
    },
    {
      "cell_type": "code",
      "source": [
        "val_df.merge(test_res, on = 'ID').loc[:,['ID','Text','Pronoun','A','B','A-coref','B-coref','A-prob','B-prob','NEITHER-prob']].head(10)"
      ],
      "metadata": {
        "colab": {
          "base_uri": "https://localhost:8080/",
          "height": 772
        },
        "id": "N00lSE04ZSuh",
        "outputId": "d0a6d2c0-f418-478f-e172-e3c1de082ede"
      },
      "execution_count": 77,
      "outputs": [
        {
          "output_type": "execute_result",
          "data": {
            "text/html": [
              "\n",
              "  <div id=\"df-570b650f-a6bf-42e5-82d6-feba659a47b6\">\n",
              "    <div class=\"colab-df-container\">\n",
              "      <div>\n",
              "<style scoped>\n",
              "    .dataframe tbody tr th:only-of-type {\n",
              "        vertical-align: middle;\n",
              "    }\n",
              "\n",
              "    .dataframe tbody tr th {\n",
              "        vertical-align: top;\n",
              "    }\n",
              "\n",
              "    .dataframe thead th {\n",
              "        text-align: right;\n",
              "    }\n",
              "</style>\n",
              "<table border=\"1\" class=\"dataframe\">\n",
              "  <thead>\n",
              "    <tr style=\"text-align: right;\">\n",
              "      <th></th>\n",
              "      <th>ID</th>\n",
              "      <th>Text</th>\n",
              "      <th>Pronoun</th>\n",
              "      <th>A</th>\n",
              "      <th>B</th>\n",
              "      <th>A-coref</th>\n",
              "      <th>B-coref</th>\n",
              "      <th>A-prob</th>\n",
              "      <th>B-prob</th>\n",
              "      <th>NEITHER-prob</th>\n",
              "    </tr>\n",
              "  </thead>\n",
              "  <tbody>\n",
              "    <tr>\n",
              "      <th>0</th>\n",
              "      <td>validation-1</td>\n",
              "      <td>He admitted making four trips to China and playing golf there. He also admitted that ZTE officials, whom he says are his golf buddies, hosted and paid for the trips. Jose de Venecia III, son of House Speaker Jose de Venecia Jr, alleged that Abalos offered him US$10 million to withdraw his proposal on the NBN project.</td>\n",
              "      <td>him</td>\n",
              "      <td>Jose de Venecia Jr</td>\n",
              "      <td>Abalos</td>\n",
              "      <td>False</td>\n",
              "      <td>False</td>\n",
              "      <td>0.149981</td>\n",
              "      <td>0.785762</td>\n",
              "      <td>0.064257</td>\n",
              "    </tr>\n",
              "    <tr>\n",
              "      <th>1</th>\n",
              "      <td>validation-2</td>\n",
              "      <td>Kathleen Nott was born in Camberwell, London. Her father, Philip, was a lithographic printer, and her mother, Ellen, ran a boarding house in Brixton; Kathleen was their third daughter. She was educated at Mary Datchelor Girls' School (now closed), London, before attending King's College, London.</td>\n",
              "      <td>She</td>\n",
              "      <td>Ellen</td>\n",
              "      <td>Kathleen</td>\n",
              "      <td>False</td>\n",
              "      <td>True</td>\n",
              "      <td>0.396671</td>\n",
              "      <td>0.525052</td>\n",
              "      <td>0.078277</td>\n",
              "    </tr>\n",
              "    <tr>\n",
              "      <th>2</th>\n",
              "      <td>validation-3</td>\n",
              "      <td>When she returns to her hotel room, a Liberian man (Tony Todd) forces her to smuggle $20 million worth of conflict diamonds to New York, or else fellow fight attendant and friend Angela will die. She is caught before she can board the flight, and the team now have nine hours until the plane lands, and save Angela. After the confiscated diamonds are stolen by the brother of Kaleo (Jason Scott Lee), whom Danny put away for murdering his partner last year, Five-0 and Chief Fryer team up and enlist the help of August March (Ed Asner), who served a 30-year sentence for smuggling diamonds.</td>\n",
              "      <td>his</td>\n",
              "      <td>Jason Scott Lee</td>\n",
              "      <td>Danny</td>\n",
              "      <td>False</td>\n",
              "      <td>True</td>\n",
              "      <td>0.097446</td>\n",
              "      <td>0.876197</td>\n",
              "      <td>0.026356</td>\n",
              "    </tr>\n",
              "    <tr>\n",
              "      <th>3</th>\n",
              "      <td>validation-4</td>\n",
              "      <td>On 19 March 2007, during a campaign appearance for the New South Wales State Election, the then opposition leader Peter Debnam was confronted by Reucassel wearing nothing but Speedos and a baseball cap, making fun of Debnam's campaign appearances in the swimwear. When TV cameras remained focused on Reucassel rather than Mr Debnam, he said, ``Sorry, I'm not Peter Debnam, he's over there.</td>\n",
              "      <td>he</td>\n",
              "      <td>Reucassel</td>\n",
              "      <td>Debnam</td>\n",
              "      <td>True</td>\n",
              "      <td>False</td>\n",
              "      <td>0.450960</td>\n",
              "      <td>0.491769</td>\n",
              "      <td>0.057271</td>\n",
              "    </tr>\n",
              "    <tr>\n",
              "      <th>4</th>\n",
              "      <td>validation-5</td>\n",
              "      <td>By this time, Karen Blixen had separated from her husband, and after their divorce in 1925, Finch Hatton moved into her house and began leading safaris for wealthy sportsmen. Among his clients were Marshall Field Jr and Edward, Prince of Wales. According to the author Mary Lovell, in 1930 Finch Hatton began a love affair with Beryl Markham, who was working as a race-horse trainer in Nairobi and the surrounding area. Later, she would become known as a pioneer flyer herself (Markham attributed her interest in flying to her association with Tom Campbell Black).</td>\n",
              "      <td>she</td>\n",
              "      <td>Finch Hatton</td>\n",
              "      <td>Beryl Markham</td>\n",
              "      <td>False</td>\n",
              "      <td>True</td>\n",
              "      <td>0.633056</td>\n",
              "      <td>0.235179</td>\n",
              "      <td>0.131765</td>\n",
              "    </tr>\n",
              "    <tr>\n",
              "      <th>5</th>\n",
              "      <td>validation-6</td>\n",
              "      <td>No amount of logic can shatter a faith consciously based on a lie.'' According to The Skeptic's Dictionary, an example of this syndrome is evidenced by an event in 1988 when stage magician James Randi, at the request of an Australian news program, coached stage performer Jos* Alvarez to pretend he was channelling a two-thousand-year-old spirit named ``Carlos''.</td>\n",
              "      <td>he</td>\n",
              "      <td>James Randi</td>\n",
              "      <td>Jos* Alvarez</td>\n",
              "      <td>False</td>\n",
              "      <td>True</td>\n",
              "      <td>0.223729</td>\n",
              "      <td>0.566136</td>\n",
              "      <td>0.210134</td>\n",
              "    </tr>\n",
              "    <tr>\n",
              "      <th>6</th>\n",
              "      <td>validation-7</td>\n",
              "      <td>Lieutenant General Weber Pasha wanted Faik Pasha to command the ``Right Wing''. But Liman von Sanders disliked him and he had a quarrel with Faik Pasha for about a tactics. Weber Pasha insisted on his decision. At last unwillingly von Sanders appointed Faik Pasha to the command of Right Wing. He fought the Battle of Gully Ravine (28 June -- 3 July 1915) that was a very bloody battle that caused Ottoman Army many casualties.</td>\n",
              "      <td>He</td>\n",
              "      <td>von Sanders</td>\n",
              "      <td>Faik Pasha</td>\n",
              "      <td>False</td>\n",
              "      <td>True</td>\n",
              "      <td>0.555791</td>\n",
              "      <td>0.273344</td>\n",
              "      <td>0.170865</td>\n",
              "    </tr>\n",
              "    <tr>\n",
              "      <th>7</th>\n",
              "      <td>validation-8</td>\n",
              "      <td>He went on to enter mainstream journalism as a reporter and feature writer with the Belfast Sunday News, during the height of the Troubles in Northern Ireland. He was later promoted to Chief Sub- Editor of that newspaper, where he also wrote a weekly column. In 1977 Colin entered into correspondence with a singer and guitar player called Jake Burns, who was trying to promote his band Stiff Little Fingers.</td>\n",
              "      <td>his</td>\n",
              "      <td>Colin</td>\n",
              "      <td>Jake Burns</td>\n",
              "      <td>False</td>\n",
              "      <td>True</td>\n",
              "      <td>0.629840</td>\n",
              "      <td>0.333754</td>\n",
              "      <td>0.036406</td>\n",
              "    </tr>\n",
              "    <tr>\n",
              "      <th>8</th>\n",
              "      <td>validation-9</td>\n",
              "      <td>In 1940 Lester Cowan, an independent film producer, bought F. Scott Fitzgerald's short story, ``Babylon Revisited and Other Stories'' for $80, which was a bargain. Fitzgerald thought his screenwriting days were over and with some hesitation accepted Cowan's offer to write the screenplay titled ``Cosmopolitan'' based on the short story. After finishing the screenplay, Scott was told by Cowan that he would not do the film unless Shirley Temple starred in the lead of the youngster Honoria.</td>\n",
              "      <td>he</td>\n",
              "      <td>Scott</td>\n",
              "      <td>Cowan</td>\n",
              "      <td>False</td>\n",
              "      <td>True</td>\n",
              "      <td>0.335619</td>\n",
              "      <td>0.614808</td>\n",
              "      <td>0.049572</td>\n",
              "    </tr>\n",
              "    <tr>\n",
              "      <th>9</th>\n",
              "      <td>validation-10</td>\n",
              "      <td>They have a stormy marriage, caused by his hot temper and her habit of playing away. Soon after arriving on the Street, Liz makes friends with Deirdre Barlow (Anne Kirkbride), whose daughter Tracy (Dawn Acton) is slightly younger than the twins. When asked in a 2010 interview with The Mirror what her favourite scenes were, Beverley Callard replied, ``when Jim beat up Liz.</td>\n",
              "      <td>her</td>\n",
              "      <td>Beverley Callard</td>\n",
              "      <td>Liz</td>\n",
              "      <td>True</td>\n",
              "      <td>False</td>\n",
              "      <td>0.488501</td>\n",
              "      <td>0.461857</td>\n",
              "      <td>0.049642</td>\n",
              "    </tr>\n",
              "  </tbody>\n",
              "</table>\n",
              "</div>\n",
              "      <button class=\"colab-df-convert\" onclick=\"convertToInteractive('df-570b650f-a6bf-42e5-82d6-feba659a47b6')\"\n",
              "              title=\"Convert this dataframe to an interactive table.\"\n",
              "              style=\"display:none;\">\n",
              "        \n",
              "  <svg xmlns=\"http://www.w3.org/2000/svg\" height=\"24px\"viewBox=\"0 0 24 24\"\n",
              "       width=\"24px\">\n",
              "    <path d=\"M0 0h24v24H0V0z\" fill=\"none\"/>\n",
              "    <path d=\"M18.56 5.44l.94 2.06.94-2.06 2.06-.94-2.06-.94-.94-2.06-.94 2.06-2.06.94zm-11 1L8.5 8.5l.94-2.06 2.06-.94-2.06-.94L8.5 2.5l-.94 2.06-2.06.94zm10 10l.94 2.06.94-2.06 2.06-.94-2.06-.94-.94-2.06-.94 2.06-2.06.94z\"/><path d=\"M17.41 7.96l-1.37-1.37c-.4-.4-.92-.59-1.43-.59-.52 0-1.04.2-1.43.59L10.3 9.45l-7.72 7.72c-.78.78-.78 2.05 0 2.83L4 21.41c.39.39.9.59 1.41.59.51 0 1.02-.2 1.41-.59l7.78-7.78 2.81-2.81c.8-.78.8-2.07 0-2.86zM5.41 20L4 18.59l7.72-7.72 1.47 1.35L5.41 20z\"/>\n",
              "  </svg>\n",
              "      </button>\n",
              "      \n",
              "  <style>\n",
              "    .colab-df-container {\n",
              "      display:flex;\n",
              "      flex-wrap:wrap;\n",
              "      gap: 12px;\n",
              "    }\n",
              "\n",
              "    .colab-df-convert {\n",
              "      background-color: #E8F0FE;\n",
              "      border: none;\n",
              "      border-radius: 50%;\n",
              "      cursor: pointer;\n",
              "      display: none;\n",
              "      fill: #1967D2;\n",
              "      height: 32px;\n",
              "      padding: 0 0 0 0;\n",
              "      width: 32px;\n",
              "    }\n",
              "\n",
              "    .colab-df-convert:hover {\n",
              "      background-color: #E2EBFA;\n",
              "      box-shadow: 0px 1px 2px rgba(60, 64, 67, 0.3), 0px 1px 3px 1px rgba(60, 64, 67, 0.15);\n",
              "      fill: #174EA6;\n",
              "    }\n",
              "\n",
              "    [theme=dark] .colab-df-convert {\n",
              "      background-color: #3B4455;\n",
              "      fill: #D2E3FC;\n",
              "    }\n",
              "\n",
              "    [theme=dark] .colab-df-convert:hover {\n",
              "      background-color: #434B5C;\n",
              "      box-shadow: 0px 1px 3px 1px rgba(0, 0, 0, 0.15);\n",
              "      filter: drop-shadow(0px 1px 2px rgba(0, 0, 0, 0.3));\n",
              "      fill: #FFFFFF;\n",
              "    }\n",
              "  </style>\n",
              "\n",
              "      <script>\n",
              "        const buttonEl =\n",
              "          document.querySelector('#df-570b650f-a6bf-42e5-82d6-feba659a47b6 button.colab-df-convert');\n",
              "        buttonEl.style.display =\n",
              "          google.colab.kernel.accessAllowed ? 'block' : 'none';\n",
              "\n",
              "        async function convertToInteractive(key) {\n",
              "          const element = document.querySelector('#df-570b650f-a6bf-42e5-82d6-feba659a47b6');\n",
              "          const dataTable =\n",
              "            await google.colab.kernel.invokeFunction('convertToInteractive',\n",
              "                                                     [key], {});\n",
              "          if (!dataTable) return;\n",
              "\n",
              "          const docLinkHtml = 'Like what you see? Visit the ' +\n",
              "            '<a target=\"_blank\" href=https://colab.research.google.com/notebooks/data_table.ipynb>data table notebook</a>'\n",
              "            + ' to learn more about interactive tables.';\n",
              "          element.innerHTML = '';\n",
              "          dataTable['output_type'] = 'display_data';\n",
              "          await google.colab.output.renderOutput(dataTable, element);\n",
              "          const docLink = document.createElement('div');\n",
              "          docLink.innerHTML = docLinkHtml;\n",
              "          element.appendChild(docLink);\n",
              "        }\n",
              "      </script>\n",
              "    </div>\n",
              "  </div>\n",
              "  "
            ],
            "text/plain": [
              "              ID  ... NEITHER-prob\n",
              "0   validation-1  ...     0.064257\n",
              "1   validation-2  ...     0.078277\n",
              "2   validation-3  ...     0.026356\n",
              "3   validation-4  ...     0.057271\n",
              "4   validation-5  ...     0.131765\n",
              "5   validation-6  ...     0.210134\n",
              "6   validation-7  ...     0.170865\n",
              "7   validation-8  ...     0.036406\n",
              "8   validation-9  ...     0.049572\n",
              "9  validation-10  ...     0.049642\n",
              "\n",
              "[10 rows x 10 columns]"
            ]
          },
          "metadata": {},
          "execution_count": 77
        }
      ]
    }
  ]
}