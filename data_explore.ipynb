{
  "nbformat": 4,
  "nbformat_minor": 0,
  "metadata": {
    "colab": {
      "name": "data_explore.ipynb",
      "provenance": [],
      "toc_visible": true,
      "authorship_tag": "ABX9TyMfMpxk+4WLFplYLXA7T2Cp",
      "include_colab_link": true
    },
    "kernelspec": {
      "name": "python3",
      "display_name": "Python 3"
    },
    "language_info": {
      "name": "python"
    },
    "accelerator": "GPU",
    "widgets": {
      "application/vnd.jupyter.widget-state+json": {
        "08050878163a4519a283c6c63edaf1ac": {
          "model_module": "@jupyter-widgets/controls",
          "model_name": "HBoxModel",
          "model_module_version": "1.5.0",
          "state": {
            "_view_name": "HBoxView",
            "_dom_classes": [],
            "_model_name": "HBoxModel",
            "_view_module": "@jupyter-widgets/controls",
            "_model_module_version": "1.5.0",
            "_view_count": null,
            "_view_module_version": "1.5.0",
            "box_style": "",
            "layout": "IPY_MODEL_4092084e548a420fa5624009da8ae126",
            "_model_module": "@jupyter-widgets/controls",
            "children": [
              "IPY_MODEL_f277a4a9eae84b128c97aad82a083f80",
              "IPY_MODEL_d0c03bf896f945b7930fe5aac445a2b2",
              "IPY_MODEL_c04248cd7e3444b68ee4c4bfdbf40b8d"
            ]
          }
        },
        "4092084e548a420fa5624009da8ae126": {
          "model_module": "@jupyter-widgets/base",
          "model_name": "LayoutModel",
          "model_module_version": "1.2.0",
          "state": {
            "_view_name": "LayoutView",
            "grid_template_rows": null,
            "right": null,
            "justify_content": null,
            "_view_module": "@jupyter-widgets/base",
            "overflow": null,
            "_model_module_version": "1.2.0",
            "_view_count": null,
            "flex_flow": null,
            "width": null,
            "min_width": null,
            "border": null,
            "align_items": null,
            "bottom": null,
            "_model_module": "@jupyter-widgets/base",
            "top": null,
            "grid_column": null,
            "overflow_y": null,
            "overflow_x": null,
            "grid_auto_flow": null,
            "grid_area": null,
            "grid_template_columns": null,
            "flex": null,
            "_model_name": "LayoutModel",
            "justify_items": null,
            "grid_row": null,
            "max_height": null,
            "align_content": null,
            "visibility": null,
            "align_self": null,
            "height": null,
            "min_height": null,
            "padding": null,
            "grid_auto_rows": null,
            "grid_gap": null,
            "max_width": null,
            "order": null,
            "_view_module_version": "1.2.0",
            "grid_template_areas": null,
            "object_position": null,
            "object_fit": null,
            "grid_auto_columns": null,
            "margin": null,
            "display": null,
            "left": null
          }
        },
        "f277a4a9eae84b128c97aad82a083f80": {
          "model_module": "@jupyter-widgets/controls",
          "model_name": "HTMLModel",
          "model_module_version": "1.5.0",
          "state": {
            "_view_name": "HTMLView",
            "style": "IPY_MODEL_937e5bfad98a4d2ebaad883f643a2783",
            "_dom_classes": [],
            "description": "",
            "_model_name": "HTMLModel",
            "placeholder": "​",
            "_view_module": "@jupyter-widgets/controls",
            "_model_module_version": "1.5.0",
            "value": "",
            "_view_count": null,
            "_view_module_version": "1.5.0",
            "description_tooltip": null,
            "_model_module": "@jupyter-widgets/controls",
            "layout": "IPY_MODEL_dd2d47966dd8466e908c266177409f2d"
          }
        },
        "d0c03bf896f945b7930fe5aac445a2b2": {
          "model_module": "@jupyter-widgets/controls",
          "model_name": "FloatProgressModel",
          "model_module_version": "1.5.0",
          "state": {
            "_view_name": "ProgressView",
            "style": "IPY_MODEL_dfbd6799a7cb4f71bdc549d7df19c303",
            "_dom_classes": [],
            "description": "",
            "_model_name": "FloatProgressModel",
            "bar_style": "success",
            "max": 1,
            "_view_module": "@jupyter-widgets/controls",
            "_model_module_version": "1.5.0",
            "value": 1,
            "_view_count": null,
            "_view_module_version": "1.5.0",
            "orientation": "horizontal",
            "min": 0,
            "description_tooltip": null,
            "_model_module": "@jupyter-widgets/controls",
            "layout": "IPY_MODEL_aba4f802dfb842acb83cb13ba92eb56d"
          }
        },
        "c04248cd7e3444b68ee4c4bfdbf40b8d": {
          "model_module": "@jupyter-widgets/controls",
          "model_name": "HTMLModel",
          "model_module_version": "1.5.0",
          "state": {
            "_view_name": "HTMLView",
            "style": "IPY_MODEL_1e196cad3619471998536bf3cf93a12b",
            "_dom_classes": [],
            "description": "",
            "_model_name": "HTMLModel",
            "placeholder": "​",
            "_view_module": "@jupyter-widgets/controls",
            "_model_module_version": "1.5.0",
            "value": " 2000/? [00:09&lt;00:00, 206.67it/s]",
            "_view_count": null,
            "_view_module_version": "1.5.0",
            "description_tooltip": null,
            "_model_module": "@jupyter-widgets/controls",
            "layout": "IPY_MODEL_72565d41b11d40e1af00ed92b16572bf"
          }
        },
        "937e5bfad98a4d2ebaad883f643a2783": {
          "model_module": "@jupyter-widgets/controls",
          "model_name": "DescriptionStyleModel",
          "model_module_version": "1.5.0",
          "state": {
            "_view_name": "StyleView",
            "_model_name": "DescriptionStyleModel",
            "description_width": "",
            "_view_module": "@jupyter-widgets/base",
            "_model_module_version": "1.5.0",
            "_view_count": null,
            "_view_module_version": "1.2.0",
            "_model_module": "@jupyter-widgets/controls"
          }
        },
        "dd2d47966dd8466e908c266177409f2d": {
          "model_module": "@jupyter-widgets/base",
          "model_name": "LayoutModel",
          "model_module_version": "1.2.0",
          "state": {
            "_view_name": "LayoutView",
            "grid_template_rows": null,
            "right": null,
            "justify_content": null,
            "_view_module": "@jupyter-widgets/base",
            "overflow": null,
            "_model_module_version": "1.2.0",
            "_view_count": null,
            "flex_flow": null,
            "width": null,
            "min_width": null,
            "border": null,
            "align_items": null,
            "bottom": null,
            "_model_module": "@jupyter-widgets/base",
            "top": null,
            "grid_column": null,
            "overflow_y": null,
            "overflow_x": null,
            "grid_auto_flow": null,
            "grid_area": null,
            "grid_template_columns": null,
            "flex": null,
            "_model_name": "LayoutModel",
            "justify_items": null,
            "grid_row": null,
            "max_height": null,
            "align_content": null,
            "visibility": null,
            "align_self": null,
            "height": null,
            "min_height": null,
            "padding": null,
            "grid_auto_rows": null,
            "grid_gap": null,
            "max_width": null,
            "order": null,
            "_view_module_version": "1.2.0",
            "grid_template_areas": null,
            "object_position": null,
            "object_fit": null,
            "grid_auto_columns": null,
            "margin": null,
            "display": null,
            "left": null
          }
        },
        "dfbd6799a7cb4f71bdc549d7df19c303": {
          "model_module": "@jupyter-widgets/controls",
          "model_name": "ProgressStyleModel",
          "model_module_version": "1.5.0",
          "state": {
            "_view_name": "StyleView",
            "_model_name": "ProgressStyleModel",
            "description_width": "",
            "_view_module": "@jupyter-widgets/base",
            "_model_module_version": "1.5.0",
            "_view_count": null,
            "_view_module_version": "1.2.0",
            "bar_color": null,
            "_model_module": "@jupyter-widgets/controls"
          }
        },
        "aba4f802dfb842acb83cb13ba92eb56d": {
          "model_module": "@jupyter-widgets/base",
          "model_name": "LayoutModel",
          "model_module_version": "1.2.0",
          "state": {
            "_view_name": "LayoutView",
            "grid_template_rows": null,
            "right": null,
            "justify_content": null,
            "_view_module": "@jupyter-widgets/base",
            "overflow": null,
            "_model_module_version": "1.2.0",
            "_view_count": null,
            "flex_flow": null,
            "width": "20px",
            "min_width": null,
            "border": null,
            "align_items": null,
            "bottom": null,
            "_model_module": "@jupyter-widgets/base",
            "top": null,
            "grid_column": null,
            "overflow_y": null,
            "overflow_x": null,
            "grid_auto_flow": null,
            "grid_area": null,
            "grid_template_columns": null,
            "flex": null,
            "_model_name": "LayoutModel",
            "justify_items": null,
            "grid_row": null,
            "max_height": null,
            "align_content": null,
            "visibility": null,
            "align_self": null,
            "height": null,
            "min_height": null,
            "padding": null,
            "grid_auto_rows": null,
            "grid_gap": null,
            "max_width": null,
            "order": null,
            "_view_module_version": "1.2.0",
            "grid_template_areas": null,
            "object_position": null,
            "object_fit": null,
            "grid_auto_columns": null,
            "margin": null,
            "display": null,
            "left": null
          }
        },
        "1e196cad3619471998536bf3cf93a12b": {
          "model_module": "@jupyter-widgets/controls",
          "model_name": "DescriptionStyleModel",
          "model_module_version": "1.5.0",
          "state": {
            "_view_name": "StyleView",
            "_model_name": "DescriptionStyleModel",
            "description_width": "",
            "_view_module": "@jupyter-widgets/base",
            "_model_module_version": "1.5.0",
            "_view_count": null,
            "_view_module_version": "1.2.0",
            "_model_module": "@jupyter-widgets/controls"
          }
        },
        "72565d41b11d40e1af00ed92b16572bf": {
          "model_module": "@jupyter-widgets/base",
          "model_name": "LayoutModel",
          "model_module_version": "1.2.0",
          "state": {
            "_view_name": "LayoutView",
            "grid_template_rows": null,
            "right": null,
            "justify_content": null,
            "_view_module": "@jupyter-widgets/base",
            "overflow": null,
            "_model_module_version": "1.2.0",
            "_view_count": null,
            "flex_flow": null,
            "width": null,
            "min_width": null,
            "border": null,
            "align_items": null,
            "bottom": null,
            "_model_module": "@jupyter-widgets/base",
            "top": null,
            "grid_column": null,
            "overflow_y": null,
            "overflow_x": null,
            "grid_auto_flow": null,
            "grid_area": null,
            "grid_template_columns": null,
            "flex": null,
            "_model_name": "LayoutModel",
            "justify_items": null,
            "grid_row": null,
            "max_height": null,
            "align_content": null,
            "visibility": null,
            "align_self": null,
            "height": null,
            "min_height": null,
            "padding": null,
            "grid_auto_rows": null,
            "grid_gap": null,
            "max_width": null,
            "order": null,
            "_view_module_version": "1.2.0",
            "grid_template_areas": null,
            "object_position": null,
            "object_fit": null,
            "grid_auto_columns": null,
            "margin": null,
            "display": null,
            "left": null
          }
        },
        "0c9443aaf5a84a299069f0237a8af320": {
          "model_module": "@jupyter-widgets/controls",
          "model_name": "HBoxModel",
          "model_module_version": "1.5.0",
          "state": {
            "_view_name": "HBoxView",
            "_dom_classes": [],
            "_model_name": "HBoxModel",
            "_view_module": "@jupyter-widgets/controls",
            "_model_module_version": "1.5.0",
            "_view_count": null,
            "_view_module_version": "1.5.0",
            "box_style": "",
            "layout": "IPY_MODEL_0f4180a9478f45038bd14bbfd0dabffe",
            "_model_module": "@jupyter-widgets/controls",
            "children": [
              "IPY_MODEL_9c200444a6104e6aa2eccf94f862e2c4",
              "IPY_MODEL_92e32e28886440979de859b0a6c74eb1",
              "IPY_MODEL_778c53441ae3479d8dfbc7198bd94836"
            ]
          }
        },
        "0f4180a9478f45038bd14bbfd0dabffe": {
          "model_module": "@jupyter-widgets/base",
          "model_name": "LayoutModel",
          "model_module_version": "1.2.0",
          "state": {
            "_view_name": "LayoutView",
            "grid_template_rows": null,
            "right": null,
            "justify_content": null,
            "_view_module": "@jupyter-widgets/base",
            "overflow": null,
            "_model_module_version": "1.2.0",
            "_view_count": null,
            "flex_flow": null,
            "width": null,
            "min_width": null,
            "border": null,
            "align_items": null,
            "bottom": null,
            "_model_module": "@jupyter-widgets/base",
            "top": null,
            "grid_column": null,
            "overflow_y": null,
            "overflow_x": null,
            "grid_auto_flow": null,
            "grid_area": null,
            "grid_template_columns": null,
            "flex": null,
            "_model_name": "LayoutModel",
            "justify_items": null,
            "grid_row": null,
            "max_height": null,
            "align_content": null,
            "visibility": null,
            "align_self": null,
            "height": null,
            "min_height": null,
            "padding": null,
            "grid_auto_rows": null,
            "grid_gap": null,
            "max_width": null,
            "order": null,
            "_view_module_version": "1.2.0",
            "grid_template_areas": null,
            "object_position": null,
            "object_fit": null,
            "grid_auto_columns": null,
            "margin": null,
            "display": null,
            "left": null
          }
        },
        "9c200444a6104e6aa2eccf94f862e2c4": {
          "model_module": "@jupyter-widgets/controls",
          "model_name": "HTMLModel",
          "model_module_version": "1.5.0",
          "state": {
            "_view_name": "HTMLView",
            "style": "IPY_MODEL_63d9b0b82cfd4502a0565d4e570f28d7",
            "_dom_classes": [],
            "description": "",
            "_model_name": "HTMLModel",
            "placeholder": "​",
            "_view_module": "@jupyter-widgets/controls",
            "_model_module_version": "1.5.0",
            "value": "",
            "_view_count": null,
            "_view_module_version": "1.5.0",
            "description_tooltip": null,
            "_model_module": "@jupyter-widgets/controls",
            "layout": "IPY_MODEL_84f471952337466a9a4cba9ec42ba167"
          }
        },
        "92e32e28886440979de859b0a6c74eb1": {
          "model_module": "@jupyter-widgets/controls",
          "model_name": "FloatProgressModel",
          "model_module_version": "1.5.0",
          "state": {
            "_view_name": "ProgressView",
            "style": "IPY_MODEL_f88c620d0f20487ab457074bce766d5d",
            "_dom_classes": [],
            "description": "",
            "_model_name": "FloatProgressModel",
            "bar_style": "success",
            "max": 1,
            "_view_module": "@jupyter-widgets/controls",
            "_model_module_version": "1.5.0",
            "value": 1,
            "_view_count": null,
            "_view_module_version": "1.5.0",
            "orientation": "horizontal",
            "min": 0,
            "description_tooltip": null,
            "_model_module": "@jupyter-widgets/controls",
            "layout": "IPY_MODEL_51752c86e3e2407d9170f8d6b169225a"
          }
        },
        "778c53441ae3479d8dfbc7198bd94836": {
          "model_module": "@jupyter-widgets/controls",
          "model_name": "HTMLModel",
          "model_module_version": "1.5.0",
          "state": {
            "_view_name": "HTMLView",
            "style": "IPY_MODEL_2a6da401eab444bd8244248cb48a0e7b",
            "_dom_classes": [],
            "description": "",
            "_model_name": "HTMLModel",
            "placeholder": "​",
            "_view_module": "@jupyter-widgets/controls",
            "_model_module_version": "1.5.0",
            "value": " 454/? [00:02&lt;00:00, 198.51it/s]",
            "_view_count": null,
            "_view_module_version": "1.5.0",
            "description_tooltip": null,
            "_model_module": "@jupyter-widgets/controls",
            "layout": "IPY_MODEL_d1b58b4d33cb4a8e81fee9bfe932becb"
          }
        },
        "63d9b0b82cfd4502a0565d4e570f28d7": {
          "model_module": "@jupyter-widgets/controls",
          "model_name": "DescriptionStyleModel",
          "model_module_version": "1.5.0",
          "state": {
            "_view_name": "StyleView",
            "_model_name": "DescriptionStyleModel",
            "description_width": "",
            "_view_module": "@jupyter-widgets/base",
            "_model_module_version": "1.5.0",
            "_view_count": null,
            "_view_module_version": "1.2.0",
            "_model_module": "@jupyter-widgets/controls"
          }
        },
        "84f471952337466a9a4cba9ec42ba167": {
          "model_module": "@jupyter-widgets/base",
          "model_name": "LayoutModel",
          "model_module_version": "1.2.0",
          "state": {
            "_view_name": "LayoutView",
            "grid_template_rows": null,
            "right": null,
            "justify_content": null,
            "_view_module": "@jupyter-widgets/base",
            "overflow": null,
            "_model_module_version": "1.2.0",
            "_view_count": null,
            "flex_flow": null,
            "width": null,
            "min_width": null,
            "border": null,
            "align_items": null,
            "bottom": null,
            "_model_module": "@jupyter-widgets/base",
            "top": null,
            "grid_column": null,
            "overflow_y": null,
            "overflow_x": null,
            "grid_auto_flow": null,
            "grid_area": null,
            "grid_template_columns": null,
            "flex": null,
            "_model_name": "LayoutModel",
            "justify_items": null,
            "grid_row": null,
            "max_height": null,
            "align_content": null,
            "visibility": null,
            "align_self": null,
            "height": null,
            "min_height": null,
            "padding": null,
            "grid_auto_rows": null,
            "grid_gap": null,
            "max_width": null,
            "order": null,
            "_view_module_version": "1.2.0",
            "grid_template_areas": null,
            "object_position": null,
            "object_fit": null,
            "grid_auto_columns": null,
            "margin": null,
            "display": null,
            "left": null
          }
        },
        "f88c620d0f20487ab457074bce766d5d": {
          "model_module": "@jupyter-widgets/controls",
          "model_name": "ProgressStyleModel",
          "model_module_version": "1.5.0",
          "state": {
            "_view_name": "StyleView",
            "_model_name": "ProgressStyleModel",
            "description_width": "",
            "_view_module": "@jupyter-widgets/base",
            "_model_module_version": "1.5.0",
            "_view_count": null,
            "_view_module_version": "1.2.0",
            "bar_color": null,
            "_model_module": "@jupyter-widgets/controls"
          }
        },
        "51752c86e3e2407d9170f8d6b169225a": {
          "model_module": "@jupyter-widgets/base",
          "model_name": "LayoutModel",
          "model_module_version": "1.2.0",
          "state": {
            "_view_name": "LayoutView",
            "grid_template_rows": null,
            "right": null,
            "justify_content": null,
            "_view_module": "@jupyter-widgets/base",
            "overflow": null,
            "_model_module_version": "1.2.0",
            "_view_count": null,
            "flex_flow": null,
            "width": "20px",
            "min_width": null,
            "border": null,
            "align_items": null,
            "bottom": null,
            "_model_module": "@jupyter-widgets/base",
            "top": null,
            "grid_column": null,
            "overflow_y": null,
            "overflow_x": null,
            "grid_auto_flow": null,
            "grid_area": null,
            "grid_template_columns": null,
            "flex": null,
            "_model_name": "LayoutModel",
            "justify_items": null,
            "grid_row": null,
            "max_height": null,
            "align_content": null,
            "visibility": null,
            "align_self": null,
            "height": null,
            "min_height": null,
            "padding": null,
            "grid_auto_rows": null,
            "grid_gap": null,
            "max_width": null,
            "order": null,
            "_view_module_version": "1.2.0",
            "grid_template_areas": null,
            "object_position": null,
            "object_fit": null,
            "grid_auto_columns": null,
            "margin": null,
            "display": null,
            "left": null
          }
        },
        "2a6da401eab444bd8244248cb48a0e7b": {
          "model_module": "@jupyter-widgets/controls",
          "model_name": "DescriptionStyleModel",
          "model_module_version": "1.5.0",
          "state": {
            "_view_name": "StyleView",
            "_model_name": "DescriptionStyleModel",
            "description_width": "",
            "_view_module": "@jupyter-widgets/base",
            "_model_module_version": "1.5.0",
            "_view_count": null,
            "_view_module_version": "1.2.0",
            "_model_module": "@jupyter-widgets/controls"
          }
        },
        "d1b58b4d33cb4a8e81fee9bfe932becb": {
          "model_module": "@jupyter-widgets/base",
          "model_name": "LayoutModel",
          "model_module_version": "1.2.0",
          "state": {
            "_view_name": "LayoutView",
            "grid_template_rows": null,
            "right": null,
            "justify_content": null,
            "_view_module": "@jupyter-widgets/base",
            "overflow": null,
            "_model_module_version": "1.2.0",
            "_view_count": null,
            "flex_flow": null,
            "width": null,
            "min_width": null,
            "border": null,
            "align_items": null,
            "bottom": null,
            "_model_module": "@jupyter-widgets/base",
            "top": null,
            "grid_column": null,
            "overflow_y": null,
            "overflow_x": null,
            "grid_auto_flow": null,
            "grid_area": null,
            "grid_template_columns": null,
            "flex": null,
            "_model_name": "LayoutModel",
            "justify_items": null,
            "grid_row": null,
            "max_height": null,
            "align_content": null,
            "visibility": null,
            "align_self": null,
            "height": null,
            "min_height": null,
            "padding": null,
            "grid_auto_rows": null,
            "grid_gap": null,
            "max_width": null,
            "order": null,
            "_view_module_version": "1.2.0",
            "grid_template_areas": null,
            "object_position": null,
            "object_fit": null,
            "grid_auto_columns": null,
            "margin": null,
            "display": null,
            "left": null
          }
        },
        "feb614d0d42241afa7a3b1f92e9ab811": {
          "model_module": "@jupyter-widgets/controls",
          "model_name": "HBoxModel",
          "model_module_version": "1.5.0",
          "state": {
            "_view_name": "HBoxView",
            "_dom_classes": [],
            "_model_name": "HBoxModel",
            "_view_module": "@jupyter-widgets/controls",
            "_model_module_version": "1.5.0",
            "_view_count": null,
            "_view_module_version": "1.5.0",
            "box_style": "",
            "layout": "IPY_MODEL_c7b47239cee84033afad85dd46c2313c",
            "_model_module": "@jupyter-widgets/controls",
            "children": [
              "IPY_MODEL_193292b6649e4611b2f03142cc6b8769",
              "IPY_MODEL_8840658ba502413e8d1ce19ba3357485",
              "IPY_MODEL_5d1d1cb076a54d338b746721a5ba8ece"
            ]
          }
        },
        "c7b47239cee84033afad85dd46c2313c": {
          "model_module": "@jupyter-widgets/base",
          "model_name": "LayoutModel",
          "model_module_version": "1.2.0",
          "state": {
            "_view_name": "LayoutView",
            "grid_template_rows": null,
            "right": null,
            "justify_content": null,
            "_view_module": "@jupyter-widgets/base",
            "overflow": null,
            "_model_module_version": "1.2.0",
            "_view_count": null,
            "flex_flow": null,
            "width": null,
            "min_width": null,
            "border": null,
            "align_items": null,
            "bottom": null,
            "_model_module": "@jupyter-widgets/base",
            "top": null,
            "grid_column": null,
            "overflow_y": null,
            "overflow_x": null,
            "grid_auto_flow": null,
            "grid_area": null,
            "grid_template_columns": null,
            "flex": null,
            "_model_name": "LayoutModel",
            "justify_items": null,
            "grid_row": null,
            "max_height": null,
            "align_content": null,
            "visibility": null,
            "align_self": null,
            "height": null,
            "min_height": null,
            "padding": null,
            "grid_auto_rows": null,
            "grid_gap": null,
            "max_width": null,
            "order": null,
            "_view_module_version": "1.2.0",
            "grid_template_areas": null,
            "object_position": null,
            "object_fit": null,
            "grid_auto_columns": null,
            "margin": null,
            "display": null,
            "left": null
          }
        },
        "193292b6649e4611b2f03142cc6b8769": {
          "model_module": "@jupyter-widgets/controls",
          "model_name": "HTMLModel",
          "model_module_version": "1.5.0",
          "state": {
            "_view_name": "HTMLView",
            "style": "IPY_MODEL_83788db66ad24632b86f695436473d1c",
            "_dom_classes": [],
            "description": "",
            "_model_name": "HTMLModel",
            "placeholder": "​",
            "_view_module": "@jupyter-widgets/controls",
            "_model_module_version": "1.5.0",
            "value": "",
            "_view_count": null,
            "_view_module_version": "1.5.0",
            "description_tooltip": null,
            "_model_module": "@jupyter-widgets/controls",
            "layout": "IPY_MODEL_21897c5898864e2db8e93f1a9d8d6246"
          }
        },
        "8840658ba502413e8d1ce19ba3357485": {
          "model_module": "@jupyter-widgets/controls",
          "model_name": "FloatProgressModel",
          "model_module_version": "1.5.0",
          "state": {
            "_view_name": "ProgressView",
            "style": "IPY_MODEL_d2d31975a7e94b65bcb35f54624fd934",
            "_dom_classes": [],
            "description": "",
            "_model_name": "FloatProgressModel",
            "bar_style": "success",
            "max": 1,
            "_view_module": "@jupyter-widgets/controls",
            "_model_module_version": "1.5.0",
            "value": 1,
            "_view_count": null,
            "_view_module_version": "1.5.0",
            "orientation": "horizontal",
            "min": 0,
            "description_tooltip": null,
            "_model_module": "@jupyter-widgets/controls",
            "layout": "IPY_MODEL_53d2c68a814142d3bf9ff57c3d06c424"
          }
        },
        "5d1d1cb076a54d338b746721a5ba8ece": {
          "model_module": "@jupyter-widgets/controls",
          "model_name": "HTMLModel",
          "model_module_version": "1.5.0",
          "state": {
            "_view_name": "HTMLView",
            "style": "IPY_MODEL_9eb9db57f03e4280a6b4c484a96724fd",
            "_dom_classes": [],
            "description": "",
            "_model_name": "HTMLModel",
            "placeholder": "​",
            "_view_module": "@jupyter-widgets/controls",
            "_model_module_version": "1.5.0",
            "value": " 2000/? [00:09&lt;00:00, 236.51it/s]",
            "_view_count": null,
            "_view_module_version": "1.5.0",
            "description_tooltip": null,
            "_model_module": "@jupyter-widgets/controls",
            "layout": "IPY_MODEL_b8e98b7b4b2f455b9921ffd0924162b8"
          }
        },
        "83788db66ad24632b86f695436473d1c": {
          "model_module": "@jupyter-widgets/controls",
          "model_name": "DescriptionStyleModel",
          "model_module_version": "1.5.0",
          "state": {
            "_view_name": "StyleView",
            "_model_name": "DescriptionStyleModel",
            "description_width": "",
            "_view_module": "@jupyter-widgets/base",
            "_model_module_version": "1.5.0",
            "_view_count": null,
            "_view_module_version": "1.2.0",
            "_model_module": "@jupyter-widgets/controls"
          }
        },
        "21897c5898864e2db8e93f1a9d8d6246": {
          "model_module": "@jupyter-widgets/base",
          "model_name": "LayoutModel",
          "model_module_version": "1.2.0",
          "state": {
            "_view_name": "LayoutView",
            "grid_template_rows": null,
            "right": null,
            "justify_content": null,
            "_view_module": "@jupyter-widgets/base",
            "overflow": null,
            "_model_module_version": "1.2.0",
            "_view_count": null,
            "flex_flow": null,
            "width": null,
            "min_width": null,
            "border": null,
            "align_items": null,
            "bottom": null,
            "_model_module": "@jupyter-widgets/base",
            "top": null,
            "grid_column": null,
            "overflow_y": null,
            "overflow_x": null,
            "grid_auto_flow": null,
            "grid_area": null,
            "grid_template_columns": null,
            "flex": null,
            "_model_name": "LayoutModel",
            "justify_items": null,
            "grid_row": null,
            "max_height": null,
            "align_content": null,
            "visibility": null,
            "align_self": null,
            "height": null,
            "min_height": null,
            "padding": null,
            "grid_auto_rows": null,
            "grid_gap": null,
            "max_width": null,
            "order": null,
            "_view_module_version": "1.2.0",
            "grid_template_areas": null,
            "object_position": null,
            "object_fit": null,
            "grid_auto_columns": null,
            "margin": null,
            "display": null,
            "left": null
          }
        },
        "d2d31975a7e94b65bcb35f54624fd934": {
          "model_module": "@jupyter-widgets/controls",
          "model_name": "ProgressStyleModel",
          "model_module_version": "1.5.0",
          "state": {
            "_view_name": "StyleView",
            "_model_name": "ProgressStyleModel",
            "description_width": "",
            "_view_module": "@jupyter-widgets/base",
            "_model_module_version": "1.5.0",
            "_view_count": null,
            "_view_module_version": "1.2.0",
            "bar_color": null,
            "_model_module": "@jupyter-widgets/controls"
          }
        },
        "53d2c68a814142d3bf9ff57c3d06c424": {
          "model_module": "@jupyter-widgets/base",
          "model_name": "LayoutModel",
          "model_module_version": "1.2.0",
          "state": {
            "_view_name": "LayoutView",
            "grid_template_rows": null,
            "right": null,
            "justify_content": null,
            "_view_module": "@jupyter-widgets/base",
            "overflow": null,
            "_model_module_version": "1.2.0",
            "_view_count": null,
            "flex_flow": null,
            "width": "20px",
            "min_width": null,
            "border": null,
            "align_items": null,
            "bottom": null,
            "_model_module": "@jupyter-widgets/base",
            "top": null,
            "grid_column": null,
            "overflow_y": null,
            "overflow_x": null,
            "grid_auto_flow": null,
            "grid_area": null,
            "grid_template_columns": null,
            "flex": null,
            "_model_name": "LayoutModel",
            "justify_items": null,
            "grid_row": null,
            "max_height": null,
            "align_content": null,
            "visibility": null,
            "align_self": null,
            "height": null,
            "min_height": null,
            "padding": null,
            "grid_auto_rows": null,
            "grid_gap": null,
            "max_width": null,
            "order": null,
            "_view_module_version": "1.2.0",
            "grid_template_areas": null,
            "object_position": null,
            "object_fit": null,
            "grid_auto_columns": null,
            "margin": null,
            "display": null,
            "left": null
          }
        },
        "9eb9db57f03e4280a6b4c484a96724fd": {
          "model_module": "@jupyter-widgets/controls",
          "model_name": "DescriptionStyleModel",
          "model_module_version": "1.5.0",
          "state": {
            "_view_name": "StyleView",
            "_model_name": "DescriptionStyleModel",
            "description_width": "",
            "_view_module": "@jupyter-widgets/base",
            "_model_module_version": "1.5.0",
            "_view_count": null,
            "_view_module_version": "1.2.0",
            "_model_module": "@jupyter-widgets/controls"
          }
        },
        "b8e98b7b4b2f455b9921ffd0924162b8": {
          "model_module": "@jupyter-widgets/base",
          "model_name": "LayoutModel",
          "model_module_version": "1.2.0",
          "state": {
            "_view_name": "LayoutView",
            "grid_template_rows": null,
            "right": null,
            "justify_content": null,
            "_view_module": "@jupyter-widgets/base",
            "overflow": null,
            "_model_module_version": "1.2.0",
            "_view_count": null,
            "flex_flow": null,
            "width": null,
            "min_width": null,
            "border": null,
            "align_items": null,
            "bottom": null,
            "_model_module": "@jupyter-widgets/base",
            "top": null,
            "grid_column": null,
            "overflow_y": null,
            "overflow_x": null,
            "grid_auto_flow": null,
            "grid_area": null,
            "grid_template_columns": null,
            "flex": null,
            "_model_name": "LayoutModel",
            "justify_items": null,
            "grid_row": null,
            "max_height": null,
            "align_content": null,
            "visibility": null,
            "align_self": null,
            "height": null,
            "min_height": null,
            "padding": null,
            "grid_auto_rows": null,
            "grid_gap": null,
            "max_width": null,
            "order": null,
            "_view_module_version": "1.2.0",
            "grid_template_areas": null,
            "object_position": null,
            "object_fit": null,
            "grid_auto_columns": null,
            "margin": null,
            "display": null,
            "left": null
          }
        }
      }
    }
  },
  "cells": [
    {
      "cell_type": "markdown",
      "metadata": {
        "id": "view-in-github",
        "colab_type": "text"
      },
      "source": [
        "<a href=\"https://colab.research.google.com/github/sayanbanerjee32/coreference-resolution/blob/main/data_explore.ipynb\" target=\"_parent\"><img src=\"https://colab.research.google.com/assets/colab-badge.svg\" alt=\"Open In Colab\"/></a>"
      ]
    },
    {
      "cell_type": "markdown",
      "source": [
        "# Papers and blogs"
      ],
      "metadata": {
        "id": "Ns9R4rP3DlrA"
      }
    },
    {
      "cell_type": "markdown",
      "source": [
        "End2End Coref Resolution By Attention RNN - https://www.kaggle.com/keyit92/end2end-coref-resolution-by-attention-rnn  \n",
        "coreference-resolution - https://www.kaggle.com/abhishekbhole/coreference-resolution  \n",
        "SpanBERT - https://arxiv.org/pdf/1907.10529.pdf   \n",
        "BERT for Coreference Resolution - https://arxiv.org/pdf/1908.09091.pdf  \n",
        "GITHub for BERT and SpanBERT - https://github.com/mandarjoshi90/coref  \n",
        "Fast AI solution - https://www.kaggle.com/mamamot/fastai-awd-lstm-solution-0-71-lb/notebook"
      ],
      "metadata": {
        "id": "21Wppr0W58LH"
      }
    },
    {
      "cell_type": "code",
      "source": [
        "%%capture\n",
        "!pip install fastai -Uq"
      ],
      "metadata": {
        "id": "OFLs_sezDqaP"
      },
      "execution_count": 1,
      "outputs": []
    },
    {
      "cell_type": "code",
      "execution_count": 2,
      "metadata": {
        "colab": {
          "base_uri": "https://localhost:8080/"
        },
        "id": "Fy9GY84xBFlH",
        "outputId": "5cda7e65-8627-4853-f242-7f1a273d60f2"
      },
      "outputs": [
        {
          "output_type": "stream",
          "name": "stdout",
          "text": [
            "Drive already mounted at /content/drive; to attempt to forcibly remount, call drive.mount(\"/content/drive\", force_remount=True).\n"
          ]
        }
      ],
      "source": [
        "# mount gdrive for data\n",
        "from google.colab import drive\n",
        "drive.mount('/content/drive')"
      ]
    },
    {
      "cell_type": "code",
      "source": [
        "# file locations\n",
        "train_file_path = '/content/drive/MyDrive/coref_resolution/data/gap-development.tsv'\n",
        "val_file_path = '/content/drive/MyDrive/coref_resolution/data/gap-validate.tsv'\n",
        "test_file_path = '/content/drive/MyDrive/coref_resolution/data/gap-test.tsv'\n",
        "model_save_path = '/content/drive/MyDrive/coref_resolution/models/'"
      ],
      "metadata": {
        "id": "VkMY4CW9c6PH"
      },
      "execution_count": 3,
      "outputs": []
    },
    {
      "cell_type": "code",
      "source": [
        "import pandas as pd\n",
        "from fastai.text.all import *\n",
        "from pathlib import Path\n",
        "from tqdm.notebook import tqdm"
      ],
      "metadata": {
        "id": "vKOmey0Id33k"
      },
      "execution_count": 4,
      "outputs": []
    },
    {
      "cell_type": "code",
      "source": [
        "train_df = pd.read_csv(train_file_path,sep=\"\\t\")\n",
        "test_df = pd.read_csv(test_file_path,sep=\"\\t\")\n",
        "val_df = pd.read_csv(val_file_path,sep=\"\\t\")"
      ],
      "metadata": {
        "id": "pQcOrti9d5r-"
      },
      "execution_count": 5,
      "outputs": []
    },
    {
      "cell_type": "code",
      "source": [
        "train_df[\"Text\"][0], train_df[\"Text\"][1]"
      ],
      "metadata": {
        "id": "XGlVRck-eC8N",
        "colab": {
          "base_uri": "https://localhost:8080/"
        },
        "outputId": "fc3452c0-6fbb-457d-c60b-24aea3e08b55"
      },
      "execution_count": 6,
      "outputs": [
        {
          "output_type": "execute_result",
          "data": {
            "text/plain": [
              "(\"Zoe Telford -- played the police officer girlfriend of Simon, Maggie. Dumped by Simon in the final episode of series 1, after he slept with Jenny, and is not seen again. Phoebe Thomas played Cheryl Cassidy, Pauline's friend and also a year 11 pupil in Simon's class. Dumped her boyfriend following Simon's advice after he wouldn't have sex with her but later realised this was due to him catching crabs off her friend Pauline.\",\n",
              " 'He grew up in Evanston, Illinois the second oldest of five children including his brothers, Fred and Gordon and sisters, Marge (Peppy) and Marilyn. His high school days were spent at New Trier High School in Winnetka, Illinois. MacKenzie studied with Bernard Leach from 1949 to 1952. His simple, wheel-thrown functional pottery is heavily influenced by the oriental aesthetic of Shoji Hamada and Kanjiro Kawai.')"
            ]
          },
          "metadata": {},
          "execution_count": 6
        }
      ]
    },
    {
      "cell_type": "code",
      "source": [
        "print(len(train_df), len(val_df), len(test_df))"
      ],
      "metadata": {
        "colab": {
          "base_uri": "https://localhost:8080/"
        },
        "id": "mMhw6SgQQAi6",
        "outputId": "e0f125cb-db6e-4a18-bb3d-993967059159"
      },
      "execution_count": 7,
      "outputs": [
        {
          "output_type": "stream",
          "name": "stdout",
          "text": [
            "2000 454 2000\n"
          ]
        }
      ]
    },
    {
      "cell_type": "markdown",
      "source": [
        "## Fine tune language model"
      ],
      "metadata": {
        "id": "VK2fRdRSHV2R"
      }
    },
    {
      "cell_type": "code",
      "source": [
        "# lets keep val for final testing\n",
        "df_pretrain = pd.concat([train_df, test_df])\n",
        "df_pretrain.info()"
      ],
      "metadata": {
        "colab": {
          "base_uri": "https://localhost:8080/"
        },
        "id": "QnXzYo6MExee",
        "outputId": "24cb26ac-bc96-49e7-da04-8362c1bb4829"
      },
      "execution_count": 8,
      "outputs": [
        {
          "output_type": "stream",
          "name": "stdout",
          "text": [
            "<class 'pandas.core.frame.DataFrame'>\n",
            "Int64Index: 4000 entries, 0 to 1999\n",
            "Data columns (total 11 columns):\n",
            " #   Column          Non-Null Count  Dtype \n",
            "---  ------          --------------  ----- \n",
            " 0   ID              4000 non-null   object\n",
            " 1   Text            4000 non-null   object\n",
            " 2   Pronoun         4000 non-null   object\n",
            " 3   Pronoun-offset  4000 non-null   int64 \n",
            " 4   A               4000 non-null   object\n",
            " 5   A-offset        4000 non-null   int64 \n",
            " 6   A-coref         4000 non-null   bool  \n",
            " 7   B               4000 non-null   object\n",
            " 8   B-offset        4000 non-null   int64 \n",
            " 9   B-coref         4000 non-null   bool  \n",
            " 10  URL             4000 non-null   object\n",
            "dtypes: bool(2), int64(3), object(6)\n",
            "memory usage: 320.3+ KB\n"
          ]
        }
      ]
    },
    {
      "cell_type": "code",
      "source": [
        "# fine tune language model\n",
        "data_lm = DataBlock(\n",
        "            blocks=TextBlock.from_df('Text', is_lm=True),\n",
        "            get_x=ColReader('text'),\n",
        "            splitter=RandomSplitter(0.1))\n",
        "\n",
        "dls_lm = data_lm.dataloaders(df_pretrain) \n",
        "dls_lm.show_batch(max_n=2)"
      ],
      "metadata": {
        "colab": {
          "base_uri": "https://localhost:8080/",
          "height": 216
        },
        "id": "Sl3NgIRKFMDm",
        "outputId": "6c04a976-a591-4da4-b482-9d5253b4de58"
      },
      "execution_count": 9,
      "outputs": [
        {
          "output_type": "display_data",
          "data": {
            "text/html": [
              "\n",
              "<style>\n",
              "    /* Turns off some styling */\n",
              "    progress {\n",
              "        /* gets rid of default border in Firefox and Opera. */\n",
              "        border: none;\n",
              "        /* Needs to be in here for Safari polyfill so background images work as expected. */\n",
              "        background-size: auto;\n",
              "    }\n",
              "    .progress-bar-interrupted, .progress-bar-interrupted::-webkit-progress-bar {\n",
              "        background: #F44336;\n",
              "    }\n",
              "</style>\n"
            ],
            "text/plain": [
              "<IPython.core.display.HTML object>"
            ]
          },
          "metadata": {}
        },
        {
          "output_type": "display_data",
          "data": {
            "text/html": [
              ""
            ],
            "text/plain": [
              "<IPython.core.display.HTML object>"
            ]
          },
          "metadata": {}
        },
        {
          "output_type": "display_data",
          "data": {
            "text/html": [
              "<table border=\"1\" class=\"dataframe\">\n",
              "  <thead>\n",
              "    <tr style=\"text-align: right;\">\n",
              "      <th></th>\n",
              "      <th>text</th>\n",
              "      <th>text_</th>\n",
              "    </tr>\n",
              "  </thead>\n",
              "  <tbody>\n",
              "    <tr>\n",
              "      <th>0</th>\n",
              "      <td>xxbos xxmaj he was also first cousin of xxunk - un - xxunk , the xxmaj eldest xxmaj daughter of xxmaj his xxmaj uncle xxmaj aurangzeb . xxmaj his paternal aunts xxmaj xxunk xxmaj begum and xxmaj xxunk xxmaj begum and xxmaj xxunk xxmaj begum and xxmaj paternal xxmaj uncles xxmaj shah xxmaj xxunk , xxmaj aurangzeb , xxmaj he was called his grandfather of xxmaj xxunk i ` ` xxunk '</td>\n",
              "      <td>xxmaj he was also first cousin of xxunk - un - xxunk , the xxmaj eldest xxmaj daughter of xxmaj his xxmaj uncle xxmaj aurangzeb . xxmaj his paternal aunts xxmaj xxunk xxmaj begum and xxmaj xxunk xxmaj begum and xxmaj xxunk xxmaj begum and xxmaj paternal xxmaj uncles xxmaj shah xxmaj xxunk , xxmaj aurangzeb , xxmaj he was called his grandfather of xxmaj xxunk i ` ` xxunk ' '</td>\n",
              "    </tr>\n",
              "    <tr>\n",
              "      <th>1</th>\n",
              "      <td>to the house to xxunk before addressing the crowd outside , promising that xxmaj c*sar will be treated as a hero and his family will be taken care of . xxbos xxmaj based on the historical xxunk of the xxmaj xxunk study and on biographical examples such as xxmaj richard xxmaj xxunk , who had an xxup iq of 125 and went on to win the xxmaj xxunk xxmaj prize in physics</td>\n",
              "      <td>the house to xxunk before addressing the crowd outside , promising that xxmaj c*sar will be treated as a hero and his family will be taken care of . xxbos xxmaj based on the historical xxunk of the xxmaj xxunk study and on biographical examples such as xxmaj richard xxmaj xxunk , who had an xxup iq of 125 and went on to win the xxmaj xxunk xxmaj prize in physics and</td>\n",
              "    </tr>\n",
              "  </tbody>\n",
              "</table>"
            ],
            "text/plain": [
              "<IPython.core.display.HTML object>"
            ]
          },
          "metadata": {}
        }
      ]
    },
    {
      "cell_type": "code",
      "source": [
        "# create language model learner\n",
        "learn_lm = language_model_learner(\n",
        "    dls_lm, AWD_LSTM, drop_mult=0.5, pretrained=True, \n",
        "    metrics=[accuracy, Perplexity()])#.to_fp16()"
      ],
      "metadata": {
        "id": "NAnJ4DhgFvEZ"
      },
      "execution_count": 10,
      "outputs": []
    },
    {
      "cell_type": "code",
      "source": [
        "# find optimum learning rate for language model\n",
        "learn_lm.lr_find()"
      ],
      "metadata": {
        "colab": {
          "base_uri": "https://localhost:8080/",
          "height": 300
        },
        "id": "9i3qcVBpHnU7",
        "outputId": "1fc96e4c-8ba4-4d10-e72b-3681e121e234"
      },
      "execution_count": 11,
      "outputs": [
        {
          "output_type": "display_data",
          "data": {
            "text/html": [
              "\n",
              "<style>\n",
              "    /* Turns off some styling */\n",
              "    progress {\n",
              "        /* gets rid of default border in Firefox and Opera. */\n",
              "        border: none;\n",
              "        /* Needs to be in here for Safari polyfill so background images work as expected. */\n",
              "        background-size: auto;\n",
              "    }\n",
              "    .progress-bar-interrupted, .progress-bar-interrupted::-webkit-progress-bar {\n",
              "        background: #F44336;\n",
              "    }\n",
              "</style>\n"
            ],
            "text/plain": [
              "<IPython.core.display.HTML object>"
            ]
          },
          "metadata": {}
        },
        {
          "output_type": "display_data",
          "data": {
            "text/html": [
              ""
            ],
            "text/plain": [
              "<IPython.core.display.HTML object>"
            ]
          },
          "metadata": {}
        },
        {
          "output_type": "execute_result",
          "data": {
            "text/plain": [
              "SuggestedLRs(valley=0.00363078061491251)"
            ]
          },
          "metadata": {},
          "execution_count": 11
        },
        {
          "output_type": "display_data",
          "data": {
            "image/png": "[encoded data removed]",
            "text/plain": [
              "<Figure size 432x288 with 1 Axes>"
            ]
          },
          "metadata": {
            "needs_background": "light"
          }
        }
      ]
    },
    {
      "cell_type": "code",
      "source": [
        "# one cycle training\n",
        "learn_lm.fit_one_cycle(1, 0.003)"
      ],
      "metadata": {
        "colab": {
          "base_uri": "https://localhost:8080/",
          "height": 81
        },
        "id": "sUnSiaHuHtp8",
        "outputId": "b3420312-aa0b-474c-c8ba-a829d47eb003"
      },
      "execution_count": 12,
      "outputs": [
        {
          "output_type": "display_data",
          "data": {
            "text/html": [
              "\n",
              "<style>\n",
              "    /* Turns off some styling */\n",
              "    progress {\n",
              "        /* gets rid of default border in Firefox and Opera. */\n",
              "        border: none;\n",
              "        /* Needs to be in here for Safari polyfill so background images work as expected. */\n",
              "        background-size: auto;\n",
              "    }\n",
              "    .progress-bar-interrupted, .progress-bar-interrupted::-webkit-progress-bar {\n",
              "        background: #F44336;\n",
              "    }\n",
              "</style>\n"
            ],
            "text/plain": [
              "<IPython.core.display.HTML object>"
            ]
          },
          "metadata": {}
        },
        {
          "output_type": "display_data",
          "data": {
            "text/html": [
              "<table border=\"1\" class=\"dataframe\">\n",
              "  <thead>\n",
              "    <tr style=\"text-align: left;\">\n",
              "      <th>epoch</th>\n",
              "      <th>train_loss</th>\n",
              "      <th>valid_loss</th>\n",
              "      <th>accuracy</th>\n",
              "      <th>perplexity</th>\n",
              "      <th>time</th>\n",
              "    </tr>\n",
              "  </thead>\n",
              "  <tbody>\n",
              "    <tr>\n",
              "      <td>0</td>\n",
              "      <td>3.721300</td>\n",
              "      <td>3.486765</td>\n",
              "      <td>0.371295</td>\n",
              "      <td>32.680069</td>\n",
              "      <td>00:17</td>\n",
              "    </tr>\n",
              "  </tbody>\n",
              "</table>"
            ],
            "text/plain": [
              "<IPython.core.display.HTML object>"
            ]
          },
          "metadata": {}
        }
      ]
    },
    {
      "cell_type": "code",
      "source": [
        "# unfreeze all the layers and one cycle training\n",
        "learn_lm.unfreeze()\n",
        "learn_lm.fit_one_cycle(5, 0.003)"
      ],
      "metadata": {
        "colab": {
          "base_uri": "https://localhost:8080/",
          "height": 206
        },
        "id": "QeLjJUlkH9ZM",
        "outputId": "7076ba11-db27-47e1-b67c-bd75650d6765"
      },
      "execution_count": 13,
      "outputs": [
        {
          "output_type": "display_data",
          "data": {
            "text/html": [
              "\n",
              "<style>\n",
              "    /* Turns off some styling */\n",
              "    progress {\n",
              "        /* gets rid of default border in Firefox and Opera. */\n",
              "        border: none;\n",
              "        /* Needs to be in here for Safari polyfill so background images work as expected. */\n",
              "        background-size: auto;\n",
              "    }\n",
              "    .progress-bar-interrupted, .progress-bar-interrupted::-webkit-progress-bar {\n",
              "        background: #F44336;\n",
              "    }\n",
              "</style>\n"
            ],
            "text/plain": [
              "<IPython.core.display.HTML object>"
            ]
          },
          "metadata": {}
        },
        {
          "output_type": "display_data",
          "data": {
            "text/html": [
              "<table border=\"1\" class=\"dataframe\">\n",
              "  <thead>\n",
              "    <tr style=\"text-align: left;\">\n",
              "      <th>epoch</th>\n",
              "      <th>train_loss</th>\n",
              "      <th>valid_loss</th>\n",
              "      <th>accuracy</th>\n",
              "      <th>perplexity</th>\n",
              "      <th>time</th>\n",
              "    </tr>\n",
              "  </thead>\n",
              "  <tbody>\n",
              "    <tr>\n",
              "      <td>0</td>\n",
              "      <td>3.422962</td>\n",
              "      <td>3.314342</td>\n",
              "      <td>0.383444</td>\n",
              "      <td>27.504305</td>\n",
              "      <td>00:25</td>\n",
              "    </tr>\n",
              "    <tr>\n",
              "      <td>1</td>\n",
              "      <td>3.248590</td>\n",
              "      <td>3.277023</td>\n",
              "      <td>0.389537</td>\n",
              "      <td>26.496782</td>\n",
              "      <td>00:20</td>\n",
              "    </tr>\n",
              "    <tr>\n",
              "      <td>2</td>\n",
              "      <td>2.904625</td>\n",
              "      <td>3.329378</td>\n",
              "      <td>0.384006</td>\n",
              "      <td>27.920959</td>\n",
              "      <td>00:20</td>\n",
              "    </tr>\n",
              "    <tr>\n",
              "      <td>3</td>\n",
              "      <td>2.489187</td>\n",
              "      <td>3.404193</td>\n",
              "      <td>0.383429</td>\n",
              "      <td>30.090008</td>\n",
              "      <td>00:21</td>\n",
              "    </tr>\n",
              "    <tr>\n",
              "      <td>4</td>\n",
              "      <td>2.167397</td>\n",
              "      <td>3.478909</td>\n",
              "      <td>0.380423</td>\n",
              "      <td>32.424335</td>\n",
              "      <td>00:20</td>\n",
              "    </tr>\n",
              "  </tbody>\n",
              "</table>"
            ],
            "text/plain": [
              "<IPython.core.display.HTML object>"
            ]
          },
          "metadata": {}
        }
      ]
    },
    {
      "cell_type": "code",
      "source": [
        "# save language model\n",
        "learn_lm.save(Path(model_save_path) /'lm_fine_tuned')\n",
        "learn_lm.save_encoder(Path(model_save_path) /'lm_fine_tuned_encoder')"
      ],
      "metadata": {
        "id": "coY2Nv-9IArq"
      },
      "execution_count": 14,
      "outputs": []
    },
    {
      "cell_type": "code",
      "source": [
        "# load pre-trained language model\n",
        "# learn_lm_pretrained = load_learner(Path(model_save_path)/'lm_fine_tuned.pth', cpu = False)\n",
        "# learn_lm.load(Path(model_save_path) /'lm_fine_tuned')"
      ],
      "metadata": {
        "id": "pwpLzpp2tqNr"
      },
      "execution_count": 15,
      "outputs": []
    },
    {
      "cell_type": "code",
      "source": [
        "vocab = learn_lm.dls\n",
        "# vocab.numericalize(tokenizer(train_df[\"Text\"][0]))"
      ],
      "metadata": {
        "id": "U27FWqZy0xv3"
      },
      "execution_count": 16,
      "outputs": []
    },
    {
      "cell_type": "markdown",
      "source": [
        "## Pre-process data"
      ],
      "metadata": {
        "id": "mHeaLGNoOOGm"
      }
    },
    {
      "cell_type": "code",
      "source": [
        "import torch\n",
        "from torch.utils.data import Dataset, TensorDataset"
      ],
      "metadata": {
        "id": "ihRFSBmHPfPA"
      },
      "execution_count": 17,
      "outputs": []
    },
    {
      "cell_type": "code",
      "source": [
        "spacy_tok = SpacyTokenizer(\"en\")\n",
        "tokenizer = Tokenizer(spacy_tok)"
      ],
      "metadata": {
        "id": "MJjD1mVpI65B"
      },
      "execution_count": 18,
      "outputs": []
    },
    {
      "cell_type": "code",
      "source": [
        "# train_df[\"Text\"][0], tokenizer(train_df[\"Text\"][0])"
      ],
      "metadata": {
        "id": "ltfiNf0JSn2D"
      },
      "execution_count": 19,
      "outputs": []
    },
    {
      "cell_type": "code",
      "source": [
        "import spacy\n",
        "nlp = spacy.blank(\"en\")\n",
        "\n",
        "# note that 'xxunk' is not special in this sense\n",
        "# special_tokens = ['xxbos','xxfld','xxpad', 'xxmaj','xxup','xxrep','xxwrep']\n",
        "\n",
        "special_tokens = ['xxpad']\n",
        "\n",
        "def get_token_num_by_offset(s, offset):\n",
        "  s_pre = s[:offset]\n",
        "  return len(tokenizer(s_pre))\n",
        "  # return len([t for t in tokenizer(s_pre) if t not in special_tokens])\n",
        "\n",
        "\n",
        "def adjust_token_num(processed, token_num):\n",
        "  \"\"\"\n",
        "  As fastai tokenizer introduces additional tokens, we need to adjust for them.\n",
        "  \"\"\"\n",
        "  counter = -1\n",
        "  do_unrep = None\n",
        "  for i, token in enumerate(processed):\n",
        "    if token not in special_tokens:\n",
        "      counter += 1\n",
        "    # if do_unrep:\n",
        "    #   do_unrep = False\n",
        "    #   if processed[i+1] != \".\":\n",
        "    #     token_num -= (int(token) - 2) # one to account for the num itself\n",
        "    #   else:  # spacy doesn't split full stops\n",
        "    #     token_num += 1\n",
        "    # if token == \"xxrep\":\n",
        "    #   do_unrep = True\n",
        "    if counter == token_num:\n",
        "      return i\n",
        "  else: # else for 'for'\n",
        "    counter2 = -1\n",
        "    for j, t in enumerate(processed):\n",
        "      if t not in special_tokens:\n",
        "        counter2 += 1\n",
        "      # print(j, counter, t)\n",
        "    raise Exception(f\"{token_num} is out of bounds ({processed})\")"
      ],
      "metadata": {
        "id": "68TZfc7ZOWiN"
      },
      "execution_count": 20,
      "outputs": []
    },
    {
      "cell_type": "code",
      "source": [
        "import traceback\n",
        "def dataframe_to_tensors(df, max_len=512):\n",
        "  # offsets are: pron_tok_offset, a_tok_offset, a_tok_right_offset, b_tok_offset, b_tok_right_offset\n",
        "  offsets = list()\n",
        "  labels = np.zeros((len(df),), dtype=np.int64)\n",
        "  processed = list()\n",
        "  for i, row in tqdm(df.iterrows()):\n",
        "    try:\n",
        "      text = row[\"Text\"]\n",
        "      a_offset = row[\"A-offset\"]\n",
        "      a_len = len(nlp(row[\"A\"]))\n",
        "      \n",
        "      b_offset = row[\"B-offset\"]\n",
        "      b_len = len(nlp(row[\"B\"]))\n",
        "\n",
        "      pron_offset = row[\"Pronoun-offset\"]\n",
        "      is_a = row[\"A-coref\"]\n",
        "      is_b = row[\"B-coref\"]\n",
        "      a_tok_offset = get_token_num_by_offset(text, a_offset)\n",
        "      b_tok_offset = get_token_num_by_offset(text, b_offset)\n",
        "      a_right_offset = a_tok_offset + a_len - 1\n",
        "      b_right_offset = b_tok_offset + b_len - 1\n",
        "      pron_tok_offset = get_token_num_by_offset(text, pron_offset)\n",
        "      tokenized = tokenizer(text)[:max_len]\n",
        "      tokenized = [\"xxpad\"] * (max_len - len(tokenized))  + tokenized # add padding\n",
        "      a_tok_offset = adjust_token_num(tokenized, a_tok_offset)\n",
        "      a_tok_right_offset = adjust_token_num(tokenized, a_right_offset)\n",
        "      b_tok_offset = adjust_token_num(tokenized, b_tok_offset)\n",
        "      b_tok_right_offset = adjust_token_num(tokenized, b_right_offset)\n",
        "      pron_tok_offset = adjust_token_num(tokenized, pron_tok_offset)\n",
        "      numericalized = vocab.numericalize(tokenized)\n",
        "      processed.append(torch.tensor(numericalized, dtype=torch.long))\n",
        "      offsets.append([pron_tok_offset, a_tok_offset, a_tok_right_offset, b_tok_offset, b_tok_right_offset])\n",
        "      if is_a:\n",
        "        labels[i] = 0\n",
        "      elif is_b:\n",
        "        labels[i] = 1\n",
        "      else:\n",
        "        labels[i] = 2\n",
        "    except Exception as e:\n",
        "      print(i)\n",
        "      traceback.print_exc()\n",
        "      raise\n",
        "  processed = torch.stack(processed)\n",
        "  offsets = torch.tensor(offsets, dtype=torch.long)\n",
        "  labels = torch.from_numpy(labels)\n",
        "  return processed, offsets, labels"
      ],
      "metadata": {
        "id": "LQ5LNykpOVqV"
      },
      "execution_count": 21,
      "outputs": []
    },
    {
      "cell_type": "code",
      "source": [
        "train_ds = TensorDataset(*dataframe_to_tensors(train_df))\n",
        "valid_ds = TensorDataset(*dataframe_to_tensors(val_df))\n",
        "test_ds = TensorDataset(*dataframe_to_tensors(test_df))"
      ],
      "metadata": {
        "id": "8u2q2sqgOtsU",
        "outputId": "a595ba82-0219-4b17-9738-1fafa6c25ab4",
        "colab": {
          "base_uri": "https://localhost:8080/",
          "height": 150,
          "referenced_widgets": [
            "08050878163a4519a283c6c63edaf1ac",
            "4092084e548a420fa5624009da8ae126",
            "f277a4a9eae84b128c97aad82a083f80",
            "d0c03bf896f945b7930fe5aac445a2b2",
            "c04248cd7e3444b68ee4c4bfdbf40b8d",
            "937e5bfad98a4d2ebaad883f643a2783",
            "dd2d47966dd8466e908c266177409f2d",
            "dfbd6799a7cb4f71bdc549d7df19c303",
            "aba4f802dfb842acb83cb13ba92eb56d",
            "1e196cad3619471998536bf3cf93a12b",
            "72565d41b11d40e1af00ed92b16572bf",
            "0c9443aaf5a84a299069f0237a8af320",
            "0f4180a9478f45038bd14bbfd0dabffe",
            "9c200444a6104e6aa2eccf94f862e2c4",
            "92e32e28886440979de859b0a6c74eb1",
            "778c53441ae3479d8dfbc7198bd94836",
            "63d9b0b82cfd4502a0565d4e570f28d7",
            "84f471952337466a9a4cba9ec42ba167",
            "f88c620d0f20487ab457074bce766d5d",
            "51752c86e3e2407d9170f8d6b169225a",
            "2a6da401eab444bd8244248cb48a0e7b",
            "d1b58b4d33cb4a8e81fee9bfe932becb",
            "feb614d0d42241afa7a3b1f92e9ab811",
            "c7b47239cee84033afad85dd46c2313c",
            "193292b6649e4611b2f03142cc6b8769",
            "8840658ba502413e8d1ce19ba3357485",
            "5d1d1cb076a54d338b746721a5ba8ece",
            "83788db66ad24632b86f695436473d1c",
            "21897c5898864e2db8e93f1a9d8d6246",
            "d2d31975a7e94b65bcb35f54624fd934",
            "53d2c68a814142d3bf9ff57c3d06c424",
            "9eb9db57f03e4280a6b4c484a96724fd",
            "b8e98b7b4b2f455b9921ffd0924162b8"
          ]
        }
      },
      "execution_count": 22,
      "outputs": [
        {
          "output_type": "display_data",
          "data": {
            "application/vnd.jupyter.widget-view+json": {
              "model_id": "08050878163a4519a283c6c63edaf1ac",
              "version_minor": 0,
              "version_major": 2
            },
            "text/plain": [
              "0it [00:00, ?it/s]"
            ]
          },
          "metadata": {}
        },
        {
          "output_type": "stream",
          "name": "stderr",
          "text": [
            "/usr/local/lib/python3.7/dist-packages/ipykernel_launcher.py:32: UserWarning: To copy construct from a tensor, it is recommended to use sourceTensor.clone().detach() or sourceTensor.clone().detach().requires_grad_(True), rather than torch.tensor(sourceTensor).\n"
          ]
        },
        {
          "output_type": "display_data",
          "data": {
            "application/vnd.jupyter.widget-view+json": {
              "model_id": "0c9443aaf5a84a299069f0237a8af320",
              "version_minor": 0,
              "version_major": 2
            },
            "text/plain": [
              "0it [00:00, ?it/s]"
            ]
          },
          "metadata": {}
        },
        {
          "output_type": "display_data",
          "data": {
            "application/vnd.jupyter.widget-view+json": {
              "model_id": "feb614d0d42241afa7a3b1f92e9ab811",
              "version_minor": 0,
              "version_major": 2
            },
            "text/plain": [
              "0it [00:00, ?it/s]"
            ]
          },
          "metadata": {}
        }
      ]
    },
    {
      "cell_type": "code",
      "source": [
        "train_dl = DataLoader(train_ds, batch_size=64, shuffle=True)\n",
        "valid_dl = DataLoader(valid_ds, batch_size=32, shuffle=False)\n",
        "test_dl = DataLoader(test_ds, batch_size=32, shuffle=False)"
      ],
      "metadata": {
        "id": "va-7f1tYOvYK"
      },
      "execution_count": 23,
      "outputs": []
    },
    {
      "cell_type": "markdown",
      "source": [
        "### Classifier"
      ],
      "metadata": {
        "id": "OKNhIlJjegLi"
      }
    },
    {
      "cell_type": "code",
      "source": [
        "learn_lm.freeze()"
      ],
      "metadata": {
        "id": "jsP7wGudUVVd"
      },
      "execution_count": 24,
      "outputs": []
    },
    {
      "cell_type": "code",
      "source": [
        "encoder_hidden_sz = 400\n",
        "\n",
        "device = torch.device(\"cuda\")\n",
        "\n",
        "class CorefResolver(nn.Module):\n",
        "  def __init__(self, encoder, dropout_p=0.3):\n",
        "    super(CorefResolver, self).__init__()\n",
        "    self.encoder = encoder\n",
        "    self.dropout = nn.Dropout(dropout_p)\n",
        "    self.hidden2hidden = nn.Linear(encoder_hidden_sz * 2 + 1, 25)\n",
        "    self.hidden2logits = nn.Linear(50, 3)\n",
        "    self.relu = nn.ReLU()\n",
        "    self.activation = nn.LogSoftmax(dim=1)\n",
        "    self.loss = nn.NLLLoss()\n",
        "    \n",
        "  def forward(self, seqs, offsets, labels=None):\n",
        "    encoded = self.dropout(self.encoder(seqs)) #[0][2])\n",
        "    a_q = list()\n",
        "    b_q = list()\n",
        "    for enc, offs in zip(encoded, offsets):\n",
        "      # extract the hidden states that correspond to A, B and the pronoun, and make pairs of those \n",
        "      a_repr = enc[offs[2]]\n",
        "      b_repr = enc[offs[4]]\n",
        "      a_q.append(torch.cat([enc[offs[0]], a_repr, torch.dot(enc[offs[0]], a_repr).unsqueeze(0)]))\n",
        "      b_q.append(torch.cat([enc[offs[0]], b_repr, torch.dot(enc[offs[0]], b_repr).unsqueeze(0)]))\n",
        "    a_q = torch.stack(a_q)\n",
        "    b_q = torch.stack(b_q)\n",
        "    # apply the same \"detector\" layer to both batches of pairs\n",
        "    is_a = self.relu(self.dropout(self.hidden2hidden(a_q)))\n",
        "    is_b = self.relu(self.dropout(self.hidden2hidden(b_q)))\n",
        "    # concatenate outputs of the \"detector\" layer to get the final probability distribution\n",
        "    is_a_b = torch.cat([is_a, is_b], dim=1)\n",
        "    is_logits = self.hidden2logits(self.dropout(self.relu(is_a_b)))\n",
        "\n",
        "    activation = self.activation(is_logits)\n",
        "    if labels is not None:\n",
        "      return activation, self.loss(activation, labels)\n",
        "    else:\n",
        "      return activation"
      ],
      "metadata": {
        "id": "rdPY0QQjaI1a"
      },
      "execution_count": 36,
      "outputs": []
    },
    {
      "cell_type": "code",
      "source": [
        "enc = learn_lm.model[0]"
      ],
      "metadata": {
        "id": "S-eqTeE7aSs-"
      },
      "execution_count": 37,
      "outputs": []
    },
    {
      "cell_type": "code",
      "source": [
        "resolver = CorefResolver(enc)"
      ],
      "metadata": {
        "id": "-nej-9MDasYB"
      },
      "execution_count": 38,
      "outputs": []
    },
    {
      "cell_type": "code",
      "source": [
        "resolver.to(device)"
      ],
      "metadata": {
        "colab": {
          "base_uri": "https://localhost:8080/"
        },
        "id": "t4p4nee1fBnl",
        "outputId": "f0499ba8-02df-4be4-9778-e7d5dcd477be"
      },
      "execution_count": 39,
      "outputs": [
        {
          "output_type": "execute_result",
          "data": {
            "text/plain": [
              "CorefResolver(\n",
              "  (encoder): AWD_LSTM(\n",
              "    (encoder): Embedding(10592, 400, padding_idx=1)\n",
              "    (encoder_dp): EmbeddingDropout(\n",
              "      (emb): Embedding(10592, 400, padding_idx=1)\n",
              "    )\n",
              "    (rnns): ModuleList(\n",
              "      (0): WeightDropout(\n",
              "        (module): LSTM(400, 1152, batch_first=True)\n",
              "      )\n",
              "      (1): WeightDropout(\n",
              "        (module): LSTM(1152, 1152, batch_first=True)\n",
              "      )\n",
              "      (2): WeightDropout(\n",
              "        (module): LSTM(1152, 400, batch_first=True)\n",
              "      )\n",
              "    )\n",
              "    (input_dp): RNNDropout()\n",
              "    (hidden_dps): ModuleList(\n",
              "      (0): RNNDropout()\n",
              "      (1): RNNDropout()\n",
              "      (2): RNNDropout()\n",
              "    )\n",
              "  )\n",
              "  (dropout): Dropout(p=0.3, inplace=False)\n",
              "  (hidden2hidden): Linear(in_features=801, out_features=25, bias=True)\n",
              "  (hidden2logits): Linear(in_features=50, out_features=3, bias=True)\n",
              "  (relu): ReLU()\n",
              "  (activation): LogSoftmax(dim=1)\n",
              "  (loss): NLLLoss()\n",
              ")"
            ]
          },
          "metadata": {},
          "execution_count": 39
        }
      ]
    },
    {
      "cell_type": "code",
      "source": [
        "for param in resolver.encoder.parameters():\n",
        "  param.requires_grad = False"
      ],
      "metadata": {
        "id": "qRs2narTfD5e"
      },
      "execution_count": 40,
      "outputs": []
    },
    {
      "cell_type": "code",
      "source": [
        "lr = 0.001\n",
        "\n",
        "loss_fn = nn.NLLLoss()\n",
        "optimizer = torch.optim.Adam(resolver.parameters(), lr=lr)"
      ],
      "metadata": {
        "id": "pNM1cB4AgOnv"
      },
      "execution_count": 41,
      "outputs": []
    },
    {
      "cell_type": "code",
      "source": [
        "from sklearn.metrics import classification_report"
      ],
      "metadata": {
        "id": "LlVxKZx8gRxs"
      },
      "execution_count": 42,
      "outputs": []
    },
    {
      "cell_type": "code",
      "source": [
        "def train_epoch(model, optimizer, train_dl, report_every=10):\n",
        "  model.train()\n",
        "  step = 0\n",
        "  total_loss = 0\n",
        "  \n",
        "  for texts, offsets, labels in train_dl:\n",
        "    texts, offsets, labels = texts.to(device), offsets.to(device), labels.to(device)\n",
        "    step += 1\n",
        "    optimizer.zero_grad()\n",
        "    _, loss = model(texts, offsets, labels)\n",
        "    total_loss += loss.item()\n",
        "    \n",
        "    loss.backward()\n",
        "    optimizer.step()\n",
        "    \n",
        "    if step % report_every == 0:\n",
        "      print(f\"Step {step}, loss: {total_loss/report_every}\")\n",
        "      total_loss = 0\n",
        "      \n",
        "def evaluate(model, optimizer, valid_dl, probas=False):\n",
        "  probas = list()\n",
        "  model.eval()\n",
        "  predictions = list()\n",
        "  total_loss = 0\n",
        "  all_labels = list()\n",
        "  with torch.no_grad():\n",
        "    for texts, offsets, labels in valid_dl:\n",
        "      texts, offsets, labels = texts.cuda(), offsets.cuda(), labels.cuda()\n",
        "      preds, loss = model(texts, offsets, labels)\n",
        "      total_loss += loss.item()\n",
        "      probas.append(preds.cpu().detach().numpy())\n",
        "      predictions.extend([i.item() for i in preds.max(1)[1]])\n",
        "    \n",
        "    \n",
        "  print(f\"Validation loss: {total_loss/len(valid_dl)}\")\n",
        "  print()\n",
        "  print(classification_report(valid_dl.dataset.tensors[2].numpy(), predictions))\n",
        "  if probas:\n",
        "    return total_loss, np.vstack(probas)\n",
        "  return total_loss, predictions"
      ],
      "metadata": {
        "id": "NH8JbjBwgUdk"
      },
      "execution_count": 43,
      "outputs": []
    },
    {
      "cell_type": "code",
      "source": [
        "total_epoch = 0\n",
        "best_loss = 1e6\n",
        "\n",
        "for i in range(10):\n",
        "  print(\"Epoch\", i + 1)\n",
        "  total_epoch += 1\n",
        "  train_epoch(resolver, optimizer, train_dl) \n",
        "  loss, labels = evaluate(resolver, optimizer, test_dl)\n",
        "  if loss < best_loss:\n",
        "    best_loss = loss\n",
        "    print(f\"Loss improved, saving {total_epoch}\")\n",
        "    torch.save(resolver.state_dict(), Path(model_save_path)/\"model_best.pt\")"
      ],
      "metadata": {
        "colab": {
          "base_uri": "https://localhost:8080/"
        },
        "id": "RW3chKpwgYyO",
        "outputId": "cb57e557-541e-4967-b982-f591316e31f9"
      },
      "execution_count": 44,
      "outputs": [
        {
          "output_type": "stream",
          "name": "stdout",
          "text": [
            "> \u001b[0;32m<ipython-input-25-4a281dd0401b>\u001b[0m(22)\u001b[0;36mforward\u001b[0;34m()\u001b[0m\n",
            "\u001b[0;32m     20 \u001b[0;31m    \u001b[0;32mfor\u001b[0m \u001b[0menc\u001b[0m\u001b[0;34m,\u001b[0m \u001b[0moffs\u001b[0m \u001b[0;32min\u001b[0m \u001b[0mzip\u001b[0m\u001b[0;34m(\u001b[0m\u001b[0mencoded\u001b[0m\u001b[0;34m,\u001b[0m \u001b[0moffsets\u001b[0m\u001b[0;34m)\u001b[0m\u001b[0;34m:\u001b[0m\u001b[0;34m\u001b[0m\u001b[0;34m\u001b[0m\u001b[0m\n",
            "\u001b[0m\u001b[0;32m     21 \u001b[0;31m      \u001b[0;31m# extract the hidden states that correspond to A, B and the pronoun, and make pairs of those\u001b[0m\u001b[0;34m\u001b[0m\u001b[0;34m\u001b[0m\u001b[0;34m\u001b[0m\u001b[0m\n",
            "\u001b[0m\u001b[0;32m---> 22 \u001b[0;31m      \u001b[0ma_repr\u001b[0m \u001b[0;34m=\u001b[0m \u001b[0menc\u001b[0m\u001b[0;34m[\u001b[0m\u001b[0moffs\u001b[0m\u001b[0;34m[\u001b[0m\u001b[0;36m2\u001b[0m\u001b[0;34m]\u001b[0m\u001b[0;34m]\u001b[0m\u001b[0;34m\u001b[0m\u001b[0;34m\u001b[0m\u001b[0m\n",
            "\u001b[0m\u001b[0;32m     23 \u001b[0;31m      \u001b[0mb_repr\u001b[0m \u001b[0;34m=\u001b[0m \u001b[0menc\u001b[0m\u001b[0;34m[\u001b[0m\u001b[0moffs\u001b[0m\u001b[0;34m[\u001b[0m\u001b[0;36m4\u001b[0m\u001b[0;34m]\u001b[0m\u001b[0;34m]\u001b[0m\u001b[0;34m\u001b[0m\u001b[0;34m\u001b[0m\u001b[0m\n",
            "\u001b[0m\u001b[0;32m     24 \u001b[0;31m      \u001b[0ma_q\u001b[0m\u001b[0;34m.\u001b[0m\u001b[0mappend\u001b[0m\u001b[0;34m(\u001b[0m\u001b[0mtorch\u001b[0m\u001b[0;34m.\u001b[0m\u001b[0mcat\u001b[0m\u001b[0;34m(\u001b[0m\u001b[0;34m[\u001b[0m\u001b[0menc\u001b[0m\u001b[0;34m[\u001b[0m\u001b[0moffs\u001b[0m\u001b[0;34m[\u001b[0m\u001b[0;36m0\u001b[0m\u001b[0;34m]\u001b[0m\u001b[0;34m]\u001b[0m\u001b[0;34m,\u001b[0m \u001b[0ma_repr\u001b[0m\u001b[0;34m,\u001b[0m \u001b[0mtorch\u001b[0m\u001b[0;34m.\u001b[0m\u001b[0mdot\u001b[0m\u001b[0;34m(\u001b[0m\u001b[0menc\u001b[0m\u001b[0;34m[\u001b[0m\u001b[0moffs\u001b[0m\u001b[0;34m[\u001b[0m\u001b[0;36m0\u001b[0m\u001b[0;34m]\u001b[0m\u001b[0;34m]\u001b[0m\u001b[0;34m,\u001b[0m \u001b[0ma_repr\u001b[0m\u001b[0;34m)\u001b[0m\u001b[0;34m.\u001b[0m\u001b[0munsqueeze\u001b[0m\u001b[0;34m(\u001b[0m\u001b[0;36m0\u001b[0m\u001b[0;34m)\u001b[0m\u001b[0;34m]\u001b[0m\u001b[0;34m)\u001b[0m\u001b[0;34m)\u001b[0m\u001b[0;34m\u001b[0m\u001b[0;34m\u001b[0m\u001b[0m\n",
            "\u001b[0m\n",
            "ipdb> quit\n",
            "Epoch 1\n",
            "Step 10, loss: 1.0182713449001313\n",
            "Step 20, loss: 0.9355005085468292\n",
            "Step 30, loss: 0.9616895318031311\n",
            "Validation loss: 0.976995587348938\n",
            "\n",
            "              precision    recall  f1-score   support\n",
            "\n",
            "           0       0.63      0.34      0.44       187\n",
            "           1       0.51      0.88      0.65       205\n",
            "           2       0.00      0.00      0.00        62\n",
            "\n",
            "    accuracy                           0.54       454\n",
            "   macro avg       0.38      0.41      0.36       454\n",
            "weighted avg       0.49      0.54      0.47       454\n",
            "\n",
            "Loss improved, saving 1\n"
          ]
        },
        {
          "output_type": "stream",
          "name": "stderr",
          "text": [
            "/usr/local/lib/python3.7/dist-packages/sklearn/metrics/_classification.py:1318: UndefinedMetricWarning: Precision and F-score are ill-defined and being set to 0.0 in labels with no predicted samples. Use `zero_division` parameter to control this behavior.\n",
            "  _warn_prf(average, modifier, msg_start, len(result))\n",
            "/usr/local/lib/python3.7/dist-packages/sklearn/metrics/_classification.py:1318: UndefinedMetricWarning: Precision and F-score are ill-defined and being set to 0.0 in labels with no predicted samples. Use `zero_division` parameter to control this behavior.\n",
            "  _warn_prf(average, modifier, msg_start, len(result))\n",
            "/usr/local/lib/python3.7/dist-packages/sklearn/metrics/_classification.py:1318: UndefinedMetricWarning: Precision and F-score are ill-defined and being set to 0.0 in labels with no predicted samples. Use `zero_division` parameter to control this behavior.\n",
            "  _warn_prf(average, modifier, msg_start, len(result))\n"
          ]
        },
        {
          "output_type": "stream",
          "name": "stdout",
          "text": [
            "Epoch 2\n",
            "Step 10, loss: 0.8755507469177246\n",
            "Step 20, loss: 0.8905709683895111\n",
            "Step 30, loss: 0.9042854249477387\n",
            "Validation loss: 0.9289064606030782\n",
            "\n",
            "              precision    recall  f1-score   support\n",
            "\n",
            "           0       0.60      0.54      0.57       187\n",
            "           1       0.55      0.77      0.64       205\n",
            "           2       0.00      0.00      0.00        62\n",
            "\n",
            "    accuracy                           0.57       454\n",
            "   macro avg       0.39      0.44      0.40       454\n",
            "weighted avg       0.50      0.57      0.53       454\n",
            "\n",
            "Loss improved, saving 2\n"
          ]
        },
        {
          "output_type": "stream",
          "name": "stderr",
          "text": [
            "/usr/local/lib/python3.7/dist-packages/sklearn/metrics/_classification.py:1318: UndefinedMetricWarning: Precision and F-score are ill-defined and being set to 0.0 in labels with no predicted samples. Use `zero_division` parameter to control this behavior.\n",
            "  _warn_prf(average, modifier, msg_start, len(result))\n",
            "/usr/local/lib/python3.7/dist-packages/sklearn/metrics/_classification.py:1318: UndefinedMetricWarning: Precision and F-score are ill-defined and being set to 0.0 in labels with no predicted samples. Use `zero_division` parameter to control this behavior.\n",
            "  _warn_prf(average, modifier, msg_start, len(result))\n",
            "/usr/local/lib/python3.7/dist-packages/sklearn/metrics/_classification.py:1318: UndefinedMetricWarning: Precision and F-score are ill-defined and being set to 0.0 in labels with no predicted samples. Use `zero_division` parameter to control this behavior.\n",
            "  _warn_prf(average, modifier, msg_start, len(result))\n"
          ]
        },
        {
          "output_type": "stream",
          "name": "stdout",
          "text": [
            "Epoch 3\n",
            "Step 10, loss: 0.8490334451198578\n",
            "Step 20, loss: 0.8741215407848358\n",
            "Step 30, loss: 0.8454448401927948\n",
            "Validation loss: 0.8992349863052368\n",
            "\n",
            "              precision    recall  f1-score   support\n",
            "\n",
            "           0       0.58      0.65      0.61       187\n",
            "           1       0.60      0.72      0.66       205\n",
            "           2       0.00      0.00      0.00        62\n",
            "\n",
            "    accuracy                           0.59       454\n",
            "   macro avg       0.39      0.46      0.42       454\n",
            "weighted avg       0.51      0.59      0.55       454\n",
            "\n",
            "Loss improved, saving 3\n"
          ]
        },
        {
          "output_type": "stream",
          "name": "stderr",
          "text": [
            "/usr/local/lib/python3.7/dist-packages/sklearn/metrics/_classification.py:1318: UndefinedMetricWarning: Precision and F-score are ill-defined and being set to 0.0 in labels with no predicted samples. Use `zero_division` parameter to control this behavior.\n",
            "  _warn_prf(average, modifier, msg_start, len(result))\n",
            "/usr/local/lib/python3.7/dist-packages/sklearn/metrics/_classification.py:1318: UndefinedMetricWarning: Precision and F-score are ill-defined and being set to 0.0 in labels with no predicted samples. Use `zero_division` parameter to control this behavior.\n",
            "  _warn_prf(average, modifier, msg_start, len(result))\n",
            "/usr/local/lib/python3.7/dist-packages/sklearn/metrics/_classification.py:1318: UndefinedMetricWarning: Precision and F-score are ill-defined and being set to 0.0 in labels with no predicted samples. Use `zero_division` parameter to control this behavior.\n",
            "  _warn_prf(average, modifier, msg_start, len(result))\n"
          ]
        }
      ]
    },
    {
      "cell_type": "code",
      "source": [
        "loss, res = evaluate(resolver, optimizer, valid_dl, True)\n",
        "res_s = np.exp(res)  # don't forget that we have log-softmax outputs:\n",
        "test_res = pd.DataFrame(res_s, index=val_df[\"ID\"], columns=[\"A\", \"B\", \"NEITHER\"])\n",
        "test_res.head()"
      ],
      "metadata": {
        "colab": {
          "base_uri": "https://localhost:8080/",
          "height": 570
        },
        "id": "mRogdQwMvy6p",
        "outputId": "961fb477-7ab1-4854-f6cd-13bde2e5ae7c"
      },
      "execution_count": 46,
      "outputs": [
        {
          "output_type": "stream",
          "name": "stdout",
          "text": [
            "Validation loss: 0.8994085947672527\n",
            "\n",
            "              precision    recall  f1-score   support\n",
            "\n",
            "           0       0.58      0.65      0.61       187\n",
            "           1       0.60      0.72      0.66       205\n",
            "           2       0.00      0.00      0.00        62\n",
            "\n",
            "    accuracy                           0.59       454\n",
            "   macro avg       0.39      0.46      0.42       454\n",
            "weighted avg       0.51      0.59      0.55       454\n",
            "\n"
          ]
        },
        {
          "output_type": "stream",
          "name": "stderr",
          "text": [
            "/usr/local/lib/python3.7/dist-packages/sklearn/metrics/_classification.py:1318: UndefinedMetricWarning: Precision and F-score are ill-defined and being set to 0.0 in labels with no predicted samples. Use `zero_division` parameter to control this behavior.\n",
            "  _warn_prf(average, modifier, msg_start, len(result))\n",
            "/usr/local/lib/python3.7/dist-packages/sklearn/metrics/_classification.py:1318: UndefinedMetricWarning: Precision and F-score are ill-defined and being set to 0.0 in labels with no predicted samples. Use `zero_division` parameter to control this behavior.\n",
            "  _warn_prf(average, modifier, msg_start, len(result))\n",
            "/usr/local/lib/python3.7/dist-packages/sklearn/metrics/_classification.py:1318: UndefinedMetricWarning: Precision and F-score are ill-defined and being set to 0.0 in labels with no predicted samples. Use `zero_division` parameter to control this behavior.\n",
            "  _warn_prf(average, modifier, msg_start, len(result))\n"
          ]
        },
        {
          "output_type": "execute_result",
          "data": {
            "text/html": [
              "\n",
              "  <div id=\"df-ce4d21a5-9b2b-45aa-a0d6-5b8724f03d8a\">\n",
              "    <div class=\"colab-df-container\">\n",
              "      <div>\n",
              "<style scoped>\n",
              "    .dataframe tbody tr th:only-of-type {\n",
              "        vertical-align: middle;\n",
              "    }\n",
              "\n",
              "    .dataframe tbody tr th {\n",
              "        vertical-align: top;\n",
              "    }\n",
              "\n",
              "    .dataframe thead th {\n",
              "        text-align: right;\n",
              "    }\n",
              "</style>\n",
              "<table border=\"1\" class=\"dataframe\">\n",
              "  <thead>\n",
              "    <tr style=\"text-align: right;\">\n",
              "      <th></th>\n",
              "      <th>A</th>\n",
              "      <th>B</th>\n",
              "      <th>NEITHER</th>\n",
              "    </tr>\n",
              "    <tr>\n",
              "      <th>ID</th>\n",
              "      <th></th>\n",
              "      <th></th>\n",
              "      <th></th>\n",
              "    </tr>\n",
              "  </thead>\n",
              "  <tbody>\n",
              "    <tr>\n",
              "      <th>validation-1</th>\n",
              "      <td>0.316870</td>\n",
              "      <td>0.603443</td>\n",
              "      <td>0.079688</td>\n",
              "    </tr>\n",
              "    <tr>\n",
              "      <th>validation-2</th>\n",
              "      <td>0.489353</td>\n",
              "      <td>0.423739</td>\n",
              "      <td>0.086909</td>\n",
              "    </tr>\n",
              "    <tr>\n",
              "      <th>validation-3</th>\n",
              "      <td>0.257313</td>\n",
              "      <td>0.639748</td>\n",
              "      <td>0.102939</td>\n",
              "    </tr>\n",
              "    <tr>\n",
              "      <th>validation-4</th>\n",
              "      <td>0.566800</td>\n",
              "      <td>0.343182</td>\n",
              "      <td>0.090018</td>\n",
              "    </tr>\n",
              "    <tr>\n",
              "      <th>validation-5</th>\n",
              "      <td>0.559244</td>\n",
              "      <td>0.282337</td>\n",
              "      <td>0.158419</td>\n",
              "    </tr>\n",
              "  </tbody>\n",
              "</table>\n",
              "</div>\n",
              "      <button class=\"colab-df-convert\" onclick=\"convertToInteractive('df-ce4d21a5-9b2b-45aa-a0d6-5b8724f03d8a')\"\n",
              "              title=\"Convert this dataframe to an interactive table.\"\n",
              "              style=\"display:none;\">\n",
              "        \n",
              "  <svg xmlns=\"http://www.w3.org/2000/svg\" height=\"24px\"viewBox=\"0 0 24 24\"\n",
              "       width=\"24px\">\n",
              "    <path d=\"M0 0h24v24H0V0z\" fill=\"none\"/>\n",
              "    <path d=\"M18.56 5.44l.94 2.06.94-2.06 2.06-.94-2.06-.94-.94-2.06-.94 2.06-2.06.94zm-11 1L8.5 8.5l.94-2.06 2.06-.94-2.06-.94L8.5 2.5l-.94 2.06-2.06.94zm10 10l.94 2.06.94-2.06 2.06-.94-2.06-.94-.94-2.06-.94 2.06-2.06.94z\"/><path d=\"M17.41 7.96l-1.37-1.37c-.4-.4-.92-.59-1.43-.59-.52 0-1.04.2-1.43.59L10.3 9.45l-7.72 7.72c-.78.78-.78 2.05 0 2.83L4 21.41c.39.39.9.59 1.41.59.51 0 1.02-.2 1.41-.59l7.78-7.78 2.81-2.81c.8-.78.8-2.07 0-2.86zM5.41 20L4 18.59l7.72-7.72 1.47 1.35L5.41 20z\"/>\n",
              "  </svg>\n",
              "      </button>\n",
              "      \n",
              "  <style>\n",
              "    .colab-df-container {\n",
              "      display:flex;\n",
              "      flex-wrap:wrap;\n",
              "      gap: 12px;\n",
              "    }\n",
              "\n",
              "    .colab-df-convert {\n",
              "      background-color: #E8F0FE;\n",
              "      border: none;\n",
              "      border-radius: 50%;\n",
              "      cursor: pointer;\n",
              "      display: none;\n",
              "      fill: #1967D2;\n",
              "      height: 32px;\n",
              "      padding: 0 0 0 0;\n",
              "      width: 32px;\n",
              "    }\n",
              "\n",
              "    .colab-df-convert:hover {\n",
              "      background-color: #E2EBFA;\n",
              "      box-shadow: 0px 1px 2px rgba(60, 64, 67, 0.3), 0px 1px 3px 1px rgba(60, 64, 67, 0.15);\n",
              "      fill: #174EA6;\n",
              "    }\n",
              "\n",
              "    [theme=dark] .colab-df-convert {\n",
              "      background-color: #3B4455;\n",
              "      fill: #D2E3FC;\n",
              "    }\n",
              "\n",
              "    [theme=dark] .colab-df-convert:hover {\n",
              "      background-color: #434B5C;\n",
              "      box-shadow: 0px 1px 3px 1px rgba(0, 0, 0, 0.15);\n",
              "      filter: drop-shadow(0px 1px 2px rgba(0, 0, 0, 0.3));\n",
              "      fill: #FFFFFF;\n",
              "    }\n",
              "  </style>\n",
              "\n",
              "      <script>\n",
              "        const buttonEl =\n",
              "          document.querySelector('#df-ce4d21a5-9b2b-45aa-a0d6-5b8724f03d8a button.colab-df-convert');\n",
              "        buttonEl.style.display =\n",
              "          google.colab.kernel.accessAllowed ? 'block' : 'none';\n",
              "\n",
              "        async function convertToInteractive(key) {\n",
              "          const element = document.querySelector('#df-ce4d21a5-9b2b-45aa-a0d6-5b8724f03d8a');\n",
              "          const dataTable =\n",
              "            await google.colab.kernel.invokeFunction('convertToInteractive',\n",
              "                                                     [key], {});\n",
              "          if (!dataTable) return;\n",
              "\n",
              "          const docLinkHtml = 'Like what you see? Visit the ' +\n",
              "            '<a target=\"_blank\" href=https://colab.research.google.com/notebooks/data_table.ipynb>data table notebook</a>'\n",
              "            + ' to learn more about interactive tables.';\n",
              "          element.innerHTML = '';\n",
              "          dataTable['output_type'] = 'display_data';\n",
              "          await google.colab.output.renderOutput(dataTable, element);\n",
              "          const docLink = document.createElement('div');\n",
              "          docLink.innerHTML = docLinkHtml;\n",
              "          element.appendChild(docLink);\n",
              "        }\n",
              "      </script>\n",
              "    </div>\n",
              "  </div>\n",
              "  "
            ],
            "text/plain": [
              "                     A         B   NEITHER\n",
              "ID                                        \n",
              "validation-1  0.316870  0.603443  0.079688\n",
              "validation-2  0.489353  0.423739  0.086909\n",
              "validation-3  0.257313  0.639748  0.102939\n",
              "validation-4  0.566800  0.343182  0.090018\n",
              "validation-5  0.559244  0.282337  0.158419"
            ]
          },
          "metadata": {},
          "execution_count": 46
        }
      ]
    },
    {
      "cell_type": "code",
      "source": [
        "val_df.head()"
      ],
      "metadata": {
        "colab": {
          "base_uri": "https://localhost:8080/",
          "height": 719
        },
        "id": "tH1cbKF509_D",
        "outputId": "413f8d14-50fb-4cae-c68f-0273178079db"
      },
      "execution_count": 48,
      "outputs": [
        {
          "output_type": "execute_result",
          "data": {
            "text/html": [
              "\n",
              "  <div id=\"df-7b8473de-07ed-4b0b-a774-6863bf515250\">\n",
              "    <div class=\"colab-df-container\">\n",
              "      <div>\n",
              "<style scoped>\n",
              "    .dataframe tbody tr th:only-of-type {\n",
              "        vertical-align: middle;\n",
              "    }\n",
              "\n",
              "    .dataframe tbody tr th {\n",
              "        vertical-align: top;\n",
              "    }\n",
              "\n",
              "    .dataframe thead th {\n",
              "        text-align: right;\n",
              "    }\n",
              "</style>\n",
              "<table border=\"1\" class=\"dataframe\">\n",
              "  <thead>\n",
              "    <tr style=\"text-align: right;\">\n",
              "      <th></th>\n",
              "      <th>ID</th>\n",
              "      <th>Text</th>\n",
              "      <th>Pronoun</th>\n",
              "      <th>Pronoun-offset</th>\n",
              "      <th>A</th>\n",
              "      <th>A-offset</th>\n",
              "      <th>A-coref</th>\n",
              "      <th>B</th>\n",
              "      <th>B-offset</th>\n",
              "      <th>B-coref</th>\n",
              "      <th>URL</th>\n",
              "    </tr>\n",
              "  </thead>\n",
              "  <tbody>\n",
              "    <tr>\n",
              "      <th>0</th>\n",
              "      <td>validation-1</td>\n",
              "      <td>He admitted making four trips to China and playing golf there. He also admitted that ZTE officials, whom he says are his golf buddies, hosted and paid for the trips. Jose de Venecia III, son of House Speaker Jose de Venecia Jr, alleged that Abalos offered him US$10 million to withdraw his proposal on the NBN project.</td>\n",
              "      <td>him</td>\n",
              "      <td>256</td>\n",
              "      <td>Jose de Venecia Jr</td>\n",
              "      <td>208</td>\n",
              "      <td>False</td>\n",
              "      <td>Abalos</td>\n",
              "      <td>241</td>\n",
              "      <td>False</td>\n",
              "      <td>http://en.wikipedia.org/wiki/Commission_on_Elections_(Philippines)</td>\n",
              "    </tr>\n",
              "    <tr>\n",
              "      <th>1</th>\n",
              "      <td>validation-2</td>\n",
              "      <td>Kathleen Nott was born in Camberwell, London. Her father, Philip, was a lithographic printer, and her mother, Ellen, ran a boarding house in Brixton; Kathleen was their third daughter. She was educated at Mary Datchelor Girls' School (now closed), London, before attending King's College, London.</td>\n",
              "      <td>She</td>\n",
              "      <td>185</td>\n",
              "      <td>Ellen</td>\n",
              "      <td>110</td>\n",
              "      <td>False</td>\n",
              "      <td>Kathleen</td>\n",
              "      <td>150</td>\n",
              "      <td>True</td>\n",
              "      <td>http://en.wikipedia.org/wiki/Kathleen_Nott</td>\n",
              "    </tr>\n",
              "    <tr>\n",
              "      <th>2</th>\n",
              "      <td>validation-3</td>\n",
              "      <td>When she returns to her hotel room, a Liberian man (Tony Todd) forces her to smuggle $20 million worth of conflict diamonds to New York, or else fellow fight attendant and friend Angela will die. She is caught before she can board the flight, and the team now have nine hours until the plane lands, and save Angela. After the confiscated diamonds are stolen by the brother of Kaleo (Jason Scott Lee), whom Danny put away for murdering his partner last year, Five-0 and Chief Fryer team up and enlist the help of August March (Ed Asner), who served a 30-year sentence for smuggling diamonds.</td>\n",
              "      <td>his</td>\n",
              "      <td>435</td>\n",
              "      <td>Jason Scott Lee</td>\n",
              "      <td>383</td>\n",
              "      <td>False</td>\n",
              "      <td>Danny</td>\n",
              "      <td>406</td>\n",
              "      <td>True</td>\n",
              "      <td>http://en.wikipedia.org/wiki/Hawaii_Five-0_(2010_TV_series,_season_2)</td>\n",
              "    </tr>\n",
              "    <tr>\n",
              "      <th>3</th>\n",
              "      <td>validation-4</td>\n",
              "      <td>On 19 March 2007, during a campaign appearance for the New South Wales State Election, the then opposition leader Peter Debnam was confronted by Reucassel wearing nothing but Speedos and a baseball cap, making fun of Debnam's campaign appearances in the swimwear. When TV cameras remained focused on Reucassel rather than Mr Debnam, he said, ``Sorry, I'm not Peter Debnam, he's over there.</td>\n",
              "      <td>he</td>\n",
              "      <td>333</td>\n",
              "      <td>Reucassel</td>\n",
              "      <td>300</td>\n",
              "      <td>True</td>\n",
              "      <td>Debnam</td>\n",
              "      <td>325</td>\n",
              "      <td>False</td>\n",
              "      <td>http://en.wikipedia.org/wiki/Craig_Reucassel</td>\n",
              "    </tr>\n",
              "    <tr>\n",
              "      <th>4</th>\n",
              "      <td>validation-5</td>\n",
              "      <td>By this time, Karen Blixen had separated from her husband, and after their divorce in 1925, Finch Hatton moved into her house and began leading safaris for wealthy sportsmen. Among his clients were Marshall Field Jr and Edward, Prince of Wales. According to the author Mary Lovell, in 1930 Finch Hatton began a love affair with Beryl Markham, who was working as a race-horse trainer in Nairobi and the surrounding area. Later, she would become known as a pioneer flyer herself (Markham attributed her interest in flying to her association with Tom Campbell Black).</td>\n",
              "      <td>she</td>\n",
              "      <td>427</td>\n",
              "      <td>Finch Hatton</td>\n",
              "      <td>290</td>\n",
              "      <td>False</td>\n",
              "      <td>Beryl Markham</td>\n",
              "      <td>328</td>\n",
              "      <td>True</td>\n",
              "      <td>http://en.wikipedia.org/wiki/Denys_Finch_Hatton</td>\n",
              "    </tr>\n",
              "  </tbody>\n",
              "</table>\n",
              "</div>\n",
              "      <button class=\"colab-df-convert\" onclick=\"convertToInteractive('df-7b8473de-07ed-4b0b-a774-6863bf515250')\"\n",
              "              title=\"Convert this dataframe to an interactive table.\"\n",
              "              style=\"display:none;\">\n",
              "        \n",
              "  <svg xmlns=\"http://www.w3.org/2000/svg\" height=\"24px\"viewBox=\"0 0 24 24\"\n",
              "       width=\"24px\">\n",
              "    <path d=\"M0 0h24v24H0V0z\" fill=\"none\"/>\n",
              "    <path d=\"M18.56 5.44l.94 2.06.94-2.06 2.06-.94-2.06-.94-.94-2.06-.94 2.06-2.06.94zm-11 1L8.5 8.5l.94-2.06 2.06-.94-2.06-.94L8.5 2.5l-.94 2.06-2.06.94zm10 10l.94 2.06.94-2.06 2.06-.94-2.06-.94-.94-2.06-.94 2.06-2.06.94z\"/><path d=\"M17.41 7.96l-1.37-1.37c-.4-.4-.92-.59-1.43-.59-.52 0-1.04.2-1.43.59L10.3 9.45l-7.72 7.72c-.78.78-.78 2.05 0 2.83L4 21.41c.39.39.9.59 1.41.59.51 0 1.02-.2 1.41-.59l7.78-7.78 2.81-2.81c.8-.78.8-2.07 0-2.86zM5.41 20L4 18.59l7.72-7.72 1.47 1.35L5.41 20z\"/>\n",
              "  </svg>\n",
              "      </button>\n",
              "      \n",
              "  <style>\n",
              "    .colab-df-container {\n",
              "      display:flex;\n",
              "      flex-wrap:wrap;\n",
              "      gap: 12px;\n",
              "    }\n",
              "\n",
              "    .colab-df-convert {\n",
              "      background-color: #E8F0FE;\n",
              "      border: none;\n",
              "      border-radius: 50%;\n",
              "      cursor: pointer;\n",
              "      display: none;\n",
              "      fill: #1967D2;\n",
              "      height: 32px;\n",
              "      padding: 0 0 0 0;\n",
              "      width: 32px;\n",
              "    }\n",
              "\n",
              "    .colab-df-convert:hover {\n",
              "      background-color: #E2EBFA;\n",
              "      box-shadow: 0px 1px 2px rgba(60, 64, 67, 0.3), 0px 1px 3px 1px rgba(60, 64, 67, 0.15);\n",
              "      fill: #174EA6;\n",
              "    }\n",
              "\n",
              "    [theme=dark] .colab-df-convert {\n",
              "      background-color: #3B4455;\n",
              "      fill: #D2E3FC;\n",
              "    }\n",
              "\n",
              "    [theme=dark] .colab-df-convert:hover {\n",
              "      background-color: #434B5C;\n",
              "      box-shadow: 0px 1px 3px 1px rgba(0, 0, 0, 0.15);\n",
              "      filter: drop-shadow(0px 1px 2px rgba(0, 0, 0, 0.3));\n",
              "      fill: #FFFFFF;\n",
              "    }\n",
              "  </style>\n",
              "\n",
              "      <script>\n",
              "        const buttonEl =\n",
              "          document.querySelector('#df-7b8473de-07ed-4b0b-a774-6863bf515250 button.colab-df-convert');\n",
              "        buttonEl.style.display =\n",
              "          google.colab.kernel.accessAllowed ? 'block' : 'none';\n",
              "\n",
              "        async function convertToInteractive(key) {\n",
              "          const element = document.querySelector('#df-7b8473de-07ed-4b0b-a774-6863bf515250');\n",
              "          const dataTable =\n",
              "            await google.colab.kernel.invokeFunction('convertToInteractive',\n",
              "                                                     [key], {});\n",
              "          if (!dataTable) return;\n",
              "\n",
              "          const docLinkHtml = 'Like what you see? Visit the ' +\n",
              "            '<a target=\"_blank\" href=https://colab.research.google.com/notebooks/data_table.ipynb>data table notebook</a>'\n",
              "            + ' to learn more about interactive tables.';\n",
              "          element.innerHTML = '';\n",
              "          dataTable['output_type'] = 'display_data';\n",
              "          await google.colab.output.renderOutput(dataTable, element);\n",
              "          const docLink = document.createElement('div');\n",
              "          docLink.innerHTML = docLinkHtml;\n",
              "          element.appendChild(docLink);\n",
              "        }\n",
              "      </script>\n",
              "    </div>\n",
              "  </div>\n",
              "  "
            ],
            "text/plain": [
              "             ID  ...                                                                    URL\n",
              "0  validation-1  ...     http://en.wikipedia.org/wiki/Commission_on_Elections_(Philippines)\n",
              "1  validation-2  ...                             http://en.wikipedia.org/wiki/Kathleen_Nott\n",
              "2  validation-3  ...  http://en.wikipedia.org/wiki/Hawaii_Five-0_(2010_TV_series,_season_2)\n",
              "3  validation-4  ...                           http://en.wikipedia.org/wiki/Craig_Reucassel\n",
              "4  validation-5  ...                        http://en.wikipedia.org/wiki/Denys_Finch_Hatton\n",
              "\n",
              "[5 rows x 11 columns]"
            ]
          },
          "metadata": {},
          "execution_count": 48
        }
      ]
    },
    {
      "cell_type": "code",
      "source": [
        ""
      ],
      "metadata": {
        "id": "jxVtBpGZ2WCS"
      },
      "execution_count": null,
      "outputs": []
    }
  ]
}