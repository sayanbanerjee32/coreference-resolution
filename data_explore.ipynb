{
  "nbformat": 4,
  "nbformat_minor": 0,
  "metadata": {
    "colab": {
      "name": "data_explore.ipynb",
      "provenance": [],
      "authorship_tag": "ABX9TyNUhuQbolfVtc20AiUi1EIc",
      "include_colab_link": true
    },
    "kernelspec": {
      "name": "python3",
      "display_name": "Python 3"
    },
    "language_info": {
      "name": "python"
    },
    "accelerator": "GPU"
  },
  "cells": [
    {
      "cell_type": "markdown",
      "metadata": {
        "id": "view-in-github",
        "colab_type": "text"
      },
      "source": [
        "<a href=\"https://colab.research.google.com/github/sayanbanerjee32/coreference-resolution/blob/main/data_explore.ipynb\" target=\"_parent\"><img src=\"https://colab.research.google.com/assets/colab-badge.svg\" alt=\"Open In Colab\"/></a>"
      ]
    },
    {
      "cell_type": "markdown",
      "source": [
        "# Papers and blogs"
      ],
      "metadata": {
        "id": "Ns9R4rP3DlrA"
      }
    },
    {
      "cell_type": "markdown",
      "source": [
        "End2End Coref Resolution By Attention RNN - https://www.kaggle.com/keyit92/end2end-coref-resolution-by-attention-rnn  \n",
        "coreference-resolution - https://www.kaggle.com/abhishekbhole/coreference-resolution  \n",
        "SpanBERT - https://arxiv.org/pdf/1907.10529.pdf   \n",
        "BERT for Coreference Resolution - https://arxiv.org/pdf/1908.09091.pdf  \n",
        "GITHub for BERT and SpanBERT - https://github.com/mandarjoshi90/coref  \n",
        "Fast AI solution - https://www.kaggle.com/mamamot/fastai-awd-lstm-solution-0-71-lb/notebook"
      ],
      "metadata": {
        "id": "21Wppr0W58LH"
      }
    },
    {
      "cell_type": "code",
      "source": [
        "%%capture\n",
        "!pip install fastai -Uq"
      ],
      "metadata": {
        "id": "OFLs_sezDqaP"
      },
      "execution_count": 1,
      "outputs": []
    },
    {
      "cell_type": "code",
      "execution_count": 2,
      "metadata": {
        "colab": {
          "base_uri": "https://localhost:8080/"
        },
        "id": "Fy9GY84xBFlH",
        "outputId": "2756e776-f7eb-422e-978a-c2eea543daed"
      },
      "outputs": [
        {
          "output_type": "stream",
          "name": "stdout",
          "text": [
            "Mounted at /content/drive\n"
          ]
        }
      ],
      "source": [
        "# mount gdrive for data\n",
        "from google.colab import drive\n",
        "drive.mount('/content/drive')"
      ]
    },
    {
      "cell_type": "code",
      "source": [
        "# file locations\n",
        "train_file_path = '/content/drive/MyDrive/coref_resolution/data/gap-development.tsv'\n",
        "val_file_path = '/content/drive/MyDrive/coref_resolution/data/gap-validate.tsv'\n",
        "test_file_path = '/content/drive/MyDrive/coref_resolution/data/gap-test.tsv'\n",
        "model_save_path = '/content/drive/MyDrive/coref_resolution/models/'"
      ],
      "metadata": {
        "id": "VkMY4CW9c6PH"
      },
      "execution_count": 25,
      "outputs": []
    },
    {
      "cell_type": "code",
      "source": [
        "import pandas as pd\n",
        "from fastai.text.all import *\n",
        "from pathlib import Path"
      ],
      "metadata": {
        "id": "vKOmey0Id33k"
      },
      "execution_count": 26,
      "outputs": []
    },
    {
      "cell_type": "code",
      "source": [
        "train_df = pd.read_csv(train_file_path,sep=\"\\t\")\n",
        "test_df = pd.read_csv(test_file_path,sep=\"\\t\")\n",
        "val_df = pd.read_csv(val_file_path,sep=\"\\t\")"
      ],
      "metadata": {
        "id": "pQcOrti9d5r-"
      },
      "execution_count": 13,
      "outputs": []
    },
    {
      "cell_type": "code",
      "source": [
        "train_df[\"Text\"][0], train_df[\"Text\"][1]"
      ],
      "metadata": {
        "id": "XGlVRck-eC8N",
        "outputId": "fa3217ff-65e1-4130-b870-07b5c3b9bfd2",
        "colab": {
          "base_uri": "https://localhost:8080/"
        }
      },
      "execution_count": 14,
      "outputs": [
        {
          "output_type": "execute_result",
          "data": {
            "text/plain": [
              "(\"Zoe Telford -- played the police officer girlfriend of Simon, Maggie. Dumped by Simon in the final episode of series 1, after he slept with Jenny, and is not seen again. Phoebe Thomas played Cheryl Cassidy, Pauline's friend and also a year 11 pupil in Simon's class. Dumped her boyfriend following Simon's advice after he wouldn't have sex with her but later realised this was due to him catching crabs off her friend Pauline.\",\n",
              " 'He grew up in Evanston, Illinois the second oldest of five children including his brothers, Fred and Gordon and sisters, Marge (Peppy) and Marilyn. His high school days were spent at New Trier High School in Winnetka, Illinois. MacKenzie studied with Bernard Leach from 1949 to 1952. His simple, wheel-thrown functional pottery is heavily influenced by the oriental aesthetic of Shoji Hamada and Kanjiro Kawai.')"
            ]
          },
          "metadata": {},
          "execution_count": 14
        }
      ]
    },
    {
      "cell_type": "code",
      "source": [
        "print(len(train_df), len(val_df), len(test_df))"
      ],
      "metadata": {
        "id": "mMhw6SgQQAi6",
        "outputId": "406f76cb-4868-4386-8c9c-abb45ecf2323",
        "colab": {
          "base_uri": "https://localhost:8080/"
        }
      },
      "execution_count": 15,
      "outputs": [
        {
          "output_type": "stream",
          "name": "stdout",
          "text": [
            "2000 454 2000\n"
          ]
        }
      ]
    },
    {
      "cell_type": "markdown",
      "source": [
        "## Fine tune language model"
      ],
      "metadata": {
        "id": "VK2fRdRSHV2R"
      }
    },
    {
      "cell_type": "code",
      "source": [
        "# lets keep val for final testing\n",
        "df_pretrain = pd.concat([train_df, test_df])\n",
        "df_pretrain.info()"
      ],
      "metadata": {
        "id": "QnXzYo6MExee",
        "outputId": "c618fa4c-14bc-4146-edc2-6c91cc3c86d2",
        "colab": {
          "base_uri": "https://localhost:8080/"
        }
      },
      "execution_count": 16,
      "outputs": [
        {
          "output_type": "stream",
          "name": "stdout",
          "text": [
            "<class 'pandas.core.frame.DataFrame'>\n",
            "Int64Index: 4000 entries, 0 to 1999\n",
            "Data columns (total 11 columns):\n",
            " #   Column          Non-Null Count  Dtype \n",
            "---  ------          --------------  ----- \n",
            " 0   ID              4000 non-null   object\n",
            " 1   Text            4000 non-null   object\n",
            " 2   Pronoun         4000 non-null   object\n",
            " 3   Pronoun-offset  4000 non-null   int64 \n",
            " 4   A               4000 non-null   object\n",
            " 5   A-offset        4000 non-null   int64 \n",
            " 6   A-coref         4000 non-null   bool  \n",
            " 7   B               4000 non-null   object\n",
            " 8   B-offset        4000 non-null   int64 \n",
            " 9   B-coref         4000 non-null   bool  \n",
            " 10  URL             4000 non-null   object\n",
            "dtypes: bool(2), int64(3), object(6)\n",
            "memory usage: 320.3+ KB\n"
          ]
        }
      ]
    },
    {
      "cell_type": "code",
      "source": [
        "# fine tune language model\n",
        "data_lm = DataBlock(\n",
        "            blocks=TextBlock.from_df('Text', is_lm=True),\n",
        "            get_x=ColReader('text'),\n",
        "            splitter=RandomSplitter(0.1))\n",
        "\n",
        "dls_lm = data_lm.dataloaders(df_pretrain) \n",
        "dls_lm.show_batch(max_n=2)"
      ],
      "metadata": {
        "id": "Sl3NgIRKFMDm",
        "outputId": "528b7365-66df-4225-eff4-4de5a2978458",
        "colab": {
          "base_uri": "https://localhost:8080/",
          "height": 286
        }
      },
      "execution_count": 19,
      "outputs": [
        {
          "output_type": "display_data",
          "data": {
            "text/html": [
              "\n",
              "<style>\n",
              "    /* Turns off some styling */\n",
              "    progress {\n",
              "        /* gets rid of default border in Firefox and Opera. */\n",
              "        border: none;\n",
              "        /* Needs to be in here for Safari polyfill so background images work as expected. */\n",
              "        background-size: auto;\n",
              "    }\n",
              "    .progress-bar-interrupted, .progress-bar-interrupted::-webkit-progress-bar {\n",
              "        background: #F44336;\n",
              "    }\n",
              "</style>\n"
            ],
            "text/plain": [
              "<IPython.core.display.HTML object>"
            ]
          },
          "metadata": {}
        },
        {
          "output_type": "display_data",
          "data": {
            "text/html": [
              ""
            ],
            "text/plain": [
              "<IPython.core.display.HTML object>"
            ]
          },
          "metadata": {}
        },
        {
          "output_type": "display_data",
          "data": {
            "text/html": [
              "<table border=\"1\" class=\"dataframe\">\n",
              "  <thead>\n",
              "    <tr style=\"text-align: right;\">\n",
              "      <th></th>\n",
              "      <th>text</th>\n",
              "      <th>text_</th>\n",
              "    </tr>\n",
              "  </thead>\n",
              "  <tbody>\n",
              "    <tr>\n",
              "      <th>0</th>\n",
              "      <td>xxbos xxmaj this acquisition secured communication with xxmaj henry for the future . xxmaj in the fall of xxrep 3 1 0 xxmaj pedro placed his wife , xxmaj mayor xxmaj rodr*guez , and his ward , xxmaj alfonso , in his newly acquired castle . xxmaj one of the queen 's supporters , a minor nobleman named xxmaj arias xxmaj p*rez , attacked suddenly and forced xxmaj pedro to retreat ,</td>\n",
              "      <td>xxmaj this acquisition secured communication with xxmaj henry for the future . xxmaj in the fall of xxrep 3 1 0 xxmaj pedro placed his wife , xxmaj mayor xxmaj rodr*guez , and his ward , xxmaj alfonso , in his newly acquired castle . xxmaj one of the queen 's supporters , a minor nobleman named xxmaj arias xxmaj p*rez , attacked suddenly and forced xxmaj pedro to retreat , leaving</td>\n",
              "    </tr>\n",
              "    <tr>\n",
              "      <th>1</th>\n",
              "      <td>. xxmaj in 1962 , xxmaj signoret translated xxmaj lillian xxmaj xxunk 's play xxmaj the xxmaj little xxmaj xxunk into xxmaj french for a production in xxmaj paris that ran for six months at the xxmaj theatre sarah - xxunk . xxmaj she played the xxmaj regina role as well . xxbos xxmaj in 2011 , xxmaj jonas xxmaj xxunk xxmaj xxunk , the then xxmaj foreign xxmaj minister of xxmaj</td>\n",
              "      <td>xxmaj in 1962 , xxmaj signoret translated xxmaj lillian xxmaj xxunk 's play xxmaj the xxmaj little xxmaj xxunk into xxmaj french for a production in xxmaj paris that ran for six months at the xxmaj theatre sarah - xxunk . xxmaj she played the xxmaj regina role as well . xxbos xxmaj in 2011 , xxmaj jonas xxmaj xxunk xxmaj xxunk , the then xxmaj foreign xxmaj minister of xxmaj norway</td>\n",
              "    </tr>\n",
              "  </tbody>\n",
              "</table>"
            ],
            "text/plain": [
              "<IPython.core.display.HTML object>"
            ]
          },
          "metadata": {}
        }
      ]
    },
    {
      "cell_type": "code",
      "source": [
        "# create language model learner\n",
        "learn_lm = language_model_learner(\n",
        "    dls_lm, AWD_LSTM, drop_mult=0.5, pretrained=True, \n",
        "    metrics=[accuracy, Perplexity()]).to_fp16()"
      ],
      "metadata": {
        "id": "NAnJ4DhgFvEZ"
      },
      "execution_count": 22,
      "outputs": []
    },
    {
      "cell_type": "code",
      "source": [
        "# find optimum learning rate for language model\n",
        "learn_lm.lr_find()"
      ],
      "metadata": {
        "id": "9i3qcVBpHnU7",
        "outputId": "95bd953e-c84a-4988-e385-b0328e8187dd",
        "colab": {
          "base_uri": "https://localhost:8080/",
          "height": 300
        }
      },
      "execution_count": 23,
      "outputs": [
        {
          "output_type": "display_data",
          "data": {
            "text/html": [
              "\n",
              "<style>\n",
              "    /* Turns off some styling */\n",
              "    progress {\n",
              "        /* gets rid of default border in Firefox and Opera. */\n",
              "        border: none;\n",
              "        /* Needs to be in here for Safari polyfill so background images work as expected. */\n",
              "        background-size: auto;\n",
              "    }\n",
              "    .progress-bar-interrupted, .progress-bar-interrupted::-webkit-progress-bar {\n",
              "        background: #F44336;\n",
              "    }\n",
              "</style>\n"
            ],
            "text/plain": [
              "<IPython.core.display.HTML object>"
            ]
          },
          "metadata": {}
        },
        {
          "output_type": "display_data",
          "data": {
            "text/html": [
              ""
            ],
            "text/plain": [
              "<IPython.core.display.HTML object>"
            ]
          },
          "metadata": {}
        },
        {
          "output_type": "execute_result",
          "data": {
            "text/plain": [
              "SuggestedLRs(valley=0.010964781977236271)"
            ]
          },
          "metadata": {},
          "execution_count": 23
        },
        {
          "output_type": "display_data",
          "data": {
            "image/png": "[encoded data removed]",
            "text/plain": [
              "<Figure size 432x288 with 1 Axes>"
            ]
          },
          "metadata": {
            "needs_background": "light"
          }
        }
      ]
    },
    {
      "cell_type": "code",
      "source": [
        "# one cycle training\n",
        "learn_lm.fit_one_cycle(1, 0.01)"
      ],
      "metadata": {
        "id": "sUnSiaHuHtp8",
        "outputId": "d8c97ea0-ecf6-4037-c81b-18bf3c7fbafe",
        "colab": {
          "base_uri": "https://localhost:8080/",
          "height": 81
        }
      },
      "execution_count": 24,
      "outputs": [
        {
          "output_type": "display_data",
          "data": {
            "text/html": [
              "\n",
              "<style>\n",
              "    /* Turns off some styling */\n",
              "    progress {\n",
              "        /* gets rid of default border in Firefox and Opera. */\n",
              "        border: none;\n",
              "        /* Needs to be in here for Safari polyfill so background images work as expected. */\n",
              "        background-size: auto;\n",
              "    }\n",
              "    .progress-bar-interrupted, .progress-bar-interrupted::-webkit-progress-bar {\n",
              "        background: #F44336;\n",
              "    }\n",
              "</style>\n"
            ],
            "text/plain": [
              "<IPython.core.display.HTML object>"
            ]
          },
          "metadata": {}
        },
        {
          "output_type": "display_data",
          "data": {
            "text/html": [
              "<table border=\"1\" class=\"dataframe\">\n",
              "  <thead>\n",
              "    <tr style=\"text-align: left;\">\n",
              "      <th>epoch</th>\n",
              "      <th>train_loss</th>\n",
              "      <th>valid_loss</th>\n",
              "      <th>accuracy</th>\n",
              "      <th>perplexity</th>\n",
              "      <th>time</th>\n",
              "    </tr>\n",
              "  </thead>\n",
              "  <tbody>\n",
              "    <tr>\n",
              "      <td>0</td>\n",
              "      <td>3.587253</td>\n",
              "      <td>3.362264</td>\n",
              "      <td>0.376563</td>\n",
              "      <td>28.854448</td>\n",
              "      <td>00:20</td>\n",
              "    </tr>\n",
              "  </tbody>\n",
              "</table>"
            ],
            "text/plain": [
              "<IPython.core.display.HTML object>"
            ]
          },
          "metadata": {}
        }
      ]
    },
    {
      "cell_type": "code",
      "source": [
        "# unfreeze all the layers and one cycle training\n",
        "learn_lm.unfreeze()\n",
        "learn_lm.fit_one_cycle(5, 0.01)"
      ],
      "metadata": {
        "id": "QeLjJUlkH9ZM",
        "outputId": "4163392e-4e71-4e58-f32c-cfd8b4b2d350",
        "colab": {
          "base_uri": "https://localhost:8080/",
          "height": 206
        }
      },
      "execution_count": 28,
      "outputs": [
        {
          "output_type": "display_data",
          "data": {
            "text/html": [
              "\n",
              "<style>\n",
              "    /* Turns off some styling */\n",
              "    progress {\n",
              "        /* gets rid of default border in Firefox and Opera. */\n",
              "        border: none;\n",
              "        /* Needs to be in here for Safari polyfill so background images work as expected. */\n",
              "        background-size: auto;\n",
              "    }\n",
              "    .progress-bar-interrupted, .progress-bar-interrupted::-webkit-progress-bar {\n",
              "        background: #F44336;\n",
              "    }\n",
              "</style>\n"
            ],
            "text/plain": [
              "<IPython.core.display.HTML object>"
            ]
          },
          "metadata": {}
        },
        {
          "output_type": "display_data",
          "data": {
            "text/html": [
              "<table border=\"1\" class=\"dataframe\">\n",
              "  <thead>\n",
              "    <tr style=\"text-align: left;\">\n",
              "      <th>epoch</th>\n",
              "      <th>train_loss</th>\n",
              "      <th>valid_loss</th>\n",
              "      <th>accuracy</th>\n",
              "      <th>perplexity</th>\n",
              "      <th>time</th>\n",
              "    </tr>\n",
              "  </thead>\n",
              "  <tbody>\n",
              "    <tr>\n",
              "      <td>0</td>\n",
              "      <td>3.184223</td>\n",
              "      <td>3.625756</td>\n",
              "      <td>0.339757</td>\n",
              "      <td>37.553093</td>\n",
              "      <td>00:20</td>\n",
              "    </tr>\n",
              "    <tr>\n",
              "      <td>1</td>\n",
              "      <td>3.249936</td>\n",
              "      <td>3.667060</td>\n",
              "      <td>0.346159</td>\n",
              "      <td>39.136681</td>\n",
              "      <td>00:20</td>\n",
              "    </tr>\n",
              "    <tr>\n",
              "      <td>2</td>\n",
              "      <td>2.845441</td>\n",
              "      <td>3.711971</td>\n",
              "      <td>0.350977</td>\n",
              "      <td>40.934402</td>\n",
              "      <td>00:20</td>\n",
              "    </tr>\n",
              "    <tr>\n",
              "      <td>3</td>\n",
              "      <td>2.227012</td>\n",
              "      <td>3.883855</td>\n",
              "      <td>0.351150</td>\n",
              "      <td>48.611233</td>\n",
              "      <td>00:21</td>\n",
              "    </tr>\n",
              "    <tr>\n",
              "      <td>4</td>\n",
              "      <td>1.661404</td>\n",
              "      <td>4.055688</td>\n",
              "      <td>0.343642</td>\n",
              "      <td>57.724857</td>\n",
              "      <td>00:20</td>\n",
              "    </tr>\n",
              "  </tbody>\n",
              "</table>"
            ],
            "text/plain": [
              "<IPython.core.display.HTML object>"
            ]
          },
          "metadata": {}
        }
      ]
    },
    {
      "cell_type": "code",
      "source": [
        "# save language model\n",
        "learn_lm.save_encoder(Path(model_save_path) /'lm_fine_tuned')"
      ],
      "metadata": {
        "id": "coY2Nv-9IArq"
      },
      "execution_count": 30,
      "outputs": []
    },
    {
      "cell_type": "code",
      "source": [
        ""
      ],
      "metadata": {
        "id": "MJjD1mVpI65B"
      },
      "execution_count": null,
      "outputs": []
    }
  ]
}