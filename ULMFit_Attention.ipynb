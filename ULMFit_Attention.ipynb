{
  "nbformat": 4,
  "nbformat_minor": 0,
  "metadata": {
    "colab": {
      "name": "data_explore.ipynb",
      "provenance": [],
      "authorship_tag": "ABX9TyPutl/V+Z4J+vxnElIb3v6x",
      "include_colab_link": true
    },
    "kernelspec": {
      "name": "python3",
      "display_name": "Python 3"
    },
    "language_info": {
      "name": "python"
    },
    "accelerator": "GPU",
    "widgets": {
      "application/vnd.jupyter.widget-state+json": {
        "4ef430398a4b424296da8e781dfb1bb7": {
          "model_module": "@jupyter-widgets/controls",
          "model_name": "HBoxModel",
          "model_module_version": "1.5.0",
          "state": {
            "_view_name": "HBoxView",
            "_dom_classes": [],
            "_model_name": "HBoxModel",
            "_view_module": "@jupyter-widgets/controls",
            "_model_module_version": "1.5.0",
            "_view_count": null,
            "_view_module_version": "1.5.0",
            "box_style": "",
            "layout": "IPY_MODEL_a128b5f7ff8348df90eccb208beab111",
            "_model_module": "@jupyter-widgets/controls",
            "children": [
              "IPY_MODEL_a2c336e12a4d45199e27fe65fa2c19ea",
              "IPY_MODEL_fbe8be7000d8476b898168d516c9ec83",
              "IPY_MODEL_2c743319459d473eb9ef6dbdc4931fd7"
            ]
          }
        },
        "a128b5f7ff8348df90eccb208beab111": {
          "model_module": "@jupyter-widgets/base",
          "model_name": "LayoutModel",
          "model_module_version": "1.2.0",
          "state": {
            "_view_name": "LayoutView",
            "grid_template_rows": null,
            "right": null,
            "justify_content": null,
            "_view_module": "@jupyter-widgets/base",
            "overflow": null,
            "_model_module_version": "1.2.0",
            "_view_count": null,
            "flex_flow": null,
            "width": null,
            "min_width": null,
            "border": null,
            "align_items": null,
            "bottom": null,
            "_model_module": "@jupyter-widgets/base",
            "top": null,
            "grid_column": null,
            "overflow_y": null,
            "overflow_x": null,
            "grid_auto_flow": null,
            "grid_area": null,
            "grid_template_columns": null,
            "flex": null,
            "_model_name": "LayoutModel",
            "justify_items": null,
            "grid_row": null,
            "max_height": null,
            "align_content": null,
            "visibility": null,
            "align_self": null,
            "height": null,
            "min_height": null,
            "padding": null,
            "grid_auto_rows": null,
            "grid_gap": null,
            "max_width": null,
            "order": null,
            "_view_module_version": "1.2.0",
            "grid_template_areas": null,
            "object_position": null,
            "object_fit": null,
            "grid_auto_columns": null,
            "margin": null,
            "display": null,
            "left": null
          }
        },
        "a2c336e12a4d45199e27fe65fa2c19ea": {
          "model_module": "@jupyter-widgets/controls",
          "model_name": "HTMLModel",
          "model_module_version": "1.5.0",
          "state": {
            "_view_name": "HTMLView",
            "style": "IPY_MODEL_75b41ff2055a46888f33ff28ec574fdd",
            "_dom_classes": [],
            "description": "",
            "_model_name": "HTMLModel",
            "placeholder": "​",
            "_view_module": "@jupyter-widgets/controls",
            "_model_module_version": "1.5.0",
            "value": "",
            "_view_count": null,
            "_view_module_version": "1.5.0",
            "description_tooltip": null,
            "_model_module": "@jupyter-widgets/controls",
            "layout": "IPY_MODEL_ba1bad9fb34c4153be174dfb4d97b8b8"
          }
        },
        "fbe8be7000d8476b898168d516c9ec83": {
          "model_module": "@jupyter-widgets/controls",
          "model_name": "FloatProgressModel",
          "model_module_version": "1.5.0",
          "state": {
            "_view_name": "ProgressView",
            "style": "IPY_MODEL_fdf63e2fc2704636a0ac8d4328309e44",
            "_dom_classes": [],
            "description": "",
            "_model_name": "FloatProgressModel",
            "bar_style": "success",
            "max": 1,
            "_view_module": "@jupyter-widgets/controls",
            "_model_module_version": "1.5.0",
            "value": 1,
            "_view_count": null,
            "_view_module_version": "1.5.0",
            "orientation": "horizontal",
            "min": 0,
            "description_tooltip": null,
            "_model_module": "@jupyter-widgets/controls",
            "layout": "IPY_MODEL_93ba50c04ce546c59a9d63744fdaf936"
          }
        },
        "2c743319459d473eb9ef6dbdc4931fd7": {
          "model_module": "@jupyter-widgets/controls",
          "model_name": "HTMLModel",
          "model_module_version": "1.5.0",
          "state": {
            "_view_name": "HTMLView",
            "style": "IPY_MODEL_85074080ad4844c28c3d3985b6464727",
            "_dom_classes": [],
            "description": "",
            "_model_name": "HTMLModel",
            "placeholder": "​",
            "_view_module": "@jupyter-widgets/controls",
            "_model_module_version": "1.5.0",
            "value": " 2000/? [00:09&lt;00:00, 197.42it/s]",
            "_view_count": null,
            "_view_module_version": "1.5.0",
            "description_tooltip": null,
            "_model_module": "@jupyter-widgets/controls",
            "layout": "IPY_MODEL_ab0e57dd5c0a400ebce12dfb66629133"
          }
        },
        "75b41ff2055a46888f33ff28ec574fdd": {
          "model_module": "@jupyter-widgets/controls",
          "model_name": "DescriptionStyleModel",
          "model_module_version": "1.5.0",
          "state": {
            "_view_name": "StyleView",
            "_model_name": "DescriptionStyleModel",
            "description_width": "",
            "_view_module": "@jupyter-widgets/base",
            "_model_module_version": "1.5.0",
            "_view_count": null,
            "_view_module_version": "1.2.0",
            "_model_module": "@jupyter-widgets/controls"
          }
        },
        "ba1bad9fb34c4153be174dfb4d97b8b8": {
          "model_module": "@jupyter-widgets/base",
          "model_name": "LayoutModel",
          "model_module_version": "1.2.0",
          "state": {
            "_view_name": "LayoutView",
            "grid_template_rows": null,
            "right": null,
            "justify_content": null,
            "_view_module": "@jupyter-widgets/base",
            "overflow": null,
            "_model_module_version": "1.2.0",
            "_view_count": null,
            "flex_flow": null,
            "width": null,
            "min_width": null,
            "border": null,
            "align_items": null,
            "bottom": null,
            "_model_module": "@jupyter-widgets/base",
            "top": null,
            "grid_column": null,
            "overflow_y": null,
            "overflow_x": null,
            "grid_auto_flow": null,
            "grid_area": null,
            "grid_template_columns": null,
            "flex": null,
            "_model_name": "LayoutModel",
            "justify_items": null,
            "grid_row": null,
            "max_height": null,
            "align_content": null,
            "visibility": null,
            "align_self": null,
            "height": null,
            "min_height": null,
            "padding": null,
            "grid_auto_rows": null,
            "grid_gap": null,
            "max_width": null,
            "order": null,
            "_view_module_version": "1.2.0",
            "grid_template_areas": null,
            "object_position": null,
            "object_fit": null,
            "grid_auto_columns": null,
            "margin": null,
            "display": null,
            "left": null
          }
        },
        "fdf63e2fc2704636a0ac8d4328309e44": {
          "model_module": "@jupyter-widgets/controls",
          "model_name": "ProgressStyleModel",
          "model_module_version": "1.5.0",
          "state": {
            "_view_name": "StyleView",
            "_model_name": "ProgressStyleModel",
            "description_width": "",
            "_view_module": "@jupyter-widgets/base",
            "_model_module_version": "1.5.0",
            "_view_count": null,
            "_view_module_version": "1.2.0",
            "bar_color": null,
            "_model_module": "@jupyter-widgets/controls"
          }
        },
        "93ba50c04ce546c59a9d63744fdaf936": {
          "model_module": "@jupyter-widgets/base",
          "model_name": "LayoutModel",
          "model_module_version": "1.2.0",
          "state": {
            "_view_name": "LayoutView",
            "grid_template_rows": null,
            "right": null,
            "justify_content": null,
            "_view_module": "@jupyter-widgets/base",
            "overflow": null,
            "_model_module_version": "1.2.0",
            "_view_count": null,
            "flex_flow": null,
            "width": "20px",
            "min_width": null,
            "border": null,
            "align_items": null,
            "bottom": null,
            "_model_module": "@jupyter-widgets/base",
            "top": null,
            "grid_column": null,
            "overflow_y": null,
            "overflow_x": null,
            "grid_auto_flow": null,
            "grid_area": null,
            "grid_template_columns": null,
            "flex": null,
            "_model_name": "LayoutModel",
            "justify_items": null,
            "grid_row": null,
            "max_height": null,
            "align_content": null,
            "visibility": null,
            "align_self": null,
            "height": null,
            "min_height": null,
            "padding": null,
            "grid_auto_rows": null,
            "grid_gap": null,
            "max_width": null,
            "order": null,
            "_view_module_version": "1.2.0",
            "grid_template_areas": null,
            "object_position": null,
            "object_fit": null,
            "grid_auto_columns": null,
            "margin": null,
            "display": null,
            "left": null
          }
        },
        "85074080ad4844c28c3d3985b6464727": {
          "model_module": "@jupyter-widgets/controls",
          "model_name": "DescriptionStyleModel",
          "model_module_version": "1.5.0",
          "state": {
            "_view_name": "StyleView",
            "_model_name": "DescriptionStyleModel",
            "description_width": "",
            "_view_module": "@jupyter-widgets/base",
            "_model_module_version": "1.5.0",
            "_view_count": null,
            "_view_module_version": "1.2.0",
            "_model_module": "@jupyter-widgets/controls"
          }
        },
        "ab0e57dd5c0a400ebce12dfb66629133": {
          "model_module": "@jupyter-widgets/base",
          "model_name": "LayoutModel",
          "model_module_version": "1.2.0",
          "state": {
            "_view_name": "LayoutView",
            "grid_template_rows": null,
            "right": null,
            "justify_content": null,
            "_view_module": "@jupyter-widgets/base",
            "overflow": null,
            "_model_module_version": "1.2.0",
            "_view_count": null,
            "flex_flow": null,
            "width": null,
            "min_width": null,
            "border": null,
            "align_items": null,
            "bottom": null,
            "_model_module": "@jupyter-widgets/base",
            "top": null,
            "grid_column": null,
            "overflow_y": null,
            "overflow_x": null,
            "grid_auto_flow": null,
            "grid_area": null,
            "grid_template_columns": null,
            "flex": null,
            "_model_name": "LayoutModel",
            "justify_items": null,
            "grid_row": null,
            "max_height": null,
            "align_content": null,
            "visibility": null,
            "align_self": null,
            "height": null,
            "min_height": null,
            "padding": null,
            "grid_auto_rows": null,
            "grid_gap": null,
            "max_width": null,
            "order": null,
            "_view_module_version": "1.2.0",
            "grid_template_areas": null,
            "object_position": null,
            "object_fit": null,
            "grid_auto_columns": null,
            "margin": null,
            "display": null,
            "left": null
          }
        },
        "86bca8c2e0fc48479f7539ca60aacd10": {
          "model_module": "@jupyter-widgets/controls",
          "model_name": "HBoxModel",
          "model_module_version": "1.5.0",
          "state": {
            "_view_name": "HBoxView",
            "_dom_classes": [],
            "_model_name": "HBoxModel",
            "_view_module": "@jupyter-widgets/controls",
            "_model_module_version": "1.5.0",
            "_view_count": null,
            "_view_module_version": "1.5.0",
            "box_style": "",
            "layout": "IPY_MODEL_61e517af28a0443ea8c3861f84095af1",
            "_model_module": "@jupyter-widgets/controls",
            "children": [
              "IPY_MODEL_074a6ac8ee2b4045838773da39011032",
              "IPY_MODEL_17b6cfd1e5d6487ba8a316c047b753f1",
              "IPY_MODEL_7d9bfc3857114deba3526bb33475cf9c"
            ]
          }
        },
        "61e517af28a0443ea8c3861f84095af1": {
          "model_module": "@jupyter-widgets/base",
          "model_name": "LayoutModel",
          "model_module_version": "1.2.0",
          "state": {
            "_view_name": "LayoutView",
            "grid_template_rows": null,
            "right": null,
            "justify_content": null,
            "_view_module": "@jupyter-widgets/base",
            "overflow": null,
            "_model_module_version": "1.2.0",
            "_view_count": null,
            "flex_flow": null,
            "width": null,
            "min_width": null,
            "border": null,
            "align_items": null,
            "bottom": null,
            "_model_module": "@jupyter-widgets/base",
            "top": null,
            "grid_column": null,
            "overflow_y": null,
            "overflow_x": null,
            "grid_auto_flow": null,
            "grid_area": null,
            "grid_template_columns": null,
            "flex": null,
            "_model_name": "LayoutModel",
            "justify_items": null,
            "grid_row": null,
            "max_height": null,
            "align_content": null,
            "visibility": null,
            "align_self": null,
            "height": null,
            "min_height": null,
            "padding": null,
            "grid_auto_rows": null,
            "grid_gap": null,
            "max_width": null,
            "order": null,
            "_view_module_version": "1.2.0",
            "grid_template_areas": null,
            "object_position": null,
            "object_fit": null,
            "grid_auto_columns": null,
            "margin": null,
            "display": null,
            "left": null
          }
        },
        "074a6ac8ee2b4045838773da39011032": {
          "model_module": "@jupyter-widgets/controls",
          "model_name": "HTMLModel",
          "model_module_version": "1.5.0",
          "state": {
            "_view_name": "HTMLView",
            "style": "IPY_MODEL_e2245259a75d4b5dae4f2b8392f7cd8f",
            "_dom_classes": [],
            "description": "",
            "_model_name": "HTMLModel",
            "placeholder": "​",
            "_view_module": "@jupyter-widgets/controls",
            "_model_module_version": "1.5.0",
            "value": "",
            "_view_count": null,
            "_view_module_version": "1.5.0",
            "description_tooltip": null,
            "_model_module": "@jupyter-widgets/controls",
            "layout": "IPY_MODEL_1d183cdce51f4276b0a95756f9ab7f85"
          }
        },
        "17b6cfd1e5d6487ba8a316c047b753f1": {
          "model_module": "@jupyter-widgets/controls",
          "model_name": "FloatProgressModel",
          "model_module_version": "1.5.0",
          "state": {
            "_view_name": "ProgressView",
            "style": "IPY_MODEL_d372a9fd92444e4c829d27e1eecdf4ef",
            "_dom_classes": [],
            "description": "",
            "_model_name": "FloatProgressModel",
            "bar_style": "success",
            "max": 1,
            "_view_module": "@jupyter-widgets/controls",
            "_model_module_version": "1.5.0",
            "value": 1,
            "_view_count": null,
            "_view_module_version": "1.5.0",
            "orientation": "horizontal",
            "min": 0,
            "description_tooltip": null,
            "_model_module": "@jupyter-widgets/controls",
            "layout": "IPY_MODEL_d14af5c1eae74ebca807cc74169f1cb9"
          }
        },
        "7d9bfc3857114deba3526bb33475cf9c": {
          "model_module": "@jupyter-widgets/controls",
          "model_name": "HTMLModel",
          "model_module_version": "1.5.0",
          "state": {
            "_view_name": "HTMLView",
            "style": "IPY_MODEL_6cfb85bc881d435aa5fe96a9b1dfb73a",
            "_dom_classes": [],
            "description": "",
            "_model_name": "HTMLModel",
            "placeholder": "​",
            "_view_module": "@jupyter-widgets/controls",
            "_model_module_version": "1.5.0",
            "value": " 454/? [00:02&lt;00:00, 184.85it/s]",
            "_view_count": null,
            "_view_module_version": "1.5.0",
            "description_tooltip": null,
            "_model_module": "@jupyter-widgets/controls",
            "layout": "IPY_MODEL_19da41d8bb6e408c94e7f030b430a1c8"
          }
        },
        "e2245259a75d4b5dae4f2b8392f7cd8f": {
          "model_module": "@jupyter-widgets/controls",
          "model_name": "DescriptionStyleModel",
          "model_module_version": "1.5.0",
          "state": {
            "_view_name": "StyleView",
            "_model_name": "DescriptionStyleModel",
            "description_width": "",
            "_view_module": "@jupyter-widgets/base",
            "_model_module_version": "1.5.0",
            "_view_count": null,
            "_view_module_version": "1.2.0",
            "_model_module": "@jupyter-widgets/controls"
          }
        },
        "1d183cdce51f4276b0a95756f9ab7f85": {
          "model_module": "@jupyter-widgets/base",
          "model_name": "LayoutModel",
          "model_module_version": "1.2.0",
          "state": {
            "_view_name": "LayoutView",
            "grid_template_rows": null,
            "right": null,
            "justify_content": null,
            "_view_module": "@jupyter-widgets/base",
            "overflow": null,
            "_model_module_version": "1.2.0",
            "_view_count": null,
            "flex_flow": null,
            "width": null,
            "min_width": null,
            "border": null,
            "align_items": null,
            "bottom": null,
            "_model_module": "@jupyter-widgets/base",
            "top": null,
            "grid_column": null,
            "overflow_y": null,
            "overflow_x": null,
            "grid_auto_flow": null,
            "grid_area": null,
            "grid_template_columns": null,
            "flex": null,
            "_model_name": "LayoutModel",
            "justify_items": null,
            "grid_row": null,
            "max_height": null,
            "align_content": null,
            "visibility": null,
            "align_self": null,
            "height": null,
            "min_height": null,
            "padding": null,
            "grid_auto_rows": null,
            "grid_gap": null,
            "max_width": null,
            "order": null,
            "_view_module_version": "1.2.0",
            "grid_template_areas": null,
            "object_position": null,
            "object_fit": null,
            "grid_auto_columns": null,
            "margin": null,
            "display": null,
            "left": null
          }
        },
        "d372a9fd92444e4c829d27e1eecdf4ef": {
          "model_module": "@jupyter-widgets/controls",
          "model_name": "ProgressStyleModel",
          "model_module_version": "1.5.0",
          "state": {
            "_view_name": "StyleView",
            "_model_name": "ProgressStyleModel",
            "description_width": "",
            "_view_module": "@jupyter-widgets/base",
            "_model_module_version": "1.5.0",
            "_view_count": null,
            "_view_module_version": "1.2.0",
            "bar_color": null,
            "_model_module": "@jupyter-widgets/controls"
          }
        },
        "d14af5c1eae74ebca807cc74169f1cb9": {
          "model_module": "@jupyter-widgets/base",
          "model_name": "LayoutModel",
          "model_module_version": "1.2.0",
          "state": {
            "_view_name": "LayoutView",
            "grid_template_rows": null,
            "right": null,
            "justify_content": null,
            "_view_module": "@jupyter-widgets/base",
            "overflow": null,
            "_model_module_version": "1.2.0",
            "_view_count": null,
            "flex_flow": null,
            "width": "20px",
            "min_width": null,
            "border": null,
            "align_items": null,
            "bottom": null,
            "_model_module": "@jupyter-widgets/base",
            "top": null,
            "grid_column": null,
            "overflow_y": null,
            "overflow_x": null,
            "grid_auto_flow": null,
            "grid_area": null,
            "grid_template_columns": null,
            "flex": null,
            "_model_name": "LayoutModel",
            "justify_items": null,
            "grid_row": null,
            "max_height": null,
            "align_content": null,
            "visibility": null,
            "align_self": null,
            "height": null,
            "min_height": null,
            "padding": null,
            "grid_auto_rows": null,
            "grid_gap": null,
            "max_width": null,
            "order": null,
            "_view_module_version": "1.2.0",
            "grid_template_areas": null,
            "object_position": null,
            "object_fit": null,
            "grid_auto_columns": null,
            "margin": null,
            "display": null,
            "left": null
          }
        },
        "6cfb85bc881d435aa5fe96a9b1dfb73a": {
          "model_module": "@jupyter-widgets/controls",
          "model_name": "DescriptionStyleModel",
          "model_module_version": "1.5.0",
          "state": {
            "_view_name": "StyleView",
            "_model_name": "DescriptionStyleModel",
            "description_width": "",
            "_view_module": "@jupyter-widgets/base",
            "_model_module_version": "1.5.0",
            "_view_count": null,
            "_view_module_version": "1.2.0",
            "_model_module": "@jupyter-widgets/controls"
          }
        },
        "19da41d8bb6e408c94e7f030b430a1c8": {
          "model_module": "@jupyter-widgets/base",
          "model_name": "LayoutModel",
          "model_module_version": "1.2.0",
          "state": {
            "_view_name": "LayoutView",
            "grid_template_rows": null,
            "right": null,
            "justify_content": null,
            "_view_module": "@jupyter-widgets/base",
            "overflow": null,
            "_model_module_version": "1.2.0",
            "_view_count": null,
            "flex_flow": null,
            "width": null,
            "min_width": null,
            "border": null,
            "align_items": null,
            "bottom": null,
            "_model_module": "@jupyter-widgets/base",
            "top": null,
            "grid_column": null,
            "overflow_y": null,
            "overflow_x": null,
            "grid_auto_flow": null,
            "grid_area": null,
            "grid_template_columns": null,
            "flex": null,
            "_model_name": "LayoutModel",
            "justify_items": null,
            "grid_row": null,
            "max_height": null,
            "align_content": null,
            "visibility": null,
            "align_self": null,
            "height": null,
            "min_height": null,
            "padding": null,
            "grid_auto_rows": null,
            "grid_gap": null,
            "max_width": null,
            "order": null,
            "_view_module_version": "1.2.0",
            "grid_template_areas": null,
            "object_position": null,
            "object_fit": null,
            "grid_auto_columns": null,
            "margin": null,
            "display": null,
            "left": null
          }
        },
        "f759c98810744528b9efca1de4395562": {
          "model_module": "@jupyter-widgets/controls",
          "model_name": "HBoxModel",
          "model_module_version": "1.5.0",
          "state": {
            "_view_name": "HBoxView",
            "_dom_classes": [],
            "_model_name": "HBoxModel",
            "_view_module": "@jupyter-widgets/controls",
            "_model_module_version": "1.5.0",
            "_view_count": null,
            "_view_module_version": "1.5.0",
            "box_style": "",
            "layout": "IPY_MODEL_5d89a4fd1ce24f8ebf1c90dc51a8340a",
            "_model_module": "@jupyter-widgets/controls",
            "children": [
              "IPY_MODEL_a6ee32e2173241d68b1dd5e945974ad5",
              "IPY_MODEL_ba430c2f8d8a4e0f910e98a40dd099db",
              "IPY_MODEL_303a1d371e29405bb6d08cd78f0b6a8f"
            ]
          }
        },
        "5d89a4fd1ce24f8ebf1c90dc51a8340a": {
          "model_module": "@jupyter-widgets/base",
          "model_name": "LayoutModel",
          "model_module_version": "1.2.0",
          "state": {
            "_view_name": "LayoutView",
            "grid_template_rows": null,
            "right": null,
            "justify_content": null,
            "_view_module": "@jupyter-widgets/base",
            "overflow": null,
            "_model_module_version": "1.2.0",
            "_view_count": null,
            "flex_flow": null,
            "width": null,
            "min_width": null,
            "border": null,
            "align_items": null,
            "bottom": null,
            "_model_module": "@jupyter-widgets/base",
            "top": null,
            "grid_column": null,
            "overflow_y": null,
            "overflow_x": null,
            "grid_auto_flow": null,
            "grid_area": null,
            "grid_template_columns": null,
            "flex": null,
            "_model_name": "LayoutModel",
            "justify_items": null,
            "grid_row": null,
            "max_height": null,
            "align_content": null,
            "visibility": null,
            "align_self": null,
            "height": null,
            "min_height": null,
            "padding": null,
            "grid_auto_rows": null,
            "grid_gap": null,
            "max_width": null,
            "order": null,
            "_view_module_version": "1.2.0",
            "grid_template_areas": null,
            "object_position": null,
            "object_fit": null,
            "grid_auto_columns": null,
            "margin": null,
            "display": null,
            "left": null
          }
        },
        "a6ee32e2173241d68b1dd5e945974ad5": {
          "model_module": "@jupyter-widgets/controls",
          "model_name": "HTMLModel",
          "model_module_version": "1.5.0",
          "state": {
            "_view_name": "HTMLView",
            "style": "IPY_MODEL_9eeebd03b2634a14af8dcace49572575",
            "_dom_classes": [],
            "description": "",
            "_model_name": "HTMLModel",
            "placeholder": "​",
            "_view_module": "@jupyter-widgets/controls",
            "_model_module_version": "1.5.0",
            "value": "",
            "_view_count": null,
            "_view_module_version": "1.5.0",
            "description_tooltip": null,
            "_model_module": "@jupyter-widgets/controls",
            "layout": "IPY_MODEL_412f0ed9d8e841caa2b3a187270b5598"
          }
        },
        "ba430c2f8d8a4e0f910e98a40dd099db": {
          "model_module": "@jupyter-widgets/controls",
          "model_name": "FloatProgressModel",
          "model_module_version": "1.5.0",
          "state": {
            "_view_name": "ProgressView",
            "style": "IPY_MODEL_931954116c064a6c915480658e2fa871",
            "_dom_classes": [],
            "description": "",
            "_model_name": "FloatProgressModel",
            "bar_style": "success",
            "max": 1,
            "_view_module": "@jupyter-widgets/controls",
            "_model_module_version": "1.5.0",
            "value": 1,
            "_view_count": null,
            "_view_module_version": "1.5.0",
            "orientation": "horizontal",
            "min": 0,
            "description_tooltip": null,
            "_model_module": "@jupyter-widgets/controls",
            "layout": "IPY_MODEL_b288d1925e2a419795c0a1db2b8f051b"
          }
        },
        "303a1d371e29405bb6d08cd78f0b6a8f": {
          "model_module": "@jupyter-widgets/controls",
          "model_name": "HTMLModel",
          "model_module_version": "1.5.0",
          "state": {
            "_view_name": "HTMLView",
            "style": "IPY_MODEL_2f7a75964d6945e69b1e7914cbb7707f",
            "_dom_classes": [],
            "description": "",
            "_model_name": "HTMLModel",
            "placeholder": "​",
            "_view_module": "@jupyter-widgets/controls",
            "_model_module_version": "1.5.0",
            "value": " 2000/? [00:09&lt;00:00, 227.32it/s]",
            "_view_count": null,
            "_view_module_version": "1.5.0",
            "description_tooltip": null,
            "_model_module": "@jupyter-widgets/controls",
            "layout": "IPY_MODEL_0d0f177f7a1a49d89177b8af6f96811d"
          }
        },
        "9eeebd03b2634a14af8dcace49572575": {
          "model_module": "@jupyter-widgets/controls",
          "model_name": "DescriptionStyleModel",
          "model_module_version": "1.5.0",
          "state": {
            "_view_name": "StyleView",
            "_model_name": "DescriptionStyleModel",
            "description_width": "",
            "_view_module": "@jupyter-widgets/base",
            "_model_module_version": "1.5.0",
            "_view_count": null,
            "_view_module_version": "1.2.0",
            "_model_module": "@jupyter-widgets/controls"
          }
        },
        "412f0ed9d8e841caa2b3a187270b5598": {
          "model_module": "@jupyter-widgets/base",
          "model_name": "LayoutModel",
          "model_module_version": "1.2.0",
          "state": {
            "_view_name": "LayoutView",
            "grid_template_rows": null,
            "right": null,
            "justify_content": null,
            "_view_module": "@jupyter-widgets/base",
            "overflow": null,
            "_model_module_version": "1.2.0",
            "_view_count": null,
            "flex_flow": null,
            "width": null,
            "min_width": null,
            "border": null,
            "align_items": null,
            "bottom": null,
            "_model_module": "@jupyter-widgets/base",
            "top": null,
            "grid_column": null,
            "overflow_y": null,
            "overflow_x": null,
            "grid_auto_flow": null,
            "grid_area": null,
            "grid_template_columns": null,
            "flex": null,
            "_model_name": "LayoutModel",
            "justify_items": null,
            "grid_row": null,
            "max_height": null,
            "align_content": null,
            "visibility": null,
            "align_self": null,
            "height": null,
            "min_height": null,
            "padding": null,
            "grid_auto_rows": null,
            "grid_gap": null,
            "max_width": null,
            "order": null,
            "_view_module_version": "1.2.0",
            "grid_template_areas": null,
            "object_position": null,
            "object_fit": null,
            "grid_auto_columns": null,
            "margin": null,
            "display": null,
            "left": null
          }
        },
        "931954116c064a6c915480658e2fa871": {
          "model_module": "@jupyter-widgets/controls",
          "model_name": "ProgressStyleModel",
          "model_module_version": "1.5.0",
          "state": {
            "_view_name": "StyleView",
            "_model_name": "ProgressStyleModel",
            "description_width": "",
            "_view_module": "@jupyter-widgets/base",
            "_model_module_version": "1.5.0",
            "_view_count": null,
            "_view_module_version": "1.2.0",
            "bar_color": null,
            "_model_module": "@jupyter-widgets/controls"
          }
        },
        "b288d1925e2a419795c0a1db2b8f051b": {
          "model_module": "@jupyter-widgets/base",
          "model_name": "LayoutModel",
          "model_module_version": "1.2.0",
          "state": {
            "_view_name": "LayoutView",
            "grid_template_rows": null,
            "right": null,
            "justify_content": null,
            "_view_module": "@jupyter-widgets/base",
            "overflow": null,
            "_model_module_version": "1.2.0",
            "_view_count": null,
            "flex_flow": null,
            "width": "20px",
            "min_width": null,
            "border": null,
            "align_items": null,
            "bottom": null,
            "_model_module": "@jupyter-widgets/base",
            "top": null,
            "grid_column": null,
            "overflow_y": null,
            "overflow_x": null,
            "grid_auto_flow": null,
            "grid_area": null,
            "grid_template_columns": null,
            "flex": null,
            "_model_name": "LayoutModel",
            "justify_items": null,
            "grid_row": null,
            "max_height": null,
            "align_content": null,
            "visibility": null,
            "align_self": null,
            "height": null,
            "min_height": null,
            "padding": null,
            "grid_auto_rows": null,
            "grid_gap": null,
            "max_width": null,
            "order": null,
            "_view_module_version": "1.2.0",
            "grid_template_areas": null,
            "object_position": null,
            "object_fit": null,
            "grid_auto_columns": null,
            "margin": null,
            "display": null,
            "left": null
          }
        },
        "2f7a75964d6945e69b1e7914cbb7707f": {
          "model_module": "@jupyter-widgets/controls",
          "model_name": "DescriptionStyleModel",
          "model_module_version": "1.5.0",
          "state": {
            "_view_name": "StyleView",
            "_model_name": "DescriptionStyleModel",
            "description_width": "",
            "_view_module": "@jupyter-widgets/base",
            "_model_module_version": "1.5.0",
            "_view_count": null,
            "_view_module_version": "1.2.0",
            "_model_module": "@jupyter-widgets/controls"
          }
        },
        "0d0f177f7a1a49d89177b8af6f96811d": {
          "model_module": "@jupyter-widgets/base",
          "model_name": "LayoutModel",
          "model_module_version": "1.2.0",
          "state": {
            "_view_name": "LayoutView",
            "grid_template_rows": null,
            "right": null,
            "justify_content": null,
            "_view_module": "@jupyter-widgets/base",
            "overflow": null,
            "_model_module_version": "1.2.0",
            "_view_count": null,
            "flex_flow": null,
            "width": null,
            "min_width": null,
            "border": null,
            "align_items": null,
            "bottom": null,
            "_model_module": "@jupyter-widgets/base",
            "top": null,
            "grid_column": null,
            "overflow_y": null,
            "overflow_x": null,
            "grid_auto_flow": null,
            "grid_area": null,
            "grid_template_columns": null,
            "flex": null,
            "_model_name": "LayoutModel",
            "justify_items": null,
            "grid_row": null,
            "max_height": null,
            "align_content": null,
            "visibility": null,
            "align_self": null,
            "height": null,
            "min_height": null,
            "padding": null,
            "grid_auto_rows": null,
            "grid_gap": null,
            "max_width": null,
            "order": null,
            "_view_module_version": "1.2.0",
            "grid_template_areas": null,
            "object_position": null,
            "object_fit": null,
            "grid_auto_columns": null,
            "margin": null,
            "display": null,
            "left": null
          }
        }
      }
    }
  },
  "cells": [
    {
      "cell_type": "markdown",
      "metadata": {
        "id": "view-in-github",
        "colab_type": "text"
      },
      "source": [
        "<a href=\"https://colab.research.google.com/github/sayanbanerjee32/coreference-resolution/blob/main/ULMFit_Attention.ipynb\" target=\"_parent\"><img src=\"https://colab.research.google.com/assets/colab-badge.svg\" alt=\"Open In Colab\"/></a>"
      ]
    },
    {
      "cell_type": "markdown",
      "source": [
        "# Papers and blogs"
      ],
      "metadata": {
        "id": "Ns9R4rP3DlrA"
      }
    },
    {
      "cell_type": "markdown",
      "source": [
        "End2End Coref Resolution By Attention RNN - https://www.kaggle.com/keyit92/end2end-coref-resolution-by-attention-rnn  \n",
        "coreference-resolution - https://www.kaggle.com/abhishekbhole/coreference-resolution  \n",
        "SpanBERT - https://arxiv.org/pdf/1907.10529.pdf   \n",
        "BERT for Coreference Resolution - https://arxiv.org/pdf/1908.09091.pdf  \n",
        "GITHub for BERT and SpanBERT - https://github.com/mandarjoshi90/coref  \n",
        "Fast AI solution - https://www.kaggle.com/mamamot/fastai-awd-lstm-solution-0-71-lb/notebook  \n",
        "https://www.kaggle.com/keyit92/end2end-coref-resolution-by-attention-rnn"
      ],
      "metadata": {
        "id": "21Wppr0W58LH"
      }
    },
    {
      "cell_type": "code",
      "source": [
        "%%capture\n",
        "!pip install fastai -Uq"
      ],
      "metadata": {
        "id": "OFLs_sezDqaP"
      },
      "execution_count": 1,
      "outputs": []
    },
    {
      "cell_type": "code",
      "execution_count": 2,
      "metadata": {
        "colab": {
          "base_uri": "https://localhost:8080/"
        },
        "id": "Fy9GY84xBFlH",
        "outputId": "04316667-aa17-44cb-f297-a9edf907df4b"
      },
      "outputs": [
        {
          "output_type": "stream",
          "name": "stdout",
          "text": [
            "Drive already mounted at /content/drive; to attempt to forcibly remount, call drive.mount(\"/content/drive\", force_remount=True).\n"
          ]
        }
      ],
      "source": [
        "# mount gdrive for data\n",
        "from google.colab import drive\n",
        "drive.mount('/content/drive')"
      ]
    },
    {
      "cell_type": "code",
      "source": [
        "# file locations\n",
        "train_file_path = '/content/drive/MyDrive/coref_resolution/data/gap-development.tsv'\n",
        "val_file_path = '/content/drive/MyDrive/coref_resolution/data/gap-validate.tsv'\n",
        "test_file_path = '/content/drive/MyDrive/coref_resolution/data/gap-test.tsv'\n",
        "model_save_path = '/content/drive/MyDrive/coref_resolution/models/'"
      ],
      "metadata": {
        "id": "VkMY4CW9c6PH"
      },
      "execution_count": 3,
      "outputs": []
    },
    {
      "cell_type": "code",
      "source": [
        "import pandas as pd\n",
        "from fastai.text.all import *\n",
        "from pathlib import Path\n",
        "from tqdm.notebook import tqdm"
      ],
      "metadata": {
        "id": "vKOmey0Id33k"
      },
      "execution_count": 4,
      "outputs": []
    },
    {
      "cell_type": "code",
      "source": [
        "train_df = pd.read_csv(train_file_path,sep=\"\\t\")\n",
        "test_df = pd.read_csv(test_file_path,sep=\"\\t\")\n",
        "val_df = pd.read_csv(val_file_path,sep=\"\\t\")"
      ],
      "metadata": {
        "id": "pQcOrti9d5r-"
      },
      "execution_count": 5,
      "outputs": []
    },
    {
      "cell_type": "code",
      "source": [
        "train_df[\"Text\"][0], train_df[\"Text\"][1]"
      ],
      "metadata": {
        "id": "XGlVRck-eC8N",
        "colab": {
          "base_uri": "https://localhost:8080/"
        },
        "outputId": "18b50c5d-5146-4dc6-b8ec-cf1b79959a0e"
      },
      "execution_count": 6,
      "outputs": [
        {
          "output_type": "execute_result",
          "data": {
            "text/plain": [
              "(\"Zoe Telford -- played the police officer girlfriend of Simon, Maggie. Dumped by Simon in the final episode of series 1, after he slept with Jenny, and is not seen again. Phoebe Thomas played Cheryl Cassidy, Pauline's friend and also a year 11 pupil in Simon's class. Dumped her boyfriend following Simon's advice after he wouldn't have sex with her but later realised this was due to him catching crabs off her friend Pauline.\",\n",
              " 'He grew up in Evanston, Illinois the second oldest of five children including his brothers, Fred and Gordon and sisters, Marge (Peppy) and Marilyn. His high school days were spent at New Trier High School in Winnetka, Illinois. MacKenzie studied with Bernard Leach from 1949 to 1952. His simple, wheel-thrown functional pottery is heavily influenced by the oriental aesthetic of Shoji Hamada and Kanjiro Kawai.')"
            ]
          },
          "metadata": {},
          "execution_count": 6
        }
      ]
    },
    {
      "cell_type": "code",
      "source": [
        "print(len(train_df), len(val_df), len(test_df))"
      ],
      "metadata": {
        "colab": {
          "base_uri": "https://localhost:8080/"
        },
        "id": "mMhw6SgQQAi6",
        "outputId": "c4c48944-2548-4a4f-a2b1-71ee3e4dd227"
      },
      "execution_count": 7,
      "outputs": [
        {
          "output_type": "stream",
          "name": "stdout",
          "text": [
            "2000 454 2000\n"
          ]
        }
      ]
    },
    {
      "cell_type": "markdown",
      "source": [
        "## Fine tune language model"
      ],
      "metadata": {
        "id": "VK2fRdRSHV2R"
      }
    },
    {
      "cell_type": "code",
      "source": [
        "# lets keep val for final testing\n",
        "df_pretrain = pd.concat([train_df, test_df])\n",
        "df_pretrain.info()"
      ],
      "metadata": {
        "colab": {
          "base_uri": "https://localhost:8080/"
        },
        "id": "QnXzYo6MExee",
        "outputId": "6ef6e457-117a-4828-80e2-9a0529ed0be1"
      },
      "execution_count": 8,
      "outputs": [
        {
          "output_type": "stream",
          "name": "stdout",
          "text": [
            "<class 'pandas.core.frame.DataFrame'>\n",
            "Int64Index: 4000 entries, 0 to 1999\n",
            "Data columns (total 11 columns):\n",
            " #   Column          Non-Null Count  Dtype \n",
            "---  ------          --------------  ----- \n",
            " 0   ID              4000 non-null   object\n",
            " 1   Text            4000 non-null   object\n",
            " 2   Pronoun         4000 non-null   object\n",
            " 3   Pronoun-offset  4000 non-null   int64 \n",
            " 4   A               4000 non-null   object\n",
            " 5   A-offset        4000 non-null   int64 \n",
            " 6   A-coref         4000 non-null   bool  \n",
            " 7   B               4000 non-null   object\n",
            " 8   B-offset        4000 non-null   int64 \n",
            " 9   B-coref         4000 non-null   bool  \n",
            " 10  URL             4000 non-null   object\n",
            "dtypes: bool(2), int64(3), object(6)\n",
            "memory usage: 320.3+ KB\n"
          ]
        }
      ]
    },
    {
      "cell_type": "code",
      "source": [
        "# fine tune language model\n",
        "data_lm = DataBlock(\n",
        "            blocks=TextBlock.from_df('Text', is_lm=True),\n",
        "            get_x=ColReader('text'),\n",
        "            splitter=RandomSplitter(0.1))\n",
        "\n",
        "dls_lm = data_lm.dataloaders(df_pretrain) \n",
        "dls_lm.show_batch(max_n=2)"
      ],
      "metadata": {
        "colab": {
          "base_uri": "https://localhost:8080/",
          "height": 216
        },
        "id": "Sl3NgIRKFMDm",
        "outputId": "f70e9bbc-dd37-4431-95c2-1b5101e4f949"
      },
      "execution_count": 9,
      "outputs": [
        {
          "output_type": "display_data",
          "data": {
            "text/html": [
              "\n",
              "<style>\n",
              "    /* Turns off some styling */\n",
              "    progress {\n",
              "        /* gets rid of default border in Firefox and Opera. */\n",
              "        border: none;\n",
              "        /* Needs to be in here for Safari polyfill so background images work as expected. */\n",
              "        background-size: auto;\n",
              "    }\n",
              "    .progress-bar-interrupted, .progress-bar-interrupted::-webkit-progress-bar {\n",
              "        background: #F44336;\n",
              "    }\n",
              "</style>\n"
            ],
            "text/plain": [
              "<IPython.core.display.HTML object>"
            ]
          },
          "metadata": {}
        },
        {
          "output_type": "display_data",
          "data": {
            "text/html": [
              ""
            ],
            "text/plain": [
              "<IPython.core.display.HTML object>"
            ]
          },
          "metadata": {}
        },
        {
          "output_type": "display_data",
          "data": {
            "text/html": [
              "<table border=\"1\" class=\"dataframe\">\n",
              "  <thead>\n",
              "    <tr style=\"text-align: right;\">\n",
              "      <th></th>\n",
              "      <th>text</th>\n",
              "      <th>text_</th>\n",
              "    </tr>\n",
              "  </thead>\n",
              "  <tbody>\n",
              "    <tr>\n",
              "      <th>0</th>\n",
              "      <td>xxbos xxmaj the xxunk of culture , power and gender / subject formation that xxunk xxmaj bordo 's writing arise in some degree from poststructuralist thought . xxmaj susan xxmaj xxunk points out that ` ` ( xxunk an increasing number of contemporary feminist xxunk ( bordo ) argues for a selective use of xxunk theories ' ' and one way xxmaj bordo 's work can be seen in a poststructuralist /</td>\n",
              "      <td>xxmaj the xxunk of culture , power and gender / subject formation that xxunk xxmaj bordo 's writing arise in some degree from poststructuralist thought . xxmaj susan xxmaj xxunk points out that ` ` ( xxunk an increasing number of contemporary feminist xxunk ( bordo ) argues for a selective use of xxunk theories ' ' and one way xxmaj bordo 's work can be seen in a poststructuralist / xxunk</td>\n",
              "    </tr>\n",
              "    <tr>\n",
              "      <th>1</th>\n",
              "      <td>america . xxmaj these included , xxmaj robert ` ` the xxmaj founder ' ' , xxmaj governor xxmaj william xxmaj livingston of xxmaj new xxmaj jersey and his brother xxmaj philip who was a signer of the xxmaj xxunk of xxmaj independence , xxmaj judge xxmaj robert xxup r. xxmaj livingston of xxmaj xxunk and his son , plus xxmaj edward xxmaj livingston , the friend and adviser of xxmaj andrew</td>\n",
              "      <td>. xxmaj these included , xxmaj robert ` ` the xxmaj founder ' ' , xxmaj governor xxmaj william xxmaj livingston of xxmaj new xxmaj jersey and his brother xxmaj philip who was a signer of the xxmaj xxunk of xxmaj independence , xxmaj judge xxmaj robert xxup r. xxmaj livingston of xxmaj xxunk and his son , plus xxmaj edward xxmaj livingston , the friend and adviser of xxmaj andrew xxmaj</td>\n",
              "    </tr>\n",
              "  </tbody>\n",
              "</table>"
            ],
            "text/plain": [
              "<IPython.core.display.HTML object>"
            ]
          },
          "metadata": {}
        }
      ]
    },
    {
      "cell_type": "code",
      "source": [
        "# create language model learner\n",
        "learn_lm = language_model_learner(\n",
        "    dls_lm, AWD_LSTM, drop_mult=0.5, pretrained=True, \n",
        "    metrics=[accuracy, Perplexity()])#.to_fp16()"
      ],
      "metadata": {
        "id": "NAnJ4DhgFvEZ"
      },
      "execution_count": 10,
      "outputs": []
    },
    {
      "cell_type": "code",
      "source": [
        "# find optimum learning rate for language model\n",
        "learn_lm.lr_find()"
      ],
      "metadata": {
        "colab": {
          "base_uri": "https://localhost:8080/",
          "height": 300
        },
        "id": "9i3qcVBpHnU7",
        "outputId": "eb329af6-b095-4692-ee8c-d231e2819c86"
      },
      "execution_count": 11,
      "outputs": [
        {
          "output_type": "display_data",
          "data": {
            "text/html": [
              "\n",
              "<style>\n",
              "    /* Turns off some styling */\n",
              "    progress {\n",
              "        /* gets rid of default border in Firefox and Opera. */\n",
              "        border: none;\n",
              "        /* Needs to be in here for Safari polyfill so background images work as expected. */\n",
              "        background-size: auto;\n",
              "    }\n",
              "    .progress-bar-interrupted, .progress-bar-interrupted::-webkit-progress-bar {\n",
              "        background: #F44336;\n",
              "    }\n",
              "</style>\n"
            ],
            "text/plain": [
              "<IPython.core.display.HTML object>"
            ]
          },
          "metadata": {}
        },
        {
          "output_type": "display_data",
          "data": {
            "text/html": [
              ""
            ],
            "text/plain": [
              "<IPython.core.display.HTML object>"
            ]
          },
          "metadata": {}
        },
        {
          "output_type": "execute_result",
          "data": {
            "text/plain": [
              "SuggestedLRs(valley=0.009120108559727669)"
            ]
          },
          "metadata": {},
          "execution_count": 11
        },
        {
          "output_type": "display_data",
          "data": {
            "image/png": "[encoded data removed]",
            "text/plain": [
              "<Figure size 432x288 with 1 Axes>"
            ]
          },
          "metadata": {
            "needs_background": "light"
          }
        }
      ]
    },
    {
      "cell_type": "code",
      "source": [
        "# one cycle training\n",
        "learn_lm.fit_one_cycle(1, 0.003)"
      ],
      "metadata": {
        "colab": {
          "base_uri": "https://localhost:8080/",
          "height": 81
        },
        "id": "sUnSiaHuHtp8",
        "outputId": "210f6cff-d85f-46dd-bef5-a699b41bef4a"
      },
      "execution_count": 12,
      "outputs": [
        {
          "output_type": "display_data",
          "data": {
            "text/html": [
              "\n",
              "<style>\n",
              "    /* Turns off some styling */\n",
              "    progress {\n",
              "        /* gets rid of default border in Firefox and Opera. */\n",
              "        border: none;\n",
              "        /* Needs to be in here for Safari polyfill so background images work as expected. */\n",
              "        background-size: auto;\n",
              "    }\n",
              "    .progress-bar-interrupted, .progress-bar-interrupted::-webkit-progress-bar {\n",
              "        background: #F44336;\n",
              "    }\n",
              "</style>\n"
            ],
            "text/plain": [
              "<IPython.core.display.HTML object>"
            ]
          },
          "metadata": {}
        },
        {
          "output_type": "display_data",
          "data": {
            "text/html": [
              "<table border=\"1\" class=\"dataframe\">\n",
              "  <thead>\n",
              "    <tr style=\"text-align: left;\">\n",
              "      <th>epoch</th>\n",
              "      <th>train_loss</th>\n",
              "      <th>valid_loss</th>\n",
              "      <th>accuracy</th>\n",
              "      <th>perplexity</th>\n",
              "      <th>time</th>\n",
              "    </tr>\n",
              "  </thead>\n",
              "  <tbody>\n",
              "    <tr>\n",
              "      <td>0</td>\n",
              "      <td>3.723886</td>\n",
              "      <td>3.487710</td>\n",
              "      <td>0.367894</td>\n",
              "      <td>32.710938</td>\n",
              "      <td>00:18</td>\n",
              "    </tr>\n",
              "  </tbody>\n",
              "</table>"
            ],
            "text/plain": [
              "<IPython.core.display.HTML object>"
            ]
          },
          "metadata": {}
        }
      ]
    },
    {
      "cell_type": "code",
      "source": [
        "# unfreeze all the layers and one cycle training\n",
        "learn_lm.unfreeze()\n",
        "learn_lm.fit_one_cycle(5, 0.003)"
      ],
      "metadata": {
        "colab": {
          "base_uri": "https://localhost:8080/",
          "height": 206
        },
        "id": "QeLjJUlkH9ZM",
        "outputId": "165672e4-43ad-40db-acda-7f959fbd54c4"
      },
      "execution_count": 13,
      "outputs": [
        {
          "output_type": "display_data",
          "data": {
            "text/html": [
              "\n",
              "<style>\n",
              "    /* Turns off some styling */\n",
              "    progress {\n",
              "        /* gets rid of default border in Firefox and Opera. */\n",
              "        border: none;\n",
              "        /* Needs to be in here for Safari polyfill so background images work as expected. */\n",
              "        background-size: auto;\n",
              "    }\n",
              "    .progress-bar-interrupted, .progress-bar-interrupted::-webkit-progress-bar {\n",
              "        background: #F44336;\n",
              "    }\n",
              "</style>\n"
            ],
            "text/plain": [
              "<IPython.core.display.HTML object>"
            ]
          },
          "metadata": {}
        },
        {
          "output_type": "display_data",
          "data": {
            "text/html": [
              "<table border=\"1\" class=\"dataframe\">\n",
              "  <thead>\n",
              "    <tr style=\"text-align: left;\">\n",
              "      <th>epoch</th>\n",
              "      <th>train_loss</th>\n",
              "      <th>valid_loss</th>\n",
              "      <th>accuracy</th>\n",
              "      <th>perplexity</th>\n",
              "      <th>time</th>\n",
              "    </tr>\n",
              "  </thead>\n",
              "  <tbody>\n",
              "    <tr>\n",
              "      <td>0</td>\n",
              "      <td>3.428385</td>\n",
              "      <td>3.459268</td>\n",
              "      <td>0.360218</td>\n",
              "      <td>31.793697</td>\n",
              "      <td>00:20</td>\n",
              "    </tr>\n",
              "    <tr>\n",
              "      <td>1</td>\n",
              "      <td>3.256219</td>\n",
              "      <td>3.350763</td>\n",
              "      <td>0.379793</td>\n",
              "      <td>28.524479</td>\n",
              "      <td>00:20</td>\n",
              "    </tr>\n",
              "    <tr>\n",
              "      <td>2</td>\n",
              "      <td>2.922179</td>\n",
              "      <td>3.362119</td>\n",
              "      <td>0.373301</td>\n",
              "      <td>28.850258</td>\n",
              "      <td>00:24</td>\n",
              "    </tr>\n",
              "    <tr>\n",
              "      <td>3</td>\n",
              "      <td>2.510105</td>\n",
              "      <td>3.416416</td>\n",
              "      <td>0.375915</td>\n",
              "      <td>30.460041</td>\n",
              "      <td>00:20</td>\n",
              "    </tr>\n",
              "    <tr>\n",
              "      <td>4</td>\n",
              "      <td>2.217802</td>\n",
              "      <td>3.492610</td>\n",
              "      <td>0.372976</td>\n",
              "      <td>32.871613</td>\n",
              "      <td>00:20</td>\n",
              "    </tr>\n",
              "  </tbody>\n",
              "</table>"
            ],
            "text/plain": [
              "<IPython.core.display.HTML object>"
            ]
          },
          "metadata": {}
        }
      ]
    },
    {
      "cell_type": "code",
      "source": [
        "# save language model\n",
        "learn_lm.save(Path(model_save_path) /'lm_fine_tuned')\n",
        "learn_lm.save_encoder(Path(model_save_path) /'lm_fine_tuned_encoder')"
      ],
      "metadata": {
        "id": "coY2Nv-9IArq"
      },
      "execution_count": 14,
      "outputs": []
    },
    {
      "cell_type": "code",
      "source": [
        "# load pre-trained language model\n",
        "# learn_lm_pretrained = load_learner(Path(model_save_path)/'lm_fine_tuned.pth', cpu = False)\n",
        "# learn_lm.load(Path(model_save_path) /'lm_fine_tuned')"
      ],
      "metadata": {
        "id": "pwpLzpp2tqNr"
      },
      "execution_count": 15,
      "outputs": []
    },
    {
      "cell_type": "code",
      "source": [
        "vocab = learn_lm.dls\n",
        "# vocab.numericalize(tokenizer(train_df[\"Text\"][0]))"
      ],
      "metadata": {
        "id": "U27FWqZy0xv3"
      },
      "execution_count": 16,
      "outputs": []
    },
    {
      "cell_type": "markdown",
      "source": [
        "## Pre-process data"
      ],
      "metadata": {
        "id": "mHeaLGNoOOGm"
      }
    },
    {
      "cell_type": "code",
      "source": [
        "import torch\n",
        "from torch.utils.data import Dataset, TensorDataset"
      ],
      "metadata": {
        "id": "ihRFSBmHPfPA"
      },
      "execution_count": 17,
      "outputs": []
    },
    {
      "cell_type": "code",
      "source": [
        "spacy_tok = SpacyTokenizer(\"en\")\n",
        "tokenizer = Tokenizer(spacy_tok)"
      ],
      "metadata": {
        "id": "MJjD1mVpI65B"
      },
      "execution_count": 18,
      "outputs": []
    },
    {
      "cell_type": "code",
      "source": [
        "# train_df[\"Text\"][0], tokenizer(train_df[\"Text\"][0])"
      ],
      "metadata": {
        "id": "ltfiNf0JSn2D"
      },
      "execution_count": 19,
      "outputs": []
    },
    {
      "cell_type": "code",
      "source": [
        "import spacy\n",
        "nlp = spacy.blank(\"en\")\n",
        "\n",
        "# note that 'xxunk' is not special in this sense\n",
        "# special_tokens = ['xxbos','xxfld','xxpad', 'xxmaj','xxup','xxrep','xxwrep']\n",
        "\n",
        "special_tokens = ['xxpad']\n",
        "\n",
        "def get_token_num_by_offset(s, offset):\n",
        "  s_pre = s[:offset]\n",
        "  return len(tokenizer(s_pre))\n",
        "  # return len([t for t in tokenizer(s_pre) if t not in special_tokens])\n",
        "\n",
        "\n",
        "def adjust_token_num(processed, token_num):\n",
        "  \"\"\"\n",
        "  As fastai tokenizer introduces additional tokens, we need to adjust for them.\n",
        "  \"\"\"\n",
        "  counter = -1\n",
        "  do_unrep = None\n",
        "  for i, token in enumerate(processed):\n",
        "    if token not in special_tokens:\n",
        "      counter += 1\n",
        "    # if do_unrep:\n",
        "    #   do_unrep = False\n",
        "    #   if processed[i+1] != \".\":\n",
        "    #     token_num -= (int(token) - 2) # one to account for the num itself\n",
        "    #   else:  # spacy doesn't split full stops\n",
        "    #     token_num += 1\n",
        "    # if token == \"xxrep\":\n",
        "    #   do_unrep = True\n",
        "    if counter == token_num:\n",
        "      return i\n",
        "  else: # else for 'for'\n",
        "    counter2 = -1\n",
        "    for j, t in enumerate(processed):\n",
        "      if t not in special_tokens:\n",
        "        counter2 += 1\n",
        "      # print(j, counter, t)\n",
        "    raise Exception(f\"{token_num} is out of bounds ({processed})\")"
      ],
      "metadata": {
        "id": "68TZfc7ZOWiN"
      },
      "execution_count": 20,
      "outputs": []
    },
    {
      "cell_type": "code",
      "source": [
        "import traceback\n",
        "def dataframe_to_tensors(df, max_len=512):\n",
        "  # offsets are: pron_tok_offset, a_tok_offset, a_tok_right_offset, b_tok_offset, b_tok_right_offset\n",
        "  offsets = list()\n",
        "  labels = np.zeros((len(df),), dtype=np.int64)\n",
        "  processed = list()\n",
        "  for i, row in tqdm(df.iterrows()):\n",
        "    try:\n",
        "      text = row[\"Text\"]\n",
        "      a_offset = row[\"A-offset\"]\n",
        "      a_len = len(nlp(row[\"A\"]))\n",
        "      \n",
        "      b_offset = row[\"B-offset\"]\n",
        "      b_len = len(nlp(row[\"B\"]))\n",
        "\n",
        "      pron_offset = row[\"Pronoun-offset\"]\n",
        "      is_a = row[\"A-coref\"]\n",
        "      is_b = row[\"B-coref\"]\n",
        "      a_tok_offset = get_token_num_by_offset(text, a_offset)\n",
        "      b_tok_offset = get_token_num_by_offset(text, b_offset)\n",
        "      a_right_offset = a_tok_offset + a_len - 1\n",
        "      b_right_offset = b_tok_offset + b_len - 1\n",
        "      pron_tok_offset = get_token_num_by_offset(text, pron_offset)\n",
        "      tokenized = tokenizer(text)[:max_len]\n",
        "      tokenized = [\"xxpad\"] * (max_len - len(tokenized))  + tokenized # add padding\n",
        "      a_tok_offset = adjust_token_num(tokenized, a_tok_offset)\n",
        "      a_tok_right_offset = adjust_token_num(tokenized, a_right_offset)\n",
        "      b_tok_offset = adjust_token_num(tokenized, b_tok_offset)\n",
        "      b_tok_right_offset = adjust_token_num(tokenized, b_right_offset)\n",
        "      pron_tok_offset = adjust_token_num(tokenized, pron_tok_offset)\n",
        "      numericalized = vocab.numericalize(tokenized)\n",
        "      processed.append(torch.tensor(numericalized, dtype=torch.long))\n",
        "      offsets.append([pron_tok_offset, a_tok_offset, a_tok_right_offset, b_tok_offset, b_tok_right_offset])\n",
        "      if is_a:\n",
        "        labels[i] = 0\n",
        "      elif is_b:\n",
        "        labels[i] = 1\n",
        "      else:\n",
        "        labels[i] = 2\n",
        "    except Exception as e:\n",
        "      print(i)\n",
        "      traceback.print_exc()\n",
        "      raise\n",
        "  processed = torch.stack(processed)\n",
        "  offsets = torch.tensor(offsets, dtype=torch.long)\n",
        "  labels = torch.from_numpy(labels)\n",
        "  return processed, offsets, labels"
      ],
      "metadata": {
        "id": "LQ5LNykpOVqV"
      },
      "execution_count": 21,
      "outputs": []
    },
    {
      "cell_type": "code",
      "source": [
        "train_ds = TensorDataset(*dataframe_to_tensors(train_df))\n",
        "valid_ds = TensorDataset(*dataframe_to_tensors(val_df))\n",
        "test_ds = TensorDataset(*dataframe_to_tensors(test_df))"
      ],
      "metadata": {
        "id": "8u2q2sqgOtsU",
        "outputId": "711251f2-2cdb-4ea0-d91b-fc339a390eb3",
        "colab": {
          "base_uri": "https://localhost:8080/",
          "height": 150,
          "referenced_widgets": [
            "4ef430398a4b424296da8e781dfb1bb7",
            "a128b5f7ff8348df90eccb208beab111",
            "a2c336e12a4d45199e27fe65fa2c19ea",
            "fbe8be7000d8476b898168d516c9ec83",
            "2c743319459d473eb9ef6dbdc4931fd7",
            "75b41ff2055a46888f33ff28ec574fdd",
            "ba1bad9fb34c4153be174dfb4d97b8b8",
            "fdf63e2fc2704636a0ac8d4328309e44",
            "93ba50c04ce546c59a9d63744fdaf936",
            "85074080ad4844c28c3d3985b6464727",
            "ab0e57dd5c0a400ebce12dfb66629133",
            "86bca8c2e0fc48479f7539ca60aacd10",
            "61e517af28a0443ea8c3861f84095af1",
            "074a6ac8ee2b4045838773da39011032",
            "17b6cfd1e5d6487ba8a316c047b753f1",
            "7d9bfc3857114deba3526bb33475cf9c",
            "e2245259a75d4b5dae4f2b8392f7cd8f",
            "1d183cdce51f4276b0a95756f9ab7f85",
            "d372a9fd92444e4c829d27e1eecdf4ef",
            "d14af5c1eae74ebca807cc74169f1cb9",
            "6cfb85bc881d435aa5fe96a9b1dfb73a",
            "19da41d8bb6e408c94e7f030b430a1c8",
            "f759c98810744528b9efca1de4395562",
            "5d89a4fd1ce24f8ebf1c90dc51a8340a",
            "a6ee32e2173241d68b1dd5e945974ad5",
            "ba430c2f8d8a4e0f910e98a40dd099db",
            "303a1d371e29405bb6d08cd78f0b6a8f",
            "9eeebd03b2634a14af8dcace49572575",
            "412f0ed9d8e841caa2b3a187270b5598",
            "931954116c064a6c915480658e2fa871",
            "b288d1925e2a419795c0a1db2b8f051b",
            "2f7a75964d6945e69b1e7914cbb7707f",
            "0d0f177f7a1a49d89177b8af6f96811d"
          ]
        }
      },
      "execution_count": 22,
      "outputs": [
        {
          "output_type": "display_data",
          "data": {
            "application/vnd.jupyter.widget-view+json": {
              "model_id": "4ef430398a4b424296da8e781dfb1bb7",
              "version_minor": 0,
              "version_major": 2
            },
            "text/plain": [
              "0it [00:00, ?it/s]"
            ]
          },
          "metadata": {}
        },
        {
          "output_type": "stream",
          "name": "stderr",
          "text": [
            "/usr/local/lib/python3.7/dist-packages/ipykernel_launcher.py:32: UserWarning: To copy construct from a tensor, it is recommended to use sourceTensor.clone().detach() or sourceTensor.clone().detach().requires_grad_(True), rather than torch.tensor(sourceTensor).\n"
          ]
        },
        {
          "output_type": "display_data",
          "data": {
            "application/vnd.jupyter.widget-view+json": {
              "model_id": "86bca8c2e0fc48479f7539ca60aacd10",
              "version_minor": 0,
              "version_major": 2
            },
            "text/plain": [
              "0it [00:00, ?it/s]"
            ]
          },
          "metadata": {}
        },
        {
          "output_type": "display_data",
          "data": {
            "application/vnd.jupyter.widget-view+json": {
              "model_id": "f759c98810744528b9efca1de4395562",
              "version_minor": 0,
              "version_major": 2
            },
            "text/plain": [
              "0it [00:00, ?it/s]"
            ]
          },
          "metadata": {}
        }
      ]
    },
    {
      "cell_type": "code",
      "source": [
        "train_dl = DataLoader(train_ds, batch_size=64, shuffle=True)\n",
        "valid_dl = DataLoader(valid_ds, batch_size=32, shuffle=False)\n",
        "test_dl = DataLoader(test_ds, batch_size=32, shuffle=False)"
      ],
      "metadata": {
        "id": "va-7f1tYOvYK"
      },
      "execution_count": 23,
      "outputs": []
    },
    {
      "cell_type": "markdown",
      "source": [
        "### Classifier"
      ],
      "metadata": {
        "id": "OKNhIlJjegLi"
      }
    },
    {
      "cell_type": "code",
      "source": [
        "learn_lm.freeze()"
      ],
      "metadata": {
        "id": "jsP7wGudUVVd"
      },
      "execution_count": 24,
      "outputs": []
    },
    {
      "cell_type": "code",
      "source": [
        "class Attention(nn.Module):\n",
        "    def __init__(self, feature_dim, step_dim, bias=True, **kwargs):\n",
        "        super(Attention, self).__init__(**kwargs)\n",
        "        \n",
        "        self.supports_masking = True\n",
        "\n",
        "        self.bias = bias\n",
        "        self.feature_dim = feature_dim\n",
        "        self.step_dim = step_dim\n",
        "        self.features_dim = 0\n",
        "        \n",
        "        weight = torch.zeros(feature_dim, 1)\n",
        "        nn.init.kaiming_uniform_(weight)\n",
        "        self.weight = nn.Parameter(weight)\n",
        "        \n",
        "        if bias:\n",
        "            self.b = nn.Parameter(torch.zeros(step_dim))\n",
        "        \n",
        "    def forward(self, x, mask=None):\n",
        "        feature_dim = self.feature_dim \n",
        "        step_dim = self.step_dim\n",
        "\n",
        "        eij = torch.mm(\n",
        "            x.contiguous().view(-1, feature_dim), \n",
        "            self.weight\n",
        "        ).view(-1, step_dim)\n",
        "        \n",
        "        if self.bias:\n",
        "            eij = eij + self.b\n",
        "            \n",
        "        eij = torch.tanh(eij)\n",
        "        a = torch.exp(eij)\n",
        "        \n",
        "        if mask is not None:\n",
        "            a = a * mask\n",
        "\n",
        "        a = a / (torch.sum(a, 1, keepdim=True) + 1e-10)\n",
        "\n",
        "        weighted_input = x * torch.unsqueeze(a, -1)\n",
        "        return torch.sum(weighted_input, 1)"
      ],
      "metadata": {
        "id": "71jAkwMLIktN"
      },
      "execution_count": 40,
      "outputs": []
    },
    {
      "cell_type": "code",
      "source": [
        "encoder_hidden_sz = 400\n",
        "\n",
        "device = torch.device(\"cuda\")\n",
        "\n",
        "class CorefResolver(nn.Module):\n",
        "  def __init__(self, encoder, dropout_p=0.3):\n",
        "    super(CorefResolver, self).__init__()\n",
        "    self.encoder = encoder\n",
        "    self.dropout = nn.Dropout(dropout_p)\n",
        "    self.hidden2hidden = nn.Linear(encoder_hidden_sz * 2 + 1, 25)\n",
        "    self.hidden2logits = nn.Linear(50, 3)\n",
        "    self.relu = nn.ReLU()\n",
        "    self.activation = nn.LogSoftmax(dim=1)\n",
        "    self.loss = nn.NLLLoss()\n",
        "    \n",
        "  def forward(self, seqs, offsets, labels=None):\n",
        "    encoded = self.dropout(self.encoder(seqs)) #[0][2])\n",
        "    a_q = list()\n",
        "    b_q = list()\n",
        "    for enc, offs in zip(encoded, offsets):\n",
        "      # extract the hidden states that correspond to A, B and the pronoun, and make pairs of those \n",
        "      a_repr = enc[offs[2]]\n",
        "      b_repr = enc[offs[4]]\n",
        "      a_q.append(torch.cat([enc[offs[0]], a_repr, torch.dot(enc[offs[0]], a_repr).unsqueeze(0)]))\n",
        "      b_q.append(torch.cat([enc[offs[0]], b_repr, torch.dot(enc[offs[0]], b_repr).unsqueeze(0)]))\n",
        "    a_q = torch.stack(a_q)\n",
        "    b_q = torch.stack(b_q)\n",
        "    # apply the same \"detector\" layer to both batches of pairs\n",
        "    is_a = self.relu(self.dropout(self.hidden2hidden(a_q)))\n",
        "    is_b = self.relu(self.dropout(self.hidden2hidden(b_q)))\n",
        "    # concatenate outputs of the \"detector\" layer to get the final probability distribution\n",
        "    is_a_b = torch.cat([is_a, is_b], dim=1)\n",
        "    is_logits = self.hidden2logits(self.dropout(self.relu(is_a_b)))\n",
        "\n",
        "    activation = self.activation(is_logits)\n",
        "    if labels is not None:\n",
        "      return activation, self.loss(activation, labels)\n",
        "    else:\n",
        "      return activation"
      ],
      "metadata": {
        "id": "rdPY0QQjaI1a"
      },
      "execution_count": 25,
      "outputs": []
    },
    {
      "cell_type": "code",
      "source": [
        "enc = learn_lm.model[0]"
      ],
      "metadata": {
        "id": "S-eqTeE7aSs-"
      },
      "execution_count": 26,
      "outputs": []
    },
    {
      "cell_type": "code",
      "source": [
        "resolver = CorefResolver(enc)"
      ],
      "metadata": {
        "id": "-nej-9MDasYB"
      },
      "execution_count": 27,
      "outputs": []
    },
    {
      "cell_type": "code",
      "source": [
        "resolver.to(device)"
      ],
      "metadata": {
        "colab": {
          "base_uri": "https://localhost:8080/"
        },
        "id": "t4p4nee1fBnl",
        "outputId": "689aa129-2188-4d68-a99d-4949e0bc796c"
      },
      "execution_count": 28,
      "outputs": [
        {
          "output_type": "execute_result",
          "data": {
            "text/plain": [
              "CorefResolver(\n",
              "  (encoder): AWD_LSTM(\n",
              "    (encoder): Embedding(10592, 400, padding_idx=1)\n",
              "    (encoder_dp): EmbeddingDropout(\n",
              "      (emb): Embedding(10592, 400, padding_idx=1)\n",
              "    )\n",
              "    (rnns): ModuleList(\n",
              "      (0): WeightDropout(\n",
              "        (module): LSTM(400, 1152, batch_first=True)\n",
              "      )\n",
              "      (1): WeightDropout(\n",
              "        (module): LSTM(1152, 1152, batch_first=True)\n",
              "      )\n",
              "      (2): WeightDropout(\n",
              "        (module): LSTM(1152, 400, batch_first=True)\n",
              "      )\n",
              "    )\n",
              "    (input_dp): RNNDropout()\n",
              "    (hidden_dps): ModuleList(\n",
              "      (0): RNNDropout()\n",
              "      (1): RNNDropout()\n",
              "      (2): RNNDropout()\n",
              "    )\n",
              "  )\n",
              "  (dropout): Dropout(p=0.3, inplace=False)\n",
              "  (hidden2hidden): Linear(in_features=801, out_features=25, bias=True)\n",
              "  (hidden2logits): Linear(in_features=50, out_features=3, bias=True)\n",
              "  (relu): ReLU()\n",
              "  (activation): LogSoftmax(dim=1)\n",
              "  (loss): NLLLoss()\n",
              ")"
            ]
          },
          "metadata": {},
          "execution_count": 28
        }
      ]
    },
    {
      "cell_type": "code",
      "source": [
        "for param in resolver.encoder.parameters():\n",
        "  param.requires_grad = False"
      ],
      "metadata": {
        "id": "qRs2narTfD5e"
      },
      "execution_count": 29,
      "outputs": []
    },
    {
      "cell_type": "code",
      "source": [
        "lr = 0.001\n",
        "\n",
        "loss_fn = nn.NLLLoss()\n",
        "optimizer = torch.optim.Adam(resolver.parameters(), lr=lr)"
      ],
      "metadata": {
        "id": "pNM1cB4AgOnv"
      },
      "execution_count": 30,
      "outputs": []
    },
    {
      "cell_type": "code",
      "source": [
        "from sklearn.metrics import classification_report"
      ],
      "metadata": {
        "id": "LlVxKZx8gRxs"
      },
      "execution_count": 31,
      "outputs": []
    },
    {
      "cell_type": "code",
      "source": [
        "def train_epoch(model, optimizer, train_dl, report_every=10):\n",
        "  model.train()\n",
        "  step = 0\n",
        "  total_loss = 0\n",
        "  \n",
        "  for texts, offsets, labels in train_dl:\n",
        "    texts, offsets, labels = texts.to(device), offsets.to(device), labels.to(device)\n",
        "    step += 1\n",
        "    optimizer.zero_grad()\n",
        "    _, loss = model(texts, offsets, labels)\n",
        "    total_loss += loss.item()\n",
        "    \n",
        "    loss.backward()\n",
        "    optimizer.step()\n",
        "    \n",
        "    if step % report_every == 0:\n",
        "      print(f\"Step {step}, loss: {total_loss/report_every}\")\n",
        "      total_loss = 0\n",
        "      \n",
        "def evaluate(model, optimizer, valid_dl, probas=False):\n",
        "  probas = list()\n",
        "  model.eval()\n",
        "  predictions = list()\n",
        "  total_loss = 0\n",
        "  all_labels = list()\n",
        "  with torch.no_grad():\n",
        "    for texts, offsets, labels in valid_dl:\n",
        "      texts, offsets, labels = texts.cuda(), offsets.cuda(), labels.cuda()\n",
        "      preds, loss = model(texts, offsets, labels)\n",
        "      total_loss += loss.item()\n",
        "      probas.append(preds.cpu().detach().numpy())\n",
        "      predictions.extend([i.item() for i in preds.max(1)[1]])\n",
        "    \n",
        "    \n",
        "  print(f\"Validation loss: {total_loss/len(valid_dl)}\")\n",
        "  print()\n",
        "  print(classification_report(valid_dl.dataset.tensors[2].numpy(), predictions))\n",
        "  if probas:\n",
        "    return total_loss, np.vstack(probas)\n",
        "  return total_loss, predictions"
      ],
      "metadata": {
        "id": "NH8JbjBwgUdk"
      },
      "execution_count": 32,
      "outputs": []
    },
    {
      "cell_type": "code",
      "source": [
        "total_epoch = 0\n",
        "best_loss = 1e6\n",
        "\n",
        "for i in range(10):\n",
        "  print(\"Epoch\", i + 1)\n",
        "  total_epoch += 1\n",
        "  train_epoch(resolver, optimizer, train_dl) \n",
        "  loss, labels = evaluate(resolver, optimizer, test_dl)\n",
        "  if loss < best_loss:\n",
        "    best_loss = loss\n",
        "    print(f\"Loss improved, saving {total_epoch}\")\n",
        "    torch.save(resolver.state_dict(), Path(model_save_path)/\"model_best.pt\")"
      ],
      "metadata": {
        "colab": {
          "base_uri": "https://localhost:8080/"
        },
        "id": "RW3chKpwgYyO",
        "outputId": "3208d7e9-484a-4772-d7bd-1a3dc3d10d56"
      },
      "execution_count": 33,
      "outputs": [
        {
          "output_type": "stream",
          "name": "stdout",
          "text": [
            "Epoch 1\n",
            "Step 10, loss: 1.0401509761810304\n",
            "Step 20, loss: 0.948426079750061\n",
            "Step 30, loss: 0.9589427173137665\n",
            "Validation loss: 0.9032026046798343\n",
            "\n",
            "              precision    recall  f1-score   support\n",
            "\n",
            "           0       0.65      0.54      0.59       918\n",
            "           1       0.55      0.80      0.65       855\n",
            "           2       0.00      0.00      0.00       227\n",
            "\n",
            "    accuracy                           0.59      2000\n",
            "   macro avg       0.40      0.45      0.41      2000\n",
            "weighted avg       0.53      0.59      0.55      2000\n",
            "\n",
            "Loss improved, saving 1\n"
          ]
        },
        {
          "output_type": "stream",
          "name": "stderr",
          "text": [
            "/usr/local/lib/python3.7/dist-packages/sklearn/metrics/_classification.py:1318: UndefinedMetricWarning: Precision and F-score are ill-defined and being set to 0.0 in labels with no predicted samples. Use `zero_division` parameter to control this behavior.\n",
            "  _warn_prf(average, modifier, msg_start, len(result))\n",
            "/usr/local/lib/python3.7/dist-packages/sklearn/metrics/_classification.py:1318: UndefinedMetricWarning: Precision and F-score are ill-defined and being set to 0.0 in labels with no predicted samples. Use `zero_division` parameter to control this behavior.\n",
            "  _warn_prf(average, modifier, msg_start, len(result))\n",
            "/usr/local/lib/python3.7/dist-packages/sklearn/metrics/_classification.py:1318: UndefinedMetricWarning: Precision and F-score are ill-defined and being set to 0.0 in labels with no predicted samples. Use `zero_division` parameter to control this behavior.\n",
            "  _warn_prf(average, modifier, msg_start, len(result))\n"
          ]
        },
        {
          "output_type": "stream",
          "name": "stdout",
          "text": [
            "Epoch 2\n",
            "Step 10, loss: 0.8815369486808777\n",
            "Step 20, loss: 0.8818525552749634\n",
            "Step 30, loss: 0.8737873017787934\n",
            "Validation loss: 0.8515901991299221\n",
            "\n",
            "              precision    recall  f1-score   support\n",
            "\n",
            "           0       0.69      0.61      0.64       918\n",
            "           1       0.59      0.82      0.68       855\n",
            "           2       0.00      0.00      0.00       227\n",
            "\n",
            "    accuracy                           0.63      2000\n",
            "   macro avg       0.42      0.47      0.44      2000\n",
            "weighted avg       0.57      0.63      0.59      2000\n",
            "\n",
            "Loss improved, saving 2\n"
          ]
        },
        {
          "output_type": "stream",
          "name": "stderr",
          "text": [
            "/usr/local/lib/python3.7/dist-packages/sklearn/metrics/_classification.py:1318: UndefinedMetricWarning: Precision and F-score are ill-defined and being set to 0.0 in labels with no predicted samples. Use `zero_division` parameter to control this behavior.\n",
            "  _warn_prf(average, modifier, msg_start, len(result))\n",
            "/usr/local/lib/python3.7/dist-packages/sklearn/metrics/_classification.py:1318: UndefinedMetricWarning: Precision and F-score are ill-defined and being set to 0.0 in labels with no predicted samples. Use `zero_division` parameter to control this behavior.\n",
            "  _warn_prf(average, modifier, msg_start, len(result))\n",
            "/usr/local/lib/python3.7/dist-packages/sklearn/metrics/_classification.py:1318: UndefinedMetricWarning: Precision and F-score are ill-defined and being set to 0.0 in labels with no predicted samples. Use `zero_division` parameter to control this behavior.\n",
            "  _warn_prf(average, modifier, msg_start, len(result))\n"
          ]
        },
        {
          "output_type": "stream",
          "name": "stdout",
          "text": [
            "Epoch 3\n",
            "Step 10, loss: 0.8382871627807618\n",
            "Step 20, loss: 0.8651101410388946\n",
            "Step 30, loss: 0.8135604918003082\n",
            "Validation loss: 0.8196156223615011\n",
            "\n",
            "              precision    recall  f1-score   support\n",
            "\n",
            "           0       0.70      0.64      0.67       918\n",
            "           1       0.61      0.82      0.70       855\n",
            "           2       0.00      0.00      0.00       227\n",
            "\n",
            "    accuracy                           0.65      2000\n",
            "   macro avg       0.43      0.49      0.46      2000\n",
            "weighted avg       0.58      0.65      0.60      2000\n",
            "\n",
            "Loss improved, saving 3\n"
          ]
        },
        {
          "output_type": "stream",
          "name": "stderr",
          "text": [
            "/usr/local/lib/python3.7/dist-packages/sklearn/metrics/_classification.py:1318: UndefinedMetricWarning: Precision and F-score are ill-defined and being set to 0.0 in labels with no predicted samples. Use `zero_division` parameter to control this behavior.\n",
            "  _warn_prf(average, modifier, msg_start, len(result))\n",
            "/usr/local/lib/python3.7/dist-packages/sklearn/metrics/_classification.py:1318: UndefinedMetricWarning: Precision and F-score are ill-defined and being set to 0.0 in labels with no predicted samples. Use `zero_division` parameter to control this behavior.\n",
            "  _warn_prf(average, modifier, msg_start, len(result))\n",
            "/usr/local/lib/python3.7/dist-packages/sklearn/metrics/_classification.py:1318: UndefinedMetricWarning: Precision and F-score are ill-defined and being set to 0.0 in labels with no predicted samples. Use `zero_division` parameter to control this behavior.\n",
            "  _warn_prf(average, modifier, msg_start, len(result))\n"
          ]
        },
        {
          "output_type": "stream",
          "name": "stdout",
          "text": [
            "Epoch 4\n",
            "Step 10, loss: 0.8241340339183807\n",
            "Step 20, loss: 0.7857409060001374\n",
            "Step 30, loss: 0.7709757089614868\n",
            "Validation loss: 0.8042920581878178\n",
            "\n",
            "              precision    recall  f1-score   support\n",
            "\n",
            "           0       0.70      0.64      0.67       918\n",
            "           1       0.61      0.83      0.70       855\n",
            "           2       0.00      0.00      0.00       227\n",
            "\n",
            "    accuracy                           0.65      2000\n",
            "   macro avg       0.44      0.49      0.46      2000\n",
            "weighted avg       0.58      0.65      0.61      2000\n",
            "\n",
            "Loss improved, saving 4\n"
          ]
        },
        {
          "output_type": "stream",
          "name": "stderr",
          "text": [
            "/usr/local/lib/python3.7/dist-packages/sklearn/metrics/_classification.py:1318: UndefinedMetricWarning: Precision and F-score are ill-defined and being set to 0.0 in labels with no predicted samples. Use `zero_division` parameter to control this behavior.\n",
            "  _warn_prf(average, modifier, msg_start, len(result))\n",
            "/usr/local/lib/python3.7/dist-packages/sklearn/metrics/_classification.py:1318: UndefinedMetricWarning: Precision and F-score are ill-defined and being set to 0.0 in labels with no predicted samples. Use `zero_division` parameter to control this behavior.\n",
            "  _warn_prf(average, modifier, msg_start, len(result))\n",
            "/usr/local/lib/python3.7/dist-packages/sklearn/metrics/_classification.py:1318: UndefinedMetricWarning: Precision and F-score are ill-defined and being set to 0.0 in labels with no predicted samples. Use `zero_division` parameter to control this behavior.\n",
            "  _warn_prf(average, modifier, msg_start, len(result))\n"
          ]
        },
        {
          "output_type": "stream",
          "name": "stdout",
          "text": [
            "Epoch 5\n",
            "Step 10, loss: 0.7732559442520142\n",
            "Step 20, loss: 0.789754182100296\n",
            "Step 30, loss: 0.7720060825347901\n",
            "Validation loss: 0.7922703226407369\n",
            "\n",
            "              precision    recall  f1-score   support\n",
            "\n",
            "           0       0.72      0.63      0.67       918\n",
            "           1       0.61      0.85      0.71       855\n",
            "           2       0.00      0.00      0.00       227\n",
            "\n",
            "    accuracy                           0.65      2000\n",
            "   macro avg       0.44      0.49      0.46      2000\n",
            "weighted avg       0.59      0.65      0.61      2000\n",
            "\n",
            "Loss improved, saving 5\n"
          ]
        },
        {
          "output_type": "stream",
          "name": "stderr",
          "text": [
            "/usr/local/lib/python3.7/dist-packages/sklearn/metrics/_classification.py:1318: UndefinedMetricWarning: Precision and F-score are ill-defined and being set to 0.0 in labels with no predicted samples. Use `zero_division` parameter to control this behavior.\n",
            "  _warn_prf(average, modifier, msg_start, len(result))\n",
            "/usr/local/lib/python3.7/dist-packages/sklearn/metrics/_classification.py:1318: UndefinedMetricWarning: Precision and F-score are ill-defined and being set to 0.0 in labels with no predicted samples. Use `zero_division` parameter to control this behavior.\n",
            "  _warn_prf(average, modifier, msg_start, len(result))\n",
            "/usr/local/lib/python3.7/dist-packages/sklearn/metrics/_classification.py:1318: UndefinedMetricWarning: Precision and F-score are ill-defined and being set to 0.0 in labels with no predicted samples. Use `zero_division` parameter to control this behavior.\n",
            "  _warn_prf(average, modifier, msg_start, len(result))\n"
          ]
        },
        {
          "output_type": "stream",
          "name": "stdout",
          "text": [
            "Epoch 6\n",
            "Step 10, loss: 0.7709351301193237\n",
            "Step 20, loss: 0.7536661028862\n",
            "Step 30, loss: 0.7358182430267334\n",
            "Validation loss: 0.7722865494470748\n",
            "\n",
            "              precision    recall  f1-score   support\n",
            "\n",
            "           0       0.72      0.66      0.69       918\n",
            "           1       0.62      0.83      0.71       855\n",
            "           2       1.00      0.00      0.01       227\n",
            "\n",
            "    accuracy                           0.66      2000\n",
            "   macro avg       0.78      0.50      0.47      2000\n",
            "weighted avg       0.71      0.66      0.62      2000\n",
            "\n",
            "Loss improved, saving 6\n",
            "Epoch 7\n",
            "Step 10, loss: 0.7477600038051605\n",
            "Step 20, loss: 0.7591916084289551\n",
            "Step 30, loss: 0.7467046916484833\n",
            "Validation loss: 0.7643469581528316\n",
            "\n",
            "              precision    recall  f1-score   support\n",
            "\n",
            "           0       0.71      0.69      0.70       918\n",
            "           1       0.63      0.82      0.71       855\n",
            "           2       1.00      0.00      0.01       227\n",
            "\n",
            "    accuracy                           0.66      2000\n",
            "   macro avg       0.78      0.50      0.47      2000\n",
            "weighted avg       0.71      0.66      0.62      2000\n",
            "\n",
            "Loss improved, saving 7\n",
            "Epoch 8\n",
            "Step 10, loss: 0.7117282211780548\n",
            "Step 20, loss: 0.7138006687164307\n",
            "Step 30, loss: 0.7307048857212066\n",
            "Validation loss: 0.7545071982202076\n",
            "\n",
            "              precision    recall  f1-score   support\n",
            "\n",
            "           0       0.73      0.66      0.69       918\n",
            "           1       0.62      0.84      0.71       855\n",
            "           2       1.00      0.00      0.01       227\n",
            "\n",
            "    accuracy                           0.66      2000\n",
            "   macro avg       0.78      0.50      0.47      2000\n",
            "weighted avg       0.71      0.66      0.62      2000\n",
            "\n",
            "Loss improved, saving 8\n",
            "Epoch 9\n",
            "Step 10, loss: 0.7528995335102081\n",
            "Step 20, loss: 0.7045417189598083\n",
            "Step 30, loss: 0.73264639377594\n",
            "Validation loss: 0.7559102641211616\n",
            "\n",
            "              precision    recall  f1-score   support\n",
            "\n",
            "           0       0.74      0.64      0.68       918\n",
            "           1       0.61      0.86      0.71       855\n",
            "           2       1.00      0.01      0.02       227\n",
            "\n",
            "    accuracy                           0.66      2000\n",
            "   macro avg       0.78      0.50      0.47      2000\n",
            "weighted avg       0.71      0.66      0.62      2000\n",
            "\n",
            "Epoch 10\n",
            "Step 10, loss: 0.6603213787078858\n",
            "Step 20, loss: 0.6854131519794464\n",
            "Step 30, loss: 0.7621240854263306\n",
            "Validation loss: 0.7439484388109238\n",
            "\n",
            "              precision    recall  f1-score   support\n",
            "\n",
            "           0       0.67      0.76      0.71       918\n",
            "           1       0.66      0.74      0.70       855\n",
            "           2       0.38      0.01      0.03       227\n",
            "\n",
            "    accuracy                           0.67      2000\n",
            "   macro avg       0.57      0.50      0.48      2000\n",
            "weighted avg       0.63      0.67      0.63      2000\n",
            "\n",
            "Loss improved, saving 10\n"
          ]
        }
      ]
    },
    {
      "cell_type": "markdown",
      "source": [
        "## Test"
      ],
      "metadata": {
        "id": "vF2M0TOBEAft"
      }
    },
    {
      "cell_type": "code",
      "source": [
        "loss, res = evaluate(resolver, optimizer, valid_dl, True)\n",
        "res_s = np.exp(res)  # don't forget that we have log-softmax outputs:\n",
        "test_res = pd.DataFrame(res_s, index=val_df[\"ID\"], columns=[\"A\", \"B\", \"NEITHER\"])\n",
        "test_res.head()"
      ],
      "metadata": {
        "colab": {
          "base_uri": "https://localhost:8080/",
          "height": 446
        },
        "id": "mRogdQwMvy6p",
        "outputId": "5fc6eac3-cf6d-476a-bb8d-0755ae5f353c"
      },
      "execution_count": 34,
      "outputs": [
        {
          "output_type": "stream",
          "name": "stdout",
          "text": [
            "Validation loss: 0.8265786091486613\n",
            "\n",
            "              precision    recall  f1-score   support\n",
            "\n",
            "           0       0.62      0.79      0.69       187\n",
            "           1       0.67      0.69      0.68       205\n",
            "           2       1.00      0.02      0.03        62\n",
            "\n",
            "    accuracy                           0.64       454\n",
            "   macro avg       0.76      0.50      0.47       454\n",
            "weighted avg       0.69      0.64      0.60       454\n",
            "\n"
          ]
        },
        {
          "output_type": "execute_result",
          "data": {
            "text/html": [
              "\n",
              "  <div id=\"df-2e23413a-7cb4-4fb4-8827-3dfacecc34c1\">\n",
              "    <div class=\"colab-df-container\">\n",
              "      <div>\n",
              "<style scoped>\n",
              "    .dataframe tbody tr th:only-of-type {\n",
              "        vertical-align: middle;\n",
              "    }\n",
              "\n",
              "    .dataframe tbody tr th {\n",
              "        vertical-align: top;\n",
              "    }\n",
              "\n",
              "    .dataframe thead th {\n",
              "        text-align: right;\n",
              "    }\n",
              "</style>\n",
              "<table border=\"1\" class=\"dataframe\">\n",
              "  <thead>\n",
              "    <tr style=\"text-align: right;\">\n",
              "      <th></th>\n",
              "      <th>A</th>\n",
              "      <th>B</th>\n",
              "      <th>NEITHER</th>\n",
              "    </tr>\n",
              "    <tr>\n",
              "      <th>ID</th>\n",
              "      <th></th>\n",
              "      <th></th>\n",
              "      <th></th>\n",
              "    </tr>\n",
              "  </thead>\n",
              "  <tbody>\n",
              "    <tr>\n",
              "      <th>validation-1</th>\n",
              "      <td>0.268204</td>\n",
              "      <td>0.617608</td>\n",
              "      <td>0.114189</td>\n",
              "    </tr>\n",
              "    <tr>\n",
              "      <th>validation-2</th>\n",
              "      <td>0.568593</td>\n",
              "      <td>0.272469</td>\n",
              "      <td>0.158939</td>\n",
              "    </tr>\n",
              "    <tr>\n",
              "      <th>validation-3</th>\n",
              "      <td>0.142309</td>\n",
              "      <td>0.775550</td>\n",
              "      <td>0.082141</td>\n",
              "    </tr>\n",
              "    <tr>\n",
              "      <th>validation-4</th>\n",
              "      <td>0.555599</td>\n",
              "      <td>0.256977</td>\n",
              "      <td>0.187425</td>\n",
              "    </tr>\n",
              "    <tr>\n",
              "      <th>validation-5</th>\n",
              "      <td>0.828078</td>\n",
              "      <td>0.104330</td>\n",
              "      <td>0.067592</td>\n",
              "    </tr>\n",
              "  </tbody>\n",
              "</table>\n",
              "</div>\n",
              "      <button class=\"colab-df-convert\" onclick=\"convertToInteractive('df-2e23413a-7cb4-4fb4-8827-3dfacecc34c1')\"\n",
              "              title=\"Convert this dataframe to an interactive table.\"\n",
              "              style=\"display:none;\">\n",
              "        \n",
              "  <svg xmlns=\"http://www.w3.org/2000/svg\" height=\"24px\"viewBox=\"0 0 24 24\"\n",
              "       width=\"24px\">\n",
              "    <path d=\"M0 0h24v24H0V0z\" fill=\"none\"/>\n",
              "    <path d=\"M18.56 5.44l.94 2.06.94-2.06 2.06-.94-2.06-.94-.94-2.06-.94 2.06-2.06.94zm-11 1L8.5 8.5l.94-2.06 2.06-.94-2.06-.94L8.5 2.5l-.94 2.06-2.06.94zm10 10l.94 2.06.94-2.06 2.06-.94-2.06-.94-.94-2.06-.94 2.06-2.06.94z\"/><path d=\"M17.41 7.96l-1.37-1.37c-.4-.4-.92-.59-1.43-.59-.52 0-1.04.2-1.43.59L10.3 9.45l-7.72 7.72c-.78.78-.78 2.05 0 2.83L4 21.41c.39.39.9.59 1.41.59.51 0 1.02-.2 1.41-.59l7.78-7.78 2.81-2.81c.8-.78.8-2.07 0-2.86zM5.41 20L4 18.59l7.72-7.72 1.47 1.35L5.41 20z\"/>\n",
              "  </svg>\n",
              "      </button>\n",
              "      \n",
              "  <style>\n",
              "    .colab-df-container {\n",
              "      display:flex;\n",
              "      flex-wrap:wrap;\n",
              "      gap: 12px;\n",
              "    }\n",
              "\n",
              "    .colab-df-convert {\n",
              "      background-color: #E8F0FE;\n",
              "      border: none;\n",
              "      border-radius: 50%;\n",
              "      cursor: pointer;\n",
              "      display: none;\n",
              "      fill: #1967D2;\n",
              "      height: 32px;\n",
              "      padding: 0 0 0 0;\n",
              "      width: 32px;\n",
              "    }\n",
              "\n",
              "    .colab-df-convert:hover {\n",
              "      background-color: #E2EBFA;\n",
              "      box-shadow: 0px 1px 2px rgba(60, 64, 67, 0.3), 0px 1px 3px 1px rgba(60, 64, 67, 0.15);\n",
              "      fill: #174EA6;\n",
              "    }\n",
              "\n",
              "    [theme=dark] .colab-df-convert {\n",
              "      background-color: #3B4455;\n",
              "      fill: #D2E3FC;\n",
              "    }\n",
              "\n",
              "    [theme=dark] .colab-df-convert:hover {\n",
              "      background-color: #434B5C;\n",
              "      box-shadow: 0px 1px 3px 1px rgba(0, 0, 0, 0.15);\n",
              "      filter: drop-shadow(0px 1px 2px rgba(0, 0, 0, 0.3));\n",
              "      fill: #FFFFFF;\n",
              "    }\n",
              "  </style>\n",
              "\n",
              "      <script>\n",
              "        const buttonEl =\n",
              "          document.querySelector('#df-2e23413a-7cb4-4fb4-8827-3dfacecc34c1 button.colab-df-convert');\n",
              "        buttonEl.style.display =\n",
              "          google.colab.kernel.accessAllowed ? 'block' : 'none';\n",
              "\n",
              "        async function convertToInteractive(key) {\n",
              "          const element = document.querySelector('#df-2e23413a-7cb4-4fb4-8827-3dfacecc34c1');\n",
              "          const dataTable =\n",
              "            await google.colab.kernel.invokeFunction('convertToInteractive',\n",
              "                                                     [key], {});\n",
              "          if (!dataTable) return;\n",
              "\n",
              "          const docLinkHtml = 'Like what you see? Visit the ' +\n",
              "            '<a target=\"_blank\" href=https://colab.research.google.com/notebooks/data_table.ipynb>data table notebook</a>'\n",
              "            + ' to learn more about interactive tables.';\n",
              "          element.innerHTML = '';\n",
              "          dataTable['output_type'] = 'display_data';\n",
              "          await google.colab.output.renderOutput(dataTable, element);\n",
              "          const docLink = document.createElement('div');\n",
              "          docLink.innerHTML = docLinkHtml;\n",
              "          element.appendChild(docLink);\n",
              "        }\n",
              "      </script>\n",
              "    </div>\n",
              "  </div>\n",
              "  "
            ],
            "text/plain": [
              "                     A         B   NEITHER\n",
              "ID                                        \n",
              "validation-1  0.268204  0.617608  0.114189\n",
              "validation-2  0.568593  0.272469  0.158939\n",
              "validation-3  0.142309  0.775550  0.082141\n",
              "validation-4  0.555599  0.256977  0.187425\n",
              "validation-5  0.828078  0.104330  0.067592"
            ]
          },
          "metadata": {},
          "execution_count": 34
        }
      ]
    },
    {
      "cell_type": "code",
      "source": [
        "val_df.head()"
      ],
      "metadata": {
        "colab": {
          "base_uri": "https://localhost:8080/",
          "height": 823
        },
        "id": "tH1cbKF509_D",
        "outputId": "6866acfe-eee3-4138-d6c2-3d6eaf475d67"
      },
      "execution_count": 35,
      "outputs": [
        {
          "output_type": "execute_result",
          "data": {
            "text/html": [
              "\n",
              "  <div id=\"df-8cd49f8b-a3fd-49d9-8160-a46656a85024\">\n",
              "    <div class=\"colab-df-container\">\n",
              "      <div>\n",
              "<style scoped>\n",
              "    .dataframe tbody tr th:only-of-type {\n",
              "        vertical-align: middle;\n",
              "    }\n",
              "\n",
              "    .dataframe tbody tr th {\n",
              "        vertical-align: top;\n",
              "    }\n",
              "\n",
              "    .dataframe thead th {\n",
              "        text-align: right;\n",
              "    }\n",
              "</style>\n",
              "<table border=\"1\" class=\"dataframe\">\n",
              "  <thead>\n",
              "    <tr style=\"text-align: right;\">\n",
              "      <th></th>\n",
              "      <th>ID</th>\n",
              "      <th>Text</th>\n",
              "      <th>Pronoun</th>\n",
              "      <th>Pronoun-offset</th>\n",
              "      <th>A</th>\n",
              "      <th>A-offset</th>\n",
              "      <th>A-coref</th>\n",
              "      <th>B</th>\n",
              "      <th>B-offset</th>\n",
              "      <th>B-coref</th>\n",
              "      <th>URL</th>\n",
              "    </tr>\n",
              "  </thead>\n",
              "  <tbody>\n",
              "    <tr>\n",
              "      <th>0</th>\n",
              "      <td>validation-1</td>\n",
              "      <td>He admitted making four trips to China and playing golf there. He also admitted that ZTE officials, whom he says are his golf buddies, hosted and paid for the trips. Jose de Venecia III, son of House Speaker Jose de Venecia Jr, alleged that Abalos offered him US$10 million to withdraw his proposal on the NBN project.</td>\n",
              "      <td>him</td>\n",
              "      <td>256</td>\n",
              "      <td>Jose de Venecia Jr</td>\n",
              "      <td>208</td>\n",
              "      <td>False</td>\n",
              "      <td>Abalos</td>\n",
              "      <td>241</td>\n",
              "      <td>False</td>\n",
              "      <td>http://en.wikipedia.org/wiki/Commission_on_Elections_(Philippines)</td>\n",
              "    </tr>\n",
              "    <tr>\n",
              "      <th>1</th>\n",
              "      <td>validation-2</td>\n",
              "      <td>Kathleen Nott was born in Camberwell, London. Her father, Philip, was a lithographic printer, and her mother, Ellen, ran a boarding house in Brixton; Kathleen was their third daughter. She was educated at Mary Datchelor Girls' School (now closed), London, before attending King's College, London.</td>\n",
              "      <td>She</td>\n",
              "      <td>185</td>\n",
              "      <td>Ellen</td>\n",
              "      <td>110</td>\n",
              "      <td>False</td>\n",
              "      <td>Kathleen</td>\n",
              "      <td>150</td>\n",
              "      <td>True</td>\n",
              "      <td>http://en.wikipedia.org/wiki/Kathleen_Nott</td>\n",
              "    </tr>\n",
              "    <tr>\n",
              "      <th>2</th>\n",
              "      <td>validation-3</td>\n",
              "      <td>When she returns to her hotel room, a Liberian man (Tony Todd) forces her to smuggle $20 million worth of conflict diamonds to New York, or else fellow fight attendant and friend Angela will die. She is caught before she can board the flight, and the team now have nine hours until the plane lands, and save Angela. After the confiscated diamonds are stolen by the brother of Kaleo (Jason Scott Lee), whom Danny put away for murdering his partner last year, Five-0 and Chief Fryer team up and enlist the help of August March (Ed Asner), who served a 30-year sentence for smuggling diamonds.</td>\n",
              "      <td>his</td>\n",
              "      <td>435</td>\n",
              "      <td>Jason Scott Lee</td>\n",
              "      <td>383</td>\n",
              "      <td>False</td>\n",
              "      <td>Danny</td>\n",
              "      <td>406</td>\n",
              "      <td>True</td>\n",
              "      <td>http://en.wikipedia.org/wiki/Hawaii_Five-0_(2010_TV_series,_season_2)</td>\n",
              "    </tr>\n",
              "    <tr>\n",
              "      <th>3</th>\n",
              "      <td>validation-4</td>\n",
              "      <td>On 19 March 2007, during a campaign appearance for the New South Wales State Election, the then opposition leader Peter Debnam was confronted by Reucassel wearing nothing but Speedos and a baseball cap, making fun of Debnam's campaign appearances in the swimwear. When TV cameras remained focused on Reucassel rather than Mr Debnam, he said, ``Sorry, I'm not Peter Debnam, he's over there.</td>\n",
              "      <td>he</td>\n",
              "      <td>333</td>\n",
              "      <td>Reucassel</td>\n",
              "      <td>300</td>\n",
              "      <td>True</td>\n",
              "      <td>Debnam</td>\n",
              "      <td>325</td>\n",
              "      <td>False</td>\n",
              "      <td>http://en.wikipedia.org/wiki/Craig_Reucassel</td>\n",
              "    </tr>\n",
              "    <tr>\n",
              "      <th>4</th>\n",
              "      <td>validation-5</td>\n",
              "      <td>By this time, Karen Blixen had separated from her husband, and after their divorce in 1925, Finch Hatton moved into her house and began leading safaris for wealthy sportsmen. Among his clients were Marshall Field Jr and Edward, Prince of Wales. According to the author Mary Lovell, in 1930 Finch Hatton began a love affair with Beryl Markham, who was working as a race-horse trainer in Nairobi and the surrounding area. Later, she would become known as a pioneer flyer herself (Markham attributed her interest in flying to her association with Tom Campbell Black).</td>\n",
              "      <td>she</td>\n",
              "      <td>427</td>\n",
              "      <td>Finch Hatton</td>\n",
              "      <td>290</td>\n",
              "      <td>False</td>\n",
              "      <td>Beryl Markham</td>\n",
              "      <td>328</td>\n",
              "      <td>True</td>\n",
              "      <td>http://en.wikipedia.org/wiki/Denys_Finch_Hatton</td>\n",
              "    </tr>\n",
              "  </tbody>\n",
              "</table>\n",
              "</div>\n",
              "      <button class=\"colab-df-convert\" onclick=\"convertToInteractive('df-8cd49f8b-a3fd-49d9-8160-a46656a85024')\"\n",
              "              title=\"Convert this dataframe to an interactive table.\"\n",
              "              style=\"display:none;\">\n",
              "        \n",
              "  <svg xmlns=\"http://www.w3.org/2000/svg\" height=\"24px\"viewBox=\"0 0 24 24\"\n",
              "       width=\"24px\">\n",
              "    <path d=\"M0 0h24v24H0V0z\" fill=\"none\"/>\n",
              "    <path d=\"M18.56 5.44l.94 2.06.94-2.06 2.06-.94-2.06-.94-.94-2.06-.94 2.06-2.06.94zm-11 1L8.5 8.5l.94-2.06 2.06-.94-2.06-.94L8.5 2.5l-.94 2.06-2.06.94zm10 10l.94 2.06.94-2.06 2.06-.94-2.06-.94-.94-2.06-.94 2.06-2.06.94z\"/><path d=\"M17.41 7.96l-1.37-1.37c-.4-.4-.92-.59-1.43-.59-.52 0-1.04.2-1.43.59L10.3 9.45l-7.72 7.72c-.78.78-.78 2.05 0 2.83L4 21.41c.39.39.9.59 1.41.59.51 0 1.02-.2 1.41-.59l7.78-7.78 2.81-2.81c.8-.78.8-2.07 0-2.86zM5.41 20L4 18.59l7.72-7.72 1.47 1.35L5.41 20z\"/>\n",
              "  </svg>\n",
              "      </button>\n",
              "      \n",
              "  <style>\n",
              "    .colab-df-container {\n",
              "      display:flex;\n",
              "      flex-wrap:wrap;\n",
              "      gap: 12px;\n",
              "    }\n",
              "\n",
              "    .colab-df-convert {\n",
              "      background-color: #E8F0FE;\n",
              "      border: none;\n",
              "      border-radius: 50%;\n",
              "      cursor: pointer;\n",
              "      display: none;\n",
              "      fill: #1967D2;\n",
              "      height: 32px;\n",
              "      padding: 0 0 0 0;\n",
              "      width: 32px;\n",
              "    }\n",
              "\n",
              "    .colab-df-convert:hover {\n",
              "      background-color: #E2EBFA;\n",
              "      box-shadow: 0px 1px 2px rgba(60, 64, 67, 0.3), 0px 1px 3px 1px rgba(60, 64, 67, 0.15);\n",
              "      fill: #174EA6;\n",
              "    }\n",
              "\n",
              "    [theme=dark] .colab-df-convert {\n",
              "      background-color: #3B4455;\n",
              "      fill: #D2E3FC;\n",
              "    }\n",
              "\n",
              "    [theme=dark] .colab-df-convert:hover {\n",
              "      background-color: #434B5C;\n",
              "      box-shadow: 0px 1px 3px 1px rgba(0, 0, 0, 0.15);\n",
              "      filter: drop-shadow(0px 1px 2px rgba(0, 0, 0, 0.3));\n",
              "      fill: #FFFFFF;\n",
              "    }\n",
              "  </style>\n",
              "\n",
              "      <script>\n",
              "        const buttonEl =\n",
              "          document.querySelector('#df-8cd49f8b-a3fd-49d9-8160-a46656a85024 button.colab-df-convert');\n",
              "        buttonEl.style.display =\n",
              "          google.colab.kernel.accessAllowed ? 'block' : 'none';\n",
              "\n",
              "        async function convertToInteractive(key) {\n",
              "          const element = document.querySelector('#df-8cd49f8b-a3fd-49d9-8160-a46656a85024');\n",
              "          const dataTable =\n",
              "            await google.colab.kernel.invokeFunction('convertToInteractive',\n",
              "                                                     [key], {});\n",
              "          if (!dataTable) return;\n",
              "\n",
              "          const docLinkHtml = 'Like what you see? Visit the ' +\n",
              "            '<a target=\"_blank\" href=https://colab.research.google.com/notebooks/data_table.ipynb>data table notebook</a>'\n",
              "            + ' to learn more about interactive tables.';\n",
              "          element.innerHTML = '';\n",
              "          dataTable['output_type'] = 'display_data';\n",
              "          await google.colab.output.renderOutput(dataTable, element);\n",
              "          const docLink = document.createElement('div');\n",
              "          docLink.innerHTML = docLinkHtml;\n",
              "          element.appendChild(docLink);\n",
              "        }\n",
              "      </script>\n",
              "    </div>\n",
              "  </div>\n",
              "  "
            ],
            "text/plain": [
              "             ID  ...                                                                    URL\n",
              "0  validation-1  ...     http://en.wikipedia.org/wiki/Commission_on_Elections_(Philippines)\n",
              "1  validation-2  ...                             http://en.wikipedia.org/wiki/Kathleen_Nott\n",
              "2  validation-3  ...  http://en.wikipedia.org/wiki/Hawaii_Five-0_(2010_TV_series,_season_2)\n",
              "3  validation-4  ...                           http://en.wikipedia.org/wiki/Craig_Reucassel\n",
              "4  validation-5  ...                        http://en.wikipedia.org/wiki/Denys_Finch_Hatton\n",
              "\n",
              "[5 rows x 11 columns]"
            ]
          },
          "metadata": {},
          "execution_count": 35
        }
      ]
    },
    {
      "cell_type": "code",
      "source": [
        ""
      ],
      "metadata": {
        "id": "jxVtBpGZ2WCS"
      },
      "execution_count": 35,
      "outputs": []
    }
  ]
}