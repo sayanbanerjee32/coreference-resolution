{
  "nbformat": 4,
  "nbformat_minor": 0,
  "metadata": {
    "colab": {
      "name": "data_explore.ipynb",
      "provenance": [],
      "authorship_tag": "ABX9TyMXGwb5FVK/W6S5ZU6SBmmO",
      "include_colab_link": true
    },
    "kernelspec": {
      "name": "python3",
      "display_name": "Python 3"
    },
    "language_info": {
      "name": "python"
    },
    "widgets": {
      "application/vnd.jupyter.widget-state+json": {
        "5052897e98f1493587cd63fab1cbb5e7": {
          "model_module": "@jupyter-widgets/controls",
          "model_name": "HBoxModel",
          "model_module_version": "1.5.0",
          "state": {
            "_view_name": "HBoxView",
            "_dom_classes": [],
            "_model_name": "HBoxModel",
            "_view_module": "@jupyter-widgets/controls",
            "_model_module_version": "1.5.0",
            "_view_count": null,
            "_view_module_version": "1.5.0",
            "box_style": "",
            "layout": "IPY_MODEL_782510a1aa3440bcb015e3cadf933314",
            "_model_module": "@jupyter-widgets/controls",
            "children": [
              "IPY_MODEL_69441dfcbeb54441a1b1e7f8bae3553e",
              "IPY_MODEL_6ee8a49a9e394491a72108f14b1c347f",
              "IPY_MODEL_a68e5a63446b4cdcb7c166abf801fda4"
            ]
          }
        },
        "782510a1aa3440bcb015e3cadf933314": {
          "model_module": "@jupyter-widgets/base",
          "model_name": "LayoutModel",
          "model_module_version": "1.2.0",
          "state": {
            "_view_name": "LayoutView",
            "grid_template_rows": null,
            "right": null,
            "justify_content": null,
            "_view_module": "@jupyter-widgets/base",
            "overflow": null,
            "_model_module_version": "1.2.0",
            "_view_count": null,
            "flex_flow": null,
            "width": null,
            "min_width": null,
            "border": null,
            "align_items": null,
            "bottom": null,
            "_model_module": "@jupyter-widgets/base",
            "top": null,
            "grid_column": null,
            "overflow_y": null,
            "overflow_x": null,
            "grid_auto_flow": null,
            "grid_area": null,
            "grid_template_columns": null,
            "flex": null,
            "_model_name": "LayoutModel",
            "justify_items": null,
            "grid_row": null,
            "max_height": null,
            "align_content": null,
            "visibility": null,
            "align_self": null,
            "height": null,
            "min_height": null,
            "padding": null,
            "grid_auto_rows": null,
            "grid_gap": null,
            "max_width": null,
            "order": null,
            "_view_module_version": "1.2.0",
            "grid_template_areas": null,
            "object_position": null,
            "object_fit": null,
            "grid_auto_columns": null,
            "margin": null,
            "display": null,
            "left": null
          }
        },
        "69441dfcbeb54441a1b1e7f8bae3553e": {
          "model_module": "@jupyter-widgets/controls",
          "model_name": "HTMLModel",
          "model_module_version": "1.5.0",
          "state": {
            "_view_name": "HTMLView",
            "style": "IPY_MODEL_1bfcc7ef415f45cbab4c075e9e22213c",
            "_dom_classes": [],
            "description": "",
            "_model_name": "HTMLModel",
            "placeholder": "​",
            "_view_module": "@jupyter-widgets/controls",
            "_model_module_version": "1.5.0",
            "value": "",
            "_view_count": null,
            "_view_module_version": "1.5.0",
            "description_tooltip": null,
            "_model_module": "@jupyter-widgets/controls",
            "layout": "IPY_MODEL_6960695599cd49c7922695b7d6151bde"
          }
        },
        "6ee8a49a9e394491a72108f14b1c347f": {
          "model_module": "@jupyter-widgets/controls",
          "model_name": "FloatProgressModel",
          "model_module_version": "1.5.0",
          "state": {
            "_view_name": "ProgressView",
            "style": "IPY_MODEL_718cadc2ccd74fa18dfae205358a8a99",
            "_dom_classes": [],
            "description": "",
            "_model_name": "FloatProgressModel",
            "bar_style": "success",
            "max": 1,
            "_view_module": "@jupyter-widgets/controls",
            "_model_module_version": "1.5.0",
            "value": 1,
            "_view_count": null,
            "_view_module_version": "1.5.0",
            "orientation": "horizontal",
            "min": 0,
            "description_tooltip": null,
            "_model_module": "@jupyter-widgets/controls",
            "layout": "IPY_MODEL_47d1a29cb08b4c3b934b89659f3366d0"
          }
        },
        "a68e5a63446b4cdcb7c166abf801fda4": {
          "model_module": "@jupyter-widgets/controls",
          "model_name": "HTMLModel",
          "model_module_version": "1.5.0",
          "state": {
            "_view_name": "HTMLView",
            "style": "IPY_MODEL_23d72cd7db3646e88f47f836a31692b4",
            "_dom_classes": [],
            "description": "",
            "_model_name": "HTMLModel",
            "placeholder": "​",
            "_view_module": "@jupyter-widgets/controls",
            "_model_module_version": "1.5.0",
            "value": " 2000/? [00:09&lt;00:00, 182.08it/s]",
            "_view_count": null,
            "_view_module_version": "1.5.0",
            "description_tooltip": null,
            "_model_module": "@jupyter-widgets/controls",
            "layout": "IPY_MODEL_2cfcffe6dc3845dcb64064cf758ee901"
          }
        },
        "1bfcc7ef415f45cbab4c075e9e22213c": {
          "model_module": "@jupyter-widgets/controls",
          "model_name": "DescriptionStyleModel",
          "model_module_version": "1.5.0",
          "state": {
            "_view_name": "StyleView",
            "_model_name": "DescriptionStyleModel",
            "description_width": "",
            "_view_module": "@jupyter-widgets/base",
            "_model_module_version": "1.5.0",
            "_view_count": null,
            "_view_module_version": "1.2.0",
            "_model_module": "@jupyter-widgets/controls"
          }
        },
        "6960695599cd49c7922695b7d6151bde": {
          "model_module": "@jupyter-widgets/base",
          "model_name": "LayoutModel",
          "model_module_version": "1.2.0",
          "state": {
            "_view_name": "LayoutView",
            "grid_template_rows": null,
            "right": null,
            "justify_content": null,
            "_view_module": "@jupyter-widgets/base",
            "overflow": null,
            "_model_module_version": "1.2.0",
            "_view_count": null,
            "flex_flow": null,
            "width": null,
            "min_width": null,
            "border": null,
            "align_items": null,
            "bottom": null,
            "_model_module": "@jupyter-widgets/base",
            "top": null,
            "grid_column": null,
            "overflow_y": null,
            "overflow_x": null,
            "grid_auto_flow": null,
            "grid_area": null,
            "grid_template_columns": null,
            "flex": null,
            "_model_name": "LayoutModel",
            "justify_items": null,
            "grid_row": null,
            "max_height": null,
            "align_content": null,
            "visibility": null,
            "align_self": null,
            "height": null,
            "min_height": null,
            "padding": null,
            "grid_auto_rows": null,
            "grid_gap": null,
            "max_width": null,
            "order": null,
            "_view_module_version": "1.2.0",
            "grid_template_areas": null,
            "object_position": null,
            "object_fit": null,
            "grid_auto_columns": null,
            "margin": null,
            "display": null,
            "left": null
          }
        },
        "718cadc2ccd74fa18dfae205358a8a99": {
          "model_module": "@jupyter-widgets/controls",
          "model_name": "ProgressStyleModel",
          "model_module_version": "1.5.0",
          "state": {
            "_view_name": "StyleView",
            "_model_name": "ProgressStyleModel",
            "description_width": "",
            "_view_module": "@jupyter-widgets/base",
            "_model_module_version": "1.5.0",
            "_view_count": null,
            "_view_module_version": "1.2.0",
            "bar_color": null,
            "_model_module": "@jupyter-widgets/controls"
          }
        },
        "47d1a29cb08b4c3b934b89659f3366d0": {
          "model_module": "@jupyter-widgets/base",
          "model_name": "LayoutModel",
          "model_module_version": "1.2.0",
          "state": {
            "_view_name": "LayoutView",
            "grid_template_rows": null,
            "right": null,
            "justify_content": null,
            "_view_module": "@jupyter-widgets/base",
            "overflow": null,
            "_model_module_version": "1.2.0",
            "_view_count": null,
            "flex_flow": null,
            "width": "20px",
            "min_width": null,
            "border": null,
            "align_items": null,
            "bottom": null,
            "_model_module": "@jupyter-widgets/base",
            "top": null,
            "grid_column": null,
            "overflow_y": null,
            "overflow_x": null,
            "grid_auto_flow": null,
            "grid_area": null,
            "grid_template_columns": null,
            "flex": null,
            "_model_name": "LayoutModel",
            "justify_items": null,
            "grid_row": null,
            "max_height": null,
            "align_content": null,
            "visibility": null,
            "align_self": null,
            "height": null,
            "min_height": null,
            "padding": null,
            "grid_auto_rows": null,
            "grid_gap": null,
            "max_width": null,
            "order": null,
            "_view_module_version": "1.2.0",
            "grid_template_areas": null,
            "object_position": null,
            "object_fit": null,
            "grid_auto_columns": null,
            "margin": null,
            "display": null,
            "left": null
          }
        },
        "23d72cd7db3646e88f47f836a31692b4": {
          "model_module": "@jupyter-widgets/controls",
          "model_name": "DescriptionStyleModel",
          "model_module_version": "1.5.0",
          "state": {
            "_view_name": "StyleView",
            "_model_name": "DescriptionStyleModel",
            "description_width": "",
            "_view_module": "@jupyter-widgets/base",
            "_model_module_version": "1.5.0",
            "_view_count": null,
            "_view_module_version": "1.2.0",
            "_model_module": "@jupyter-widgets/controls"
          }
        },
        "2cfcffe6dc3845dcb64064cf758ee901": {
          "model_module": "@jupyter-widgets/base",
          "model_name": "LayoutModel",
          "model_module_version": "1.2.0",
          "state": {
            "_view_name": "LayoutView",
            "grid_template_rows": null,
            "right": null,
            "justify_content": null,
            "_view_module": "@jupyter-widgets/base",
            "overflow": null,
            "_model_module_version": "1.2.0",
            "_view_count": null,
            "flex_flow": null,
            "width": null,
            "min_width": null,
            "border": null,
            "align_items": null,
            "bottom": null,
            "_model_module": "@jupyter-widgets/base",
            "top": null,
            "grid_column": null,
            "overflow_y": null,
            "overflow_x": null,
            "grid_auto_flow": null,
            "grid_area": null,
            "grid_template_columns": null,
            "flex": null,
            "_model_name": "LayoutModel",
            "justify_items": null,
            "grid_row": null,
            "max_height": null,
            "align_content": null,
            "visibility": null,
            "align_self": null,
            "height": null,
            "min_height": null,
            "padding": null,
            "grid_auto_rows": null,
            "grid_gap": null,
            "max_width": null,
            "order": null,
            "_view_module_version": "1.2.0",
            "grid_template_areas": null,
            "object_position": null,
            "object_fit": null,
            "grid_auto_columns": null,
            "margin": null,
            "display": null,
            "left": null
          }
        },
        "05f0405e79264f81ab10656f8cb2cf7c": {
          "model_module": "@jupyter-widgets/controls",
          "model_name": "HBoxModel",
          "model_module_version": "1.5.0",
          "state": {
            "_view_name": "HBoxView",
            "_dom_classes": [],
            "_model_name": "HBoxModel",
            "_view_module": "@jupyter-widgets/controls",
            "_model_module_version": "1.5.0",
            "_view_count": null,
            "_view_module_version": "1.5.0",
            "box_style": "",
            "layout": "IPY_MODEL_b5b5f13154ff42c1a098f76017e834ac",
            "_model_module": "@jupyter-widgets/controls",
            "children": [
              "IPY_MODEL_e3ad805a15c94bef87159cd67925c896",
              "IPY_MODEL_13a72d92e65f483d8aca418c4ba895f2",
              "IPY_MODEL_9e19c8ef69564061bcf81c860133d7c5"
            ]
          }
        },
        "b5b5f13154ff42c1a098f76017e834ac": {
          "model_module": "@jupyter-widgets/base",
          "model_name": "LayoutModel",
          "model_module_version": "1.2.0",
          "state": {
            "_view_name": "LayoutView",
            "grid_template_rows": null,
            "right": null,
            "justify_content": null,
            "_view_module": "@jupyter-widgets/base",
            "overflow": null,
            "_model_module_version": "1.2.0",
            "_view_count": null,
            "flex_flow": null,
            "width": null,
            "min_width": null,
            "border": null,
            "align_items": null,
            "bottom": null,
            "_model_module": "@jupyter-widgets/base",
            "top": null,
            "grid_column": null,
            "overflow_y": null,
            "overflow_x": null,
            "grid_auto_flow": null,
            "grid_area": null,
            "grid_template_columns": null,
            "flex": null,
            "_model_name": "LayoutModel",
            "justify_items": null,
            "grid_row": null,
            "max_height": null,
            "align_content": null,
            "visibility": null,
            "align_self": null,
            "height": null,
            "min_height": null,
            "padding": null,
            "grid_auto_rows": null,
            "grid_gap": null,
            "max_width": null,
            "order": null,
            "_view_module_version": "1.2.0",
            "grid_template_areas": null,
            "object_position": null,
            "object_fit": null,
            "grid_auto_columns": null,
            "margin": null,
            "display": null,
            "left": null
          }
        },
        "e3ad805a15c94bef87159cd67925c896": {
          "model_module": "@jupyter-widgets/controls",
          "model_name": "HTMLModel",
          "model_module_version": "1.5.0",
          "state": {
            "_view_name": "HTMLView",
            "style": "IPY_MODEL_a1e0e316497f41dfb1d5292fcd503dfb",
            "_dom_classes": [],
            "description": "",
            "_model_name": "HTMLModel",
            "placeholder": "​",
            "_view_module": "@jupyter-widgets/controls",
            "_model_module_version": "1.5.0",
            "value": "",
            "_view_count": null,
            "_view_module_version": "1.5.0",
            "description_tooltip": null,
            "_model_module": "@jupyter-widgets/controls",
            "layout": "IPY_MODEL_94bd884cfb484580a74febea2ec3920b"
          }
        },
        "13a72d92e65f483d8aca418c4ba895f2": {
          "model_module": "@jupyter-widgets/controls",
          "model_name": "FloatProgressModel",
          "model_module_version": "1.5.0",
          "state": {
            "_view_name": "ProgressView",
            "style": "IPY_MODEL_c229084c0ef948f5bff8d7d0cd263744",
            "_dom_classes": [],
            "description": "",
            "_model_name": "FloatProgressModel",
            "bar_style": "success",
            "max": 1,
            "_view_module": "@jupyter-widgets/controls",
            "_model_module_version": "1.5.0",
            "value": 1,
            "_view_count": null,
            "_view_module_version": "1.5.0",
            "orientation": "horizontal",
            "min": 0,
            "description_tooltip": null,
            "_model_module": "@jupyter-widgets/controls",
            "layout": "IPY_MODEL_d4ee00f767b241a5a940d54c8f3b3167"
          }
        },
        "9e19c8ef69564061bcf81c860133d7c5": {
          "model_module": "@jupyter-widgets/controls",
          "model_name": "HTMLModel",
          "model_module_version": "1.5.0",
          "state": {
            "_view_name": "HTMLView",
            "style": "IPY_MODEL_d5f1d9d894e54f5d9d15c996edb74cb4",
            "_dom_classes": [],
            "description": "",
            "_model_name": "HTMLModel",
            "placeholder": "​",
            "_view_module": "@jupyter-widgets/controls",
            "_model_module_version": "1.5.0",
            "value": " 454/? [00:02&lt;00:00, 171.08it/s]",
            "_view_count": null,
            "_view_module_version": "1.5.0",
            "description_tooltip": null,
            "_model_module": "@jupyter-widgets/controls",
            "layout": "IPY_MODEL_43708d78687942218664fa57106454b9"
          }
        },
        "a1e0e316497f41dfb1d5292fcd503dfb": {
          "model_module": "@jupyter-widgets/controls",
          "model_name": "DescriptionStyleModel",
          "model_module_version": "1.5.0",
          "state": {
            "_view_name": "StyleView",
            "_model_name": "DescriptionStyleModel",
            "description_width": "",
            "_view_module": "@jupyter-widgets/base",
            "_model_module_version": "1.5.0",
            "_view_count": null,
            "_view_module_version": "1.2.0",
            "_model_module": "@jupyter-widgets/controls"
          }
        },
        "94bd884cfb484580a74febea2ec3920b": {
          "model_module": "@jupyter-widgets/base",
          "model_name": "LayoutModel",
          "model_module_version": "1.2.0",
          "state": {
            "_view_name": "LayoutView",
            "grid_template_rows": null,
            "right": null,
            "justify_content": null,
            "_view_module": "@jupyter-widgets/base",
            "overflow": null,
            "_model_module_version": "1.2.0",
            "_view_count": null,
            "flex_flow": null,
            "width": null,
            "min_width": null,
            "border": null,
            "align_items": null,
            "bottom": null,
            "_model_module": "@jupyter-widgets/base",
            "top": null,
            "grid_column": null,
            "overflow_y": null,
            "overflow_x": null,
            "grid_auto_flow": null,
            "grid_area": null,
            "grid_template_columns": null,
            "flex": null,
            "_model_name": "LayoutModel",
            "justify_items": null,
            "grid_row": null,
            "max_height": null,
            "align_content": null,
            "visibility": null,
            "align_self": null,
            "height": null,
            "min_height": null,
            "padding": null,
            "grid_auto_rows": null,
            "grid_gap": null,
            "max_width": null,
            "order": null,
            "_view_module_version": "1.2.0",
            "grid_template_areas": null,
            "object_position": null,
            "object_fit": null,
            "grid_auto_columns": null,
            "margin": null,
            "display": null,
            "left": null
          }
        },
        "c229084c0ef948f5bff8d7d0cd263744": {
          "model_module": "@jupyter-widgets/controls",
          "model_name": "ProgressStyleModel",
          "model_module_version": "1.5.0",
          "state": {
            "_view_name": "StyleView",
            "_model_name": "ProgressStyleModel",
            "description_width": "",
            "_view_module": "@jupyter-widgets/base",
            "_model_module_version": "1.5.0",
            "_view_count": null,
            "_view_module_version": "1.2.0",
            "bar_color": null,
            "_model_module": "@jupyter-widgets/controls"
          }
        },
        "d4ee00f767b241a5a940d54c8f3b3167": {
          "model_module": "@jupyter-widgets/base",
          "model_name": "LayoutModel",
          "model_module_version": "1.2.0",
          "state": {
            "_view_name": "LayoutView",
            "grid_template_rows": null,
            "right": null,
            "justify_content": null,
            "_view_module": "@jupyter-widgets/base",
            "overflow": null,
            "_model_module_version": "1.2.0",
            "_view_count": null,
            "flex_flow": null,
            "width": "20px",
            "min_width": null,
            "border": null,
            "align_items": null,
            "bottom": null,
            "_model_module": "@jupyter-widgets/base",
            "top": null,
            "grid_column": null,
            "overflow_y": null,
            "overflow_x": null,
            "grid_auto_flow": null,
            "grid_area": null,
            "grid_template_columns": null,
            "flex": null,
            "_model_name": "LayoutModel",
            "justify_items": null,
            "grid_row": null,
            "max_height": null,
            "align_content": null,
            "visibility": null,
            "align_self": null,
            "height": null,
            "min_height": null,
            "padding": null,
            "grid_auto_rows": null,
            "grid_gap": null,
            "max_width": null,
            "order": null,
            "_view_module_version": "1.2.0",
            "grid_template_areas": null,
            "object_position": null,
            "object_fit": null,
            "grid_auto_columns": null,
            "margin": null,
            "display": null,
            "left": null
          }
        },
        "d5f1d9d894e54f5d9d15c996edb74cb4": {
          "model_module": "@jupyter-widgets/controls",
          "model_name": "DescriptionStyleModel",
          "model_module_version": "1.5.0",
          "state": {
            "_view_name": "StyleView",
            "_model_name": "DescriptionStyleModel",
            "description_width": "",
            "_view_module": "@jupyter-widgets/base",
            "_model_module_version": "1.5.0",
            "_view_count": null,
            "_view_module_version": "1.2.0",
            "_model_module": "@jupyter-widgets/controls"
          }
        },
        "43708d78687942218664fa57106454b9": {
          "model_module": "@jupyter-widgets/base",
          "model_name": "LayoutModel",
          "model_module_version": "1.2.0",
          "state": {
            "_view_name": "LayoutView",
            "grid_template_rows": null,
            "right": null,
            "justify_content": null,
            "_view_module": "@jupyter-widgets/base",
            "overflow": null,
            "_model_module_version": "1.2.0",
            "_view_count": null,
            "flex_flow": null,
            "width": null,
            "min_width": null,
            "border": null,
            "align_items": null,
            "bottom": null,
            "_model_module": "@jupyter-widgets/base",
            "top": null,
            "grid_column": null,
            "overflow_y": null,
            "overflow_x": null,
            "grid_auto_flow": null,
            "grid_area": null,
            "grid_template_columns": null,
            "flex": null,
            "_model_name": "LayoutModel",
            "justify_items": null,
            "grid_row": null,
            "max_height": null,
            "align_content": null,
            "visibility": null,
            "align_self": null,
            "height": null,
            "min_height": null,
            "padding": null,
            "grid_auto_rows": null,
            "grid_gap": null,
            "max_width": null,
            "order": null,
            "_view_module_version": "1.2.0",
            "grid_template_areas": null,
            "object_position": null,
            "object_fit": null,
            "grid_auto_columns": null,
            "margin": null,
            "display": null,
            "left": null
          }
        },
        "f347fb9316a6456ea910e648dab1cd50": {
          "model_module": "@jupyter-widgets/controls",
          "model_name": "HBoxModel",
          "model_module_version": "1.5.0",
          "state": {
            "_view_name": "HBoxView",
            "_dom_classes": [],
            "_model_name": "HBoxModel",
            "_view_module": "@jupyter-widgets/controls",
            "_model_module_version": "1.5.0",
            "_view_count": null,
            "_view_module_version": "1.5.0",
            "box_style": "",
            "layout": "IPY_MODEL_cad3db2d2147439f93bbf4ab9d4934e6",
            "_model_module": "@jupyter-widgets/controls",
            "children": [
              "IPY_MODEL_5d64e39bad2b4b8f8e8377a5d11597b1",
              "IPY_MODEL_b694c84c65f640f091e408e2bc6b5623",
              "IPY_MODEL_3d6891b512a743cb91aaf10711e33023"
            ]
          }
        },
        "cad3db2d2147439f93bbf4ab9d4934e6": {
          "model_module": "@jupyter-widgets/base",
          "model_name": "LayoutModel",
          "model_module_version": "1.2.0",
          "state": {
            "_view_name": "LayoutView",
            "grid_template_rows": null,
            "right": null,
            "justify_content": null,
            "_view_module": "@jupyter-widgets/base",
            "overflow": null,
            "_model_module_version": "1.2.0",
            "_view_count": null,
            "flex_flow": null,
            "width": null,
            "min_width": null,
            "border": null,
            "align_items": null,
            "bottom": null,
            "_model_module": "@jupyter-widgets/base",
            "top": null,
            "grid_column": null,
            "overflow_y": null,
            "overflow_x": null,
            "grid_auto_flow": null,
            "grid_area": null,
            "grid_template_columns": null,
            "flex": null,
            "_model_name": "LayoutModel",
            "justify_items": null,
            "grid_row": null,
            "max_height": null,
            "align_content": null,
            "visibility": null,
            "align_self": null,
            "height": null,
            "min_height": null,
            "padding": null,
            "grid_auto_rows": null,
            "grid_gap": null,
            "max_width": null,
            "order": null,
            "_view_module_version": "1.2.0",
            "grid_template_areas": null,
            "object_position": null,
            "object_fit": null,
            "grid_auto_columns": null,
            "margin": null,
            "display": null,
            "left": null
          }
        },
        "5d64e39bad2b4b8f8e8377a5d11597b1": {
          "model_module": "@jupyter-widgets/controls",
          "model_name": "HTMLModel",
          "model_module_version": "1.5.0",
          "state": {
            "_view_name": "HTMLView",
            "style": "IPY_MODEL_3ad2a5dc8f4f4572a3f282ce9274c187",
            "_dom_classes": [],
            "description": "",
            "_model_name": "HTMLModel",
            "placeholder": "​",
            "_view_module": "@jupyter-widgets/controls",
            "_model_module_version": "1.5.0",
            "value": "",
            "_view_count": null,
            "_view_module_version": "1.5.0",
            "description_tooltip": null,
            "_model_module": "@jupyter-widgets/controls",
            "layout": "IPY_MODEL_478492135aa1466ab2aeef72c0667fe7"
          }
        },
        "b694c84c65f640f091e408e2bc6b5623": {
          "model_module": "@jupyter-widgets/controls",
          "model_name": "FloatProgressModel",
          "model_module_version": "1.5.0",
          "state": {
            "_view_name": "ProgressView",
            "style": "IPY_MODEL_8fa687d62f604ea9bc66b30410a052c9",
            "_dom_classes": [],
            "description": "",
            "_model_name": "FloatProgressModel",
            "bar_style": "success",
            "max": 1,
            "_view_module": "@jupyter-widgets/controls",
            "_model_module_version": "1.5.0",
            "value": 1,
            "_view_count": null,
            "_view_module_version": "1.5.0",
            "orientation": "horizontal",
            "min": 0,
            "description_tooltip": null,
            "_model_module": "@jupyter-widgets/controls",
            "layout": "IPY_MODEL_4d880d0cdeac45d6937b48679083afe6"
          }
        },
        "3d6891b512a743cb91aaf10711e33023": {
          "model_module": "@jupyter-widgets/controls",
          "model_name": "HTMLModel",
          "model_module_version": "1.5.0",
          "state": {
            "_view_name": "HTMLView",
            "style": "IPY_MODEL_c92f62147a164b099d254d4d8e6ea26d",
            "_dom_classes": [],
            "description": "",
            "_model_name": "HTMLModel",
            "placeholder": "​",
            "_view_module": "@jupyter-widgets/controls",
            "_model_module_version": "1.5.0",
            "value": " 2000/? [00:09&lt;00:00, 223.50it/s]",
            "_view_count": null,
            "_view_module_version": "1.5.0",
            "description_tooltip": null,
            "_model_module": "@jupyter-widgets/controls",
            "layout": "IPY_MODEL_b80354c6f8c84651b60b096d2368f8d8"
          }
        },
        "3ad2a5dc8f4f4572a3f282ce9274c187": {
          "model_module": "@jupyter-widgets/controls",
          "model_name": "DescriptionStyleModel",
          "model_module_version": "1.5.0",
          "state": {
            "_view_name": "StyleView",
            "_model_name": "DescriptionStyleModel",
            "description_width": "",
            "_view_module": "@jupyter-widgets/base",
            "_model_module_version": "1.5.0",
            "_view_count": null,
            "_view_module_version": "1.2.0",
            "_model_module": "@jupyter-widgets/controls"
          }
        },
        "478492135aa1466ab2aeef72c0667fe7": {
          "model_module": "@jupyter-widgets/base",
          "model_name": "LayoutModel",
          "model_module_version": "1.2.0",
          "state": {
            "_view_name": "LayoutView",
            "grid_template_rows": null,
            "right": null,
            "justify_content": null,
            "_view_module": "@jupyter-widgets/base",
            "overflow": null,
            "_model_module_version": "1.2.0",
            "_view_count": null,
            "flex_flow": null,
            "width": null,
            "min_width": null,
            "border": null,
            "align_items": null,
            "bottom": null,
            "_model_module": "@jupyter-widgets/base",
            "top": null,
            "grid_column": null,
            "overflow_y": null,
            "overflow_x": null,
            "grid_auto_flow": null,
            "grid_area": null,
            "grid_template_columns": null,
            "flex": null,
            "_model_name": "LayoutModel",
            "justify_items": null,
            "grid_row": null,
            "max_height": null,
            "align_content": null,
            "visibility": null,
            "align_self": null,
            "height": null,
            "min_height": null,
            "padding": null,
            "grid_auto_rows": null,
            "grid_gap": null,
            "max_width": null,
            "order": null,
            "_view_module_version": "1.2.0",
            "grid_template_areas": null,
            "object_position": null,
            "object_fit": null,
            "grid_auto_columns": null,
            "margin": null,
            "display": null,
            "left": null
          }
        },
        "8fa687d62f604ea9bc66b30410a052c9": {
          "model_module": "@jupyter-widgets/controls",
          "model_name": "ProgressStyleModel",
          "model_module_version": "1.5.0",
          "state": {
            "_view_name": "StyleView",
            "_model_name": "ProgressStyleModel",
            "description_width": "",
            "_view_module": "@jupyter-widgets/base",
            "_model_module_version": "1.5.0",
            "_view_count": null,
            "_view_module_version": "1.2.0",
            "bar_color": null,
            "_model_module": "@jupyter-widgets/controls"
          }
        },
        "4d880d0cdeac45d6937b48679083afe6": {
          "model_module": "@jupyter-widgets/base",
          "model_name": "LayoutModel",
          "model_module_version": "1.2.0",
          "state": {
            "_view_name": "LayoutView",
            "grid_template_rows": null,
            "right": null,
            "justify_content": null,
            "_view_module": "@jupyter-widgets/base",
            "overflow": null,
            "_model_module_version": "1.2.0",
            "_view_count": null,
            "flex_flow": null,
            "width": "20px",
            "min_width": null,
            "border": null,
            "align_items": null,
            "bottom": null,
            "_model_module": "@jupyter-widgets/base",
            "top": null,
            "grid_column": null,
            "overflow_y": null,
            "overflow_x": null,
            "grid_auto_flow": null,
            "grid_area": null,
            "grid_template_columns": null,
            "flex": null,
            "_model_name": "LayoutModel",
            "justify_items": null,
            "grid_row": null,
            "max_height": null,
            "align_content": null,
            "visibility": null,
            "align_self": null,
            "height": null,
            "min_height": null,
            "padding": null,
            "grid_auto_rows": null,
            "grid_gap": null,
            "max_width": null,
            "order": null,
            "_view_module_version": "1.2.0",
            "grid_template_areas": null,
            "object_position": null,
            "object_fit": null,
            "grid_auto_columns": null,
            "margin": null,
            "display": null,
            "left": null
          }
        },
        "c92f62147a164b099d254d4d8e6ea26d": {
          "model_module": "@jupyter-widgets/controls",
          "model_name": "DescriptionStyleModel",
          "model_module_version": "1.5.0",
          "state": {
            "_view_name": "StyleView",
            "_model_name": "DescriptionStyleModel",
            "description_width": "",
            "_view_module": "@jupyter-widgets/base",
            "_model_module_version": "1.5.0",
            "_view_count": null,
            "_view_module_version": "1.2.0",
            "_model_module": "@jupyter-widgets/controls"
          }
        },
        "b80354c6f8c84651b60b096d2368f8d8": {
          "model_module": "@jupyter-widgets/base",
          "model_name": "LayoutModel",
          "model_module_version": "1.2.0",
          "state": {
            "_view_name": "LayoutView",
            "grid_template_rows": null,
            "right": null,
            "justify_content": null,
            "_view_module": "@jupyter-widgets/base",
            "overflow": null,
            "_model_module_version": "1.2.0",
            "_view_count": null,
            "flex_flow": null,
            "width": null,
            "min_width": null,
            "border": null,
            "align_items": null,
            "bottom": null,
            "_model_module": "@jupyter-widgets/base",
            "top": null,
            "grid_column": null,
            "overflow_y": null,
            "overflow_x": null,
            "grid_auto_flow": null,
            "grid_area": null,
            "grid_template_columns": null,
            "flex": null,
            "_model_name": "LayoutModel",
            "justify_items": null,
            "grid_row": null,
            "max_height": null,
            "align_content": null,
            "visibility": null,
            "align_self": null,
            "height": null,
            "min_height": null,
            "padding": null,
            "grid_auto_rows": null,
            "grid_gap": null,
            "max_width": null,
            "order": null,
            "_view_module_version": "1.2.0",
            "grid_template_areas": null,
            "object_position": null,
            "object_fit": null,
            "grid_auto_columns": null,
            "margin": null,
            "display": null,
            "left": null
          }
        }
      }
    }
  },
  "cells": [
    {
      "cell_type": "markdown",
      "metadata": {
        "id": "view-in-github",
        "colab_type": "text"
      },
      "source": [
        "<a href=\"https://colab.research.google.com/github/sayanbanerjee32/coreference-resolution/blob/main/ULMFit_Attention_multiword_LMFineTuned4task.ipynb\" target=\"_parent\"><img src=\"https://colab.research.google.com/assets/colab-badge.svg\" alt=\"Open In Colab\"/></a>"
      ]
    },
    {
      "cell_type": "markdown",
      "source": [
        "# Dataset\n",
        "https://www.kaggle.com/owen1226/gap-coreference"
      ],
      "metadata": {
        "id": "uS8xBlBO0ucS"
      }
    },
    {
      "cell_type": "markdown",
      "source": [
        "# Papers and blogs"
      ],
      "metadata": {
        "id": "Ns9R4rP3DlrA"
      }
    },
    {
      "cell_type": "markdown",
      "source": [
        "End2End Coref Resolution By Attention RNN - https://www.kaggle.com/keyit92/end2end-coref-resolution-by-attention-rnn  \n",
        "coreference-resolution - https://www.kaggle.com/abhishekbhole/coreference-resolution  \n",
        "SpanBERT - https://arxiv.org/pdf/1907.10529.pdf   \n",
        "BERT for Coreference Resolution - https://arxiv.org/pdf/1908.09091.pdf  \n",
        "GITHub for BERT and SpanBERT - https://github.com/mandarjoshi90/coref  \n",
        "Fast AI solution - https://www.kaggle.com/mamamot/fastai-awd-lstm-solution-0-71-lb/notebook  \n",
        "With Attention - https://www.kaggle.com/keyit92/end2end-coref-resolution-by-attention-rnn  \n",
        "Attetion implementation - https://www.kaggle.com/mlwhiz/attention-pytorch-and-keras/notebook"
      ],
      "metadata": {
        "id": "21Wppr0W58LH"
      }
    },
    {
      "cell_type": "code",
      "source": [
        "%%capture\n",
        "!pip install fastai -Uq"
      ],
      "metadata": {
        "id": "OFLs_sezDqaP"
      },
      "execution_count": null,
      "outputs": []
    },
    {
      "cell_type": "code",
      "execution_count": null,
      "metadata": {
        "colab": {
          "base_uri": "https://localhost:8080/"
        },
        "id": "Fy9GY84xBFlH",
        "outputId": "43949b46-7bb9-4e1e-a318-619429fcdbf6"
      },
      "outputs": [
        {
          "output_type": "stream",
          "name": "stdout",
          "text": [
            "Drive already mounted at /content/drive; to attempt to forcibly remount, call drive.mount(\"/content/drive\", force_remount=True).\n"
          ]
        }
      ],
      "source": [
        "# mount gdrive for data\n",
        "from google.colab import drive\n",
        "drive.mount('/content/drive')"
      ]
    },
    {
      "cell_type": "code",
      "source": [
        "# file locations\n",
        "train_file_path = '/content/drive/MyDrive/coref_resolution/data/gap-development.tsv'\n",
        "val_file_path = '/content/drive/MyDrive/coref_resolution/data/gap-validate.tsv'\n",
        "test_file_path = '/content/drive/MyDrive/coref_resolution/data/gap-test.tsv'\n",
        "model_save_path = '/content/drive/MyDrive/coref_resolution/models/'"
      ],
      "metadata": {
        "id": "VkMY4CW9c6PH"
      },
      "execution_count": null,
      "outputs": []
    },
    {
      "cell_type": "code",
      "source": [
        "import pandas as pd\n",
        "from fastai.text.all import *\n",
        "from pathlib import Path\n",
        "from tqdm.notebook import tqdm"
      ],
      "metadata": {
        "id": "vKOmey0Id33k"
      },
      "execution_count": null,
      "outputs": []
    },
    {
      "cell_type": "code",
      "source": [
        "train_df = pd.read_csv(train_file_path,sep=\"\\t\")\n",
        "test_df = pd.read_csv(test_file_path,sep=\"\\t\")\n",
        "val_df = pd.read_csv(val_file_path,sep=\"\\t\")"
      ],
      "metadata": {
        "id": "pQcOrti9d5r-"
      },
      "execution_count": null,
      "outputs": []
    },
    {
      "cell_type": "code",
      "source": [
        "train_df[\"Text\"][0], train_df[\"Text\"][1]"
      ],
      "metadata": {
        "id": "XGlVRck-eC8N",
        "colab": {
          "base_uri": "https://localhost:8080/"
        },
        "outputId": "2ee90528-407e-4530-c850-aa6c1b159b1f"
      },
      "execution_count": null,
      "outputs": [
        {
          "output_type": "execute_result",
          "data": {
            "text/plain": [
              "(\"Zoe Telford -- played the police officer girlfriend of Simon, Maggie. Dumped by Simon in the final episode of series 1, after he slept with Jenny, and is not seen again. Phoebe Thomas played Cheryl Cassidy, Pauline's friend and also a year 11 pupil in Simon's class. Dumped her boyfriend following Simon's advice after he wouldn't have sex with her but later realised this was due to him catching crabs off her friend Pauline.\",\n",
              " 'He grew up in Evanston, Illinois the second oldest of five children including his brothers, Fred and Gordon and sisters, Marge (Peppy) and Marilyn. His high school days were spent at New Trier High School in Winnetka, Illinois. MacKenzie studied with Bernard Leach from 1949 to 1952. His simple, wheel-thrown functional pottery is heavily influenced by the oriental aesthetic of Shoji Hamada and Kanjiro Kawai.')"
            ]
          },
          "metadata": {},
          "execution_count": 6
        }
      ]
    },
    {
      "cell_type": "code",
      "source": [
        "print(len(train_df), len(val_df), len(test_df))"
      ],
      "metadata": {
        "colab": {
          "base_uri": "https://localhost:8080/"
        },
        "id": "mMhw6SgQQAi6",
        "outputId": "e91ea14b-dae0-41b1-c8e3-8da989410aa3"
      },
      "execution_count": null,
      "outputs": [
        {
          "output_type": "stream",
          "name": "stdout",
          "text": [
            "2000 454 2000\n"
          ]
        }
      ]
    },
    {
      "cell_type": "markdown",
      "source": [
        "## Fine tune language model"
      ],
      "metadata": {
        "id": "VK2fRdRSHV2R"
      }
    },
    {
      "cell_type": "code",
      "source": [
        "# lets keep val for final testing\n",
        "df_pretrain = pd.concat([train_df, test_df])\n",
        "df_pretrain.info()"
      ],
      "metadata": {
        "colab": {
          "base_uri": "https://localhost:8080/"
        },
        "id": "QnXzYo6MExee",
        "outputId": "8921529c-716d-40b8-bfde-67495d840b79"
      },
      "execution_count": null,
      "outputs": [
        {
          "output_type": "stream",
          "name": "stdout",
          "text": [
            "<class 'pandas.core.frame.DataFrame'>\n",
            "Int64Index: 4000 entries, 0 to 1999\n",
            "Data columns (total 11 columns):\n",
            " #   Column          Non-Null Count  Dtype \n",
            "---  ------          --------------  ----- \n",
            " 0   ID              4000 non-null   object\n",
            " 1   Text            4000 non-null   object\n",
            " 2   Pronoun         4000 non-null   object\n",
            " 3   Pronoun-offset  4000 non-null   int64 \n",
            " 4   A               4000 non-null   object\n",
            " 5   A-offset        4000 non-null   int64 \n",
            " 6   A-coref         4000 non-null   bool  \n",
            " 7   B               4000 non-null   object\n",
            " 8   B-offset        4000 non-null   int64 \n",
            " 9   B-coref         4000 non-null   bool  \n",
            " 10  URL             4000 non-null   object\n",
            "dtypes: bool(2), int64(3), object(6)\n",
            "memory usage: 320.3+ KB\n"
          ]
        }
      ]
    },
    {
      "cell_type": "code",
      "source": [
        "# fine tune language model\n",
        "data_lm = DataBlock(\n",
        "            blocks=TextBlock.from_df('Text', is_lm=True),\n",
        "            get_x=ColReader('text'),\n",
        "            splitter=RandomSplitter(0.1))\n",
        "\n",
        "dls_lm = data_lm.dataloaders(df_pretrain) \n",
        "dls_lm.show_batch(max_n=2)"
      ],
      "metadata": {
        "colab": {
          "base_uri": "https://localhost:8080/",
          "height": 216
        },
        "id": "Sl3NgIRKFMDm",
        "outputId": "258dd5a1-c90a-4813-f1b6-15c37af27f13"
      },
      "execution_count": null,
      "outputs": [
        {
          "output_type": "display_data",
          "data": {
            "text/html": [
              "\n",
              "<style>\n",
              "    /* Turns off some styling */\n",
              "    progress {\n",
              "        /* gets rid of default border in Firefox and Opera. */\n",
              "        border: none;\n",
              "        /* Needs to be in here for Safari polyfill so background images work as expected. */\n",
              "        background-size: auto;\n",
              "    }\n",
              "    .progress-bar-interrupted, .progress-bar-interrupted::-webkit-progress-bar {\n",
              "        background: #F44336;\n",
              "    }\n",
              "</style>\n"
            ],
            "text/plain": [
              "<IPython.core.display.HTML object>"
            ]
          },
          "metadata": {}
        },
        {
          "output_type": "display_data",
          "data": {
            "text/html": [
              ""
            ],
            "text/plain": [
              "<IPython.core.display.HTML object>"
            ]
          },
          "metadata": {}
        },
        {
          "output_type": "display_data",
          "data": {
            "text/html": [
              "<table border=\"1\" class=\"dataframe\">\n",
              "  <thead>\n",
              "    <tr style=\"text-align: right;\">\n",
              "      <th></th>\n",
              "      <th>text</th>\n",
              "      <th>text_</th>\n",
              "    </tr>\n",
              "  </thead>\n",
              "  <tbody>\n",
              "    <tr>\n",
              "      <th>0</th>\n",
              "      <td>xxbos xxmaj he represented the xxmaj england national under-20 team over a period of two years , first being called into the squad for a game against xxmaj switzerland in xxmaj november 2002 . xxmaj carruthers made his debut in this game , starting in a 2 - -0 defeat at home on 12 xxmaj december . xxmaj he played at the 2003 xxmaj xxunk xxmaj tournament , marking xxmaj xxunk xxmaj</td>\n",
              "      <td>xxmaj he represented the xxmaj england national under-20 team over a period of two years , first being called into the squad for a game against xxmaj switzerland in xxmaj november 2002 . xxmaj carruthers made his debut in this game , starting in a 2 - -0 defeat at home on 12 xxmaj december . xxmaj he played at the 2003 xxmaj xxunk xxmaj tournament , marking xxmaj xxunk xxmaj xxunk</td>\n",
              "    </tr>\n",
              "    <tr>\n",
              "      <th>1</th>\n",
              "      <td>, voivode of xxmaj xxunk , married xxmaj xxunk xxmaj xxunk h. xxmaj xxunk , the daughter of voivode of xxmaj xxunk xxmaj jan xxmaj xxunk h. xxmaj xxunk and xxmaj xxunk xxmaj xxunk h. xxmaj xxunk , the daughter of xxmaj xxunk xxmaj xxunk h. xxmaj xxunk xxmaj jan xxmaj xxunk xxmaj chodkiewicz ( xxunk - xxunk ) , voivode of xxmaj xxunk and xxmaj xxunk , married xxmaj zofia xxmaj</td>\n",
              "      <td>voivode of xxmaj xxunk , married xxmaj xxunk xxmaj xxunk h. xxmaj xxunk , the daughter of voivode of xxmaj xxunk xxmaj jan xxmaj xxunk h. xxmaj xxunk and xxmaj xxunk xxmaj xxunk h. xxmaj xxunk , the daughter of xxmaj xxunk xxmaj xxunk h. xxmaj xxunk xxmaj jan xxmaj xxunk xxmaj chodkiewicz ( xxunk - xxunk ) , voivode of xxmaj xxunk and xxmaj xxunk , married xxmaj zofia xxmaj xxunk</td>\n",
              "    </tr>\n",
              "  </tbody>\n",
              "</table>"
            ],
            "text/plain": [
              "<IPython.core.display.HTML object>"
            ]
          },
          "metadata": {}
        }
      ]
    },
    {
      "cell_type": "code",
      "source": [
        "# create language model learner\n",
        "learn_lm = language_model_learner(\n",
        "    dls_lm, AWD_LSTM, drop_mult=0.5, pretrained=True, \n",
        "    metrics=[accuracy, Perplexity()])#.to_fp16()"
      ],
      "metadata": {
        "id": "NAnJ4DhgFvEZ"
      },
      "execution_count": null,
      "outputs": []
    },
    {
      "cell_type": "code",
      "source": [
        "# find optimum learning rate for language model\n",
        "learn_lm.lr_find()"
      ],
      "metadata": {
        "colab": {
          "base_uri": "https://localhost:8080/",
          "height": 300
        },
        "id": "9i3qcVBpHnU7",
        "outputId": "3692a295-04d7-45dc-e8b3-c006d5af0f58"
      },
      "execution_count": null,
      "outputs": [
        {
          "output_type": "display_data",
          "data": {
            "text/html": [
              "\n",
              "<style>\n",
              "    /* Turns off some styling */\n",
              "    progress {\n",
              "        /* gets rid of default border in Firefox and Opera. */\n",
              "        border: none;\n",
              "        /* Needs to be in here for Safari polyfill so background images work as expected. */\n",
              "        background-size: auto;\n",
              "    }\n",
              "    .progress-bar-interrupted, .progress-bar-interrupted::-webkit-progress-bar {\n",
              "        background: #F44336;\n",
              "    }\n",
              "</style>\n"
            ],
            "text/plain": [
              "<IPython.core.display.HTML object>"
            ]
          },
          "metadata": {}
        },
        {
          "output_type": "display_data",
          "data": {
            "text/html": [
              ""
            ],
            "text/plain": [
              "<IPython.core.display.HTML object>"
            ]
          },
          "metadata": {}
        },
        {
          "output_type": "execute_result",
          "data": {
            "text/plain": [
              "SuggestedLRs(valley=0.010964781977236271)"
            ]
          },
          "metadata": {},
          "execution_count": 11
        },
        {
          "output_type": "display_data",
          "data": {
            "image/png": "[encoded data removed]",
            "text/plain": [
              "<Figure size 432x288 with 1 Axes>"
            ]
          },
          "metadata": {
            "needs_background": "light"
          }
        }
      ]
    },
    {
      "cell_type": "code",
      "source": [
        "# one cycle training\n",
        "learn_lm.fit_one_cycle(1, 0.003)"
      ],
      "metadata": {
        "colab": {
          "base_uri": "https://localhost:8080/",
          "height": 81
        },
        "id": "sUnSiaHuHtp8",
        "outputId": "76e22edd-418b-4828-fcb6-92fb08ebc441"
      },
      "execution_count": null,
      "outputs": [
        {
          "output_type": "display_data",
          "data": {
            "text/html": [
              "\n",
              "<style>\n",
              "    /* Turns off some styling */\n",
              "    progress {\n",
              "        /* gets rid of default border in Firefox and Opera. */\n",
              "        border: none;\n",
              "        /* Needs to be in here for Safari polyfill so background images work as expected. */\n",
              "        background-size: auto;\n",
              "    }\n",
              "    .progress-bar-interrupted, .progress-bar-interrupted::-webkit-progress-bar {\n",
              "        background: #F44336;\n",
              "    }\n",
              "</style>\n"
            ],
            "text/plain": [
              "<IPython.core.display.HTML object>"
            ]
          },
          "metadata": {}
        },
        {
          "output_type": "display_data",
          "data": {
            "text/html": [
              "<table border=\"1\" class=\"dataframe\">\n",
              "  <thead>\n",
              "    <tr style=\"text-align: left;\">\n",
              "      <th>epoch</th>\n",
              "      <th>train_loss</th>\n",
              "      <th>valid_loss</th>\n",
              "      <th>accuracy</th>\n",
              "      <th>perplexity</th>\n",
              "      <th>time</th>\n",
              "    </tr>\n",
              "  </thead>\n",
              "  <tbody>\n",
              "    <tr>\n",
              "      <td>0</td>\n",
              "      <td>3.713015</td>\n",
              "      <td>3.496895</td>\n",
              "      <td>0.366691</td>\n",
              "      <td>33.012775</td>\n",
              "      <td>00:22</td>\n",
              "    </tr>\n",
              "  </tbody>\n",
              "</table>"
            ],
            "text/plain": [
              "<IPython.core.display.HTML object>"
            ]
          },
          "metadata": {}
        }
      ]
    },
    {
      "cell_type": "code",
      "source": [
        "# unfreeze all the layers and one cycle training\n",
        "learn_lm.unfreeze()\n",
        "learn_lm.fit_one_cycle(5, 0.003)"
      ],
      "metadata": {
        "colab": {
          "base_uri": "https://localhost:8080/",
          "height": 410
        },
        "id": "QeLjJUlkH9ZM",
        "outputId": "5564e150-aead-4074-d83c-71e2041884ea"
      },
      "execution_count": null,
      "outputs": [
        {
          "data": {
            "text/html": [
              "\n",
              "<style>\n",
              "    /* Turns off some styling */\n",
              "    progress {\n",
              "        /* gets rid of default border in Firefox and Opera. */\n",
              "        border: none;\n",
              "        /* Needs to be in here for Safari polyfill so background images work as expected. */\n",
              "        background-size: auto;\n",
              "    }\n",
              "    .progress-bar-interrupted, .progress-bar-interrupted::-webkit-progress-bar {\n",
              "        background: #F44336;\n",
              "    }\n",
              "</style>\n"
            ],
            "text/plain": [
              "<IPython.core.display.HTML object>"
            ]
          },
          "metadata": {},
          "output_type": "display_data"
        },
        {
          "data": {
            "text/html": [
              "\n",
              "    <div>\n",
              "      <progress value='4' class='' max='5' style='width:300px; height:20px; vertical-align: middle;'></progress>\n",
              "      80.00% [4/5 01:22<00:20]\n",
              "    </div>\n",
              "    \n",
              "<table border=\"1\" class=\"dataframe\">\n",
              "  <thead>\n",
              "    <tr style=\"text-align: left;\">\n",
              "      <th>epoch</th>\n",
              "      <th>train_loss</th>\n",
              "      <th>valid_loss</th>\n",
              "      <th>accuracy</th>\n",
              "      <th>perplexity</th>\n",
              "      <th>time</th>\n",
              "    </tr>\n",
              "  </thead>\n",
              "  <tbody>\n",
              "    <tr>\n",
              "      <td>0</td>\n",
              "      <td>3.416386</td>\n",
              "      <td>3.310141</td>\n",
              "      <td>0.378602</td>\n",
              "      <td>27.388996</td>\n",
              "      <td>00:20</td>\n",
              "    </tr>\n",
              "    <tr>\n",
              "      <td>1</td>\n",
              "      <td>3.245112</td>\n",
              "      <td>3.308045</td>\n",
              "      <td>0.378559</td>\n",
              "      <td>27.331644</td>\n",
              "      <td>00:20</td>\n",
              "    </tr>\n",
              "    <tr>\n",
              "      <td>2</td>\n",
              "      <td>2.870928</td>\n",
              "      <td>3.334326</td>\n",
              "      <td>0.381510</td>\n",
              "      <td>28.059473</td>\n",
              "      <td>00:20</td>\n",
              "    </tr>\n",
              "    <tr>\n",
              "      <td>3</td>\n",
              "      <td>2.456332</td>\n",
              "      <td>3.417676</td>\n",
              "      <td>0.371853</td>\n",
              "      <td>30.498446</td>\n",
              "      <td>00:20</td>\n",
              "    </tr>\n",
              "  </tbody>\n",
              "</table><p>\n",
              "\n",
              "    <div>\n",
              "      <progress value='27' class='' max='82' style='width:300px; height:20px; vertical-align: middle;'></progress>\n",
              "      32.93% [27/82 00:06<00:13 2.2995]\n",
              "    </div>\n",
              "    "
            ],
            "text/plain": [
              "<IPython.core.display.HTML object>"
            ]
          },
          "metadata": {},
          "output_type": "display_data"
        },
        {
          "output_type": "display_data",
          "data": {
            "text/html": [
              "<table border=\"1\" class=\"dataframe\">\n",
              "  <thead>\n",
              "    <tr style=\"text-align: left;\">\n",
              "      <th>epoch</th>\n",
              "      <th>train_loss</th>\n",
              "      <th>valid_loss</th>\n",
              "      <th>accuracy</th>\n",
              "      <th>perplexity</th>\n",
              "      <th>time</th>\n",
              "    </tr>\n",
              "  </thead>\n",
              "  <tbody>\n",
              "    <tr>\n",
              "      <td>0</td>\n",
              "      <td>3.416386</td>\n",
              "      <td>3.310141</td>\n",
              "      <td>0.378602</td>\n",
              "      <td>27.388996</td>\n",
              "      <td>00:20</td>\n",
              "    </tr>\n",
              "    <tr>\n",
              "      <td>1</td>\n",
              "      <td>3.245112</td>\n",
              "      <td>3.308045</td>\n",
              "      <td>0.378559</td>\n",
              "      <td>27.331644</td>\n",
              "      <td>00:20</td>\n",
              "    </tr>\n",
              "    <tr>\n",
              "      <td>2</td>\n",
              "      <td>2.870928</td>\n",
              "      <td>3.334326</td>\n",
              "      <td>0.381510</td>\n",
              "      <td>28.059473</td>\n",
              "      <td>00:20</td>\n",
              "    </tr>\n",
              "    <tr>\n",
              "      <td>3</td>\n",
              "      <td>2.456332</td>\n",
              "      <td>3.417676</td>\n",
              "      <td>0.371853</td>\n",
              "      <td>30.498446</td>\n",
              "      <td>00:20</td>\n",
              "    </tr>\n",
              "    <tr>\n",
              "      <td>4</td>\n",
              "      <td>2.177739</td>\n",
              "      <td>3.484099</td>\n",
              "      <td>0.369097</td>\n",
              "      <td>32.593044</td>\n",
              "      <td>00:20</td>\n",
              "    </tr>\n",
              "  </tbody>\n",
              "</table>"
            ],
            "text/plain": [
              "<IPython.core.display.HTML object>"
            ]
          },
          "metadata": {}
        }
      ]
    },
    {
      "cell_type": "code",
      "source": [
        "# save language model\n",
        "learn_lm.save(Path(model_save_path) /'lm_fine_tuned')\n",
        "learn_lm.save_encoder(Path(model_save_path) /'lm_fine_tuned_encoder')"
      ],
      "metadata": {
        "id": "coY2Nv-9IArq"
      },
      "execution_count": null,
      "outputs": []
    },
    {
      "cell_type": "code",
      "source": [
        "# load pre-trained language model\n",
        "# learn_lm_pretrained = load_learner(Path(model_save_path)/'lm_fine_tuned.pth', cpu = False)\n",
        "# learn_lm.load(Path(model_save_path) /'lm_fine_tuned')"
      ],
      "metadata": {
        "id": "pwpLzpp2tqNr"
      },
      "execution_count": null,
      "outputs": []
    },
    {
      "cell_type": "code",
      "source": [
        "vocab = learn_lm.dls\n",
        "# vocab.numericalize(tokenizer(train_df[\"Text\"][0]))"
      ],
      "metadata": {
        "id": "U27FWqZy0xv3"
      },
      "execution_count": null,
      "outputs": []
    },
    {
      "cell_type": "markdown",
      "source": [
        "## Pre-process data"
      ],
      "metadata": {
        "id": "mHeaLGNoOOGm"
      }
    },
    {
      "cell_type": "code",
      "source": [
        "import torch\n",
        "from torch.utils.data import Dataset, TensorDataset"
      ],
      "metadata": {
        "id": "ihRFSBmHPfPA"
      },
      "execution_count": null,
      "outputs": []
    },
    {
      "cell_type": "code",
      "source": [
        "spacy_tok = SpacyTokenizer(\"en\")\n",
        "tokenizer = Tokenizer(spacy_tok)"
      ],
      "metadata": {
        "id": "MJjD1mVpI65B"
      },
      "execution_count": null,
      "outputs": []
    },
    {
      "cell_type": "code",
      "source": [
        "# train_df[\"Text\"][0], tokenizer(train_df[\"Text\"][0])"
      ],
      "metadata": {
        "id": "ltfiNf0JSn2D"
      },
      "execution_count": null,
      "outputs": []
    },
    {
      "cell_type": "code",
      "source": [
        "import spacy\n",
        "nlp = spacy.blank(\"en\")\n",
        "\n",
        "# note that 'xxunk' is not special in this sense\n",
        "# special_tokens = ['xxbos','xxfld','xxpad', 'xxmaj','xxup','xxrep','xxwrep']\n",
        "\n",
        "special_tokens = ['xxpad']\n",
        "\n",
        "def get_token_num_by_offset(s, offset):\n",
        "  s_pre = s[:offset]\n",
        "  return len(tokenizer(s_pre))\n",
        "  # return len([t for t in tokenizer(s_pre) if t not in special_tokens])\n",
        "\n",
        "\n",
        "def adjust_token_num(processed, token_num):\n",
        "  \"\"\"\n",
        "  As fastai tokenizer introduces additional tokens, we need to adjust for them.\n",
        "  \"\"\"\n",
        "  counter = -1\n",
        "  do_unrep = None\n",
        "  for i, token in enumerate(processed):\n",
        "    if token not in special_tokens:\n",
        "      counter += 1\n",
        "    # if do_unrep:\n",
        "    #   do_unrep = False\n",
        "    #   if processed[i+1] != \".\":\n",
        "    #     token_num -= (int(token) - 2) # one to account for the num itself\n",
        "    #   else:  # spacy doesn't split full stops\n",
        "    #     token_num += 1\n",
        "    # if token == \"xxrep\":\n",
        "    #   do_unrep = True\n",
        "    if counter == token_num:\n",
        "      return i\n",
        "  else: # else for 'for'\n",
        "    counter2 = -1\n",
        "    for j, t in enumerate(processed):\n",
        "      if t not in special_tokens:\n",
        "        counter2 += 1\n",
        "      # print(j, counter, t)\n",
        "    raise Exception(f\"{token_num} is out of bounds ({processed})\")"
      ],
      "metadata": {
        "id": "68TZfc7ZOWiN"
      },
      "execution_count": null,
      "outputs": []
    },
    {
      "cell_type": "code",
      "source": [
        "import traceback\n",
        "def dataframe_to_tensors(df, max_len=512):\n",
        "  # offsets are: pron_tok_offset, a_tok_offset, a_tok_right_offset, b_tok_offset, b_tok_right_offset\n",
        "  offsets = list()\n",
        "  labels = np.zeros((len(df),), dtype=np.int64)\n",
        "  processed = list()\n",
        "  for i, row in tqdm(df.iterrows()):\n",
        "    try:\n",
        "      text = row[\"Text\"]\n",
        "      a_offset = row[\"A-offset\"]\n",
        "      a_len = len(nlp(row[\"A\"]))\n",
        "      \n",
        "      b_offset = row[\"B-offset\"]\n",
        "      b_len = len(nlp(row[\"B\"]))\n",
        "\n",
        "      pron_offset = row[\"Pronoun-offset\"]\n",
        "      is_a = row[\"A-coref\"]\n",
        "      is_b = row[\"B-coref\"]\n",
        "      a_tok_offset = get_token_num_by_offset(text, a_offset)\n",
        "      b_tok_offset = get_token_num_by_offset(text, b_offset)\n",
        "      a_right_offset = a_tok_offset + a_len - 1\n",
        "      b_right_offset = b_tok_offset + b_len - 1\n",
        "      pron_tok_offset = get_token_num_by_offset(text, pron_offset)\n",
        "      tokenized = tokenizer(text)[:max_len]\n",
        "      tokenized = [\"xxpad\"] * (max_len - len(tokenized))  + tokenized # add padding\n",
        "      a_tok_offset = adjust_token_num(tokenized, a_tok_offset)\n",
        "      a_tok_right_offset = adjust_token_num(tokenized, a_right_offset)\n",
        "      b_tok_offset = adjust_token_num(tokenized, b_tok_offset)\n",
        "      b_tok_right_offset = adjust_token_num(tokenized, b_right_offset)\n",
        "      pron_tok_offset = adjust_token_num(tokenized, pron_tok_offset)\n",
        "      numericalized = vocab.numericalize(tokenized)\n",
        "      processed.append(torch.tensor(numericalized, dtype=torch.long))\n",
        "      offsets.append([pron_tok_offset, a_tok_offset, a_tok_right_offset, b_tok_offset, b_tok_right_offset])\n",
        "      if is_a:\n",
        "        labels[i] = 0\n",
        "      elif is_b:\n",
        "        labels[i] = 1\n",
        "      else:\n",
        "        labels[i] = 2\n",
        "    except Exception as e:\n",
        "      print(i)\n",
        "      traceback.print_exc()\n",
        "      raise\n",
        "  processed = torch.stack(processed)\n",
        "  offsets = torch.tensor(offsets, dtype=torch.long)\n",
        "  labels = torch.from_numpy(labels)\n",
        "  return processed, offsets, labels"
      ],
      "metadata": {
        "id": "LQ5LNykpOVqV"
      },
      "execution_count": null,
      "outputs": []
    },
    {
      "cell_type": "code",
      "source": [
        "train_ds = TensorDataset(*dataframe_to_tensors(train_df))\n",
        "valid_ds = TensorDataset(*dataframe_to_tensors(val_df))\n",
        "test_ds = TensorDataset(*dataframe_to_tensors(test_df))"
      ],
      "metadata": {
        "id": "8u2q2sqgOtsU",
        "outputId": "1dfbd516-1774-4929-90b6-d82eaef9df77",
        "colab": {
          "base_uri": "https://localhost:8080/",
          "height": 150,
          "referenced_widgets": [
            "5052897e98f1493587cd63fab1cbb5e7",
            "782510a1aa3440bcb015e3cadf933314",
            "69441dfcbeb54441a1b1e7f8bae3553e",
            "6ee8a49a9e394491a72108f14b1c347f",
            "a68e5a63446b4cdcb7c166abf801fda4",
            "1bfcc7ef415f45cbab4c075e9e22213c",
            "6960695599cd49c7922695b7d6151bde",
            "718cadc2ccd74fa18dfae205358a8a99",
            "47d1a29cb08b4c3b934b89659f3366d0",
            "23d72cd7db3646e88f47f836a31692b4",
            "2cfcffe6dc3845dcb64064cf758ee901",
            "05f0405e79264f81ab10656f8cb2cf7c",
            "b5b5f13154ff42c1a098f76017e834ac",
            "e3ad805a15c94bef87159cd67925c896",
            "13a72d92e65f483d8aca418c4ba895f2",
            "9e19c8ef69564061bcf81c860133d7c5",
            "a1e0e316497f41dfb1d5292fcd503dfb",
            "94bd884cfb484580a74febea2ec3920b",
            "c229084c0ef948f5bff8d7d0cd263744",
            "d4ee00f767b241a5a940d54c8f3b3167",
            "d5f1d9d894e54f5d9d15c996edb74cb4",
            "43708d78687942218664fa57106454b9",
            "f347fb9316a6456ea910e648dab1cd50",
            "cad3db2d2147439f93bbf4ab9d4934e6",
            "5d64e39bad2b4b8f8e8377a5d11597b1",
            "b694c84c65f640f091e408e2bc6b5623",
            "3d6891b512a743cb91aaf10711e33023",
            "3ad2a5dc8f4f4572a3f282ce9274c187",
            "478492135aa1466ab2aeef72c0667fe7",
            "8fa687d62f604ea9bc66b30410a052c9",
            "4d880d0cdeac45d6937b48679083afe6",
            "c92f62147a164b099d254d4d8e6ea26d",
            "b80354c6f8c84651b60b096d2368f8d8"
          ]
        }
      },
      "execution_count": null,
      "outputs": [
        {
          "output_type": "display_data",
          "data": {
            "application/vnd.jupyter.widget-view+json": {
              "model_id": "5052897e98f1493587cd63fab1cbb5e7",
              "version_minor": 0,
              "version_major": 2
            },
            "text/plain": [
              "0it [00:00, ?it/s]"
            ]
          },
          "metadata": {}
        },
        {
          "output_type": "stream",
          "name": "stderr",
          "text": [
            "/usr/local/lib/python3.7/dist-packages/ipykernel_launcher.py:32: UserWarning: To copy construct from a tensor, it is recommended to use sourceTensor.clone().detach() or sourceTensor.clone().detach().requires_grad_(True), rather than torch.tensor(sourceTensor).\n"
          ]
        },
        {
          "output_type": "display_data",
          "data": {
            "application/vnd.jupyter.widget-view+json": {
              "model_id": "05f0405e79264f81ab10656f8cb2cf7c",
              "version_minor": 0,
              "version_major": 2
            },
            "text/plain": [
              "0it [00:00, ?it/s]"
            ]
          },
          "metadata": {}
        },
        {
          "output_type": "display_data",
          "data": {
            "application/vnd.jupyter.widget-view+json": {
              "model_id": "f347fb9316a6456ea910e648dab1cd50",
              "version_minor": 0,
              "version_major": 2
            },
            "text/plain": [
              "0it [00:00, ?it/s]"
            ]
          },
          "metadata": {}
        }
      ]
    },
    {
      "cell_type": "code",
      "source": [
        "train_dl = DataLoader(train_ds, batch_size=64, shuffle=True)\n",
        "valid_dl = DataLoader(valid_ds, batch_size=32, shuffle=False)\n",
        "test_dl = DataLoader(test_ds, batch_size=32, shuffle=False)"
      ],
      "metadata": {
        "id": "va-7f1tYOvYK"
      },
      "execution_count": null,
      "outputs": []
    },
    {
      "cell_type": "markdown",
      "source": [
        "### Classifier"
      ],
      "metadata": {
        "id": "OKNhIlJjegLi"
      }
    },
    {
      "cell_type": "code",
      "source": [
        "# learn_lm.freeze()"
      ],
      "metadata": {
        "id": "jsP7wGudUVVd"
      },
      "execution_count": null,
      "outputs": []
    },
    {
      "cell_type": "code",
      "source": [
        "class Attention(nn.Module):\n",
        "    def __init__(self, feature_dim, step_dim, bias=True, **kwargs):\n",
        "        super(Attention, self).__init__(**kwargs)\n",
        "        \n",
        "        self.supports_masking = True\n",
        "\n",
        "        self.bias = bias\n",
        "        self.feature_dim = feature_dim\n",
        "        self.step_dim = step_dim\n",
        "        self.features_dim = 0\n",
        "        \n",
        "        weight = torch.zeros(feature_dim, 1)\n",
        "        nn.init.kaiming_uniform_(weight)\n",
        "        self.weight = nn.Parameter(weight)\n",
        "        \n",
        "        if bias:\n",
        "            self.b = nn.Parameter(torch.zeros(step_dim))\n",
        "        \n",
        "    def forward(self, x, mask=None):\n",
        "        feature_dim = self.feature_dim \n",
        "        step_dim = self.step_dim\n",
        "\n",
        "        eij = torch.mm(\n",
        "            x.contiguous().view(-1, feature_dim), \n",
        "            self.weight\n",
        "        ).view(-1, step_dim)\n",
        "        \n",
        "        if self.bias:\n",
        "            eij = eij + self.b\n",
        "            \n",
        "        eij = torch.tanh(eij)\n",
        "        a = torch.exp(eij)\n",
        "        \n",
        "        if mask is not None:\n",
        "            a = a * mask\n",
        "\n",
        "        a = a / (torch.sum(a, 1, keepdim=True) + 1e-10)\n",
        "\n",
        "        weighted_input = x * torch.unsqueeze(a, -1)\n",
        "        return torch.sum(weighted_input, 1)"
      ],
      "metadata": {
        "id": "71jAkwMLIktN"
      },
      "execution_count": null,
      "outputs": []
    },
    {
      "cell_type": "code",
      "source": [
        "encoder_hidden_sz = 400\n",
        "\n",
        "device = torch.device(\"cuda\")\n",
        "\n",
        "class CorefResolver(nn.Module):\n",
        "  def __init__(self, encoder, dropout_p=0.3, max_len=512):\n",
        "    super(CorefResolver, self).__init__()\n",
        "    self.encoder = encoder\n",
        "    self.attention_layer = Attention(encoder_hidden_sz, max_len)\n",
        "    self.dropout = nn.Dropout(dropout_p)\n",
        "    self.hidden2hidden = nn.Linear(encoder_hidden_sz * 2 + encoder_hidden_sz + 1, 25)\n",
        "    self.hidden2logits = nn.Linear(50, 3)\n",
        "    self.relu = nn.ReLU()\n",
        "    self.activation = nn.LogSoftmax(dim=1)\n",
        "    self.loss = nn.NLLLoss()\n",
        "    \n",
        "  def forward(self, seqs, offsets, labels=None):\n",
        "    encoded = self.dropout(self.encoder(seqs)) #[0][2])\n",
        "    encoded_atten = self.attention_layer(encoded)\n",
        "    a_q = list()\n",
        "    b_q = list()\n",
        "    for enc_att, enc, offs in zip(encoded_atten, encoded, offsets):\n",
        "      # extract the hidden states that correspond to A, B and the pronoun, and make pairs of those \n",
        "      a_repr = enc[offs[1]:(offs[2]+1)].mean(dim=0).squeeze(0)\n",
        "      b_repr = enc[offs[3]:(offs[4]+1)].mean(dim=0).squeeze(0)\n",
        "      a_q.append(torch.cat([enc[offs[0]], a_repr, enc_att, torch.dot(enc[offs[0]], a_repr).unsqueeze(0)]))\n",
        "      b_q.append(torch.cat([enc[offs[0]], b_repr, enc_att, torch.dot(enc[offs[0]], b_repr).unsqueeze(0)]))\n",
        "    a_q = torch.stack(a_q)\n",
        "    b_q = torch.stack(b_q)\n",
        "    # apply the same \"detector\" layer to both batches of pairs\n",
        "    is_a = self.relu(self.dropout(self.hidden2hidden(a_q)))\n",
        "    is_b = self.relu(self.dropout(self.hidden2hidden(b_q)))\n",
        "    # concatenate outputs of the \"detector\" layer to get the final probability distribution\n",
        "    is_a_b = torch.cat([is_a, is_b], dim=1)\n",
        "    is_logits = self.hidden2logits(self.dropout(self.relu(is_a_b)))\n",
        "\n",
        "    activation = self.activation(is_logits)\n",
        "    if labels is not None:\n",
        "      return activation, self.loss(activation, labels)\n",
        "    else:\n",
        "      return activation"
      ],
      "metadata": {
        "id": "rdPY0QQjaI1a"
      },
      "execution_count": null,
      "outputs": []
    },
    {
      "cell_type": "code",
      "source": [
        "enc = learn_lm.model[0]"
      ],
      "metadata": {
        "id": "S-eqTeE7aSs-"
      },
      "execution_count": null,
      "outputs": []
    },
    {
      "cell_type": "code",
      "source": [
        "resolver = CorefResolver(enc)"
      ],
      "metadata": {
        "id": "-nej-9MDasYB"
      },
      "execution_count": null,
      "outputs": []
    },
    {
      "cell_type": "code",
      "source": [
        "resolver.to(device)"
      ],
      "metadata": {
        "id": "t4p4nee1fBnl"
      },
      "execution_count": null,
      "outputs": []
    },
    {
      "cell_type": "code",
      "source": [
        "for param in resolver.encoder.parameters():\n",
        "  param.requires_grad = False"
      ],
      "metadata": {
        "id": "qRs2narTfD5e"
      },
      "execution_count": null,
      "outputs": []
    },
    {
      "cell_type": "code",
      "source": [
        "lr = 0.001\n",
        "\n",
        "loss_fn = nn.NLLLoss()\n",
        "optimizer = torch.optim.Adam(resolver.parameters(), lr=lr)"
      ],
      "metadata": {
        "id": "pNM1cB4AgOnv"
      },
      "execution_count": null,
      "outputs": []
    },
    {
      "cell_type": "code",
      "source": [
        "from sklearn.metrics import classification_report"
      ],
      "metadata": {
        "id": "LlVxKZx8gRxs"
      },
      "execution_count": null,
      "outputs": []
    },
    {
      "cell_type": "code",
      "source": [
        "def train_epoch(model, optimizer, train_dl, report_every=10):\n",
        "  model.train()\n",
        "  step = 0\n",
        "  total_loss = 0\n",
        "  \n",
        "  for texts, offsets, labels in train_dl:\n",
        "    texts, offsets, labels = texts.to(device), offsets.to(device), labels.to(device)\n",
        "    step += 1\n",
        "    optimizer.zero_grad()\n",
        "    _, loss = model(texts, offsets, labels)\n",
        "    total_loss += loss.item()\n",
        "    \n",
        "    loss.backward()\n",
        "    optimizer.step()\n",
        "    \n",
        "    if step % report_every == 0:\n",
        "      print(f\"Step {step}, loss: {total_loss/report_every}\")\n",
        "      total_loss = 0\n",
        "      \n",
        "def evaluate(model, optimizer, valid_dl, probas=False):\n",
        "  probas = list()\n",
        "  model.eval()\n",
        "  predictions = list()\n",
        "  total_loss = 0\n",
        "  all_labels = list()\n",
        "  with torch.no_grad():\n",
        "    for texts, offsets, labels in valid_dl:\n",
        "      texts, offsets, labels = texts.cuda(), offsets.cuda(), labels.cuda()\n",
        "      preds, loss = model(texts, offsets, labels)\n",
        "      total_loss += loss.item()\n",
        "      probas.append(preds.cpu().detach().numpy())\n",
        "      predictions.extend([i.item() for i in preds.max(1)[1]])\n",
        "    \n",
        "    \n",
        "  print(f\"Validation loss: {total_loss/len(valid_dl)}\")\n",
        "  print()\n",
        "  print(classification_report(valid_dl.dataset.tensors[2].numpy(), predictions))\n",
        "  if probas:\n",
        "    return total_loss, np.vstack(probas)\n",
        "  return total_loss, predictions"
      ],
      "metadata": {
        "id": "NH8JbjBwgUdk"
      },
      "execution_count": null,
      "outputs": []
    },
    {
      "cell_type": "code",
      "source": [
        "total_epoch = 0\n",
        "best_loss = 1e6\n",
        "\n",
        "for i in range(10):\n",
        "  print(\"Epoch\", i + 1)\n",
        "  total_epoch += 1\n",
        "  train_epoch(resolver, optimizer, train_dl) \n",
        "  loss, labels = evaluate(resolver, optimizer, test_dl)\n",
        "  if loss < best_loss:\n",
        "    best_loss = loss\n",
        "    print(f\"Loss improved, saving {total_epoch}\")\n",
        "    torch.save(resolver.state_dict(), Path(model_save_path)/\"model_best.pt\")"
      ],
      "metadata": {
        "id": "RW3chKpwgYyO"
      },
      "execution_count": null,
      "outputs": []
    },
    {
      "cell_type": "markdown",
      "source": [
        "## Test"
      ],
      "metadata": {
        "id": "vF2M0TOBEAft"
      }
    },
    {
      "cell_type": "code",
      "source": [
        "loss, res = evaluate(resolver, optimizer, valid_dl, True)\n",
        "res_s = np.exp(res)  # don't forget that we have log-softmax outputs:\n",
        "test_res = pd.DataFrame(res_s, index=val_df[\"ID\"], columns=[\"A-prob\", \"B-prob\", \"NEITHER-prob\"])"
      ],
      "metadata": {
        "colab": {
          "base_uri": "https://localhost:8080/"
        },
        "id": "mRogdQwMvy6p",
        "outputId": "40fee488-ecac-436f-f033-5df5262ebd3b"
      },
      "execution_count": null,
      "outputs": [
        {
          "output_type": "stream",
          "name": "stdout",
          "text": [
            "Validation loss: 0.8082589824994405\n",
            "\n",
            "              precision    recall  f1-score   support\n",
            "\n",
            "           0       0.70      0.68      0.69       187\n",
            "           1       0.63      0.76      0.69       205\n",
            "           2       0.52      0.21      0.30        62\n",
            "\n",
            "    accuracy                           0.65       454\n",
            "   macro avg       0.62      0.55      0.56       454\n",
            "weighted avg       0.65      0.65      0.64       454\n",
            "\n"
          ]
        }
      ]
    },
    {
      "cell_type": "code",
      "source": [
        "val_df.merge(test_res, on = 'ID').loc[:,['ID','Text','Pronoun','A','B','A-coref','B-coref','A-prob','B-prob','NEITHER-prob']].head(10)"
      ],
      "metadata": {
        "colab": {
          "base_uri": "https://localhost:8080/",
          "height": 979
        },
        "id": "N00lSE04ZSuh",
        "outputId": "23fe8e29-6497-4885-c36e-602c03cc391c"
      },
      "execution_count": null,
      "outputs": [
        {
          "output_type": "execute_result",
          "data": {
            "text/html": [
              "\n",
              "  <div id=\"df-4cea300f-7df2-4ccd-bc4e-8d495ca9d326\">\n",
              "    <div class=\"colab-df-container\">\n",
              "      <div>\n",
              "<style scoped>\n",
              "    .dataframe tbody tr th:only-of-type {\n",
              "        vertical-align: middle;\n",
              "    }\n",
              "\n",
              "    .dataframe tbody tr th {\n",
              "        vertical-align: top;\n",
              "    }\n",
              "\n",
              "    .dataframe thead th {\n",
              "        text-align: right;\n",
              "    }\n",
              "</style>\n",
              "<table border=\"1\" class=\"dataframe\">\n",
              "  <thead>\n",
              "    <tr style=\"text-align: right;\">\n",
              "      <th></th>\n",
              "      <th>ID</th>\n",
              "      <th>Text</th>\n",
              "      <th>Pronoun</th>\n",
              "      <th>A</th>\n",
              "      <th>B</th>\n",
              "      <th>A-coref</th>\n",
              "      <th>B-coref</th>\n",
              "      <th>A-prob</th>\n",
              "      <th>B-prob</th>\n",
              "      <th>NEITHER-prob</th>\n",
              "    </tr>\n",
              "  </thead>\n",
              "  <tbody>\n",
              "    <tr>\n",
              "      <th>0</th>\n",
              "      <td>validation-1</td>\n",
              "      <td>He admitted making four trips to China and playing golf there. He also admitted that ZTE officials, whom he says are his golf buddies, hosted and paid for the trips. Jose de Venecia III, son of House Speaker Jose de Venecia Jr, alleged that Abalos offered him US$10 million to withdraw his proposal on the NBN project.</td>\n",
              "      <td>him</td>\n",
              "      <td>Jose de Venecia Jr</td>\n",
              "      <td>Abalos</td>\n",
              "      <td>False</td>\n",
              "      <td>False</td>\n",
              "      <td>0.147028</td>\n",
              "      <td>0.739674</td>\n",
              "      <td>0.113299</td>\n",
              "    </tr>\n",
              "    <tr>\n",
              "      <th>1</th>\n",
              "      <td>validation-2</td>\n",
              "      <td>Kathleen Nott was born in Camberwell, London. Her father, Philip, was a lithographic printer, and her mother, Ellen, ran a boarding house in Brixton; Kathleen was their third daughter. She was educated at Mary Datchelor Girls' School (now closed), London, before attending King's College, London.</td>\n",
              "      <td>She</td>\n",
              "      <td>Ellen</td>\n",
              "      <td>Kathleen</td>\n",
              "      <td>False</td>\n",
              "      <td>True</td>\n",
              "      <td>0.244650</td>\n",
              "      <td>0.568258</td>\n",
              "      <td>0.187092</td>\n",
              "    </tr>\n",
              "    <tr>\n",
              "      <th>2</th>\n",
              "      <td>validation-3</td>\n",
              "      <td>When she returns to her hotel room, a Liberian man (Tony Todd) forces her to smuggle $20 million worth of conflict diamonds to New York, or else fellow fight attendant and friend Angela will die. She is caught before she can board the flight, and the team now have nine hours until the plane lands, and save Angela. After the confiscated diamonds are stolen by the brother of Kaleo (Jason Scott Lee), whom Danny put away for murdering his partner last year, Five-0 and Chief Fryer team up and enlist the help of August March (Ed Asner), who served a 30-year sentence for smuggling diamonds.</td>\n",
              "      <td>his</td>\n",
              "      <td>Jason Scott Lee</td>\n",
              "      <td>Danny</td>\n",
              "      <td>False</td>\n",
              "      <td>True</td>\n",
              "      <td>0.159922</td>\n",
              "      <td>0.727185</td>\n",
              "      <td>0.112892</td>\n",
              "    </tr>\n",
              "    <tr>\n",
              "      <th>3</th>\n",
              "      <td>validation-4</td>\n",
              "      <td>On 19 March 2007, during a campaign appearance for the New South Wales State Election, the then opposition leader Peter Debnam was confronted by Reucassel wearing nothing but Speedos and a baseball cap, making fun of Debnam's campaign appearances in the swimwear. When TV cameras remained focused on Reucassel rather than Mr Debnam, he said, ``Sorry, I'm not Peter Debnam, he's over there.</td>\n",
              "      <td>he</td>\n",
              "      <td>Reucassel</td>\n",
              "      <td>Debnam</td>\n",
              "      <td>True</td>\n",
              "      <td>False</td>\n",
              "      <td>0.548401</td>\n",
              "      <td>0.312452</td>\n",
              "      <td>0.139147</td>\n",
              "    </tr>\n",
              "    <tr>\n",
              "      <th>4</th>\n",
              "      <td>validation-5</td>\n",
              "      <td>By this time, Karen Blixen had separated from her husband, and after their divorce in 1925, Finch Hatton moved into her house and began leading safaris for wealthy sportsmen. Among his clients were Marshall Field Jr and Edward, Prince of Wales. According to the author Mary Lovell, in 1930 Finch Hatton began a love affair with Beryl Markham, who was working as a race-horse trainer in Nairobi and the surrounding area. Later, she would become known as a pioneer flyer herself (Markham attributed her interest in flying to her association with Tom Campbell Black).</td>\n",
              "      <td>she</td>\n",
              "      <td>Finch Hatton</td>\n",
              "      <td>Beryl Markham</td>\n",
              "      <td>False</td>\n",
              "      <td>True</td>\n",
              "      <td>0.751752</td>\n",
              "      <td>0.114677</td>\n",
              "      <td>0.133571</td>\n",
              "    </tr>\n",
              "    <tr>\n",
              "      <th>5</th>\n",
              "      <td>validation-6</td>\n",
              "      <td>No amount of logic can shatter a faith consciously based on a lie.'' According to The Skeptic's Dictionary, an example of this syndrome is evidenced by an event in 1988 when stage magician James Randi, at the request of an Australian news program, coached stage performer Jos* Alvarez to pretend he was channelling a two-thousand-year-old spirit named ``Carlos''.</td>\n",
              "      <td>he</td>\n",
              "      <td>James Randi</td>\n",
              "      <td>Jos* Alvarez</td>\n",
              "      <td>False</td>\n",
              "      <td>True</td>\n",
              "      <td>0.224010</td>\n",
              "      <td>0.442701</td>\n",
              "      <td>0.333289</td>\n",
              "    </tr>\n",
              "    <tr>\n",
              "      <th>6</th>\n",
              "      <td>validation-7</td>\n",
              "      <td>Lieutenant General Weber Pasha wanted Faik Pasha to command the ``Right Wing''. But Liman von Sanders disliked him and he had a quarrel with Faik Pasha for about a tactics. Weber Pasha insisted on his decision. At last unwillingly von Sanders appointed Faik Pasha to the command of Right Wing. He fought the Battle of Gully Ravine (28 June -- 3 July 1915) that was a very bloody battle that caused Ottoman Army many casualties.</td>\n",
              "      <td>He</td>\n",
              "      <td>von Sanders</td>\n",
              "      <td>Faik Pasha</td>\n",
              "      <td>False</td>\n",
              "      <td>True</td>\n",
              "      <td>0.603057</td>\n",
              "      <td>0.272033</td>\n",
              "      <td>0.124909</td>\n",
              "    </tr>\n",
              "    <tr>\n",
              "      <th>7</th>\n",
              "      <td>validation-8</td>\n",
              "      <td>He went on to enter mainstream journalism as a reporter and feature writer with the Belfast Sunday News, during the height of the Troubles in Northern Ireland. He was later promoted to Chief Sub- Editor of that newspaper, where he also wrote a weekly column. In 1977 Colin entered into correspondence with a singer and guitar player called Jake Burns, who was trying to promote his band Stiff Little Fingers.</td>\n",
              "      <td>his</td>\n",
              "      <td>Colin</td>\n",
              "      <td>Jake Burns</td>\n",
              "      <td>False</td>\n",
              "      <td>True</td>\n",
              "      <td>0.644072</td>\n",
              "      <td>0.294831</td>\n",
              "      <td>0.061097</td>\n",
              "    </tr>\n",
              "    <tr>\n",
              "      <th>8</th>\n",
              "      <td>validation-9</td>\n",
              "      <td>In 1940 Lester Cowan, an independent film producer, bought F. Scott Fitzgerald's short story, ``Babylon Revisited and Other Stories'' for $80, which was a bargain. Fitzgerald thought his screenwriting days were over and with some hesitation accepted Cowan's offer to write the screenplay titled ``Cosmopolitan'' based on the short story. After finishing the screenplay, Scott was told by Cowan that he would not do the film unless Shirley Temple starred in the lead of the youngster Honoria.</td>\n",
              "      <td>he</td>\n",
              "      <td>Scott</td>\n",
              "      <td>Cowan</td>\n",
              "      <td>False</td>\n",
              "      <td>True</td>\n",
              "      <td>0.433399</td>\n",
              "      <td>0.473630</td>\n",
              "      <td>0.092971</td>\n",
              "    </tr>\n",
              "    <tr>\n",
              "      <th>9</th>\n",
              "      <td>validation-10</td>\n",
              "      <td>They have a stormy marriage, caused by his hot temper and her habit of playing away. Soon after arriving on the Street, Liz makes friends with Deirdre Barlow (Anne Kirkbride), whose daughter Tracy (Dawn Acton) is slightly younger than the twins. When asked in a 2010 interview with The Mirror what her favourite scenes were, Beverley Callard replied, ``when Jim beat up Liz.</td>\n",
              "      <td>her</td>\n",
              "      <td>Beverley Callard</td>\n",
              "      <td>Liz</td>\n",
              "      <td>True</td>\n",
              "      <td>False</td>\n",
              "      <td>0.457670</td>\n",
              "      <td>0.439521</td>\n",
              "      <td>0.102809</td>\n",
              "    </tr>\n",
              "  </tbody>\n",
              "</table>\n",
              "</div>\n",
              "      <button class=\"colab-df-convert\" onclick=\"convertToInteractive('df-4cea300f-7df2-4ccd-bc4e-8d495ca9d326')\"\n",
              "              title=\"Convert this dataframe to an interactive table.\"\n",
              "              style=\"display:none;\">\n",
              "        \n",
              "  <svg xmlns=\"http://www.w3.org/2000/svg\" height=\"24px\"viewBox=\"0 0 24 24\"\n",
              "       width=\"24px\">\n",
              "    <path d=\"M0 0h24v24H0V0z\" fill=\"none\"/>\n",
              "    <path d=\"M18.56 5.44l.94 2.06.94-2.06 2.06-.94-2.06-.94-.94-2.06-.94 2.06-2.06.94zm-11 1L8.5 8.5l.94-2.06 2.06-.94-2.06-.94L8.5 2.5l-.94 2.06-2.06.94zm10 10l.94 2.06.94-2.06 2.06-.94-2.06-.94-.94-2.06-.94 2.06-2.06.94z\"/><path d=\"M17.41 7.96l-1.37-1.37c-.4-.4-.92-.59-1.43-.59-.52 0-1.04.2-1.43.59L10.3 9.45l-7.72 7.72c-.78.78-.78 2.05 0 2.83L4 21.41c.39.39.9.59 1.41.59.51 0 1.02-.2 1.41-.59l7.78-7.78 2.81-2.81c.8-.78.8-2.07 0-2.86zM5.41 20L4 18.59l7.72-7.72 1.47 1.35L5.41 20z\"/>\n",
              "  </svg>\n",
              "      </button>\n",
              "      \n",
              "  <style>\n",
              "    .colab-df-container {\n",
              "      display:flex;\n",
              "      flex-wrap:wrap;\n",
              "      gap: 12px;\n",
              "    }\n",
              "\n",
              "    .colab-df-convert {\n",
              "      background-color: #E8F0FE;\n",
              "      border: none;\n",
              "      border-radius: 50%;\n",
              "      cursor: pointer;\n",
              "      display: none;\n",
              "      fill: #1967D2;\n",
              "      height: 32px;\n",
              "      padding: 0 0 0 0;\n",
              "      width: 32px;\n",
              "    }\n",
              "\n",
              "    .colab-df-convert:hover {\n",
              "      background-color: #E2EBFA;\n",
              "      box-shadow: 0px 1px 2px rgba(60, 64, 67, 0.3), 0px 1px 3px 1px rgba(60, 64, 67, 0.15);\n",
              "      fill: #174EA6;\n",
              "    }\n",
              "\n",
              "    [theme=dark] .colab-df-convert {\n",
              "      background-color: #3B4455;\n",
              "      fill: #D2E3FC;\n",
              "    }\n",
              "\n",
              "    [theme=dark] .colab-df-convert:hover {\n",
              "      background-color: #434B5C;\n",
              "      box-shadow: 0px 1px 3px 1px rgba(0, 0, 0, 0.15);\n",
              "      filter: drop-shadow(0px 1px 2px rgba(0, 0, 0, 0.3));\n",
              "      fill: #FFFFFF;\n",
              "    }\n",
              "  </style>\n",
              "\n",
              "      <script>\n",
              "        const buttonEl =\n",
              "          document.querySelector('#df-4cea300f-7df2-4ccd-bc4e-8d495ca9d326 button.colab-df-convert');\n",
              "        buttonEl.style.display =\n",
              "          google.colab.kernel.accessAllowed ? 'block' : 'none';\n",
              "\n",
              "        async function convertToInteractive(key) {\n",
              "          const element = document.querySelector('#df-4cea300f-7df2-4ccd-bc4e-8d495ca9d326');\n",
              "          const dataTable =\n",
              "            await google.colab.kernel.invokeFunction('convertToInteractive',\n",
              "                                                     [key], {});\n",
              "          if (!dataTable) return;\n",
              "\n",
              "          const docLinkHtml = 'Like what you see? Visit the ' +\n",
              "            '<a target=\"_blank\" href=https://colab.research.google.com/notebooks/data_table.ipynb>data table notebook</a>'\n",
              "            + ' to learn more about interactive tables.';\n",
              "          element.innerHTML = '';\n",
              "          dataTable['output_type'] = 'display_data';\n",
              "          await google.colab.output.renderOutput(dataTable, element);\n",
              "          const docLink = document.createElement('div');\n",
              "          docLink.innerHTML = docLinkHtml;\n",
              "          element.appendChild(docLink);\n",
              "        }\n",
              "      </script>\n",
              "    </div>\n",
              "  </div>\n",
              "  "
            ],
            "text/plain": [
              "              ID  ... NEITHER-prob\n",
              "0   validation-1  ...     0.113299\n",
              "1   validation-2  ...     0.187092\n",
              "2   validation-3  ...     0.112892\n",
              "3   validation-4  ...     0.139147\n",
              "4   validation-5  ...     0.133571\n",
              "5   validation-6  ...     0.333289\n",
              "6   validation-7  ...     0.124909\n",
              "7   validation-8  ...     0.061097\n",
              "8   validation-9  ...     0.092971\n",
              "9  validation-10  ...     0.102809\n",
              "\n",
              "[10 rows x 10 columns]"
            ]
          },
          "metadata": {},
          "execution_count": 42
        }
      ]
    },
    {
      "cell_type": "code",
      "source": [
        ""
      ],
      "metadata": {
        "id": "jxVtBpGZ2WCS"
      },
      "execution_count": null,
      "outputs": []
    }
  ]
}