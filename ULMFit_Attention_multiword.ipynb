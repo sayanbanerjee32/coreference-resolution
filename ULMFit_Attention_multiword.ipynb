{
  "nbformat": 4,
  "nbformat_minor": 0,
  "metadata": {
    "colab": {
      "name": "data_explore.ipynb",
      "provenance": [],
      "authorship_tag": "ABX9TyN7GEYujn2LEt5C6LrDGioh",
      "include_colab_link": true
    },
    "kernelspec": {
      "name": "python3",
      "display_name": "Python 3"
    },
    "language_info": {
      "name": "python"
    },
    "accelerator": "GPU",
    "widgets": {
      "application/vnd.jupyter.widget-state+json": {
        "b4d62e6098f04c939ed72137170dfbde": {
          "model_module": "@jupyter-widgets/controls",
          "model_name": "HBoxModel",
          "model_module_version": "1.5.0",
          "state": {
            "_view_name": "HBoxView",
            "_dom_classes": [],
            "_model_name": "HBoxModel",
            "_view_module": "@jupyter-widgets/controls",
            "_model_module_version": "1.5.0",
            "_view_count": null,
            "_view_module_version": "1.5.0",
            "box_style": "",
            "layout": "IPY_MODEL_0e75d439c4304b94a93f3c145d676430",
            "_model_module": "@jupyter-widgets/controls",
            "children": [
              "IPY_MODEL_6441cb493c82444ba2e569939fdf7770",
              "IPY_MODEL_665b6ce70d8b4fcfb6e69389ee3e56a5",
              "IPY_MODEL_182e5a1cb0c24dfbb74a393aff4295cc"
            ]
          }
        },
        "0e75d439c4304b94a93f3c145d676430": {
          "model_module": "@jupyter-widgets/base",
          "model_name": "LayoutModel",
          "model_module_version": "1.2.0",
          "state": {
            "_view_name": "LayoutView",
            "grid_template_rows": null,
            "right": null,
            "justify_content": null,
            "_view_module": "@jupyter-widgets/base",
            "overflow": null,
            "_model_module_version": "1.2.0",
            "_view_count": null,
            "flex_flow": null,
            "width": null,
            "min_width": null,
            "border": null,
            "align_items": null,
            "bottom": null,
            "_model_module": "@jupyter-widgets/base",
            "top": null,
            "grid_column": null,
            "overflow_y": null,
            "overflow_x": null,
            "grid_auto_flow": null,
            "grid_area": null,
            "grid_template_columns": null,
            "flex": null,
            "_model_name": "LayoutModel",
            "justify_items": null,
            "grid_row": null,
            "max_height": null,
            "align_content": null,
            "visibility": null,
            "align_self": null,
            "height": null,
            "min_height": null,
            "padding": null,
            "grid_auto_rows": null,
            "grid_gap": null,
            "max_width": null,
            "order": null,
            "_view_module_version": "1.2.0",
            "grid_template_areas": null,
            "object_position": null,
            "object_fit": null,
            "grid_auto_columns": null,
            "margin": null,
            "display": null,
            "left": null
          }
        },
        "6441cb493c82444ba2e569939fdf7770": {
          "model_module": "@jupyter-widgets/controls",
          "model_name": "HTMLModel",
          "model_module_version": "1.5.0",
          "state": {
            "_view_name": "HTMLView",
            "style": "IPY_MODEL_b878fe91a06b400db15a9440a19c1441",
            "_dom_classes": [],
            "description": "",
            "_model_name": "HTMLModel",
            "placeholder": "​",
            "_view_module": "@jupyter-widgets/controls",
            "_model_module_version": "1.5.0",
            "value": "",
            "_view_count": null,
            "_view_module_version": "1.5.0",
            "description_tooltip": null,
            "_model_module": "@jupyter-widgets/controls",
            "layout": "IPY_MODEL_dfb6283c00a9421ba17f9a1c15c86109"
          }
        },
        "665b6ce70d8b4fcfb6e69389ee3e56a5": {
          "model_module": "@jupyter-widgets/controls",
          "model_name": "FloatProgressModel",
          "model_module_version": "1.5.0",
          "state": {
            "_view_name": "ProgressView",
            "style": "IPY_MODEL_8257c7ffde7940738555e9bd22f3dffb",
            "_dom_classes": [],
            "description": "",
            "_model_name": "FloatProgressModel",
            "bar_style": "success",
            "max": 1,
            "_view_module": "@jupyter-widgets/controls",
            "_model_module_version": "1.5.0",
            "value": 1,
            "_view_count": null,
            "_view_module_version": "1.5.0",
            "orientation": "horizontal",
            "min": 0,
            "description_tooltip": null,
            "_model_module": "@jupyter-widgets/controls",
            "layout": "IPY_MODEL_490fe7a495bf4ec9882626d130030b3e"
          }
        },
        "182e5a1cb0c24dfbb74a393aff4295cc": {
          "model_module": "@jupyter-widgets/controls",
          "model_name": "HTMLModel",
          "model_module_version": "1.5.0",
          "state": {
            "_view_name": "HTMLView",
            "style": "IPY_MODEL_448ef9c7a14941f4aa5c62890f27b170",
            "_dom_classes": [],
            "description": "",
            "_model_name": "HTMLModel",
            "placeholder": "​",
            "_view_module": "@jupyter-widgets/controls",
            "_model_module_version": "1.5.0",
            "value": " 2000/? [00:09&lt;00:00, 162.68it/s]",
            "_view_count": null,
            "_view_module_version": "1.5.0",
            "description_tooltip": null,
            "_model_module": "@jupyter-widgets/controls",
            "layout": "IPY_MODEL_8f80ee1ff2b5441c9c968896efdf76d2"
          }
        },
        "b878fe91a06b400db15a9440a19c1441": {
          "model_module": "@jupyter-widgets/controls",
          "model_name": "DescriptionStyleModel",
          "model_module_version": "1.5.0",
          "state": {
            "_view_name": "StyleView",
            "_model_name": "DescriptionStyleModel",
            "description_width": "",
            "_view_module": "@jupyter-widgets/base",
            "_model_module_version": "1.5.0",
            "_view_count": null,
            "_view_module_version": "1.2.0",
            "_model_module": "@jupyter-widgets/controls"
          }
        },
        "dfb6283c00a9421ba17f9a1c15c86109": {
          "model_module": "@jupyter-widgets/base",
          "model_name": "LayoutModel",
          "model_module_version": "1.2.0",
          "state": {
            "_view_name": "LayoutView",
            "grid_template_rows": null,
            "right": null,
            "justify_content": null,
            "_view_module": "@jupyter-widgets/base",
            "overflow": null,
            "_model_module_version": "1.2.0",
            "_view_count": null,
            "flex_flow": null,
            "width": null,
            "min_width": null,
            "border": null,
            "align_items": null,
            "bottom": null,
            "_model_module": "@jupyter-widgets/base",
            "top": null,
            "grid_column": null,
            "overflow_y": null,
            "overflow_x": null,
            "grid_auto_flow": null,
            "grid_area": null,
            "grid_template_columns": null,
            "flex": null,
            "_model_name": "LayoutModel",
            "justify_items": null,
            "grid_row": null,
            "max_height": null,
            "align_content": null,
            "visibility": null,
            "align_self": null,
            "height": null,
            "min_height": null,
            "padding": null,
            "grid_auto_rows": null,
            "grid_gap": null,
            "max_width": null,
            "order": null,
            "_view_module_version": "1.2.0",
            "grid_template_areas": null,
            "object_position": null,
            "object_fit": null,
            "grid_auto_columns": null,
            "margin": null,
            "display": null,
            "left": null
          }
        },
        "8257c7ffde7940738555e9bd22f3dffb": {
          "model_module": "@jupyter-widgets/controls",
          "model_name": "ProgressStyleModel",
          "model_module_version": "1.5.0",
          "state": {
            "_view_name": "StyleView",
            "_model_name": "ProgressStyleModel",
            "description_width": "",
            "_view_module": "@jupyter-widgets/base",
            "_model_module_version": "1.5.0",
            "_view_count": null,
            "_view_module_version": "1.2.0",
            "bar_color": null,
            "_model_module": "@jupyter-widgets/controls"
          }
        },
        "490fe7a495bf4ec9882626d130030b3e": {
          "model_module": "@jupyter-widgets/base",
          "model_name": "LayoutModel",
          "model_module_version": "1.2.0",
          "state": {
            "_view_name": "LayoutView",
            "grid_template_rows": null,
            "right": null,
            "justify_content": null,
            "_view_module": "@jupyter-widgets/base",
            "overflow": null,
            "_model_module_version": "1.2.0",
            "_view_count": null,
            "flex_flow": null,
            "width": "20px",
            "min_width": null,
            "border": null,
            "align_items": null,
            "bottom": null,
            "_model_module": "@jupyter-widgets/base",
            "top": null,
            "grid_column": null,
            "overflow_y": null,
            "overflow_x": null,
            "grid_auto_flow": null,
            "grid_area": null,
            "grid_template_columns": null,
            "flex": null,
            "_model_name": "LayoutModel",
            "justify_items": null,
            "grid_row": null,
            "max_height": null,
            "align_content": null,
            "visibility": null,
            "align_self": null,
            "height": null,
            "min_height": null,
            "padding": null,
            "grid_auto_rows": null,
            "grid_gap": null,
            "max_width": null,
            "order": null,
            "_view_module_version": "1.2.0",
            "grid_template_areas": null,
            "object_position": null,
            "object_fit": null,
            "grid_auto_columns": null,
            "margin": null,
            "display": null,
            "left": null
          }
        },
        "448ef9c7a14941f4aa5c62890f27b170": {
          "model_module": "@jupyter-widgets/controls",
          "model_name": "DescriptionStyleModel",
          "model_module_version": "1.5.0",
          "state": {
            "_view_name": "StyleView",
            "_model_name": "DescriptionStyleModel",
            "description_width": "",
            "_view_module": "@jupyter-widgets/base",
            "_model_module_version": "1.5.0",
            "_view_count": null,
            "_view_module_version": "1.2.0",
            "_model_module": "@jupyter-widgets/controls"
          }
        },
        "8f80ee1ff2b5441c9c968896efdf76d2": {
          "model_module": "@jupyter-widgets/base",
          "model_name": "LayoutModel",
          "model_module_version": "1.2.0",
          "state": {
            "_view_name": "LayoutView",
            "grid_template_rows": null,
            "right": null,
            "justify_content": null,
            "_view_module": "@jupyter-widgets/base",
            "overflow": null,
            "_model_module_version": "1.2.0",
            "_view_count": null,
            "flex_flow": null,
            "width": null,
            "min_width": null,
            "border": null,
            "align_items": null,
            "bottom": null,
            "_model_module": "@jupyter-widgets/base",
            "top": null,
            "grid_column": null,
            "overflow_y": null,
            "overflow_x": null,
            "grid_auto_flow": null,
            "grid_area": null,
            "grid_template_columns": null,
            "flex": null,
            "_model_name": "LayoutModel",
            "justify_items": null,
            "grid_row": null,
            "max_height": null,
            "align_content": null,
            "visibility": null,
            "align_self": null,
            "height": null,
            "min_height": null,
            "padding": null,
            "grid_auto_rows": null,
            "grid_gap": null,
            "max_width": null,
            "order": null,
            "_view_module_version": "1.2.0",
            "grid_template_areas": null,
            "object_position": null,
            "object_fit": null,
            "grid_auto_columns": null,
            "margin": null,
            "display": null,
            "left": null
          }
        },
        "fb635645bba9481d8441fafab129d344": {
          "model_module": "@jupyter-widgets/controls",
          "model_name": "HBoxModel",
          "model_module_version": "1.5.0",
          "state": {
            "_view_name": "HBoxView",
            "_dom_classes": [],
            "_model_name": "HBoxModel",
            "_view_module": "@jupyter-widgets/controls",
            "_model_module_version": "1.5.0",
            "_view_count": null,
            "_view_module_version": "1.5.0",
            "box_style": "",
            "layout": "IPY_MODEL_e0fa26c92a94490fb3854b4a01268c49",
            "_model_module": "@jupyter-widgets/controls",
            "children": [
              "IPY_MODEL_14d38336b953425993a99cb03e1cc3aa",
              "IPY_MODEL_83a36b5b30aa4962a6edaee1a932cc0c",
              "IPY_MODEL_4ed8c12badb949c181b48aa5b35c1a35"
            ]
          }
        },
        "e0fa26c92a94490fb3854b4a01268c49": {
          "model_module": "@jupyter-widgets/base",
          "model_name": "LayoutModel",
          "model_module_version": "1.2.0",
          "state": {
            "_view_name": "LayoutView",
            "grid_template_rows": null,
            "right": null,
            "justify_content": null,
            "_view_module": "@jupyter-widgets/base",
            "overflow": null,
            "_model_module_version": "1.2.0",
            "_view_count": null,
            "flex_flow": null,
            "width": null,
            "min_width": null,
            "border": null,
            "align_items": null,
            "bottom": null,
            "_model_module": "@jupyter-widgets/base",
            "top": null,
            "grid_column": null,
            "overflow_y": null,
            "overflow_x": null,
            "grid_auto_flow": null,
            "grid_area": null,
            "grid_template_columns": null,
            "flex": null,
            "_model_name": "LayoutModel",
            "justify_items": null,
            "grid_row": null,
            "max_height": null,
            "align_content": null,
            "visibility": null,
            "align_self": null,
            "height": null,
            "min_height": null,
            "padding": null,
            "grid_auto_rows": null,
            "grid_gap": null,
            "max_width": null,
            "order": null,
            "_view_module_version": "1.2.0",
            "grid_template_areas": null,
            "object_position": null,
            "object_fit": null,
            "grid_auto_columns": null,
            "margin": null,
            "display": null,
            "left": null
          }
        },
        "14d38336b953425993a99cb03e1cc3aa": {
          "model_module": "@jupyter-widgets/controls",
          "model_name": "HTMLModel",
          "model_module_version": "1.5.0",
          "state": {
            "_view_name": "HTMLView",
            "style": "IPY_MODEL_bb241e58faed4663bfa386e7fbd8d88b",
            "_dom_classes": [],
            "description": "",
            "_model_name": "HTMLModel",
            "placeholder": "​",
            "_view_module": "@jupyter-widgets/controls",
            "_model_module_version": "1.5.0",
            "value": "",
            "_view_count": null,
            "_view_module_version": "1.5.0",
            "description_tooltip": null,
            "_model_module": "@jupyter-widgets/controls",
            "layout": "IPY_MODEL_ccd89378e3a149d98cdcf59b4cfee785"
          }
        },
        "83a36b5b30aa4962a6edaee1a932cc0c": {
          "model_module": "@jupyter-widgets/controls",
          "model_name": "FloatProgressModel",
          "model_module_version": "1.5.0",
          "state": {
            "_view_name": "ProgressView",
            "style": "IPY_MODEL_9637bcf8b8eb401997f35481c6edd8a5",
            "_dom_classes": [],
            "description": "",
            "_model_name": "FloatProgressModel",
            "bar_style": "success",
            "max": 1,
            "_view_module": "@jupyter-widgets/controls",
            "_model_module_version": "1.5.0",
            "value": 1,
            "_view_count": null,
            "_view_module_version": "1.5.0",
            "orientation": "horizontal",
            "min": 0,
            "description_tooltip": null,
            "_model_module": "@jupyter-widgets/controls",
            "layout": "IPY_MODEL_6ef0fdbdb0d54aec8242bb034c70feed"
          }
        },
        "4ed8c12badb949c181b48aa5b35c1a35": {
          "model_module": "@jupyter-widgets/controls",
          "model_name": "HTMLModel",
          "model_module_version": "1.5.0",
          "state": {
            "_view_name": "HTMLView",
            "style": "IPY_MODEL_04bf33957f364a46892ccfb5a3f71a4a",
            "_dom_classes": [],
            "description": "",
            "_model_name": "HTMLModel",
            "placeholder": "​",
            "_view_module": "@jupyter-widgets/controls",
            "_model_module_version": "1.5.0",
            "value": " 454/? [00:02&lt;00:00, 181.17it/s]",
            "_view_count": null,
            "_view_module_version": "1.5.0",
            "description_tooltip": null,
            "_model_module": "@jupyter-widgets/controls",
            "layout": "IPY_MODEL_081184456e484cfdb56bba749743740b"
          }
        },
        "bb241e58faed4663bfa386e7fbd8d88b": {
          "model_module": "@jupyter-widgets/controls",
          "model_name": "DescriptionStyleModel",
          "model_module_version": "1.5.0",
          "state": {
            "_view_name": "StyleView",
            "_model_name": "DescriptionStyleModel",
            "description_width": "",
            "_view_module": "@jupyter-widgets/base",
            "_model_module_version": "1.5.0",
            "_view_count": null,
            "_view_module_version": "1.2.0",
            "_model_module": "@jupyter-widgets/controls"
          }
        },
        "ccd89378e3a149d98cdcf59b4cfee785": {
          "model_module": "@jupyter-widgets/base",
          "model_name": "LayoutModel",
          "model_module_version": "1.2.0",
          "state": {
            "_view_name": "LayoutView",
            "grid_template_rows": null,
            "right": null,
            "justify_content": null,
            "_view_module": "@jupyter-widgets/base",
            "overflow": null,
            "_model_module_version": "1.2.0",
            "_view_count": null,
            "flex_flow": null,
            "width": null,
            "min_width": null,
            "border": null,
            "align_items": null,
            "bottom": null,
            "_model_module": "@jupyter-widgets/base",
            "top": null,
            "grid_column": null,
            "overflow_y": null,
            "overflow_x": null,
            "grid_auto_flow": null,
            "grid_area": null,
            "grid_template_columns": null,
            "flex": null,
            "_model_name": "LayoutModel",
            "justify_items": null,
            "grid_row": null,
            "max_height": null,
            "align_content": null,
            "visibility": null,
            "align_self": null,
            "height": null,
            "min_height": null,
            "padding": null,
            "grid_auto_rows": null,
            "grid_gap": null,
            "max_width": null,
            "order": null,
            "_view_module_version": "1.2.0",
            "grid_template_areas": null,
            "object_position": null,
            "object_fit": null,
            "grid_auto_columns": null,
            "margin": null,
            "display": null,
            "left": null
          }
        },
        "9637bcf8b8eb401997f35481c6edd8a5": {
          "model_module": "@jupyter-widgets/controls",
          "model_name": "ProgressStyleModel",
          "model_module_version": "1.5.0",
          "state": {
            "_view_name": "StyleView",
            "_model_name": "ProgressStyleModel",
            "description_width": "",
            "_view_module": "@jupyter-widgets/base",
            "_model_module_version": "1.5.0",
            "_view_count": null,
            "_view_module_version": "1.2.0",
            "bar_color": null,
            "_model_module": "@jupyter-widgets/controls"
          }
        },
        "6ef0fdbdb0d54aec8242bb034c70feed": {
          "model_module": "@jupyter-widgets/base",
          "model_name": "LayoutModel",
          "model_module_version": "1.2.0",
          "state": {
            "_view_name": "LayoutView",
            "grid_template_rows": null,
            "right": null,
            "justify_content": null,
            "_view_module": "@jupyter-widgets/base",
            "overflow": null,
            "_model_module_version": "1.2.0",
            "_view_count": null,
            "flex_flow": null,
            "width": "20px",
            "min_width": null,
            "border": null,
            "align_items": null,
            "bottom": null,
            "_model_module": "@jupyter-widgets/base",
            "top": null,
            "grid_column": null,
            "overflow_y": null,
            "overflow_x": null,
            "grid_auto_flow": null,
            "grid_area": null,
            "grid_template_columns": null,
            "flex": null,
            "_model_name": "LayoutModel",
            "justify_items": null,
            "grid_row": null,
            "max_height": null,
            "align_content": null,
            "visibility": null,
            "align_self": null,
            "height": null,
            "min_height": null,
            "padding": null,
            "grid_auto_rows": null,
            "grid_gap": null,
            "max_width": null,
            "order": null,
            "_view_module_version": "1.2.0",
            "grid_template_areas": null,
            "object_position": null,
            "object_fit": null,
            "grid_auto_columns": null,
            "margin": null,
            "display": null,
            "left": null
          }
        },
        "04bf33957f364a46892ccfb5a3f71a4a": {
          "model_module": "@jupyter-widgets/controls",
          "model_name": "DescriptionStyleModel",
          "model_module_version": "1.5.0",
          "state": {
            "_view_name": "StyleView",
            "_model_name": "DescriptionStyleModel",
            "description_width": "",
            "_view_module": "@jupyter-widgets/base",
            "_model_module_version": "1.5.0",
            "_view_count": null,
            "_view_module_version": "1.2.0",
            "_model_module": "@jupyter-widgets/controls"
          }
        },
        "081184456e484cfdb56bba749743740b": {
          "model_module": "@jupyter-widgets/base",
          "model_name": "LayoutModel",
          "model_module_version": "1.2.0",
          "state": {
            "_view_name": "LayoutView",
            "grid_template_rows": null,
            "right": null,
            "justify_content": null,
            "_view_module": "@jupyter-widgets/base",
            "overflow": null,
            "_model_module_version": "1.2.0",
            "_view_count": null,
            "flex_flow": null,
            "width": null,
            "min_width": null,
            "border": null,
            "align_items": null,
            "bottom": null,
            "_model_module": "@jupyter-widgets/base",
            "top": null,
            "grid_column": null,
            "overflow_y": null,
            "overflow_x": null,
            "grid_auto_flow": null,
            "grid_area": null,
            "grid_template_columns": null,
            "flex": null,
            "_model_name": "LayoutModel",
            "justify_items": null,
            "grid_row": null,
            "max_height": null,
            "align_content": null,
            "visibility": null,
            "align_self": null,
            "height": null,
            "min_height": null,
            "padding": null,
            "grid_auto_rows": null,
            "grid_gap": null,
            "max_width": null,
            "order": null,
            "_view_module_version": "1.2.0",
            "grid_template_areas": null,
            "object_position": null,
            "object_fit": null,
            "grid_auto_columns": null,
            "margin": null,
            "display": null,
            "left": null
          }
        },
        "c5fef88e4ae34f84a6c2806a893892dc": {
          "model_module": "@jupyter-widgets/controls",
          "model_name": "HBoxModel",
          "model_module_version": "1.5.0",
          "state": {
            "_view_name": "HBoxView",
            "_dom_classes": [],
            "_model_name": "HBoxModel",
            "_view_module": "@jupyter-widgets/controls",
            "_model_module_version": "1.5.0",
            "_view_count": null,
            "_view_module_version": "1.5.0",
            "box_style": "",
            "layout": "IPY_MODEL_06c8e951c81d42a0995af0ebecd468ae",
            "_model_module": "@jupyter-widgets/controls",
            "children": [
              "IPY_MODEL_88474bb5b6e443ae8d9549eaaa8902cc",
              "IPY_MODEL_ac555358e35b44e2ad2d590bfb5491ad",
              "IPY_MODEL_b5ac29af74664def9cfacea87b433398"
            ]
          }
        },
        "06c8e951c81d42a0995af0ebecd468ae": {
          "model_module": "@jupyter-widgets/base",
          "model_name": "LayoutModel",
          "model_module_version": "1.2.0",
          "state": {
            "_view_name": "LayoutView",
            "grid_template_rows": null,
            "right": null,
            "justify_content": null,
            "_view_module": "@jupyter-widgets/base",
            "overflow": null,
            "_model_module_version": "1.2.0",
            "_view_count": null,
            "flex_flow": null,
            "width": null,
            "min_width": null,
            "border": null,
            "align_items": null,
            "bottom": null,
            "_model_module": "@jupyter-widgets/base",
            "top": null,
            "grid_column": null,
            "overflow_y": null,
            "overflow_x": null,
            "grid_auto_flow": null,
            "grid_area": null,
            "grid_template_columns": null,
            "flex": null,
            "_model_name": "LayoutModel",
            "justify_items": null,
            "grid_row": null,
            "max_height": null,
            "align_content": null,
            "visibility": null,
            "align_self": null,
            "height": null,
            "min_height": null,
            "padding": null,
            "grid_auto_rows": null,
            "grid_gap": null,
            "max_width": null,
            "order": null,
            "_view_module_version": "1.2.0",
            "grid_template_areas": null,
            "object_position": null,
            "object_fit": null,
            "grid_auto_columns": null,
            "margin": null,
            "display": null,
            "left": null
          }
        },
        "88474bb5b6e443ae8d9549eaaa8902cc": {
          "model_module": "@jupyter-widgets/controls",
          "model_name": "HTMLModel",
          "model_module_version": "1.5.0",
          "state": {
            "_view_name": "HTMLView",
            "style": "IPY_MODEL_e12da917a1b547c0aff40c4b532655c8",
            "_dom_classes": [],
            "description": "",
            "_model_name": "HTMLModel",
            "placeholder": "​",
            "_view_module": "@jupyter-widgets/controls",
            "_model_module_version": "1.5.0",
            "value": "",
            "_view_count": null,
            "_view_module_version": "1.5.0",
            "description_tooltip": null,
            "_model_module": "@jupyter-widgets/controls",
            "layout": "IPY_MODEL_4174d4bd839e438c80417fdecaf384a0"
          }
        },
        "ac555358e35b44e2ad2d590bfb5491ad": {
          "model_module": "@jupyter-widgets/controls",
          "model_name": "FloatProgressModel",
          "model_module_version": "1.5.0",
          "state": {
            "_view_name": "ProgressView",
            "style": "IPY_MODEL_e02624098137482e9777162b84233217",
            "_dom_classes": [],
            "description": "",
            "_model_name": "FloatProgressModel",
            "bar_style": "success",
            "max": 1,
            "_view_module": "@jupyter-widgets/controls",
            "_model_module_version": "1.5.0",
            "value": 1,
            "_view_count": null,
            "_view_module_version": "1.5.0",
            "orientation": "horizontal",
            "min": 0,
            "description_tooltip": null,
            "_model_module": "@jupyter-widgets/controls",
            "layout": "IPY_MODEL_cbc0dacc20c4451f9fef6989f89466a3"
          }
        },
        "b5ac29af74664def9cfacea87b433398": {
          "model_module": "@jupyter-widgets/controls",
          "model_name": "HTMLModel",
          "model_module_version": "1.5.0",
          "state": {
            "_view_name": "HTMLView",
            "style": "IPY_MODEL_88fc7fad0a1d4cb6ba79839a446268f3",
            "_dom_classes": [],
            "description": "",
            "_model_name": "HTMLModel",
            "placeholder": "​",
            "_view_module": "@jupyter-widgets/controls",
            "_model_module_version": "1.5.0",
            "value": " 2000/? [00:09&lt;00:00, 227.92it/s]",
            "_view_count": null,
            "_view_module_version": "1.5.0",
            "description_tooltip": null,
            "_model_module": "@jupyter-widgets/controls",
            "layout": "IPY_MODEL_ccd2bd9220904e2d91bcd9c97e0d094f"
          }
        },
        "e12da917a1b547c0aff40c4b532655c8": {
          "model_module": "@jupyter-widgets/controls",
          "model_name": "DescriptionStyleModel",
          "model_module_version": "1.5.0",
          "state": {
            "_view_name": "StyleView",
            "_model_name": "DescriptionStyleModel",
            "description_width": "",
            "_view_module": "@jupyter-widgets/base",
            "_model_module_version": "1.5.0",
            "_view_count": null,
            "_view_module_version": "1.2.0",
            "_model_module": "@jupyter-widgets/controls"
          }
        },
        "4174d4bd839e438c80417fdecaf384a0": {
          "model_module": "@jupyter-widgets/base",
          "model_name": "LayoutModel",
          "model_module_version": "1.2.0",
          "state": {
            "_view_name": "LayoutView",
            "grid_template_rows": null,
            "right": null,
            "justify_content": null,
            "_view_module": "@jupyter-widgets/base",
            "overflow": null,
            "_model_module_version": "1.2.0",
            "_view_count": null,
            "flex_flow": null,
            "width": null,
            "min_width": null,
            "border": null,
            "align_items": null,
            "bottom": null,
            "_model_module": "@jupyter-widgets/base",
            "top": null,
            "grid_column": null,
            "overflow_y": null,
            "overflow_x": null,
            "grid_auto_flow": null,
            "grid_area": null,
            "grid_template_columns": null,
            "flex": null,
            "_model_name": "LayoutModel",
            "justify_items": null,
            "grid_row": null,
            "max_height": null,
            "align_content": null,
            "visibility": null,
            "align_self": null,
            "height": null,
            "min_height": null,
            "padding": null,
            "grid_auto_rows": null,
            "grid_gap": null,
            "max_width": null,
            "order": null,
            "_view_module_version": "1.2.0",
            "grid_template_areas": null,
            "object_position": null,
            "object_fit": null,
            "grid_auto_columns": null,
            "margin": null,
            "display": null,
            "left": null
          }
        },
        "e02624098137482e9777162b84233217": {
          "model_module": "@jupyter-widgets/controls",
          "model_name": "ProgressStyleModel",
          "model_module_version": "1.5.0",
          "state": {
            "_view_name": "StyleView",
            "_model_name": "ProgressStyleModel",
            "description_width": "",
            "_view_module": "@jupyter-widgets/base",
            "_model_module_version": "1.5.0",
            "_view_count": null,
            "_view_module_version": "1.2.0",
            "bar_color": null,
            "_model_module": "@jupyter-widgets/controls"
          }
        },
        "cbc0dacc20c4451f9fef6989f89466a3": {
          "model_module": "@jupyter-widgets/base",
          "model_name": "LayoutModel",
          "model_module_version": "1.2.0",
          "state": {
            "_view_name": "LayoutView",
            "grid_template_rows": null,
            "right": null,
            "justify_content": null,
            "_view_module": "@jupyter-widgets/base",
            "overflow": null,
            "_model_module_version": "1.2.0",
            "_view_count": null,
            "flex_flow": null,
            "width": "20px",
            "min_width": null,
            "border": null,
            "align_items": null,
            "bottom": null,
            "_model_module": "@jupyter-widgets/base",
            "top": null,
            "grid_column": null,
            "overflow_y": null,
            "overflow_x": null,
            "grid_auto_flow": null,
            "grid_area": null,
            "grid_template_columns": null,
            "flex": null,
            "_model_name": "LayoutModel",
            "justify_items": null,
            "grid_row": null,
            "max_height": null,
            "align_content": null,
            "visibility": null,
            "align_self": null,
            "height": null,
            "min_height": null,
            "padding": null,
            "grid_auto_rows": null,
            "grid_gap": null,
            "max_width": null,
            "order": null,
            "_view_module_version": "1.2.0",
            "grid_template_areas": null,
            "object_position": null,
            "object_fit": null,
            "grid_auto_columns": null,
            "margin": null,
            "display": null,
            "left": null
          }
        },
        "88fc7fad0a1d4cb6ba79839a446268f3": {
          "model_module": "@jupyter-widgets/controls",
          "model_name": "DescriptionStyleModel",
          "model_module_version": "1.5.0",
          "state": {
            "_view_name": "StyleView",
            "_model_name": "DescriptionStyleModel",
            "description_width": "",
            "_view_module": "@jupyter-widgets/base",
            "_model_module_version": "1.5.0",
            "_view_count": null,
            "_view_module_version": "1.2.0",
            "_model_module": "@jupyter-widgets/controls"
          }
        },
        "ccd2bd9220904e2d91bcd9c97e0d094f": {
          "model_module": "@jupyter-widgets/base",
          "model_name": "LayoutModel",
          "model_module_version": "1.2.0",
          "state": {
            "_view_name": "LayoutView",
            "grid_template_rows": null,
            "right": null,
            "justify_content": null,
            "_view_module": "@jupyter-widgets/base",
            "overflow": null,
            "_model_module_version": "1.2.0",
            "_view_count": null,
            "flex_flow": null,
            "width": null,
            "min_width": null,
            "border": null,
            "align_items": null,
            "bottom": null,
            "_model_module": "@jupyter-widgets/base",
            "top": null,
            "grid_column": null,
            "overflow_y": null,
            "overflow_x": null,
            "grid_auto_flow": null,
            "grid_area": null,
            "grid_template_columns": null,
            "flex": null,
            "_model_name": "LayoutModel",
            "justify_items": null,
            "grid_row": null,
            "max_height": null,
            "align_content": null,
            "visibility": null,
            "align_self": null,
            "height": null,
            "min_height": null,
            "padding": null,
            "grid_auto_rows": null,
            "grid_gap": null,
            "max_width": null,
            "order": null,
            "_view_module_version": "1.2.0",
            "grid_template_areas": null,
            "object_position": null,
            "object_fit": null,
            "grid_auto_columns": null,
            "margin": null,
            "display": null,
            "left": null
          }
        }
      }
    }
  },
  "cells": [
    {
      "cell_type": "markdown",
      "metadata": {
        "id": "view-in-github",
        "colab_type": "text"
      },
      "source": [
        "<a href=\"https://colab.research.google.com/github/sayanbanerjee32/coreference-resolution/blob/main/ULMFit_Attention_multiword.ipynb\" target=\"_parent\"><img src=\"https://colab.research.google.com/assets/colab-badge.svg\" alt=\"Open In Colab\"/></a>"
      ]
    },
    {
      "cell_type": "markdown",
      "source": [
        "# Papers and blogs"
      ],
      "metadata": {
        "id": "Ns9R4rP3DlrA"
      }
    },
    {
      "cell_type": "markdown",
      "source": [
        "End2End Coref Resolution By Attention RNN - https://www.kaggle.com/keyit92/end2end-coref-resolution-by-attention-rnn  \n",
        "coreference-resolution - https://www.kaggle.com/abhishekbhole/coreference-resolution  \n",
        "SpanBERT - https://arxiv.org/pdf/1907.10529.pdf   \n",
        "BERT for Coreference Resolution - https://arxiv.org/pdf/1908.09091.pdf  \n",
        "GITHub for BERT and SpanBERT - https://github.com/mandarjoshi90/coref  \n",
        "Fast AI solution - https://www.kaggle.com/mamamot/fastai-awd-lstm-solution-0-71-lb/notebook  \n",
        "https://www.kaggle.com/keyit92/end2end-coref-resolution-by-attention-rnn"
      ],
      "metadata": {
        "id": "21Wppr0W58LH"
      }
    },
    {
      "cell_type": "code",
      "source": [
        "%%capture\n",
        "!pip install fastai -Uq"
      ],
      "metadata": {
        "id": "OFLs_sezDqaP"
      },
      "execution_count": 1,
      "outputs": []
    },
    {
      "cell_type": "code",
      "execution_count": 2,
      "metadata": {
        "colab": {
          "base_uri": "https://localhost:8080/"
        },
        "id": "Fy9GY84xBFlH",
        "outputId": "4a3b8a9b-05bd-4c26-afba-454c4629cf92"
      },
      "outputs": [
        {
          "output_type": "stream",
          "name": "stdout",
          "text": [
            "Drive already mounted at /content/drive; to attempt to forcibly remount, call drive.mount(\"/content/drive\", force_remount=True).\n"
          ]
        }
      ],
      "source": [
        "# mount gdrive for data\n",
        "from google.colab import drive\n",
        "drive.mount('/content/drive')"
      ]
    },
    {
      "cell_type": "code",
      "source": [
        "# file locations\n",
        "train_file_path = '/content/drive/MyDrive/coref_resolution/data/gap-development.tsv'\n",
        "val_file_path = '/content/drive/MyDrive/coref_resolution/data/gap-validate.tsv'\n",
        "test_file_path = '/content/drive/MyDrive/coref_resolution/data/gap-test.tsv'\n",
        "model_save_path = '/content/drive/MyDrive/coref_resolution/models/'"
      ],
      "metadata": {
        "id": "VkMY4CW9c6PH"
      },
      "execution_count": 3,
      "outputs": []
    },
    {
      "cell_type": "code",
      "source": [
        "import pandas as pd\n",
        "from fastai.text.all import *\n",
        "from pathlib import Path\n",
        "from tqdm.notebook import tqdm"
      ],
      "metadata": {
        "id": "vKOmey0Id33k"
      },
      "execution_count": 4,
      "outputs": []
    },
    {
      "cell_type": "code",
      "source": [
        "train_df = pd.read_csv(train_file_path,sep=\"\\t\")\n",
        "test_df = pd.read_csv(test_file_path,sep=\"\\t\")\n",
        "val_df = pd.read_csv(val_file_path,sep=\"\\t\")"
      ],
      "metadata": {
        "id": "pQcOrti9d5r-"
      },
      "execution_count": 5,
      "outputs": []
    },
    {
      "cell_type": "code",
      "source": [
        "train_df[\"Text\"][0], train_df[\"Text\"][1]"
      ],
      "metadata": {
        "id": "XGlVRck-eC8N",
        "colab": {
          "base_uri": "https://localhost:8080/"
        },
        "outputId": "54c36f09-a489-4f58-b897-547dd7cd786e"
      },
      "execution_count": 6,
      "outputs": [
        {
          "output_type": "execute_result",
          "data": {
            "text/plain": [
              "(\"Zoe Telford -- played the police officer girlfriend of Simon, Maggie. Dumped by Simon in the final episode of series 1, after he slept with Jenny, and is not seen again. Phoebe Thomas played Cheryl Cassidy, Pauline's friend and also a year 11 pupil in Simon's class. Dumped her boyfriend following Simon's advice after he wouldn't have sex with her but later realised this was due to him catching crabs off her friend Pauline.\",\n",
              " 'He grew up in Evanston, Illinois the second oldest of five children including his brothers, Fred and Gordon and sisters, Marge (Peppy) and Marilyn. His high school days were spent at New Trier High School in Winnetka, Illinois. MacKenzie studied with Bernard Leach from 1949 to 1952. His simple, wheel-thrown functional pottery is heavily influenced by the oriental aesthetic of Shoji Hamada and Kanjiro Kawai.')"
            ]
          },
          "metadata": {},
          "execution_count": 6
        }
      ]
    },
    {
      "cell_type": "code",
      "source": [
        "print(len(train_df), len(val_df), len(test_df))"
      ],
      "metadata": {
        "colab": {
          "base_uri": "https://localhost:8080/"
        },
        "id": "mMhw6SgQQAi6",
        "outputId": "57a575fe-10aa-48d0-8837-9ff6aa325dc9"
      },
      "execution_count": 7,
      "outputs": [
        {
          "output_type": "stream",
          "name": "stdout",
          "text": [
            "2000 454 2000\n"
          ]
        }
      ]
    },
    {
      "cell_type": "markdown",
      "source": [
        "## Fine tune language model"
      ],
      "metadata": {
        "id": "VK2fRdRSHV2R"
      }
    },
    {
      "cell_type": "code",
      "source": [
        "# lets keep val for final testing\n",
        "df_pretrain = pd.concat([train_df, test_df])\n",
        "df_pretrain.info()"
      ],
      "metadata": {
        "colab": {
          "base_uri": "https://localhost:8080/"
        },
        "id": "QnXzYo6MExee",
        "outputId": "44e70bf7-08f3-46e0-f0c4-531c7cfe5576"
      },
      "execution_count": 8,
      "outputs": [
        {
          "output_type": "stream",
          "name": "stdout",
          "text": [
            "<class 'pandas.core.frame.DataFrame'>\n",
            "Int64Index: 4000 entries, 0 to 1999\n",
            "Data columns (total 11 columns):\n",
            " #   Column          Non-Null Count  Dtype \n",
            "---  ------          --------------  ----- \n",
            " 0   ID              4000 non-null   object\n",
            " 1   Text            4000 non-null   object\n",
            " 2   Pronoun         4000 non-null   object\n",
            " 3   Pronoun-offset  4000 non-null   int64 \n",
            " 4   A               4000 non-null   object\n",
            " 5   A-offset        4000 non-null   int64 \n",
            " 6   A-coref         4000 non-null   bool  \n",
            " 7   B               4000 non-null   object\n",
            " 8   B-offset        4000 non-null   int64 \n",
            " 9   B-coref         4000 non-null   bool  \n",
            " 10  URL             4000 non-null   object\n",
            "dtypes: bool(2), int64(3), object(6)\n",
            "memory usage: 320.3+ KB\n"
          ]
        }
      ]
    },
    {
      "cell_type": "code",
      "source": [
        "# fine tune language model\n",
        "data_lm = DataBlock(\n",
        "            blocks=TextBlock.from_df('Text', is_lm=True),\n",
        "            get_x=ColReader('text'),\n",
        "            splitter=RandomSplitter(0.1))\n",
        "\n",
        "dls_lm = data_lm.dataloaders(df_pretrain) \n",
        "dls_lm.show_batch(max_n=2)"
      ],
      "metadata": {
        "colab": {
          "base_uri": "https://localhost:8080/",
          "height": 216
        },
        "id": "Sl3NgIRKFMDm",
        "outputId": "cd1a0d9d-7d37-489b-81c5-776006be937d"
      },
      "execution_count": 9,
      "outputs": [
        {
          "output_type": "display_data",
          "data": {
            "text/html": [
              "\n",
              "<style>\n",
              "    /* Turns off some styling */\n",
              "    progress {\n",
              "        /* gets rid of default border in Firefox and Opera. */\n",
              "        border: none;\n",
              "        /* Needs to be in here for Safari polyfill so background images work as expected. */\n",
              "        background-size: auto;\n",
              "    }\n",
              "    .progress-bar-interrupted, .progress-bar-interrupted::-webkit-progress-bar {\n",
              "        background: #F44336;\n",
              "    }\n",
              "</style>\n"
            ],
            "text/plain": [
              "<IPython.core.display.HTML object>"
            ]
          },
          "metadata": {}
        },
        {
          "output_type": "display_data",
          "data": {
            "text/html": [
              ""
            ],
            "text/plain": [
              "<IPython.core.display.HTML object>"
            ]
          },
          "metadata": {}
        },
        {
          "output_type": "display_data",
          "data": {
            "text/html": [
              "<table border=\"1\" class=\"dataframe\">\n",
              "  <thead>\n",
              "    <tr style=\"text-align: right;\">\n",
              "      <th></th>\n",
              "      <th>text</th>\n",
              "      <th>text_</th>\n",
              "    </tr>\n",
              "  </thead>\n",
              "  <tbody>\n",
              "    <tr>\n",
              "      <th>0</th>\n",
              "      <td>xxbos xxmaj jemmott began playing the acoustic bass when he discovered xxmaj paul xxmaj chambers at age 10 . xxmaj jemmott began his career by age 12 , and after switching to the electric bass , was discovered by saxophonist xxmaj king xxmaj curtis in 1966 . xxmaj with his connection through xxmaj curtis to xxmaj atlantic xxmaj records , xxmaj jemmott was soon recording with other xxmaj atlantic recording artists ,</td>\n",
              "      <td>xxmaj jemmott began playing the acoustic bass when he discovered xxmaj paul xxmaj chambers at age 10 . xxmaj jemmott began his career by age 12 , and after switching to the electric bass , was discovered by saxophonist xxmaj king xxmaj curtis in 1966 . xxmaj with his connection through xxmaj curtis to xxmaj atlantic xxmaj records , xxmaj jemmott was soon recording with other xxmaj atlantic recording artists , including</td>\n",
              "    </tr>\n",
              "    <tr>\n",
              "      <th>1</th>\n",
              "      <td>south xxmaj australia and xxmaj victoria . xxmaj works produced by xxmaj cate xxmaj fowler include xxmaj xxunk xxmaj gordon xxmaj macdonald xxmaj xxunk , xxmaj xxunk , xxmaj the xxmaj snow xxmaj queen , xxmaj xxunk , xxmaj afternoon of the xxmaj xxunk , xxmaj xxunk , xxmaj xxunk , xxmaj the xxmaj sad xxmaj ballad of xxmaj penny xxmaj dreadful , xxmaj two xxmaj weeks with the xxmaj queen ,</td>\n",
              "      <td>xxmaj australia and xxmaj victoria . xxmaj works produced by xxmaj cate xxmaj fowler include xxmaj xxunk xxmaj gordon xxmaj macdonald xxmaj xxunk , xxmaj xxunk , xxmaj the xxmaj snow xxmaj queen , xxmaj xxunk , xxmaj afternoon of the xxmaj xxunk , xxmaj xxunk , xxmaj xxunk , xxmaj the xxmaj sad xxmaj ballad of xxmaj penny xxmaj dreadful , xxmaj two xxmaj weeks with the xxmaj queen , xxmaj</td>\n",
              "    </tr>\n",
              "  </tbody>\n",
              "</table>"
            ],
            "text/plain": [
              "<IPython.core.display.HTML object>"
            ]
          },
          "metadata": {}
        }
      ]
    },
    {
      "cell_type": "code",
      "source": [
        "# create language model learner\n",
        "learn_lm = language_model_learner(\n",
        "    dls_lm, AWD_LSTM, drop_mult=0.5, pretrained=True, \n",
        "    metrics=[accuracy, Perplexity()])#.to_fp16()"
      ],
      "metadata": {
        "id": "NAnJ4DhgFvEZ"
      },
      "execution_count": 10,
      "outputs": []
    },
    {
      "cell_type": "code",
      "source": [
        "# find optimum learning rate for language model\n",
        "learn_lm.lr_find()"
      ],
      "metadata": {
        "colab": {
          "base_uri": "https://localhost:8080/",
          "height": 300
        },
        "id": "9i3qcVBpHnU7",
        "outputId": "40242c91-8457-4e5e-aff2-82b66467e5a1"
      },
      "execution_count": 11,
      "outputs": [
        {
          "output_type": "display_data",
          "data": {
            "text/html": [
              "\n",
              "<style>\n",
              "    /* Turns off some styling */\n",
              "    progress {\n",
              "        /* gets rid of default border in Firefox and Opera. */\n",
              "        border: none;\n",
              "        /* Needs to be in here for Safari polyfill so background images work as expected. */\n",
              "        background-size: auto;\n",
              "    }\n",
              "    .progress-bar-interrupted, .progress-bar-interrupted::-webkit-progress-bar {\n",
              "        background: #F44336;\n",
              "    }\n",
              "</style>\n"
            ],
            "text/plain": [
              "<IPython.core.display.HTML object>"
            ]
          },
          "metadata": {}
        },
        {
          "output_type": "display_data",
          "data": {
            "text/html": [
              ""
            ],
            "text/plain": [
              "<IPython.core.display.HTML object>"
            ]
          },
          "metadata": {}
        },
        {
          "output_type": "execute_result",
          "data": {
            "text/plain": [
              "SuggestedLRs(valley=0.0030199517495930195)"
            ]
          },
          "metadata": {},
          "execution_count": 11
        },
        {
          "output_type": "display_data",
          "data": {
            "image/png": "[encoded data removed]",
            "text/plain": [
              "<Figure size 432x288 with 1 Axes>"
            ]
          },
          "metadata": {
            "needs_background": "light"
          }
        }
      ]
    },
    {
      "cell_type": "code",
      "source": [
        "# one cycle training\n",
        "learn_lm.fit_one_cycle(1, 0.003)"
      ],
      "metadata": {
        "colab": {
          "base_uri": "https://localhost:8080/",
          "height": 81
        },
        "id": "sUnSiaHuHtp8",
        "outputId": "60a63e8c-a0f5-44ac-e53a-8afa1931426d"
      },
      "execution_count": 12,
      "outputs": [
        {
          "output_type": "display_data",
          "data": {
            "text/html": [
              "\n",
              "<style>\n",
              "    /* Turns off some styling */\n",
              "    progress {\n",
              "        /* gets rid of default border in Firefox and Opera. */\n",
              "        border: none;\n",
              "        /* Needs to be in here for Safari polyfill so background images work as expected. */\n",
              "        background-size: auto;\n",
              "    }\n",
              "    .progress-bar-interrupted, .progress-bar-interrupted::-webkit-progress-bar {\n",
              "        background: #F44336;\n",
              "    }\n",
              "</style>\n"
            ],
            "text/plain": [
              "<IPython.core.display.HTML object>"
            ]
          },
          "metadata": {}
        },
        {
          "output_type": "display_data",
          "data": {
            "text/html": [
              "<table border=\"1\" class=\"dataframe\">\n",
              "  <thead>\n",
              "    <tr style=\"text-align: left;\">\n",
              "      <th>epoch</th>\n",
              "      <th>train_loss</th>\n",
              "      <th>valid_loss</th>\n",
              "      <th>accuracy</th>\n",
              "      <th>perplexity</th>\n",
              "      <th>time</th>\n",
              "    </tr>\n",
              "  </thead>\n",
              "  <tbody>\n",
              "    <tr>\n",
              "      <td>0</td>\n",
              "      <td>3.724461</td>\n",
              "      <td>3.459295</td>\n",
              "      <td>0.370595</td>\n",
              "      <td>31.794546</td>\n",
              "      <td>00:22</td>\n",
              "    </tr>\n",
              "  </tbody>\n",
              "</table>"
            ],
            "text/plain": [
              "<IPython.core.display.HTML object>"
            ]
          },
          "metadata": {}
        }
      ]
    },
    {
      "cell_type": "code",
      "source": [
        "# unfreeze all the layers and one cycle training\n",
        "learn_lm.unfreeze()\n",
        "learn_lm.fit_one_cycle(5, 0.003)"
      ],
      "metadata": {
        "colab": {
          "base_uri": "https://localhost:8080/",
          "height": 206
        },
        "id": "QeLjJUlkH9ZM",
        "outputId": "83ddcbff-8e9f-4e27-d474-3a8cf2093e21"
      },
      "execution_count": 13,
      "outputs": [
        {
          "output_type": "display_data",
          "data": {
            "text/html": [
              "\n",
              "<style>\n",
              "    /* Turns off some styling */\n",
              "    progress {\n",
              "        /* gets rid of default border in Firefox and Opera. */\n",
              "        border: none;\n",
              "        /* Needs to be in here for Safari polyfill so background images work as expected. */\n",
              "        background-size: auto;\n",
              "    }\n",
              "    .progress-bar-interrupted, .progress-bar-interrupted::-webkit-progress-bar {\n",
              "        background: #F44336;\n",
              "    }\n",
              "</style>\n"
            ],
            "text/plain": [
              "<IPython.core.display.HTML object>"
            ]
          },
          "metadata": {}
        },
        {
          "output_type": "display_data",
          "data": {
            "text/html": [
              "<table border=\"1\" class=\"dataframe\">\n",
              "  <thead>\n",
              "    <tr style=\"text-align: left;\">\n",
              "      <th>epoch</th>\n",
              "      <th>train_loss</th>\n",
              "      <th>valid_loss</th>\n",
              "      <th>accuracy</th>\n",
              "      <th>perplexity</th>\n",
              "      <th>time</th>\n",
              "    </tr>\n",
              "  </thead>\n",
              "  <tbody>\n",
              "    <tr>\n",
              "      <td>0</td>\n",
              "      <td>3.407135</td>\n",
              "      <td>3.305538</td>\n",
              "      <td>0.382378</td>\n",
              "      <td>27.263210</td>\n",
              "      <td>00:26</td>\n",
              "    </tr>\n",
              "    <tr>\n",
              "      <td>1</td>\n",
              "      <td>3.246764</td>\n",
              "      <td>3.301558</td>\n",
              "      <td>0.380599</td>\n",
              "      <td>27.154902</td>\n",
              "      <td>00:26</td>\n",
              "    </tr>\n",
              "    <tr>\n",
              "      <td>2</td>\n",
              "      <td>2.882579</td>\n",
              "      <td>3.343072</td>\n",
              "      <td>0.377973</td>\n",
              "      <td>28.305941</td>\n",
              "      <td>00:27</td>\n",
              "    </tr>\n",
              "    <tr>\n",
              "      <td>3</td>\n",
              "      <td>2.475461</td>\n",
              "      <td>3.425729</td>\n",
              "      <td>0.377778</td>\n",
              "      <td>30.745050</td>\n",
              "      <td>00:27</td>\n",
              "    </tr>\n",
              "    <tr>\n",
              "      <td>4</td>\n",
              "      <td>2.156660</td>\n",
              "      <td>3.504468</td>\n",
              "      <td>0.372201</td>\n",
              "      <td>33.263748</td>\n",
              "      <td>00:27</td>\n",
              "    </tr>\n",
              "  </tbody>\n",
              "</table>"
            ],
            "text/plain": [
              "<IPython.core.display.HTML object>"
            ]
          },
          "metadata": {}
        }
      ]
    },
    {
      "cell_type": "code",
      "source": [
        "# save language model\n",
        "learn_lm.save(Path(model_save_path) /'lm_fine_tuned')\n",
        "learn_lm.save_encoder(Path(model_save_path) /'lm_fine_tuned_encoder')"
      ],
      "metadata": {
        "id": "coY2Nv-9IArq"
      },
      "execution_count": 14,
      "outputs": []
    },
    {
      "cell_type": "code",
      "source": [
        "# load pre-trained language model\n",
        "# learn_lm_pretrained = load_learner(Path(model_save_path)/'lm_fine_tuned.pth', cpu = False)\n",
        "# learn_lm.load(Path(model_save_path) /'lm_fine_tuned')"
      ],
      "metadata": {
        "id": "pwpLzpp2tqNr"
      },
      "execution_count": 15,
      "outputs": []
    },
    {
      "cell_type": "code",
      "source": [
        "vocab = learn_lm.dls\n",
        "# vocab.numericalize(tokenizer(train_df[\"Text\"][0]))"
      ],
      "metadata": {
        "id": "U27FWqZy0xv3"
      },
      "execution_count": 16,
      "outputs": []
    },
    {
      "cell_type": "markdown",
      "source": [
        "## Pre-process data"
      ],
      "metadata": {
        "id": "mHeaLGNoOOGm"
      }
    },
    {
      "cell_type": "code",
      "source": [
        "import torch\n",
        "from torch.utils.data import Dataset, TensorDataset"
      ],
      "metadata": {
        "id": "ihRFSBmHPfPA"
      },
      "execution_count": 17,
      "outputs": []
    },
    {
      "cell_type": "code",
      "source": [
        "spacy_tok = SpacyTokenizer(\"en\")\n",
        "tokenizer = Tokenizer(spacy_tok)"
      ],
      "metadata": {
        "id": "MJjD1mVpI65B"
      },
      "execution_count": 18,
      "outputs": []
    },
    {
      "cell_type": "code",
      "source": [
        "# train_df[\"Text\"][0], tokenizer(train_df[\"Text\"][0])"
      ],
      "metadata": {
        "id": "ltfiNf0JSn2D"
      },
      "execution_count": 19,
      "outputs": []
    },
    {
      "cell_type": "code",
      "source": [
        "import spacy\n",
        "nlp = spacy.blank(\"en\")\n",
        "\n",
        "# note that 'xxunk' is not special in this sense\n",
        "# special_tokens = ['xxbos','xxfld','xxpad', 'xxmaj','xxup','xxrep','xxwrep']\n",
        "\n",
        "special_tokens = ['xxpad']\n",
        "\n",
        "def get_token_num_by_offset(s, offset):\n",
        "  s_pre = s[:offset]\n",
        "  return len(tokenizer(s_pre))\n",
        "  # return len([t for t in tokenizer(s_pre) if t not in special_tokens])\n",
        "\n",
        "\n",
        "def adjust_token_num(processed, token_num):\n",
        "  \"\"\"\n",
        "  As fastai tokenizer introduces additional tokens, we need to adjust for them.\n",
        "  \"\"\"\n",
        "  counter = -1\n",
        "  do_unrep = None\n",
        "  for i, token in enumerate(processed):\n",
        "    if token not in special_tokens:\n",
        "      counter += 1\n",
        "    # if do_unrep:\n",
        "    #   do_unrep = False\n",
        "    #   if processed[i+1] != \".\":\n",
        "    #     token_num -= (int(token) - 2) # one to account for the num itself\n",
        "    #   else:  # spacy doesn't split full stops\n",
        "    #     token_num += 1\n",
        "    # if token == \"xxrep\":\n",
        "    #   do_unrep = True\n",
        "    if counter == token_num:\n",
        "      return i\n",
        "  else: # else for 'for'\n",
        "    counter2 = -1\n",
        "    for j, t in enumerate(processed):\n",
        "      if t not in special_tokens:\n",
        "        counter2 += 1\n",
        "      # print(j, counter, t)\n",
        "    raise Exception(f\"{token_num} is out of bounds ({processed})\")"
      ],
      "metadata": {
        "id": "68TZfc7ZOWiN"
      },
      "execution_count": 20,
      "outputs": []
    },
    {
      "cell_type": "code",
      "source": [
        "import traceback\n",
        "def dataframe_to_tensors(df, max_len=512):\n",
        "  # offsets are: pron_tok_offset, a_tok_offset, a_tok_right_offset, b_tok_offset, b_tok_right_offset\n",
        "  offsets = list()\n",
        "  labels = np.zeros((len(df),), dtype=np.int64)\n",
        "  processed = list()\n",
        "  for i, row in tqdm(df.iterrows()):\n",
        "    try:\n",
        "      text = row[\"Text\"]\n",
        "      a_offset = row[\"A-offset\"]\n",
        "      a_len = len(nlp(row[\"A\"]))\n",
        "      \n",
        "      b_offset = row[\"B-offset\"]\n",
        "      b_len = len(nlp(row[\"B\"]))\n",
        "\n",
        "      pron_offset = row[\"Pronoun-offset\"]\n",
        "      is_a = row[\"A-coref\"]\n",
        "      is_b = row[\"B-coref\"]\n",
        "      a_tok_offset = get_token_num_by_offset(text, a_offset)\n",
        "      b_tok_offset = get_token_num_by_offset(text, b_offset)\n",
        "      a_right_offset = a_tok_offset + a_len - 1\n",
        "      b_right_offset = b_tok_offset + b_len - 1\n",
        "      pron_tok_offset = get_token_num_by_offset(text, pron_offset)\n",
        "      tokenized = tokenizer(text)[:max_len]\n",
        "      tokenized = [\"xxpad\"] * (max_len - len(tokenized))  + tokenized # add padding\n",
        "      a_tok_offset = adjust_token_num(tokenized, a_tok_offset)\n",
        "      a_tok_right_offset = adjust_token_num(tokenized, a_right_offset)\n",
        "      b_tok_offset = adjust_token_num(tokenized, b_tok_offset)\n",
        "      b_tok_right_offset = adjust_token_num(tokenized, b_right_offset)\n",
        "      pron_tok_offset = adjust_token_num(tokenized, pron_tok_offset)\n",
        "      numericalized = vocab.numericalize(tokenized)\n",
        "      processed.append(torch.tensor(numericalized, dtype=torch.long))\n",
        "      offsets.append([pron_tok_offset, a_tok_offset, a_tok_right_offset, b_tok_offset, b_tok_right_offset])\n",
        "      if is_a:\n",
        "        labels[i] = 0\n",
        "      elif is_b:\n",
        "        labels[i] = 1\n",
        "      else:\n",
        "        labels[i] = 2\n",
        "    except Exception as e:\n",
        "      print(i)\n",
        "      traceback.print_exc()\n",
        "      raise\n",
        "  processed = torch.stack(processed)\n",
        "  offsets = torch.tensor(offsets, dtype=torch.long)\n",
        "  labels = torch.from_numpy(labels)\n",
        "  return processed, offsets, labels"
      ],
      "metadata": {
        "id": "LQ5LNykpOVqV"
      },
      "execution_count": 21,
      "outputs": []
    },
    {
      "cell_type": "code",
      "source": [
        "train_ds = TensorDataset(*dataframe_to_tensors(train_df))\n",
        "valid_ds = TensorDataset(*dataframe_to_tensors(val_df))\n",
        "test_ds = TensorDataset(*dataframe_to_tensors(test_df))"
      ],
      "metadata": {
        "id": "8u2q2sqgOtsU",
        "outputId": "e0978451-02ad-4b07-d666-c46a3bd809ba",
        "colab": {
          "base_uri": "https://localhost:8080/",
          "height": 150,
          "referenced_widgets": [
            "b4d62e6098f04c939ed72137170dfbde",
            "0e75d439c4304b94a93f3c145d676430",
            "6441cb493c82444ba2e569939fdf7770",
            "665b6ce70d8b4fcfb6e69389ee3e56a5",
            "182e5a1cb0c24dfbb74a393aff4295cc",
            "b878fe91a06b400db15a9440a19c1441",
            "dfb6283c00a9421ba17f9a1c15c86109",
            "8257c7ffde7940738555e9bd22f3dffb",
            "490fe7a495bf4ec9882626d130030b3e",
            "448ef9c7a14941f4aa5c62890f27b170",
            "8f80ee1ff2b5441c9c968896efdf76d2",
            "fb635645bba9481d8441fafab129d344",
            "e0fa26c92a94490fb3854b4a01268c49",
            "14d38336b953425993a99cb03e1cc3aa",
            "83a36b5b30aa4962a6edaee1a932cc0c",
            "4ed8c12badb949c181b48aa5b35c1a35",
            "bb241e58faed4663bfa386e7fbd8d88b",
            "ccd89378e3a149d98cdcf59b4cfee785",
            "9637bcf8b8eb401997f35481c6edd8a5",
            "6ef0fdbdb0d54aec8242bb034c70feed",
            "04bf33957f364a46892ccfb5a3f71a4a",
            "081184456e484cfdb56bba749743740b",
            "c5fef88e4ae34f84a6c2806a893892dc",
            "06c8e951c81d42a0995af0ebecd468ae",
            "88474bb5b6e443ae8d9549eaaa8902cc",
            "ac555358e35b44e2ad2d590bfb5491ad",
            "b5ac29af74664def9cfacea87b433398",
            "e12da917a1b547c0aff40c4b532655c8",
            "4174d4bd839e438c80417fdecaf384a0",
            "e02624098137482e9777162b84233217",
            "cbc0dacc20c4451f9fef6989f89466a3",
            "88fc7fad0a1d4cb6ba79839a446268f3",
            "ccd2bd9220904e2d91bcd9c97e0d094f"
          ]
        }
      },
      "execution_count": 22,
      "outputs": [
        {
          "output_type": "display_data",
          "data": {
            "application/vnd.jupyter.widget-view+json": {
              "model_id": "b4d62e6098f04c939ed72137170dfbde",
              "version_minor": 0,
              "version_major": 2
            },
            "text/plain": [
              "0it [00:00, ?it/s]"
            ]
          },
          "metadata": {}
        },
        {
          "output_type": "stream",
          "name": "stderr",
          "text": [
            "/usr/local/lib/python3.7/dist-packages/ipykernel_launcher.py:32: UserWarning: To copy construct from a tensor, it is recommended to use sourceTensor.clone().detach() or sourceTensor.clone().detach().requires_grad_(True), rather than torch.tensor(sourceTensor).\n"
          ]
        },
        {
          "output_type": "display_data",
          "data": {
            "application/vnd.jupyter.widget-view+json": {
              "model_id": "fb635645bba9481d8441fafab129d344",
              "version_minor": 0,
              "version_major": 2
            },
            "text/plain": [
              "0it [00:00, ?it/s]"
            ]
          },
          "metadata": {}
        },
        {
          "output_type": "display_data",
          "data": {
            "application/vnd.jupyter.widget-view+json": {
              "model_id": "c5fef88e4ae34f84a6c2806a893892dc",
              "version_minor": 0,
              "version_major": 2
            },
            "text/plain": [
              "0it [00:00, ?it/s]"
            ]
          },
          "metadata": {}
        }
      ]
    },
    {
      "cell_type": "code",
      "source": [
        "train_dl = DataLoader(train_ds, batch_size=64, shuffle=True)\n",
        "valid_dl = DataLoader(valid_ds, batch_size=32, shuffle=False)\n",
        "test_dl = DataLoader(test_ds, batch_size=32, shuffle=False)"
      ],
      "metadata": {
        "id": "va-7f1tYOvYK"
      },
      "execution_count": 23,
      "outputs": []
    },
    {
      "cell_type": "markdown",
      "source": [
        "### Classifier"
      ],
      "metadata": {
        "id": "OKNhIlJjegLi"
      }
    },
    {
      "cell_type": "code",
      "source": [
        "learn_lm.freeze()"
      ],
      "metadata": {
        "id": "jsP7wGudUVVd"
      },
      "execution_count": 24,
      "outputs": []
    },
    {
      "cell_type": "code",
      "source": [
        "class Attention(nn.Module):\n",
        "    def __init__(self, feature_dim, step_dim, bias=True, **kwargs):\n",
        "        super(Attention, self).__init__(**kwargs)\n",
        "        \n",
        "        self.supports_masking = True\n",
        "\n",
        "        self.bias = bias\n",
        "        self.feature_dim = feature_dim\n",
        "        self.step_dim = step_dim\n",
        "        self.features_dim = 0\n",
        "        \n",
        "        weight = torch.zeros(feature_dim, 1)\n",
        "        nn.init.kaiming_uniform_(weight)\n",
        "        self.weight = nn.Parameter(weight)\n",
        "        \n",
        "        if bias:\n",
        "            self.b = nn.Parameter(torch.zeros(step_dim))\n",
        "        \n",
        "    def forward(self, x, mask=None):\n",
        "        feature_dim = self.feature_dim \n",
        "        step_dim = self.step_dim\n",
        "\n",
        "        eij = torch.mm(\n",
        "            x.contiguous().view(-1, feature_dim), \n",
        "            self.weight\n",
        "        ).view(-1, step_dim)\n",
        "        \n",
        "        if self.bias:\n",
        "            eij = eij + self.b\n",
        "            \n",
        "        eij = torch.tanh(eij)\n",
        "        a = torch.exp(eij)\n",
        "        \n",
        "        if mask is not None:\n",
        "            a = a * mask\n",
        "\n",
        "        a = a / (torch.sum(a, 1, keepdim=True) + 1e-10)\n",
        "\n",
        "        weighted_input = x * torch.unsqueeze(a, -1)\n",
        "        return torch.sum(weighted_input, 1)"
      ],
      "metadata": {
        "id": "71jAkwMLIktN"
      },
      "execution_count": 25,
      "outputs": []
    },
    {
      "cell_type": "code",
      "source": [
        "encoder_hidden_sz = 400\n",
        "\n",
        "device = torch.device(\"cuda\")\n",
        "\n",
        "class CorefResolver(nn.Module):\n",
        "  def __init__(self, encoder, dropout_p=0.3, max_len=512):\n",
        "    super(CorefResolver, self).__init__()\n",
        "    self.encoder = encoder\n",
        "    self.attention_layer = Attention(encoder_hidden_sz, max_len)\n",
        "    self.dropout = nn.Dropout(dropout_p)\n",
        "    self.hidden2hidden = nn.Linear(encoder_hidden_sz * 2 + encoder_hidden_sz + 1, 25)\n",
        "    self.hidden2logits = nn.Linear(50, 3)\n",
        "    self.relu = nn.ReLU()\n",
        "    self.activation = nn.LogSoftmax(dim=1)\n",
        "    self.loss = nn.NLLLoss()\n",
        "    \n",
        "  def forward(self, seqs, offsets, labels=None):\n",
        "    encoded = self.dropout(self.encoder(seqs)) #[0][2])\n",
        "    encoded_atten = self.attention_layer(encoded)\n",
        "    a_q = list()\n",
        "    b_q = list()\n",
        "    for enc_att, enc, offs in zip(encoded_atten, encoded, offsets):\n",
        "      # extract the hidden states that correspond to A, B and the pronoun, and make pairs of those \n",
        "      a_repr = enc[offs[1]:(offs[2]+1)].mean(dim=0).squeeze(0)\n",
        "      b_repr = enc[offs[3]:(offs[4]+1)].mean(dim=0).squeeze(0)\n",
        "      a_q.append(torch.cat([enc[offs[0]], a_repr, enc_att, torch.dot(enc[offs[0]], a_repr).unsqueeze(0)]))\n",
        "      b_q.append(torch.cat([enc[offs[0]], b_repr, enc_att, torch.dot(enc[offs[0]], b_repr).unsqueeze(0)]))\n",
        "    a_q = torch.stack(a_q)\n",
        "    b_q = torch.stack(b_q)\n",
        "    # apply the same \"detector\" layer to both batches of pairs\n",
        "    is_a = self.relu(self.dropout(self.hidden2hidden(a_q)))\n",
        "    is_b = self.relu(self.dropout(self.hidden2hidden(b_q)))\n",
        "    # concatenate outputs of the \"detector\" layer to get the final probability distribution\n",
        "    is_a_b = torch.cat([is_a, is_b], dim=1)\n",
        "    is_logits = self.hidden2logits(self.dropout(self.relu(is_a_b)))\n",
        "\n",
        "    activation = self.activation(is_logits)\n",
        "    if labels is not None:\n",
        "      return activation, self.loss(activation, labels)\n",
        "    else:\n",
        "      return activation"
      ],
      "metadata": {
        "id": "rdPY0QQjaI1a"
      },
      "execution_count": 26,
      "outputs": []
    },
    {
      "cell_type": "code",
      "source": [
        "enc = learn_lm.model[0]"
      ],
      "metadata": {
        "id": "S-eqTeE7aSs-"
      },
      "execution_count": 27,
      "outputs": []
    },
    {
      "cell_type": "code",
      "source": [
        "resolver = CorefResolver(enc)"
      ],
      "metadata": {
        "id": "-nej-9MDasYB"
      },
      "execution_count": 28,
      "outputs": []
    },
    {
      "cell_type": "code",
      "source": [
        "resolver.to(device)"
      ],
      "metadata": {
        "colab": {
          "base_uri": "https://localhost:8080/"
        },
        "id": "t4p4nee1fBnl",
        "outputId": "ffd4bd81-4c5d-4c13-e8f4-8e681d237bbb"
      },
      "execution_count": 29,
      "outputs": [
        {
          "output_type": "execute_result",
          "data": {
            "text/plain": [
              "CorefResolver(\n",
              "  (encoder): AWD_LSTM(\n",
              "    (encoder): Embedding(10592, 400, padding_idx=1)\n",
              "    (encoder_dp): EmbeddingDropout(\n",
              "      (emb): Embedding(10592, 400, padding_idx=1)\n",
              "    )\n",
              "    (rnns): ModuleList(\n",
              "      (0): WeightDropout(\n",
              "        (module): LSTM(400, 1152, batch_first=True)\n",
              "      )\n",
              "      (1): WeightDropout(\n",
              "        (module): LSTM(1152, 1152, batch_first=True)\n",
              "      )\n",
              "      (2): WeightDropout(\n",
              "        (module): LSTM(1152, 400, batch_first=True)\n",
              "      )\n",
              "    )\n",
              "    (input_dp): RNNDropout()\n",
              "    (hidden_dps): ModuleList(\n",
              "      (0): RNNDropout()\n",
              "      (1): RNNDropout()\n",
              "      (2): RNNDropout()\n",
              "    )\n",
              "  )\n",
              "  (attention_layer): Attention()\n",
              "  (dropout): Dropout(p=0.3, inplace=False)\n",
              "  (hidden2hidden): Linear(in_features=1201, out_features=25, bias=True)\n",
              "  (hidden2logits): Linear(in_features=50, out_features=3, bias=True)\n",
              "  (relu): ReLU()\n",
              "  (activation): LogSoftmax(dim=1)\n",
              "  (loss): NLLLoss()\n",
              ")"
            ]
          },
          "metadata": {},
          "execution_count": 29
        }
      ]
    },
    {
      "cell_type": "code",
      "source": [
        "for param in resolver.encoder.parameters():\n",
        "  param.requires_grad = False"
      ],
      "metadata": {
        "id": "qRs2narTfD5e"
      },
      "execution_count": 30,
      "outputs": []
    },
    {
      "cell_type": "code",
      "source": [
        "lr = 0.001\n",
        "\n",
        "loss_fn = nn.NLLLoss()\n",
        "optimizer = torch.optim.Adam(resolver.parameters(), lr=lr)"
      ],
      "metadata": {
        "id": "pNM1cB4AgOnv"
      },
      "execution_count": 31,
      "outputs": []
    },
    {
      "cell_type": "code",
      "source": [
        "from sklearn.metrics import classification_report"
      ],
      "metadata": {
        "id": "LlVxKZx8gRxs"
      },
      "execution_count": 32,
      "outputs": []
    },
    {
      "cell_type": "code",
      "source": [
        "def train_epoch(model, optimizer, train_dl, report_every=10):\n",
        "  model.train()\n",
        "  step = 0\n",
        "  total_loss = 0\n",
        "  \n",
        "  for texts, offsets, labels in train_dl:\n",
        "    texts, offsets, labels = texts.to(device), offsets.to(device), labels.to(device)\n",
        "    step += 1\n",
        "    optimizer.zero_grad()\n",
        "    _, loss = model(texts, offsets, labels)\n",
        "    total_loss += loss.item()\n",
        "    \n",
        "    loss.backward()\n",
        "    optimizer.step()\n",
        "    \n",
        "    if step % report_every == 0:\n",
        "      print(f\"Step {step}, loss: {total_loss/report_every}\")\n",
        "      total_loss = 0\n",
        "      \n",
        "def evaluate(model, optimizer, valid_dl, probas=False):\n",
        "  probas = list()\n",
        "  model.eval()\n",
        "  predictions = list()\n",
        "  total_loss = 0\n",
        "  all_labels = list()\n",
        "  with torch.no_grad():\n",
        "    for texts, offsets, labels in valid_dl:\n",
        "      texts, offsets, labels = texts.cuda(), offsets.cuda(), labels.cuda()\n",
        "      preds, loss = model(texts, offsets, labels)\n",
        "      total_loss += loss.item()\n",
        "      probas.append(preds.cpu().detach().numpy())\n",
        "      predictions.extend([i.item() for i in preds.max(1)[1]])\n",
        "    \n",
        "    \n",
        "  print(f\"Validation loss: {total_loss/len(valid_dl)}\")\n",
        "  print()\n",
        "  print(classification_report(valid_dl.dataset.tensors[2].numpy(), predictions))\n",
        "  if probas:\n",
        "    return total_loss, np.vstack(probas)\n",
        "  return total_loss, predictions"
      ],
      "metadata": {
        "id": "NH8JbjBwgUdk"
      },
      "execution_count": 33,
      "outputs": []
    },
    {
      "cell_type": "code",
      "source": [
        "total_epoch = 0\n",
        "best_loss = 1e6\n",
        "\n",
        "for i in range(10):\n",
        "  print(\"Epoch\", i + 1)\n",
        "  total_epoch += 1\n",
        "  train_epoch(resolver, optimizer, train_dl) \n",
        "  loss, labels = evaluate(resolver, optimizer, test_dl)\n",
        "  if loss < best_loss:\n",
        "    best_loss = loss\n",
        "    print(f\"Loss improved, saving {total_epoch}\")\n",
        "    torch.save(resolver.state_dict(), Path(model_save_path)/\"model_best.pt\")"
      ],
      "metadata": {
        "colab": {
          "base_uri": "https://localhost:8080/"
        },
        "id": "RW3chKpwgYyO",
        "outputId": "b80a15bd-190d-434b-af6a-7f45a33527f5"
      },
      "execution_count": 34,
      "outputs": [
        {
          "output_type": "stream",
          "name": "stdout",
          "text": [
            "Epoch 1\n",
            "Step 10, loss: 0.9810368359088898\n",
            "Step 20, loss: 0.9731285989284515\n",
            "Step 30, loss: 0.9382075250148774\n",
            "Validation loss: 0.8889353625358097\n",
            "\n",
            "              precision    recall  f1-score   support\n",
            "\n",
            "           0       0.71      0.52      0.60       918\n",
            "           1       0.54      0.84      0.66       855\n",
            "           2       0.00      0.00      0.00       227\n",
            "\n",
            "    accuracy                           0.60      2000\n",
            "   macro avg       0.42      0.46      0.42      2000\n",
            "weighted avg       0.56      0.60      0.56      2000\n",
            "\n",
            "Loss improved, saving 1\n"
          ]
        },
        {
          "output_type": "stream",
          "name": "stderr",
          "text": [
            "/usr/local/lib/python3.7/dist-packages/sklearn/metrics/_classification.py:1318: UndefinedMetricWarning: Precision and F-score are ill-defined and being set to 0.0 in labels with no predicted samples. Use `zero_division` parameter to control this behavior.\n",
            "  _warn_prf(average, modifier, msg_start, len(result))\n",
            "/usr/local/lib/python3.7/dist-packages/sklearn/metrics/_classification.py:1318: UndefinedMetricWarning: Precision and F-score are ill-defined and being set to 0.0 in labels with no predicted samples. Use `zero_division` parameter to control this behavior.\n",
            "  _warn_prf(average, modifier, msg_start, len(result))\n",
            "/usr/local/lib/python3.7/dist-packages/sklearn/metrics/_classification.py:1318: UndefinedMetricWarning: Precision and F-score are ill-defined and being set to 0.0 in labels with no predicted samples. Use `zero_division` parameter to control this behavior.\n",
            "  _warn_prf(average, modifier, msg_start, len(result))\n"
          ]
        },
        {
          "output_type": "stream",
          "name": "stdout",
          "text": [
            "Epoch 2\n",
            "Step 10, loss: 0.8645623564720154\n",
            "Step 20, loss: 0.8592284619808197\n",
            "Step 30, loss: 0.8815761029720306\n",
            "Validation loss: 0.8256656007161216\n",
            "\n",
            "              precision    recall  f1-score   support\n",
            "\n",
            "           0       0.73      0.66      0.70       918\n",
            "           1       0.61      0.83      0.70       855\n",
            "           2       0.00      0.00      0.00       227\n",
            "\n",
            "    accuracy                           0.66      2000\n",
            "   macro avg       0.45      0.50      0.47      2000\n",
            "weighted avg       0.60      0.66      0.62      2000\n",
            "\n",
            "Loss improved, saving 2\n"
          ]
        },
        {
          "output_type": "stream",
          "name": "stderr",
          "text": [
            "/usr/local/lib/python3.7/dist-packages/sklearn/metrics/_classification.py:1318: UndefinedMetricWarning: Precision and F-score are ill-defined and being set to 0.0 in labels with no predicted samples. Use `zero_division` parameter to control this behavior.\n",
            "  _warn_prf(average, modifier, msg_start, len(result))\n",
            "/usr/local/lib/python3.7/dist-packages/sklearn/metrics/_classification.py:1318: UndefinedMetricWarning: Precision and F-score are ill-defined and being set to 0.0 in labels with no predicted samples. Use `zero_division` parameter to control this behavior.\n",
            "  _warn_prf(average, modifier, msg_start, len(result))\n",
            "/usr/local/lib/python3.7/dist-packages/sklearn/metrics/_classification.py:1318: UndefinedMetricWarning: Precision and F-score are ill-defined and being set to 0.0 in labels with no predicted samples. Use `zero_division` parameter to control this behavior.\n",
            "  _warn_prf(average, modifier, msg_start, len(result))\n"
          ]
        },
        {
          "output_type": "stream",
          "name": "stdout",
          "text": [
            "Epoch 3\n",
            "Step 10, loss: 0.8374836683273316\n",
            "Step 20, loss: 0.7905996561050415\n",
            "Step 30, loss: 0.8146589457988739\n",
            "Validation loss: 0.7869943834486461\n",
            "\n",
            "              precision    recall  f1-score   support\n",
            "\n",
            "           0       0.76      0.66      0.71       918\n",
            "           1       0.60      0.85      0.71       855\n",
            "           2       0.00      0.00      0.00       227\n",
            "\n",
            "    accuracy                           0.67      2000\n",
            "   macro avg       0.45      0.50      0.47      2000\n",
            "weighted avg       0.61      0.67      0.63      2000\n",
            "\n",
            "Loss improved, saving 3\n"
          ]
        },
        {
          "output_type": "stream",
          "name": "stderr",
          "text": [
            "/usr/local/lib/python3.7/dist-packages/sklearn/metrics/_classification.py:1318: UndefinedMetricWarning: Precision and F-score are ill-defined and being set to 0.0 in labels with no predicted samples. Use `zero_division` parameter to control this behavior.\n",
            "  _warn_prf(average, modifier, msg_start, len(result))\n",
            "/usr/local/lib/python3.7/dist-packages/sklearn/metrics/_classification.py:1318: UndefinedMetricWarning: Precision and F-score are ill-defined and being set to 0.0 in labels with no predicted samples. Use `zero_division` parameter to control this behavior.\n",
            "  _warn_prf(average, modifier, msg_start, len(result))\n",
            "/usr/local/lib/python3.7/dist-packages/sklearn/metrics/_classification.py:1318: UndefinedMetricWarning: Precision and F-score are ill-defined and being set to 0.0 in labels with no predicted samples. Use `zero_division` parameter to control this behavior.\n",
            "  _warn_prf(average, modifier, msg_start, len(result))\n"
          ]
        },
        {
          "output_type": "stream",
          "name": "stdout",
          "text": [
            "Epoch 4\n",
            "Step 10, loss: 0.7708035111427307\n",
            "Step 20, loss: 0.7944074928760528\n",
            "Step 30, loss: 0.8207015335559845\n",
            "Validation loss: 0.7698543223123702\n",
            "\n",
            "              precision    recall  f1-score   support\n",
            "\n",
            "           0       0.71      0.71      0.71       918\n",
            "           1       0.63      0.80      0.70       855\n",
            "           2       0.00      0.00      0.00       227\n",
            "\n",
            "    accuracy                           0.67      2000\n",
            "   macro avg       0.45      0.50      0.47      2000\n",
            "weighted avg       0.60      0.67      0.63      2000\n",
            "\n",
            "Loss improved, saving 4\n"
          ]
        },
        {
          "output_type": "stream",
          "name": "stderr",
          "text": [
            "/usr/local/lib/python3.7/dist-packages/sklearn/metrics/_classification.py:1318: UndefinedMetricWarning: Precision and F-score are ill-defined and being set to 0.0 in labels with no predicted samples. Use `zero_division` parameter to control this behavior.\n",
            "  _warn_prf(average, modifier, msg_start, len(result))\n",
            "/usr/local/lib/python3.7/dist-packages/sklearn/metrics/_classification.py:1318: UndefinedMetricWarning: Precision and F-score are ill-defined and being set to 0.0 in labels with no predicted samples. Use `zero_division` parameter to control this behavior.\n",
            "  _warn_prf(average, modifier, msg_start, len(result))\n",
            "/usr/local/lib/python3.7/dist-packages/sklearn/metrics/_classification.py:1318: UndefinedMetricWarning: Precision and F-score are ill-defined and being set to 0.0 in labels with no predicted samples. Use `zero_division` parameter to control this behavior.\n",
            "  _warn_prf(average, modifier, msg_start, len(result))\n"
          ]
        },
        {
          "output_type": "stream",
          "name": "stdout",
          "text": [
            "Epoch 5\n",
            "Step 10, loss: 0.8108315467834473\n",
            "Step 20, loss: 0.7373478472232818\n",
            "Step 30, loss: 0.7654736042022705\n",
            "Validation loss: 0.7571644953319004\n",
            "\n",
            "              precision    recall  f1-score   support\n",
            "\n",
            "           0       0.72      0.72      0.72       918\n",
            "           1       0.63      0.80      0.70       855\n",
            "           2       0.00      0.00      0.00       227\n",
            "\n",
            "    accuracy                           0.67      2000\n",
            "   macro avg       0.45      0.50      0.47      2000\n",
            "weighted avg       0.60      0.67      0.63      2000\n",
            "\n",
            "Loss improved, saving 5\n"
          ]
        },
        {
          "output_type": "stream",
          "name": "stderr",
          "text": [
            "/usr/local/lib/python3.7/dist-packages/sklearn/metrics/_classification.py:1318: UndefinedMetricWarning: Precision and F-score are ill-defined and being set to 0.0 in labels with no predicted samples. Use `zero_division` parameter to control this behavior.\n",
            "  _warn_prf(average, modifier, msg_start, len(result))\n",
            "/usr/local/lib/python3.7/dist-packages/sklearn/metrics/_classification.py:1318: UndefinedMetricWarning: Precision and F-score are ill-defined and being set to 0.0 in labels with no predicted samples. Use `zero_division` parameter to control this behavior.\n",
            "  _warn_prf(average, modifier, msg_start, len(result))\n",
            "/usr/local/lib/python3.7/dist-packages/sklearn/metrics/_classification.py:1318: UndefinedMetricWarning: Precision and F-score are ill-defined and being set to 0.0 in labels with no predicted samples. Use `zero_division` parameter to control this behavior.\n",
            "  _warn_prf(average, modifier, msg_start, len(result))\n"
          ]
        },
        {
          "output_type": "stream",
          "name": "stdout",
          "text": [
            "Epoch 6\n",
            "Step 10, loss: 0.8132148683071136\n",
            "Step 20, loss: 0.7762827575206757\n",
            "Step 30, loss: 0.7258120179176331\n",
            "Validation loss: 0.7686440859522138\n",
            "\n",
            "              precision    recall  f1-score   support\n",
            "\n",
            "           0       0.79      0.62      0.69       918\n",
            "           1       0.59      0.88      0.70       855\n",
            "           2       0.00      0.00      0.00       227\n",
            "\n",
            "    accuracy                           0.66      2000\n",
            "   macro avg       0.46      0.50      0.46      2000\n",
            "weighted avg       0.61      0.66      0.62      2000\n",
            "\n",
            "Epoch 7\n"
          ]
        },
        {
          "output_type": "stream",
          "name": "stderr",
          "text": [
            "/usr/local/lib/python3.7/dist-packages/sklearn/metrics/_classification.py:1318: UndefinedMetricWarning: Precision and F-score are ill-defined and being set to 0.0 in labels with no predicted samples. Use `zero_division` parameter to control this behavior.\n",
            "  _warn_prf(average, modifier, msg_start, len(result))\n",
            "/usr/local/lib/python3.7/dist-packages/sklearn/metrics/_classification.py:1318: UndefinedMetricWarning: Precision and F-score are ill-defined and being set to 0.0 in labels with no predicted samples. Use `zero_division` parameter to control this behavior.\n",
            "  _warn_prf(average, modifier, msg_start, len(result))\n",
            "/usr/local/lib/python3.7/dist-packages/sklearn/metrics/_classification.py:1318: UndefinedMetricWarning: Precision and F-score are ill-defined and being set to 0.0 in labels with no predicted samples. Use `zero_division` parameter to control this behavior.\n",
            "  _warn_prf(average, modifier, msg_start, len(result))\n"
          ]
        },
        {
          "output_type": "stream",
          "name": "stdout",
          "text": [
            "Step 10, loss: 0.7722758173942565\n",
            "Step 20, loss: 0.7159332752227783\n",
            "Step 30, loss: 0.7418304920196533\n",
            "Validation loss: 0.7440357520466759\n",
            "\n",
            "              precision    recall  f1-score   support\n",
            "\n",
            "           0       0.72      0.71      0.72       918\n",
            "           1       0.63      0.81      0.71       855\n",
            "           2       0.00      0.00      0.00       227\n",
            "\n",
            "    accuracy                           0.67      2000\n",
            "   macro avg       0.45      0.51      0.48      2000\n",
            "weighted avg       0.60      0.67      0.63      2000\n",
            "\n",
            "Loss improved, saving 7\n"
          ]
        },
        {
          "output_type": "stream",
          "name": "stderr",
          "text": [
            "/usr/local/lib/python3.7/dist-packages/sklearn/metrics/_classification.py:1318: UndefinedMetricWarning: Precision and F-score are ill-defined and being set to 0.0 in labels with no predicted samples. Use `zero_division` parameter to control this behavior.\n",
            "  _warn_prf(average, modifier, msg_start, len(result))\n",
            "/usr/local/lib/python3.7/dist-packages/sklearn/metrics/_classification.py:1318: UndefinedMetricWarning: Precision and F-score are ill-defined and being set to 0.0 in labels with no predicted samples. Use `zero_division` parameter to control this behavior.\n",
            "  _warn_prf(average, modifier, msg_start, len(result))\n",
            "/usr/local/lib/python3.7/dist-packages/sklearn/metrics/_classification.py:1318: UndefinedMetricWarning: Precision and F-score are ill-defined and being set to 0.0 in labels with no predicted samples. Use `zero_division` parameter to control this behavior.\n",
            "  _warn_prf(average, modifier, msg_start, len(result))\n"
          ]
        },
        {
          "output_type": "stream",
          "name": "stdout",
          "text": [
            "Epoch 8\n",
            "Step 10, loss: 0.7336554646492004\n",
            "Step 20, loss: 0.7374436438083649\n",
            "Step 30, loss: 0.7394419312477112\n",
            "Validation loss: 0.7414634047992645\n",
            "\n",
            "              precision    recall  f1-score   support\n",
            "\n",
            "           0       0.75      0.67      0.70       918\n",
            "           1       0.61      0.84      0.71       855\n",
            "           2       1.00      0.00      0.01       227\n",
            "\n",
            "    accuracy                           0.67      2000\n",
            "   macro avg       0.79      0.50      0.47      2000\n",
            "weighted avg       0.72      0.67      0.63      2000\n",
            "\n",
            "Loss improved, saving 8\n",
            "Epoch 9\n",
            "Step 10, loss: 0.7067965626716614\n",
            "Step 20, loss: 0.7546241044998169\n",
            "Step 30, loss: 0.7611795246601105\n",
            "Validation loss: 0.7280402959339203\n",
            "\n",
            "              precision    recall  f1-score   support\n",
            "\n",
            "           0       0.73      0.71      0.72       918\n",
            "           1       0.63      0.81      0.71       855\n",
            "           2       0.40      0.01      0.02       227\n",
            "\n",
            "    accuracy                           0.68      2000\n",
            "   macro avg       0.59      0.51      0.48      2000\n",
            "weighted avg       0.65      0.68      0.64      2000\n",
            "\n",
            "Loss improved, saving 9\n",
            "Epoch 10\n",
            "Step 10, loss: 0.6897375881671906\n",
            "Step 20, loss: 0.7048034727573395\n",
            "Step 30, loss: 0.7307767152786255\n",
            "Validation loss: 0.7219780494296362\n",
            "\n",
            "              precision    recall  f1-score   support\n",
            "\n",
            "           0       0.74      0.69      0.72       918\n",
            "           1       0.62      0.82      0.71       855\n",
            "           2       0.50      0.01      0.02       227\n",
            "\n",
            "    accuracy                           0.67      2000\n",
            "   macro avg       0.62      0.51      0.48      2000\n",
            "weighted avg       0.66      0.67      0.63      2000\n",
            "\n",
            "Loss improved, saving 10\n"
          ]
        }
      ]
    },
    {
      "cell_type": "markdown",
      "source": [
        "## Test"
      ],
      "metadata": {
        "id": "vF2M0TOBEAft"
      }
    },
    {
      "cell_type": "code",
      "source": [
        "loss, res = evaluate(resolver, optimizer, valid_dl, True)\n",
        "res_s = np.exp(res)  # don't forget that we have log-softmax outputs:\n",
        "test_res = pd.DataFrame(res_s, index=val_df[\"ID\"], columns=[\"A-prob\", \"B-prob\", \"NEITHER-prob\"])"
      ],
      "metadata": {
        "colab": {
          "base_uri": "https://localhost:8080/"
        },
        "id": "mRogdQwMvy6p",
        "outputId": "e6a589c7-c0b1-4a8c-ea22-120d22128e45"
      },
      "execution_count": 35,
      "outputs": [
        {
          "output_type": "stream",
          "name": "stdout",
          "text": [
            "Validation loss: 0.7994331598281861\n",
            "\n",
            "              precision    recall  f1-score   support\n",
            "\n",
            "           0       0.69      0.66      0.68       187\n",
            "           1       0.60      0.80      0.69       205\n",
            "           2       0.67      0.03      0.06        62\n",
            "\n",
            "    accuracy                           0.64       454\n",
            "   macro avg       0.65      0.50      0.48       454\n",
            "weighted avg       0.65      0.64      0.60       454\n",
            "\n"
          ]
        }
      ]
    },
    {
      "cell_type": "code",
      "source": [
        "val_df.merge(test_res, on = 'ID').loc[:,['ID','Text','Pronoun','A','B','A-coref','B-coref','A-prob','B-prob','NEITHER-prob']].head(10)"
      ],
      "metadata": {
        "colab": {
          "base_uri": "https://localhost:8080/",
          "height": 979
        },
        "id": "N00lSE04ZSuh",
        "outputId": "2c415672-9afc-44ef-b03a-89efe7cdb2b2"
      },
      "execution_count": 36,
      "outputs": [
        {
          "output_type": "execute_result",
          "data": {
            "text/html": [
              "\n",
              "  <div id=\"df-12910a32-8f1c-4ad6-9bd7-07b2041ba1da\">\n",
              "    <div class=\"colab-df-container\">\n",
              "      <div>\n",
              "<style scoped>\n",
              "    .dataframe tbody tr th:only-of-type {\n",
              "        vertical-align: middle;\n",
              "    }\n",
              "\n",
              "    .dataframe tbody tr th {\n",
              "        vertical-align: top;\n",
              "    }\n",
              "\n",
              "    .dataframe thead th {\n",
              "        text-align: right;\n",
              "    }\n",
              "</style>\n",
              "<table border=\"1\" class=\"dataframe\">\n",
              "  <thead>\n",
              "    <tr style=\"text-align: right;\">\n",
              "      <th></th>\n",
              "      <th>ID</th>\n",
              "      <th>Text</th>\n",
              "      <th>Pronoun</th>\n",
              "      <th>A</th>\n",
              "      <th>B</th>\n",
              "      <th>A-coref</th>\n",
              "      <th>B-coref</th>\n",
              "      <th>A-prob</th>\n",
              "      <th>B-prob</th>\n",
              "      <th>NEITHER-prob</th>\n",
              "    </tr>\n",
              "  </thead>\n",
              "  <tbody>\n",
              "    <tr>\n",
              "      <th>0</th>\n",
              "      <td>validation-1</td>\n",
              "      <td>He admitted making four trips to China and playing golf there. He also admitted that ZTE officials, whom he says are his golf buddies, hosted and paid for the trips. Jose de Venecia III, son of House Speaker Jose de Venecia Jr, alleged that Abalos offered him US$10 million to withdraw his proposal on the NBN project.</td>\n",
              "      <td>him</td>\n",
              "      <td>Jose de Venecia Jr</td>\n",
              "      <td>Abalos</td>\n",
              "      <td>False</td>\n",
              "      <td>False</td>\n",
              "      <td>0.180825</td>\n",
              "      <td>0.736009</td>\n",
              "      <td>0.083167</td>\n",
              "    </tr>\n",
              "    <tr>\n",
              "      <th>1</th>\n",
              "      <td>validation-2</td>\n",
              "      <td>Kathleen Nott was born in Camberwell, London. Her father, Philip, was a lithographic printer, and her mother, Ellen, ran a boarding house in Brixton; Kathleen was their third daughter. She was educated at Mary Datchelor Girls' School (now closed), London, before attending King's College, London.</td>\n",
              "      <td>She</td>\n",
              "      <td>Ellen</td>\n",
              "      <td>Kathleen</td>\n",
              "      <td>False</td>\n",
              "      <td>True</td>\n",
              "      <td>0.288560</td>\n",
              "      <td>0.578723</td>\n",
              "      <td>0.132717</td>\n",
              "    </tr>\n",
              "    <tr>\n",
              "      <th>2</th>\n",
              "      <td>validation-3</td>\n",
              "      <td>When she returns to her hotel room, a Liberian man (Tony Todd) forces her to smuggle $20 million worth of conflict diamonds to New York, or else fellow fight attendant and friend Angela will die. She is caught before she can board the flight, and the team now have nine hours until the plane lands, and save Angela. After the confiscated diamonds are stolen by the brother of Kaleo (Jason Scott Lee), whom Danny put away for murdering his partner last year, Five-0 and Chief Fryer team up and enlist the help of August March (Ed Asner), who served a 30-year sentence for smuggling diamonds.</td>\n",
              "      <td>his</td>\n",
              "      <td>Jason Scott Lee</td>\n",
              "      <td>Danny</td>\n",
              "      <td>False</td>\n",
              "      <td>True</td>\n",
              "      <td>0.143583</td>\n",
              "      <td>0.767102</td>\n",
              "      <td>0.089314</td>\n",
              "    </tr>\n",
              "    <tr>\n",
              "      <th>3</th>\n",
              "      <td>validation-4</td>\n",
              "      <td>On 19 March 2007, during a campaign appearance for the New South Wales State Election, the then opposition leader Peter Debnam was confronted by Reucassel wearing nothing but Speedos and a baseball cap, making fun of Debnam's campaign appearances in the swimwear. When TV cameras remained focused on Reucassel rather than Mr Debnam, he said, ``Sorry, I'm not Peter Debnam, he's over there.</td>\n",
              "      <td>he</td>\n",
              "      <td>Reucassel</td>\n",
              "      <td>Debnam</td>\n",
              "      <td>True</td>\n",
              "      <td>False</td>\n",
              "      <td>0.448486</td>\n",
              "      <td>0.442146</td>\n",
              "      <td>0.109368</td>\n",
              "    </tr>\n",
              "    <tr>\n",
              "      <th>4</th>\n",
              "      <td>validation-5</td>\n",
              "      <td>By this time, Karen Blixen had separated from her husband, and after their divorce in 1925, Finch Hatton moved into her house and began leading safaris for wealthy sportsmen. Among his clients were Marshall Field Jr and Edward, Prince of Wales. According to the author Mary Lovell, in 1930 Finch Hatton began a love affair with Beryl Markham, who was working as a race-horse trainer in Nairobi and the surrounding area. Later, she would become known as a pioneer flyer herself (Markham attributed her interest in flying to her association with Tom Campbell Black).</td>\n",
              "      <td>she</td>\n",
              "      <td>Finch Hatton</td>\n",
              "      <td>Beryl Markham</td>\n",
              "      <td>False</td>\n",
              "      <td>True</td>\n",
              "      <td>0.854101</td>\n",
              "      <td>0.116163</td>\n",
              "      <td>0.029735</td>\n",
              "    </tr>\n",
              "    <tr>\n",
              "      <th>5</th>\n",
              "      <td>validation-6</td>\n",
              "      <td>No amount of logic can shatter a faith consciously based on a lie.'' According to The Skeptic's Dictionary, an example of this syndrome is evidenced by an event in 1988 when stage magician James Randi, at the request of an Australian news program, coached stage performer Jos* Alvarez to pretend he was channelling a two-thousand-year-old spirit named ``Carlos''.</td>\n",
              "      <td>he</td>\n",
              "      <td>James Randi</td>\n",
              "      <td>Jos* Alvarez</td>\n",
              "      <td>False</td>\n",
              "      <td>True</td>\n",
              "      <td>0.340230</td>\n",
              "      <td>0.448039</td>\n",
              "      <td>0.211731</td>\n",
              "    </tr>\n",
              "    <tr>\n",
              "      <th>6</th>\n",
              "      <td>validation-7</td>\n",
              "      <td>Lieutenant General Weber Pasha wanted Faik Pasha to command the ``Right Wing''. But Liman von Sanders disliked him and he had a quarrel with Faik Pasha for about a tactics. Weber Pasha insisted on his decision. At last unwillingly von Sanders appointed Faik Pasha to the command of Right Wing. He fought the Battle of Gully Ravine (28 June -- 3 July 1915) that was a very bloody battle that caused Ottoman Army many casualties.</td>\n",
              "      <td>He</td>\n",
              "      <td>von Sanders</td>\n",
              "      <td>Faik Pasha</td>\n",
              "      <td>False</td>\n",
              "      <td>True</td>\n",
              "      <td>0.667751</td>\n",
              "      <td>0.178766</td>\n",
              "      <td>0.153482</td>\n",
              "    </tr>\n",
              "    <tr>\n",
              "      <th>7</th>\n",
              "      <td>validation-8</td>\n",
              "      <td>He went on to enter mainstream journalism as a reporter and feature writer with the Belfast Sunday News, during the height of the Troubles in Northern Ireland. He was later promoted to Chief Sub- Editor of that newspaper, where he also wrote a weekly column. In 1977 Colin entered into correspondence with a singer and guitar player called Jake Burns, who was trying to promote his band Stiff Little Fingers.</td>\n",
              "      <td>his</td>\n",
              "      <td>Colin</td>\n",
              "      <td>Jake Burns</td>\n",
              "      <td>False</td>\n",
              "      <td>True</td>\n",
              "      <td>0.656212</td>\n",
              "      <td>0.290108</td>\n",
              "      <td>0.053681</td>\n",
              "    </tr>\n",
              "    <tr>\n",
              "      <th>8</th>\n",
              "      <td>validation-9</td>\n",
              "      <td>In 1940 Lester Cowan, an independent film producer, bought F. Scott Fitzgerald's short story, ``Babylon Revisited and Other Stories'' for $80, which was a bargain. Fitzgerald thought his screenwriting days were over and with some hesitation accepted Cowan's offer to write the screenplay titled ``Cosmopolitan'' based on the short story. After finishing the screenplay, Scott was told by Cowan that he would not do the film unless Shirley Temple starred in the lead of the youngster Honoria.</td>\n",
              "      <td>he</td>\n",
              "      <td>Scott</td>\n",
              "      <td>Cowan</td>\n",
              "      <td>False</td>\n",
              "      <td>True</td>\n",
              "      <td>0.471499</td>\n",
              "      <td>0.479394</td>\n",
              "      <td>0.049108</td>\n",
              "    </tr>\n",
              "    <tr>\n",
              "      <th>9</th>\n",
              "      <td>validation-10</td>\n",
              "      <td>They have a stormy marriage, caused by his hot temper and her habit of playing away. Soon after arriving on the Street, Liz makes friends with Deirdre Barlow (Anne Kirkbride), whose daughter Tracy (Dawn Acton) is slightly younger than the twins. When asked in a 2010 interview with The Mirror what her favourite scenes were, Beverley Callard replied, ``when Jim beat up Liz.</td>\n",
              "      <td>her</td>\n",
              "      <td>Beverley Callard</td>\n",
              "      <td>Liz</td>\n",
              "      <td>True</td>\n",
              "      <td>False</td>\n",
              "      <td>0.371750</td>\n",
              "      <td>0.569720</td>\n",
              "      <td>0.058529</td>\n",
              "    </tr>\n",
              "  </tbody>\n",
              "</table>\n",
              "</div>\n",
              "      <button class=\"colab-df-convert\" onclick=\"convertToInteractive('df-12910a32-8f1c-4ad6-9bd7-07b2041ba1da')\"\n",
              "              title=\"Convert this dataframe to an interactive table.\"\n",
              "              style=\"display:none;\">\n",
              "        \n",
              "  <svg xmlns=\"http://www.w3.org/2000/svg\" height=\"24px\"viewBox=\"0 0 24 24\"\n",
              "       width=\"24px\">\n",
              "    <path d=\"M0 0h24v24H0V0z\" fill=\"none\"/>\n",
              "    <path d=\"M18.56 5.44l.94 2.06.94-2.06 2.06-.94-2.06-.94-.94-2.06-.94 2.06-2.06.94zm-11 1L8.5 8.5l.94-2.06 2.06-.94-2.06-.94L8.5 2.5l-.94 2.06-2.06.94zm10 10l.94 2.06.94-2.06 2.06-.94-2.06-.94-.94-2.06-.94 2.06-2.06.94z\"/><path d=\"M17.41 7.96l-1.37-1.37c-.4-.4-.92-.59-1.43-.59-.52 0-1.04.2-1.43.59L10.3 9.45l-7.72 7.72c-.78.78-.78 2.05 0 2.83L4 21.41c.39.39.9.59 1.41.59.51 0 1.02-.2 1.41-.59l7.78-7.78 2.81-2.81c.8-.78.8-2.07 0-2.86zM5.41 20L4 18.59l7.72-7.72 1.47 1.35L5.41 20z\"/>\n",
              "  </svg>\n",
              "      </button>\n",
              "      \n",
              "  <style>\n",
              "    .colab-df-container {\n",
              "      display:flex;\n",
              "      flex-wrap:wrap;\n",
              "      gap: 12px;\n",
              "    }\n",
              "\n",
              "    .colab-df-convert {\n",
              "      background-color: #E8F0FE;\n",
              "      border: none;\n",
              "      border-radius: 50%;\n",
              "      cursor: pointer;\n",
              "      display: none;\n",
              "      fill: #1967D2;\n",
              "      height: 32px;\n",
              "      padding: 0 0 0 0;\n",
              "      width: 32px;\n",
              "    }\n",
              "\n",
              "    .colab-df-convert:hover {\n",
              "      background-color: #E2EBFA;\n",
              "      box-shadow: 0px 1px 2px rgba(60, 64, 67, 0.3), 0px 1px 3px 1px rgba(60, 64, 67, 0.15);\n",
              "      fill: #174EA6;\n",
              "    }\n",
              "\n",
              "    [theme=dark] .colab-df-convert {\n",
              "      background-color: #3B4455;\n",
              "      fill: #D2E3FC;\n",
              "    }\n",
              "\n",
              "    [theme=dark] .colab-df-convert:hover {\n",
              "      background-color: #434B5C;\n",
              "      box-shadow: 0px 1px 3px 1px rgba(0, 0, 0, 0.15);\n",
              "      filter: drop-shadow(0px 1px 2px rgba(0, 0, 0, 0.3));\n",
              "      fill: #FFFFFF;\n",
              "    }\n",
              "  </style>\n",
              "\n",
              "      <script>\n",
              "        const buttonEl =\n",
              "          document.querySelector('#df-12910a32-8f1c-4ad6-9bd7-07b2041ba1da button.colab-df-convert');\n",
              "        buttonEl.style.display =\n",
              "          google.colab.kernel.accessAllowed ? 'block' : 'none';\n",
              "\n",
              "        async function convertToInteractive(key) {\n",
              "          const element = document.querySelector('#df-12910a32-8f1c-4ad6-9bd7-07b2041ba1da');\n",
              "          const dataTable =\n",
              "            await google.colab.kernel.invokeFunction('convertToInteractive',\n",
              "                                                     [key], {});\n",
              "          if (!dataTable) return;\n",
              "\n",
              "          const docLinkHtml = 'Like what you see? Visit the ' +\n",
              "            '<a target=\"_blank\" href=https://colab.research.google.com/notebooks/data_table.ipynb>data table notebook</a>'\n",
              "            + ' to learn more about interactive tables.';\n",
              "          element.innerHTML = '';\n",
              "          dataTable['output_type'] = 'display_data';\n",
              "          await google.colab.output.renderOutput(dataTable, element);\n",
              "          const docLink = document.createElement('div');\n",
              "          docLink.innerHTML = docLinkHtml;\n",
              "          element.appendChild(docLink);\n",
              "        }\n",
              "      </script>\n",
              "    </div>\n",
              "  </div>\n",
              "  "
            ],
            "text/plain": [
              "              ID  ... NEITHER-prob\n",
              "0   validation-1  ...     0.083167\n",
              "1   validation-2  ...     0.132717\n",
              "2   validation-3  ...     0.089314\n",
              "3   validation-4  ...     0.109368\n",
              "4   validation-5  ...     0.029735\n",
              "5   validation-6  ...     0.211731\n",
              "6   validation-7  ...     0.153482\n",
              "7   validation-8  ...     0.053681\n",
              "8   validation-9  ...     0.049108\n",
              "9  validation-10  ...     0.058529\n",
              "\n",
              "[10 rows x 10 columns]"
            ]
          },
          "metadata": {},
          "execution_count": 36
        }
      ]
    },
    {
      "cell_type": "code",
      "source": [
        ""
      ],
      "metadata": {
        "id": "jxVtBpGZ2WCS"
      },
      "execution_count": 36,
      "outputs": []
    }
  ]
}